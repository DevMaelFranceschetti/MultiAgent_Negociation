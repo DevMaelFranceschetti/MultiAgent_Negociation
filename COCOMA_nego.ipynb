{
 "cells": [
  {
   "cell_type": "code",
   "execution_count": 109,
   "metadata": {},
   "outputs": [],
   "source": [
    "import numpy as np"
   ]
  },
  {
   "cell_type": "markdown",
   "metadata": {},
   "source": [
    "### Define vehicles and tasks sets"
   ]
  },
  {
   "cell_type": "code",
   "execution_count": 153,
   "metadata": {},
   "outputs": [],
   "source": [
    "vehicles = [0,1,2,3]\n",
    "tasks = [0,1,2]"
   ]
  },
  {
   "cell_type": "markdown",
   "metadata": {},
   "source": [
    "### Create random utility matrix"
   ]
  },
  {
   "cell_type": "markdown",
   "metadata": {},
   "source": [
    "We use a matrix to store the utilities of the vehicles for the different possible allocations.\n",
    "The advantage of using a matrix compared to storing all the possible combinations in a dictionary, a hashmap or similar, is that we save a lot of space because we don't have to store the keys, and the acces time is the same. The other advantage is that we can loop easily on the matrix and use optimized numpy functions over this matrix. Using a matrix could also be interesting to move the computations on GPU to speed it up for high dimentionnal instances."
   ]
  },
  {
   "cell_type": "raw",
   "metadata": {},
   "source": [
    "# Old version for tortured spirits : \n",
    "\n",
    "mat = np.zeros([len(tasks)]*len(vehicles)) # initialize a matrix of dimension tasks^vehicles\n",
    "concat = mat.shape + (len(vehicles), 0) \n",
    "# concat to add a dimension of size nb_vehicles on the last dimension, we add 0 to create a tuple\n",
    "shapes = concat[:-1] # remove the 0 added to create a tuple\n",
    "shapes # we get the shape of our final matrix, ex : 3,3,3,3,4 for 4 vehicles and 3 tasks \n",
    "# (dimension is tasks^vehicles * tasks)"
   ]
  },
  {
   "cell_type": "code",
   "execution_count": 89,
   "metadata": {},
   "outputs": [
    {
     "data": {
      "text/plain": [
       "(3, 3, 3, 3, 4)"
      ]
     },
     "execution_count": 89,
     "metadata": {},
     "output_type": "execute_result"
    }
   ],
   "source": [
    "# Clean version :\n",
    "\n",
    "def getShape(nb_vehicles, nb_tasks):\n",
    "    \"\"\" Compute the shape for this settings\n",
    "    \n",
    "    Parameters :\n",
    "        nb_vehicles : int, the number of vehicles\n",
    "        nb_tasks : int, the number of tasks\n",
    "        \n",
    "    Returns :\n",
    "        a tuple containing the shape (tasks^vehicles * vehicles),\n",
    "        that is the shape for the utility matrix.\n",
    "        \n",
    "    \"\"\"\n",
    "    list_dim = [nb_tasks]*nb_vehicles +[nb_vehicles]# matrix of shape tasks^vehicles * vehicles\n",
    "    return tuple(list_dim)\n",
    "\n",
    "shapes = getShape(len(vehicles),len(tasks))\n",
    "shapes"
   ]
  },
  {
   "cell_type": "code",
   "execution_count": 154,
   "metadata": {},
   "outputs": [],
   "source": [
    "ut = np.random.randint(0,10,shapes) # create utility matrix with random utilities"
   ]
  },
  {
   "cell_type": "code",
   "execution_count": 155,
   "metadata": {},
   "outputs": [
    {
     "data": {
      "text/plain": [
       "array([6, 0, 9, 4])"
      ]
     },
     "execution_count": 155,
     "metadata": {},
     "output_type": "execute_result"
    }
   ],
   "source": [
    "ut[0][0][0][0] # get utility of all agents when all do task 0"
   ]
  },
  {
   "cell_type": "code",
   "execution_count": 156,
   "metadata": {},
   "outputs": [
    {
     "data": {
      "text/plain": [
       "array([6, 0, 9, 4])"
      ]
     },
     "execution_count": 156,
     "metadata": {},
     "output_type": "execute_result"
    }
   ],
   "source": [
    "ind = tuple([0,0,0,0]) # accessing the matrix from array as index\n",
    "ut[ind]"
   ]
  },
  {
   "cell_type": "code",
   "execution_count": 157,
   "metadata": {},
   "outputs": [
    {
     "data": {
      "text/plain": [
       "array([9, 9, 5, 8])"
      ]
     },
     "execution_count": 157,
     "metadata": {},
     "output_type": "execute_result"
    }
   ],
   "source": [
    "ut[0][1][2][2] # get utility of all agents when allocation for vehicles to task is = 0,1,2,2 \n",
    "# (means vehicule 0 do task 0, vehicule 1 do task 1, vehicule 2 do task 2, vehicule 3 do task 2)"
   ]
  },
  {
   "cell_type": "markdown",
   "metadata": {},
   "source": [
    "### Defining usefull functions"
   ]
  },
  {
   "cell_type": "code",
   "execution_count": 222,
   "metadata": {},
   "outputs": [],
   "source": [
    "def replaceAlloc(allocation, v, t):\n",
    "    \"\"\" Compute the new allocation with task t asigned to vehicle v\n",
    "    \n",
    "    Parameters :\n",
    "        allocation : List(int) the list of tasks allocades to each vehicle (in order)\n",
    "        v : int, the vehicle id\n",
    "        t : int, the task id\n",
    "    \n",
    "    Returns :\n",
    "        List(int), the new allocation\n",
    "    \n",
    "    \"\"\"\n",
    "    return list(allocation[:v])+[t]+list(allocation[v+1:])"
   ]
  },
  {
   "cell_type": "code",
   "execution_count": 223,
   "metadata": {},
   "outputs": [],
   "source": [
    "def is_EN(utilities, allocation, vehicles, tasks):\n",
    "    \"\"\" Check if the current allocation is a Nash Equilibrium or not\n",
    "    \n",
    "    Parameters :\n",
    "        utilities : Matrix(int) the utility matrix of dimension nb_tasks^nb_vehicles * nb_vehicles\n",
    "        allocation : List(int) the list of tasks allocades to each vehicle (in order)\n",
    "        vehicle : List(int) the list of vehicle ids\n",
    "        tasks : List(int) the list of task ids\n",
    "    \n",
    "    Returns :\n",
    "        Tuple(boolean, int)\n",
    "        A tuple containing a boolean (True if this allocation is a Nash Equilibrium, else False)\n",
    "        and an integer that is the id of a vehicle that can increase its utility\n",
    "        by changing unilateraly its allocation (if not EN, -1)\n",
    "    \n",
    "    \"\"\"\n",
    "    for v in range(len(vehicles)) : # for each vehicle\n",
    "        current_task = allocation[v]\n",
    "        current_utility = utilities[tuple(allocation)][v]\n",
    "        for t in range(len(tasks)) :\n",
    "            if t != current_task : # check all other tasks\n",
    "                temp_ind = replaceAlloc(allocation, v, t) # allocating task t to vehicle v\n",
    "                utility = utilities[tuple(temp_ind)][v]\n",
    "                if utility > current_utility : # changing to another task gives more utility -> Not NE\n",
    "                    return (False, v)\n",
    "    return (True, -1)"
   ]
  },
  {
   "cell_type": "markdown",
   "metadata": {},
   "source": [
    "We also return the id of one vehicle that can increase its utility by changing its allocation, if the solution is not a Nash Equilibrium. \n",
    "It didn't increase the computation cost and avoids looping another time later on the utility table to find one in the Best Response Dynamics, it's all benefits."
   ]
  },
  {
   "cell_type": "markdown",
   "metadata": {},
   "source": [
    "##### Nash Equilibrium test example on small dimension"
   ]
  },
  {
   "cell_type": "code",
   "execution_count": 224,
   "metadata": {},
   "outputs": [
    {
     "data": {
      "text/plain": [
       "array([[[0, 4],\n",
       "        [3, 7],\n",
       "        [7, 2]],\n",
       "\n",
       "       [[9, 2],\n",
       "        [2, 0],\n",
       "        [8, 8]],\n",
       "\n",
       "       [[8, 2],\n",
       "        [2, 8],\n",
       "        [9, 1]]])"
      ]
     },
     "execution_count": 224,
     "metadata": {},
     "output_type": "execute_result"
    }
   ],
   "source": [
    "# Create setup : 2 vehicles, 3 tasks\n",
    "v = [0,1] # don't change, it's 2D example\n",
    "t = [0,1,2]\n",
    "ut_test = np.random.randint(0,10,(len(t),len(t),2))\n",
    "ut_test"
   ]
  },
  {
   "cell_type": "code",
   "execution_count": 225,
   "metadata": {},
   "outputs": [
    {
     "data": {
      "text/plain": [
       "(False, 0)"
      ]
     },
     "execution_count": 225,
     "metadata": {},
     "output_type": "execute_result"
    }
   ],
   "source": [
    "# Check EN for allocation (0,0)\n",
    "alloc = [0,0] # set allocation to check (0,1) -> first vehicle do task 0 and second do task 1\n",
    "is_EN(ut_test, alloc, v, t) # random example"
   ]
  },
  {
   "cell_type": "code",
   "execution_count": 226,
   "metadata": {},
   "outputs": [
    {
     "data": {
      "text/plain": [
       "(False, 0)"
      ]
     },
     "execution_count": 226,
     "metadata": {},
     "output_type": "execute_result"
    }
   ],
   "source": [
    "alloc = [0,1]\n",
    "ut_test[tuple(alloc)] = [0,0] # set allocation (0,1) to the lowest value for each vehicle\n",
    "ut_test[2,1] = [1,0] # set another allocation to a better score for one vehicle (in case matrix is full zero)\n",
    "is_EN(ut_test,alloc , v, t) # -> Is necessarly not an EN (result must be False)"
   ]
  },
  {
   "cell_type": "code",
   "execution_count": 227,
   "metadata": {},
   "outputs": [
    {
     "data": {
      "text/plain": [
       "(True, -1)"
      ]
     },
     "execution_count": 227,
     "metadata": {},
     "output_type": "execute_result"
    }
   ],
   "source": [
    "alloc = [0,1]\n",
    "ut_test[tuple(alloc)] = [10,10] # set allocation (0,1) to the highest value for each vehicle\n",
    "is_EN(ut_test, alloc, v, t) # -> Is necessarly  an EN (result must be True)"
   ]
  },
  {
   "cell_type": "code",
   "execution_count": 228,
   "metadata": {},
   "outputs": [
    {
     "data": {
      "text/plain": [
       "array([[[0., 0.],\n",
       "        [0., 0.],\n",
       "        [0., 0.]],\n",
       "\n",
       "       [[0., 0.],\n",
       "        [0., 0.],\n",
       "        [0., 0.]],\n",
       "\n",
       "       [[0., 0.],\n",
       "        [0., 0.],\n",
       "        [0., 0.]]])"
      ]
     },
     "execution_count": 228,
     "metadata": {},
     "output_type": "execute_result"
    }
   ],
   "source": [
    "ut_test_z = np.zeros((len(t),len(t),2)) # set all matrix to 0 (same value everywhere)\n",
    "ut_test_z"
   ]
  },
  {
   "cell_type": "code",
   "execution_count": 229,
   "metadata": {},
   "outputs": [
    {
     "data": {
      "text/plain": [
       "(True, -1)"
      ]
     },
     "execution_count": 229,
     "metadata": {},
     "output_type": "execute_result"
    }
   ],
   "source": [
    "alloc = [2,1] # when Zero everywhere, no solution is strictly better than the current\n",
    "is_EN(ut_test_z, alloc, v, t) # -> Is necessarly an EN (result must be True)"
   ]
  },
  {
   "cell_type": "markdown",
   "metadata": {},
   "source": [
    "### Best Response Dynamics"
   ]
  },
  {
   "cell_type": "code",
   "execution_count": 230,
   "metadata": {},
   "outputs": [],
   "source": [
    "def getBestTask(utilities, allocation, v, tasks):\n",
    "    \"\"\" Compute the best task for vehicle v\n",
    "    \n",
    "    Parameters :\n",
    "        utilities : Matrix(int) the utility matrix of dimension nb_tasks^nb_vehicles * nb_vehicles\n",
    "        allocation : List(int) the list of tasks allocades to each vehicle (in order)\n",
    "        v : int, the vehicle id\n",
    "        tasks : List(int) the list of task ids\n",
    "        \n",
    "    Returns : \n",
    "        int, the best task for vehicle v\n",
    "    \"\"\"\n",
    "    best = np.argmax([utilities[tuple(replaceAlloc(allocation, v, t))][v] for t in range(len(tasks))])\n",
    "    return best"
   ]
  },
  {
   "cell_type": "code",
   "execution_count": 293,
   "metadata": {},
   "outputs": [],
   "source": [
    "def bestResponseDynamic(utilities, vehicles, tasks, maxsteps):\n",
    "    \"\"\" Try to compute a Nash Equilibrium allofaction using Best Response Dynamics\n",
    "    \n",
    "    Parameters :\n",
    "        utilities : Matrix(int) the utility matrix of dimension nb_tasks^nb_vehicles * nb_vehicles\n",
    "        vehicles : List(int), the list of vehicle ids\n",
    "        tasks : List(int) the list of task ids\n",
    "        \n",
    "    Returns : \n",
    "        List(int), a Nash Equilibrium allocation if one was found (no guarantee)\n",
    "        \n",
    "    \"\"\"\n",
    "    allocation = np.random.randint(0,len(tasks),len(vehicles)) # initial random allocation\n",
    "    end, id_change = is_EN(utilities, allocation, vehicles, tasks)\n",
    "    steps = 0\n",
    "    while not(end) and steps < maxsteps:\n",
    "        # vehicle id_change has interest to change to a better allocation\n",
    "        best = getBestTask(utilities, allocation, id_change, tasks) # get its best unilateral allocation\n",
    "        allocation = replaceAlloc(allocation, id_change, best) # set next allocation for id_change\n",
    "        end, id_change = is_EN(utilities, allocation, vehicles, tasks)\n",
    "        steps += 1\n",
    "    if not(end) and steps >= maxsteps: # cut the exection if maxsteps reached\n",
    "        print(\"Execution stopped : maximum step overflowed, no EN found.\")\n",
    "    return allocation"
   ]
  },
  {
   "cell_type": "markdown",
   "metadata": {},
   "source": [
    "##### Best Response Dynamics test example on the initial matrix"
   ]
  },
  {
   "cell_type": "code",
   "execution_count": 280,
   "metadata": {},
   "outputs": [],
   "source": [
    "ut[2,2,1,1] = [10,10,10,10] # we create a global optimal affectation -> At least one EN in utilities table"
   ]
  },
  {
   "cell_type": "code",
   "execution_count": 292,
   "metadata": {},
   "outputs": [
    {
     "data": {
      "text/plain": [
       "[2, 2, 1, 1]"
      ]
     },
     "execution_count": 292,
     "metadata": {},
     "output_type": "execute_result"
    }
   ],
   "source": [
    "bestResponseDynamic(ut, vehicles, tasks, 1000) # the global optimum is reached (NE)"
   ]
  },
  {
   "cell_type": "code",
   "execution_count": 291,
   "metadata": {},
   "outputs": [
    {
     "data": {
      "text/plain": [
       "[0, 2, 0, 2]"
      ]
     },
     "execution_count": 291,
     "metadata": {},
     "output_type": "execute_result"
    }
   ],
   "source": [
    "bestResponseDynamic(ut, vehicles, tasks, 1000) # another Nash Equilibrium is sometimes reached"
   ]
  }
 ],
 "metadata": {
  "kernelspec": {
   "display_name": "Python 3",
   "language": "python",
   "name": "python3"
  },
  "language_info": {
   "codemirror_mode": {
    "name": "ipython",
    "version": 3
   },
   "file_extension": ".py",
   "mimetype": "text/x-python",
   "name": "python",
   "nbconvert_exporter": "python",
   "pygments_lexer": "ipython3",
   "version": "3.6.9"
  }
 },
 "nbformat": 4,
 "nbformat_minor": 4
}
