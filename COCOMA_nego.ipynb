{
 "cells": [
  {
   "cell_type": "code",
   "execution_count": 1,
   "metadata": {},
   "outputs": [],
   "source": [
    "import numpy as np"
   ]
  },
  {
   "cell_type": "markdown",
   "metadata": {},
   "source": [
    "### Define vehicles and tasks sets"
   ]
  },
  {
   "cell_type": "code",
   "execution_count": 148,
   "metadata": {},
   "outputs": [],
   "source": [
    "vehicles = [0,1,2,3]\n",
    "tasks = [0,1,2]"
   ]
  },
  {
   "cell_type": "markdown",
   "metadata": {},
   "source": [
    "### Create random utility matrix"
   ]
  },
  {
   "cell_type": "markdown",
   "metadata": {},
   "source": [
    "We use a matrix to store the utilities of the vehicles for the different possible allocations.\n",
    "The advantage of using a matrix compared to storing all the possible combinations in a dictionary, a hashmap or similar, is that we save a lot of space because we don't have to store the keys, and the acces time is the same. The other advantage is that we can loop easily on the matrix and use optimized numpy functions over this matrix. Using a matrix could also be interesting to move the computations on GPU to speed it up for high dimentionnal instances."
   ]
  },
  {
   "cell_type": "raw",
   "metadata": {},
   "source": [
    "# Old version for tortured spirits : \n",
    "\n",
    "mat = np.zeros([len(tasks)]*len(vehicles)) # initialize a matrix of dimension tasks^vehicles\n",
    "concat = mat.shape + (len(vehicles), 0) \n",
    "# concat to add a dimension of size nb_vehicles on the last dimension, we add 0 to create a tuple\n",
    "shapes = concat[:-1] # remove the 0 added to create a tuple\n",
    "shapes # we get the shape of our final matrix, ex : 3,3,3,3,4 for 4 vehicles and 3 tasks \n",
    "# (dimension is tasks^vehicles * tasks)"
   ]
  },
  {
   "cell_type": "code",
   "execution_count": 149,
   "metadata": {},
   "outputs": [
    {
     "data": {
      "text/plain": [
       "(3, 3, 3, 3, 4)"
      ]
     },
     "execution_count": 149,
     "metadata": {},
     "output_type": "execute_result"
    }
   ],
   "source": [
    "# Clean version :\n",
    "\n",
    "def getShape(nb_vehicles, nb_tasks):\n",
    "    \"\"\" Compute the shape for this settings\n",
    "    \n",
    "    Parameters :\n",
    "        nb_vehicles : int, the number of vehicles\n",
    "        nb_tasks : int, the number of tasks\n",
    "        \n",
    "    Returns :\n",
    "        a tuple containing the shape (tasks^vehicles * vehicles),\n",
    "        that is the shape for the utility matrix.\n",
    "        \n",
    "    \"\"\"\n",
    "    list_dim = [nb_tasks]*nb_vehicles +[nb_vehicles]# matrix of shape tasks^vehicles * vehicles\n",
    "    return tuple(list_dim)\n",
    "\n",
    "shapes = getShape(len(vehicles),len(tasks))\n",
    "shapes"
   ]
  },
  {
   "cell_type": "code",
   "execution_count": 150,
   "metadata": {},
   "outputs": [],
   "source": [
    "ut = np.random.randint(0,10,shapes) # create utility matrix with random utilities"
   ]
  },
  {
   "cell_type": "code",
   "execution_count": 155,
   "metadata": {},
   "outputs": [
    {
     "data": {
      "text/plain": [
       "array([6, 0, 9, 4])"
      ]
     },
     "execution_count": 155,
     "metadata": {},
     "output_type": "execute_result"
    }
   ],
   "source": [
    "ut[0][0][0][0] # get utility of all agents when all do task 0"
   ]
  },
  {
   "cell_type": "code",
   "execution_count": 156,
   "metadata": {},
   "outputs": [
    {
     "data": {
      "text/plain": [
       "array([6, 0, 9, 4])"
      ]
     },
     "execution_count": 156,
     "metadata": {},
     "output_type": "execute_result"
    }
   ],
   "source": [
    "ind = tuple([0,0,0,0]) # accessing the matrix from array as index\n",
    "ut[ind]"
   ]
  },
  {
   "cell_type": "code",
   "execution_count": 157,
   "metadata": {},
   "outputs": [
    {
     "data": {
      "text/plain": [
       "array([9, 9, 5, 8])"
      ]
     },
     "execution_count": 157,
     "metadata": {},
     "output_type": "execute_result"
    }
   ],
   "source": [
    "ut[0][1][2][2] # get utility of all agents when allocation for vehicles to task is = 0,1,2,2 \n",
    "# (means vehicule 0 do task 0, vehicule 1 do task 1, vehicule 2 do task 2, vehicule 3 do task 2)"
   ]
  },
  {
   "cell_type": "markdown",
   "metadata": {},
   "source": [
    "### Defining usefull functions"
   ]
  },
  {
   "cell_type": "code",
   "execution_count": 137,
   "metadata": {},
   "outputs": [],
   "source": [
    "def replaceAlloc(allocation, v, t):\n",
    "    \"\"\" Compute the new allocation with task t asigned to vehicle v\n",
    "    \n",
    "    Parameters :\n",
    "        allocation : List(int) the list of tasks allocades to each vehicle (in order)\n",
    "        v : int, the vehicle id\n",
    "        t : int, the task id\n",
    "    \n",
    "    Returns :\n",
    "        List(int), the new allocation\n",
    "    \n",
    "    \"\"\"\n",
    "    return list(allocation[:v])+[t]+list(allocation[v+1:])"
   ]
  },
  {
   "cell_type": "code",
   "execution_count": 152,
   "metadata": {},
   "outputs": [],
   "source": [
    "def is_EN(utilities, allocation, vehicles, tasks):\n",
    "    \"\"\" Check if the current allocation is a Nash Equilibrium or not\n",
    "    \n",
    "    Parameters :\n",
    "        utilities : Matrix(int) the utility matrix of dimension nb_tasks^nb_vehicles * nb_vehicles\n",
    "        allocation : List(int) the list of tasks allocades to each vehicle (in order)\n",
    "        vehicle : List(int) the list of vehicle ids\n",
    "        tasks : List(int) the list of task ids\n",
    "    \n",
    "    Returns :\n",
    "        Tuple(boolean, int)\n",
    "        A tuple containing a boolean (True if this allocation is a Nash Equilibrium, else False)\n",
    "        and an integer that is the id of a vehicle that can increase its utility\n",
    "        by changing unilateraly its allocation (if not EN, -1)\n",
    "    \n",
    "    \"\"\"\n",
    "    for v in range(len(vehicles)) : # for each vehicle\n",
    "        current_task = allocation[v]\n",
    "        current_utility = utilities[tuple(allocation)][v]\n",
    "        for t in range(len(tasks)) :\n",
    "            if t != current_task : # check all other tasks\n",
    "                temp_ind = replaceAlloc(allocation, v, t) # allocating task t to vehicle v\n",
    "                utility = utilities[tuple(temp_ind)][v]\n",
    "                if utility > current_utility : # changing to another task gives more utility -> Not NE\n",
    "                    return (False, v)\n",
    "    return (True, -1)"
   ]
  },
  {
   "cell_type": "markdown",
   "metadata": {},
   "source": [
    "We also return the id of one vehicle that can increase its utility by changing its allocation, if the solution is not a Nash Equilibrium. \n",
    "It didn't increase the computation cost and avoids looping another time later on the utility table to find one in the Best Response Dynamics, it's all benefits."
   ]
  },
  {
   "cell_type": "markdown",
   "metadata": {},
   "source": [
    "##### Nash Equilibrium test example on small dimension"
   ]
  },
  {
   "cell_type": "code",
   "execution_count": 224,
   "metadata": {},
   "outputs": [
    {
     "data": {
      "text/plain": [
       "array([[[0, 4],\n",
       "        [3, 7],\n",
       "        [7, 2]],\n",
       "\n",
       "       [[9, 2],\n",
       "        [2, 0],\n",
       "        [8, 8]],\n",
       "\n",
       "       [[8, 2],\n",
       "        [2, 8],\n",
       "        [9, 1]]])"
      ]
     },
     "execution_count": 224,
     "metadata": {},
     "output_type": "execute_result"
    }
   ],
   "source": [
    "# Create setup : 2 vehicles, 3 tasks\n",
    "v = [0,1] # don't change, it's 2D example\n",
    "t = [0,1,2]\n",
    "ut_test = np.random.randint(0,10,(len(t),len(t),2))\n",
    "ut_test"
   ]
  },
  {
   "cell_type": "code",
   "execution_count": 225,
   "metadata": {},
   "outputs": [
    {
     "data": {
      "text/plain": [
       "(False, 0)"
      ]
     },
     "execution_count": 225,
     "metadata": {},
     "output_type": "execute_result"
    }
   ],
   "source": [
    "# Check EN for allocation (0,0)\n",
    "alloc = [0,0] # set allocation to check (0,1) -> first vehicle do task 0 and second do task 1\n",
    "is_EN(ut_test, alloc, v, t) # random example"
   ]
  },
  {
   "cell_type": "code",
   "execution_count": 226,
   "metadata": {},
   "outputs": [
    {
     "data": {
      "text/plain": [
       "(False, 0)"
      ]
     },
     "execution_count": 226,
     "metadata": {},
     "output_type": "execute_result"
    }
   ],
   "source": [
    "alloc = [0,1]\n",
    "ut_test[tuple(alloc)] = [0,0] # set allocation (0,1) to the lowest value for each vehicle\n",
    "ut_test[2,1] = [1,0] # set another allocation to a better score for one vehicle (in case matrix is full zero)\n",
    "is_EN(ut_test,alloc , v, t) # -> Is necessarly not an EN (result must be False)"
   ]
  },
  {
   "cell_type": "code",
   "execution_count": 227,
   "metadata": {},
   "outputs": [
    {
     "data": {
      "text/plain": [
       "(True, -1)"
      ]
     },
     "execution_count": 227,
     "metadata": {},
     "output_type": "execute_result"
    }
   ],
   "source": [
    "alloc = [0,1]\n",
    "ut_test[tuple(alloc)] = [10,10] # set allocation (0,1) to the highest value for each vehicle\n",
    "is_EN(ut_test, alloc, v, t) # -> Is necessarly  an EN (result must be True)"
   ]
  },
  {
   "cell_type": "code",
   "execution_count": 228,
   "metadata": {},
   "outputs": [
    {
     "data": {
      "text/plain": [
       "array([[[0., 0.],\n",
       "        [0., 0.],\n",
       "        [0., 0.]],\n",
       "\n",
       "       [[0., 0.],\n",
       "        [0., 0.],\n",
       "        [0., 0.]],\n",
       "\n",
       "       [[0., 0.],\n",
       "        [0., 0.],\n",
       "        [0., 0.]]])"
      ]
     },
     "execution_count": 228,
     "metadata": {},
     "output_type": "execute_result"
    }
   ],
   "source": [
    "ut_test_z = np.zeros((len(t),len(t),2)) # set all matrix to 0 (same value everywhere)\n",
    "ut_test_z"
   ]
  },
  {
   "cell_type": "code",
   "execution_count": 229,
   "metadata": {},
   "outputs": [
    {
     "data": {
      "text/plain": [
       "(True, -1)"
      ]
     },
     "execution_count": 229,
     "metadata": {},
     "output_type": "execute_result"
    }
   ],
   "source": [
    "alloc = [2,1] # when Zero everywhere, no solution is strictly better than the current\n",
    "is_EN(ut_test_z, alloc, v, t) # -> Is necessarly an EN (result must be True)"
   ]
  },
  {
   "cell_type": "markdown",
   "metadata": {},
   "source": [
    "### Best Response Dynamics"
   ]
  },
  {
   "cell_type": "code",
   "execution_count": 141,
   "metadata": {},
   "outputs": [],
   "source": [
    "def getBestTask(utilities, allocation, v, tasks):\n",
    "    \"\"\" Compute the best task for vehicle v\n",
    "    \n",
    "    Parameters :\n",
    "        utilities : Matrix(int) the utility matrix of dimension nb_tasks^nb_vehicles * nb_vehicles\n",
    "        allocation : List(int) the list of tasks allocades to each vehicle (in order)\n",
    "        v : int, the vehicle id\n",
    "        tasks : List(int) the list of task ids\n",
    "        \n",
    "    Returns : \n",
    "        int, the best task for vehicle v\n",
    "    \"\"\"\n",
    "    best = np.argmax([utilities[tuple(replaceAlloc(allocation, v, t))][v] for t in range(len(tasks))])\n",
    "    return best"
   ]
  },
  {
   "cell_type": "code",
   "execution_count": 214,
   "metadata": {},
   "outputs": [],
   "source": [
    "def bestResponseDynamic(utilities, vehicles, tasks, maxsteps):\n",
    "    \"\"\" Try to compute a Nash Equilibrium allofaction using Best Response Dynamics\n",
    "    \n",
    "    Parameters :\n",
    "        utilities : Matrix(int) the utility matrix of dimension nb_tasks^nb_vehicles * nb_vehicles\n",
    "        vehicles : List(int), the list of vehicle ids\n",
    "        tasks : List(int) the list of task ids\n",
    "        maxteps : int, the steps limit of the algorithm\n",
    "        \n",
    "    Returns : \n",
    "        List(int), a Nash Equilibrium allocation if one was found (no guarantee)\n",
    "        \n",
    "    \"\"\"\n",
    "    allocation = np.random.randint(0,len(tasks),len(vehicles)) # initial random allocation\n",
    "    end, id_change = is_EN(utilities, allocation, vehicles, tasks)\n",
    "    steps = 0\n",
    "    while not(end) and steps < maxsteps:\n",
    "        # vehicle id_change has interest to change to a better allocation\n",
    "        best = getBestTask(utilities, allocation, id_change, tasks) # get its best unilateral allocation\n",
    "        allocation = replaceAlloc(allocation, id_change, best) # set next allocation for id_change\n",
    "        end, id_change = is_EN(utilities, allocation, vehicles, tasks)\n",
    "        steps += 1\n",
    "    if not(end) and steps >= maxsteps: # cut the exection if maxsteps reached\n",
    "        print(\"Execution stopped : maximum step overflowed, no EN found.\")\n",
    "    return allocation"
   ]
  },
  {
   "cell_type": "markdown",
   "metadata": {},
   "source": [
    "##### Best Response Dynamics test example on the initial matrix"
   ]
  },
  {
   "cell_type": "code",
   "execution_count": 280,
   "metadata": {},
   "outputs": [],
   "source": [
    "ut[2,2,1,1] = [10,10,10,10] # we create a global optimal affectation -> At least one EN in utilities table"
   ]
  },
  {
   "cell_type": "code",
   "execution_count": 292,
   "metadata": {},
   "outputs": [
    {
     "data": {
      "text/plain": [
       "[2, 2, 1, 1]"
      ]
     },
     "execution_count": 292,
     "metadata": {},
     "output_type": "execute_result"
    }
   ],
   "source": [
    "bestResponseDynamic(ut, vehicles, tasks, 1000) # the global optimum is reached (NE)"
   ]
  },
  {
   "cell_type": "code",
   "execution_count": 291,
   "metadata": {},
   "outputs": [
    {
     "data": {
      "text/plain": [
       "[0, 2, 0, 2]"
      ]
     },
     "execution_count": 291,
     "metadata": {},
     "output_type": "execute_result"
    }
   ],
   "source": [
    "bestResponseDynamic(ut, vehicles, tasks, 1000) # another Nash Equilibrium is sometimes reached"
   ]
  },
  {
   "cell_type": "markdown",
   "metadata": {},
   "source": [
    "### Fictitious Play"
   ]
  },
  {
   "cell_type": "code",
   "execution_count": 10,
   "metadata": {},
   "outputs": [
    {
     "name": "stdout",
     "output_type": "stream",
     "text": [
      "(3, 3, 3, 3, 4)\n"
     ]
    }
   ],
   "source": [
    "shapes = getShape(len(vehicles),len(tasks))\n",
    "print(shapes)\n",
    "ut = np.random.randint(0,10,shapes) # create utility matrix with random utilities"
   ]
  },
  {
   "cell_type": "code",
   "execution_count": 6,
   "metadata": {},
   "outputs": [],
   "source": [
    "def computeFrequency(proposals, tasks):\n",
    "    \"\"\" Compute the empirical frequency of each proposal\n",
    "    \n",
    "    Parameters :\n",
    "        proposals : List(int), the allocation proposed\n",
    "        tasks : List(int) the list of task ids\n",
    "        \n",
    "    Returns : \n",
    "        List(float), the empirical frequency of each proposal\n",
    "    \n",
    "    \"\"\"\n",
    "    return [np.count_nonzero(np.array(proposals) == t)/len(proposals) for t in range(len(tasks))]"
   ]
  },
  {
   "cell_type": "code",
   "execution_count": 19,
   "metadata": {},
   "outputs": [],
   "source": [
    "# testing frequencies computation\n",
    "proposals = [0,1,2,1,1,2,0,0,1,2,2,1,2,0,1,1,2,1,2,0,1] # proposals sequence made by an agent\n",
    "taks = [0,1,2] # define tasks"
   ]
  },
  {
   "cell_type": "code",
   "execution_count": 22,
   "metadata": {},
   "outputs": [
    {
     "data": {
      "text/plain": [
       "[0.23809523809523808, 0.42857142857142855, 0.3333333333333333]"
      ]
     },
     "execution_count": 22,
     "metadata": {},
     "output_type": "execute_result"
    }
   ],
   "source": [
    "computeFrequency(proposals,tasks) # compute frequency of each task in proposals"
   ]
  },
  {
   "cell_type": "code",
   "execution_count": 35,
   "metadata": {},
   "outputs": [],
   "source": [
    "def computeFullFrequencyMatrix(frequencies, vehicles, tasks): # not used\n",
    "    \"\"\"\n",
    "        Compute the joined frequency matrix of proposed allocation for each vehicle\n",
    "    \"\"\"\n",
    "    shapes = getShape(len(vehicles),len(tasks))\n",
    "    fMat = np.zeros(shapes)\n",
    "    allAlloc = [x for x,_ in np.ndenumerate(ut)]\n",
    "    for alloc in allAlloc :\n",
    "        fMat[alloc] = np.prod([frequencies[v][alloc[v]] for v in range(len(vehicles))])\n",
    "    return fMat"
   ]
  },
  {
   "cell_type": "code",
   "execution_count": 36,
   "metadata": {},
   "outputs": [],
   "source": [
    "# testing frequency matrix computation\n",
    "frequencies = np.random.random((4,10)) # random frequencies"
   ]
  },
  {
   "cell_type": "code",
   "execution_count": 37,
   "metadata": {},
   "outputs": [
    {
     "data": {
      "text/plain": [
       "array([[0.43819445, 0.02242756, 0.75844368, 0.34672042, 0.84612548,\n",
       "        0.63451129, 0.98444621, 0.92280188, 0.96361494, 0.62077178],\n",
       "       [0.34867839, 0.66745858, 0.15330373, 0.41385088, 0.41217432,\n",
       "        0.93827241, 0.81652892, 0.39361675, 0.39504645, 0.81168782],\n",
       "       [0.09905056, 0.30935464, 0.63764402, 0.28090354, 0.04137854,\n",
       "        0.59448294, 0.41146702, 0.76507212, 0.61917395, 0.35979492],\n",
       "       [0.99832658, 0.62650982, 0.44820006, 0.44499181, 0.29123082,\n",
       "        0.08235175, 0.8698987 , 0.12316711, 0.70671548, 0.07297071]])"
      ]
     },
     "execution_count": 37,
     "metadata": {},
     "output_type": "execute_result"
    }
   ],
   "source": [
    "frequencies"
   ]
  },
  {
   "cell_type": "code",
   "execution_count": 38,
   "metadata": {},
   "outputs": [
    {
     "data": {
      "text/plain": [
       "array([[[[[1.51085040e-02, 1.51085040e-02, 1.51085040e-02,\n",
       "           1.51085040e-02],\n",
       "          [9.48149258e-03, 9.48149258e-03, 9.48149258e-03,\n",
       "           9.48149258e-03],\n",
       "          [6.78298311e-03, 6.78298311e-03, 6.78298311e-03,\n",
       "           6.78298311e-03]],\n",
       "\n",
       "         [[4.71868703e-02, 4.71868703e-02, 4.71868703e-02,\n",
       "           4.71868703e-02],\n",
       "          [2.96125917e-02, 2.96125917e-02, 2.96125917e-02,\n",
       "           2.96125917e-02],\n",
       "          [2.11846086e-02, 2.11846086e-02, 2.11846086e-02,\n",
       "           2.11846086e-02]],\n",
       "\n",
       "         [[9.72619179e-02, 9.72619179e-02, 9.72619179e-02,\n",
       "           9.72619179e-02],\n",
       "          [6.10376879e-02, 6.10376879e-02, 6.10376879e-02,\n",
       "           6.10376879e-02],\n",
       "          [4.36658683e-02, 4.36658683e-02, 4.36658683e-02,\n",
       "           4.36658683e-02]]],\n",
       "\n",
       "\n",
       "        [[[2.89214956e-02, 2.89214956e-02, 2.89214956e-02,\n",
       "           2.89214956e-02],\n",
       "          [1.81499734e-02, 1.81499734e-02, 1.81499734e-02,\n",
       "           1.81499734e-02],\n",
       "          [1.29843442e-02, 1.29843442e-02, 1.29843442e-02,\n",
       "           1.29843442e-02]],\n",
       "\n",
       "         [[9.03275971e-02, 9.03275971e-02, 9.03275971e-02,\n",
       "           9.03275971e-02],\n",
       "          [5.66859856e-02, 5.66859856e-02, 5.66859856e-02,\n",
       "           5.66859856e-02],\n",
       "          [4.05526957e-02, 4.05526957e-02, 4.05526957e-02,\n",
       "           4.05526957e-02]],\n",
       "\n",
       "         [[1.86183896e-01, 1.86183896e-01, 1.86183896e-01,\n",
       "           1.86183896e-01],\n",
       "          [1.16841563e-01, 1.16841563e-01, 1.16841563e-01,\n",
       "           1.16841563e-01],\n",
       "          [8.35875092e-02, 8.35875092e-02, 8.35875092e-02,\n",
       "           8.35875092e-02]]],\n",
       "\n",
       "\n",
       "        [[[6.64276891e-03, 6.64276891e-03, 6.64276891e-03,\n",
       "           6.64276891e-03],\n",
       "          [4.16873597e-03, 4.16873597e-03, 4.16873597e-03,\n",
       "           4.16873597e-03],\n",
       "          [2.98228000e-03, 2.98228000e-03, 2.98228000e-03,\n",
       "           2.98228000e-03]],\n",
       "\n",
       "         [[2.07466917e-02, 2.07466917e-02, 2.07466917e-02,\n",
       "           2.07466917e-02],\n",
       "          [1.30197936e-02, 1.30197936e-02, 1.30197936e-02,\n",
       "           1.30197936e-02],\n",
       "          [9.31425502e-03, 9.31425502e-03, 9.31425502e-03,\n",
       "           9.31425502e-03]],\n",
       "\n",
       "         [[4.27632308e-02, 4.27632308e-02, 4.27632308e-02,\n",
       "           4.27632308e-02],\n",
       "          [2.68364925e-02, 2.68364925e-02, 2.68364925e-02,\n",
       "           2.68364925e-02],\n",
       "          [1.91986097e-02, 1.91986097e-02, 1.91986097e-02,\n",
       "           1.91986097e-02]]]],\n",
       "\n",
       "\n",
       "\n",
       "       [[[[7.73279567e-04, 7.73279567e-04, 7.73279567e-04,\n",
       "           7.73279567e-04],\n",
       "          [4.85279315e-04, 4.85279315e-04, 4.85279315e-04,\n",
       "           4.85279315e-04],\n",
       "          [3.47164897e-04, 3.47164897e-04, 3.47164897e-04,\n",
       "           3.47164897e-04]],\n",
       "\n",
       "         [[2.41510626e-03, 2.41510626e-03, 2.41510626e-03,\n",
       "           2.41510626e-03],\n",
       "          [1.51562405e-03, 1.51562405e-03, 1.51562405e-03,\n",
       "           1.51562405e-03],\n",
       "          [1.08426519e-03, 1.08426519e-03, 1.08426519e-03,\n",
       "           1.08426519e-03]],\n",
       "\n",
       "         [[4.97803447e-03, 4.97803447e-03, 4.97803447e-03,\n",
       "           4.97803447e-03],\n",
       "          [3.12401524e-03, 3.12401524e-03, 3.12401524e-03,\n",
       "           3.12401524e-03],\n",
       "          [2.23489524e-03, 2.23489524e-03, 2.23489524e-03,\n",
       "           2.23489524e-03]]],\n",
       "\n",
       "\n",
       "        [[[1.48025255e-03, 1.48025255e-03, 1.48025255e-03,\n",
       "           1.48025255e-03],\n",
       "          [9.28947271e-04, 9.28947271e-04, 9.28947271e-04,\n",
       "           9.28947271e-04],\n",
       "          [6.64561365e-04, 6.64561365e-04, 6.64561365e-04,\n",
       "           6.64561365e-04]],\n",
       "\n",
       "         [[4.62312384e-03, 4.62312384e-03, 4.62312384e-03,\n",
       "           4.62312384e-03],\n",
       "          [2.90128754e-03, 2.90128754e-03, 2.90128754e-03,\n",
       "           2.90128754e-03],\n",
       "          [2.07555764e-03, 2.07555764e-03, 2.07555764e-03,\n",
       "           2.07555764e-03]],\n",
       "\n",
       "         [[9.52921625e-03, 9.52921625e-03, 9.52921625e-03,\n",
       "           9.52921625e-03],\n",
       "          [5.98015483e-03, 5.98015483e-03, 5.98015483e-03,\n",
       "           5.98015483e-03],\n",
       "          [4.27815440e-03, 4.27815440e-03, 4.27815440e-03,\n",
       "           4.27815440e-03]]],\n",
       "\n",
       "\n",
       "        [[[3.39988490e-04, 3.39988490e-04, 3.39988490e-04,\n",
       "           3.39988490e-04],\n",
       "          [2.13363172e-04, 2.13363172e-04, 2.13363172e-04,\n",
       "           2.13363172e-04],\n",
       "          [1.52638288e-04, 1.52638288e-04, 1.52638288e-04,\n",
       "           1.52638288e-04]],\n",
       "\n",
       "         [[1.06185184e-03, 1.06185184e-03, 1.06185184e-03,\n",
       "           1.06185184e-03],\n",
       "          [6.66375726e-04, 6.66375726e-04, 6.66375726e-04,\n",
       "           6.66375726e-04],\n",
       "          [4.76719805e-04, 4.76719805e-04, 4.76719805e-04,\n",
       "           4.76719805e-04]],\n",
       "\n",
       "         [[2.18869668e-03, 2.18869668e-03, 2.18869668e-03,\n",
       "           2.18869668e-03],\n",
       "          [1.37353846e-03, 1.37353846e-03, 1.37353846e-03,\n",
       "           1.37353846e-03],\n",
       "          [9.82618305e-04, 9.82618305e-04, 9.82618305e-04,\n",
       "           9.82618305e-04]]]],\n",
       "\n",
       "\n",
       "\n",
       "       [[[[2.61503757e-02, 2.61503757e-02, 2.61503757e-02,\n",
       "           2.61503757e-02],\n",
       "          [1.64109295e-02, 1.64109295e-02, 1.64109295e-02,\n",
       "           1.64109295e-02],\n",
       "          [1.17402462e-02, 1.17402462e-02, 1.17402462e-02,\n",
       "           1.17402462e-02]],\n",
       "\n",
       "         [[8.16728372e-02, 8.16728372e-02, 8.16728372e-02,\n",
       "           8.16728372e-02],\n",
       "          [5.12546046e-02, 5.12546046e-02, 5.12546046e-02,\n",
       "           5.12546046e-02],\n",
       "          [3.66671296e-02, 3.66671296e-02, 3.66671296e-02,\n",
       "           3.66671296e-02]],\n",
       "\n",
       "         [[1.68344642e-01, 1.68344642e-01, 1.68344642e-01,\n",
       "           1.68344642e-01],\n",
       "          [1.05646361e-01, 1.05646361e-01, 1.05646361e-01,\n",
       "           1.05646361e-01],\n",
       "          [7.55785524e-02, 7.55785524e-02, 7.55785524e-02,\n",
       "           7.55785524e-02]]],\n",
       "\n",
       "\n",
       "        [[[5.00584291e-02, 5.00584291e-02, 5.00584291e-02,\n",
       "           5.00584291e-02],\n",
       "          [3.14146671e-02, 3.14146671e-02, 3.14146671e-02,\n",
       "           3.14146671e-02],\n",
       "          [2.24737988e-02, 2.24737988e-02, 2.24737988e-02,\n",
       "           2.24737988e-02]],\n",
       "\n",
       "         [[1.56342455e-01, 1.56342455e-01, 1.56342455e-01,\n",
       "           1.56342455e-01],\n",
       "          [9.81142687e-02, 9.81142687e-02, 9.81142687e-02,\n",
       "           9.81142687e-02],\n",
       "          [7.01901544e-02, 7.01901544e-02, 7.01901544e-02,\n",
       "           7.01901544e-02]],\n",
       "\n",
       "         [[3.22254197e-01, 3.22254197e-01, 3.22254197e-01,\n",
       "           3.22254197e-01],\n",
       "          [2.02233839e-01, 2.02233839e-01, 2.02233839e-01,\n",
       "           2.02233839e-01],\n",
       "          [1.44676453e-01, 1.44676453e-01, 1.44676453e-01,\n",
       "           1.44676453e-01]]],\n",
       "\n",
       "\n",
       "        [[[1.14975581e-02, 1.14975581e-02, 1.14975581e-02,\n",
       "           1.14975581e-02],\n",
       "          [7.21540741e-03, 7.21540741e-03, 7.21540741e-03,\n",
       "           7.21540741e-03],\n",
       "          [5.16184411e-03, 5.16184411e-03, 5.16184411e-03,\n",
       "           5.16184411e-03]],\n",
       "\n",
       "         [[3.59091663e-02, 3.59091663e-02, 3.59091663e-02,\n",
       "           3.59091663e-02],\n",
       "          [2.25351559e-02, 2.25351559e-02, 2.25351559e-02,\n",
       "           2.25351559e-02],\n",
       "          [1.61214683e-02, 1.61214683e-02, 1.61214683e-02,\n",
       "           1.61214683e-02]],\n",
       "\n",
       "         [[7.40162329e-02, 7.40162329e-02, 7.40162329e-02,\n",
       "           7.40162329e-02],\n",
       "          [4.64496261e-02, 4.64496261e-02, 4.64496261e-02,\n",
       "           4.64496261e-02],\n",
       "          [3.32296869e-02, 3.32296869e-02, 3.32296869e-02,\n",
       "           3.32296869e-02]]]]])"
      ]
     },
     "execution_count": 38,
     "metadata": {},
     "output_type": "execute_result"
    }
   ],
   "source": [
    "computeFullFrequencyMatrix(frequencies, vehicles, tasks)"
   ]
  },
  {
   "cell_type": "code",
   "execution_count": 74,
   "metadata": {},
   "outputs": [],
   "source": [
    "def computePartialFrequencyMatrix(utilities, frequencies, vehicles, tasks, v):\n",
    "    \"\"\"\n",
    "        Compute the expected utility for vehicle v foreach task, considering for each \n",
    "        other vehicle a random allocation choice with probability equal to empirical frequency observed \n",
    "        \n",
    "    \"\"\"\n",
    "    temp_vehicles = vehicles[:v] + vehicles[v+1:] # create a list of index without vehicle v\n",
    "    temp_alloc = np.zeros([len(tasks)]*(len(vehicles)-1)) # create a 0 array of shape (vehicles-1)^task\n",
    "    allAlloc = [x for x,_ in np.ndenumerate(temp_alloc)] # enumerate all possible allocations for these vehicles\n",
    "    expectations = []\n",
    "    for t in range(len(tasks)):\n",
    "        expected = 0\n",
    "        for alloc in allAlloc : # for each possible allocation for vehicles without v\n",
    "            # compute proba for these vehicles to do this allocation : \n",
    "            proba = np.prod([frequencies[temp_vehicles[v]][alloc[v]] for v in range(len(temp_vehicles))])\n",
    "            # recreating full allocation with v :\n",
    "            index = [0]*len(vehicles)\n",
    "            for i in range(len(temp_vehicles)) :\n",
    "                index[temp_vehicles[i]] = alloc[i]\n",
    "            index[v] = t\n",
    "            # get the utility for v if it do task t with this allocation for the other vehicles\n",
    "            utility = utilities[tuple(index)][v]\n",
    "            expected+= utility * proba # add proba time the utility of v to the expectation\n",
    "        expectations.append(expected)\n",
    "    return expectations"
   ]
  },
  {
   "cell_type": "code",
   "execution_count": 71,
   "metadata": {},
   "outputs": [
    {
     "data": {
      "text/plain": [
       "array([[0.21009582, 0.11943391, 0.7108427 , 0.91304851, 0.02249661,\n",
       "        0.87766122, 0.39696832, 0.7457213 , 0.16379217, 0.54709451],\n",
       "       [0.63362027, 0.12801527, 0.50893712, 0.73058241, 0.46700579,\n",
       "        0.74985575, 0.15322143, 0.97573095, 0.29776437, 0.45045402],\n",
       "       [0.71731982, 0.18131516, 0.91146534, 0.44454428, 0.84013496,\n",
       "        0.36539865, 0.48351168, 0.85432586, 0.06412623, 0.88914702],\n",
       "       [0.03052541, 0.86650322, 0.92761635, 0.43953926, 0.96805666,\n",
       "        0.27068533, 0.88673364, 0.12493805, 0.74106153, 0.07182016]])"
      ]
     },
     "execution_count": 71,
     "metadata": {},
     "output_type": "execute_result"
    }
   ],
   "source": [
    "# testing expectation computation\n",
    "frequencies = np.random.random((4,10)) # random frequencies (note that sum != 1, it's just for example)\n",
    "frequencies"
   ]
  },
  {
   "cell_type": "code",
   "execution_count": 76,
   "metadata": {},
   "outputs": [
    {
     "name": "stdout",
     "output_type": "stream",
     "text": [
      "[19.52697896567259, 18.730815737618343, 24.867858909366248] --> task 2\n",
      "[16.5332330478646, 20.729079619506614, 16.17518652391417] --> task 1\n",
      "[12.996964693052485, 14.300402422881186, 12.27633887531842] --> task 1\n",
      "[10.923915888343553, 11.52656292187575, 7.27074793265533] --> task 1\n"
     ]
    }
   ],
   "source": [
    "for v in vehicles : # get the task with the highest utility expectation for each vehicle\n",
    "    expect = computePartialFrequencyMatrix(ut, frequencies, vehicles, tasks, v)\n",
    "    print(str(expect)+\" --> task \"+str(np.argmax(expect)))"
   ]
  },
  {
   "cell_type": "code",
   "execution_count": 215,
   "metadata": {},
   "outputs": [],
   "source": [
    "def fictitiousPlay(utilities, vehicles, tasks, maxsteps):\n",
    "    \"\"\" Play Fictitious Play until maxsteps\n",
    "    \n",
    "    Parameters :\n",
    "        utilities : Matrix(int) the utility matrix of dimension nb_tasks^nb_vehicles * nb_vehicles\n",
    "        vehicles : List(int), the list of vehicle ids\n",
    "        tasks : List(int) the list of task ids\n",
    "        maxteps : int, the steps limit of the algorithm\n",
    "        \n",
    "    Returns : \n",
    "        List(int), the fond allocation after maxsteps steps (no optimality guarantee)\n",
    "        \n",
    "    \"\"\"\n",
    "    passedPropositions = [[t for t in tasks] for v in vehicles]\n",
    "    steps = 0\n",
    "    while steps < maxsteps:\n",
    "        # vehicle id_change has interest to change to a better allocation\n",
    "        for v in vehicles :\n",
    "            f = [computeFrequency(passedPropositions[v],tasks) for v in vehicles]\n",
    "            expect = computePartialFrequencyMatrix(utilities, f, vehicles, tasks, v)\n",
    "            bestTask = np.argmax(expect)\n",
    "            passedPropositions[v].append(bestTask)\n",
    "        #print([passedPropositions[v][-1] for v in vehicles])\n",
    "        steps += 1\n",
    "    return [passedPropositions[v][-1] for v in vehicles]"
   ]
  },
  {
   "cell_type": "code",
   "execution_count": 213,
   "metadata": {},
   "outputs": [],
   "source": [
    "# testing FP compared to BRD on some examples :"
   ]
  },
  {
   "cell_type": "code",
   "execution_count": 204,
   "metadata": {},
   "outputs": [
    {
     "data": {
      "text/plain": [
       "[0, 0, 2, 1]"
      ]
     },
     "execution_count": 204,
     "metadata": {},
     "output_type": "execute_result"
    }
   ],
   "source": [
    "bestResponseDynamic(ut, vehicles, tasks, 1000)"
   ]
  },
  {
   "cell_type": "code",
   "execution_count": 205,
   "metadata": {},
   "outputs": [
    {
     "data": {
      "text/plain": [
       "[2, 0, 1, 2]"
      ]
     },
     "execution_count": 205,
     "metadata": {},
     "output_type": "execute_result"
    }
   ],
   "source": [
    "bestResponseDynamic(ut, vehicles, tasks, 1000)"
   ]
  },
  {
   "cell_type": "code",
   "execution_count": 206,
   "metadata": {},
   "outputs": [
    {
     "data": {
      "text/plain": [
       "[1, 2, 0, 0]"
      ]
     },
     "execution_count": 206,
     "metadata": {},
     "output_type": "execute_result"
    }
   ],
   "source": [
    "bestResponseDynamic(ut, vehicles, tasks, 1000)"
   ]
  },
  {
   "cell_type": "code",
   "execution_count": 207,
   "metadata": {},
   "outputs": [
    {
     "data": {
      "text/plain": [
       "[2, 1, 2, 0]"
      ]
     },
     "execution_count": 207,
     "metadata": {},
     "output_type": "execute_result"
    }
   ],
   "source": [
    "fictitiousPlay(ut, vehicles, tasks, 1000)"
   ]
  },
  {
   "cell_type": "code",
   "execution_count": 212,
   "metadata": {},
   "outputs": [
    {
     "data": {
      "text/plain": [
       "[2, 1, 1, 0]"
      ]
     },
     "execution_count": 212,
     "metadata": {},
     "output_type": "execute_result"
    }
   ],
   "source": [
    "fictitiousPlay(ut, vehicles, tasks, 1000) # this is a better solution than BRD's NE in term of social utility"
   ]
  },
  {
   "cell_type": "code",
   "execution_count": 200,
   "metadata": {},
   "outputs": [
    {
     "name": "stdout",
     "output_type": "stream",
     "text": [
      "FP : [8 9 6 7] -> mean 7.5\n",
      "FP : [2 8 6 6] -> mean 5.5\n",
      "BRD : [9 6 8 5] -> mean 7.0\n",
      "BRD : [5 3 1 9] -> mean 4.5\n",
      "BRD : [6 9 5 8] -> mean 7.0\n"
     ]
    }
   ],
   "source": [
    "# obtained with fictitious play : \n",
    "# [2,1,1,0]  (maxsteps 500)\n",
    "# [2,1,2,0]  (maxsteps 1500)\n",
    "print(\"FP : \"+str(ut[2,1,1,0])+\" -> mean \"+str(np.mean(ut[2,1,1,0])))\n",
    "print(\"FP : \"+str(ut[2,1,2,0])+\" -> mean \"+str(np.mean(ut[2,1,2,0])))\n",
    "\n",
    "# obtained with best response dynamic : \n",
    "# [1,2,0,0]  (maxsteps 1000)\n",
    "# [2,0,1,2]  (maxsteps 1000)\n",
    "# [0,0,2,1]  (maxsteps 1000)\n",
    "\n",
    "print(\"BRD : \"+str(ut[1,2,0,0])+\" -> mean \"+str(np.mean(ut[1,2,0,0])))\n",
    "print(\"BRD : \"+str(ut[2,0,1,2])+\" -> mean \"+str(np.mean(ut[2,0,1,2])))\n",
    "print(\"BRD : \"+str(ut[0,0,2,1])+\" -> mean \"+str(np.mean(ut[0,0,2,1])))"
   ]
  }
 ],
 "metadata": {
  "kernelspec": {
   "display_name": "Python 3",
   "language": "python",
   "name": "python3"
  },
  "language_info": {
   "codemirror_mode": {
    "name": "ipython",
    "version": 3
   },
   "file_extension": ".py",
   "mimetype": "text/x-python",
   "name": "python",
   "nbconvert_exporter": "python",
   "pygments_lexer": "ipython3",
   "version": "3.6.9"
  }
 },
 "nbformat": 4,
 "nbformat_minor": 4
}
