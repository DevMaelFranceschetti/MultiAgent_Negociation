{
 "cells": [
  {
   "cell_type": "code",
   "execution_count": 1,
   "metadata": {},
   "outputs": [],
   "source": [
    "import numpy as np\n",
    "import time"
   ]
  },
  {
   "cell_type": "markdown",
   "metadata": {},
   "source": [
    "### Define vehicles and tasks sets"
   ]
  },
  {
   "cell_type": "code",
   "execution_count": 2,
   "metadata": {},
   "outputs": [],
   "source": [
    "vehicles = [0,1,2,3]\n",
    "tasks = [0,1,2]"
   ]
  },
  {
   "cell_type": "markdown",
   "metadata": {},
   "source": [
    "### Create random utility matrix"
   ]
  },
  {
   "cell_type": "markdown",
   "metadata": {},
   "source": [
    "We use a matrix to store the utilities of the vehicles for the different possible allocations.\n",
    "The advantage of using a matrix compared to storing all the possible combinations in a dictionary, a hashmap or similar, is that we save a lot of space because we don't have to store the keys, and the acces time is the same. The other advantage is that we can loop easily on the matrix and use optimized numpy functions over this matrix. Using a matrix could also be interesting to move the computations on GPU to speed it up for high dimentionnal instances."
   ]
  },
  {
   "cell_type": "raw",
   "metadata": {},
   "source": [
    "# Old version for tortured spirits : \n",
    "\n",
    "mat = np.zeros([len(tasks)]*len(vehicles)) # initialize a matrix of dimension tasks^vehicles\n",
    "concat = mat.shape + (len(vehicles), 0) \n",
    "# concat to add a dimension of size nb_vehicles on the last dimension, we add 0 to create a tuple\n",
    "shapes = concat[:-1] # remove the 0 added to create a tuple\n",
    "shapes # we get the shape of our final matrix, ex : 3,3,3,3,4 for 4 vehicles and 3 tasks \n",
    "# (dimension is tasks^vehicles * tasks)"
   ]
  },
  {
   "cell_type": "code",
   "execution_count": 3,
   "metadata": {},
   "outputs": [
    {
     "data": {
      "text/plain": [
       "(3, 3, 3, 3, 4)"
      ]
     },
     "execution_count": 3,
     "metadata": {},
     "output_type": "execute_result"
    }
   ],
   "source": [
    "# Clean version :\n",
    "\n",
    "def getShape(nb_vehicles, nb_tasks):\n",
    "    \"\"\" Compute the shape for this settings\n",
    "    \n",
    "    Parameters :\n",
    "        nb_vehicles : int, the number of vehicles\n",
    "        nb_tasks : int, the number of tasks\n",
    "        \n",
    "    Returns :\n",
    "        a tuple containing the shape (tasks^vehicles * vehicles),\n",
    "        that is the shape for the utility matrix.\n",
    "        \n",
    "    \"\"\"\n",
    "    list_dim = [nb_tasks]*nb_vehicles +[nb_vehicles]# matrix of shape tasks^vehicles * vehicles\n",
    "    return tuple(list_dim)\n",
    "\n",
    "shapes = getShape(len(vehicles),len(tasks))\n",
    "shapes"
   ]
  },
  {
   "cell_type": "code",
   "execution_count": 4,
   "metadata": {},
   "outputs": [],
   "source": [
    "ut = np.random.randint(0,10,shapes) # create utility matrix with random utilities"
   ]
  },
  {
   "cell_type": "code",
   "execution_count": 5,
   "metadata": {},
   "outputs": [
    {
     "data": {
      "text/plain": [
       "array([4, 5, 3, 0])"
      ]
     },
     "execution_count": 5,
     "metadata": {},
     "output_type": "execute_result"
    }
   ],
   "source": [
    "ut[0][0][0][0] # get utility of all agents when all do task 0"
   ]
  },
  {
   "cell_type": "code",
   "execution_count": 6,
   "metadata": {},
   "outputs": [
    {
     "data": {
      "text/plain": [
       "array([4, 5, 3, 0])"
      ]
     },
     "execution_count": 6,
     "metadata": {},
     "output_type": "execute_result"
    }
   ],
   "source": [
    "ind = tuple([0,0,0,0]) # accessing the matrix from array as index\n",
    "ut[ind]"
   ]
  },
  {
   "cell_type": "code",
   "execution_count": 7,
   "metadata": {},
   "outputs": [
    {
     "data": {
      "text/plain": [
       "array([3, 6, 1, 4])"
      ]
     },
     "execution_count": 7,
     "metadata": {},
     "output_type": "execute_result"
    }
   ],
   "source": [
    "ut[0][1][2][2] # get utility of all agents when allocation for vehicles to task is = 0,1,2,2 \n",
    "# (means vehicule 0 do task 0, vehicule 1 do task 1, vehicule 2 do task 2, vehicule 3 do task 2)"
   ]
  },
  {
   "cell_type": "markdown",
   "metadata": {},
   "source": [
    "### Defining usefull functions"
   ]
  },
  {
   "cell_type": "code",
   "execution_count": 8,
   "metadata": {},
   "outputs": [],
   "source": [
    "def replaceAlloc(allocation, v, t):\n",
    "    \"\"\" Compute the new allocation with task t asigned to vehicle v\n",
    "    \n",
    "    Parameters :\n",
    "        allocation : List(int) the list of tasks allocades to each vehicle (in order)\n",
    "        v : int, the vehicle id\n",
    "        t : int, the task id\n",
    "    \n",
    "    Returns :\n",
    "        List(int), the new allocation\n",
    "    \n",
    "    \"\"\"\n",
    "    return list(allocation[:v])+[t]+list(allocation[v+1:])"
   ]
  },
  {
   "cell_type": "code",
   "execution_count": 9,
   "metadata": {},
   "outputs": [],
   "source": [
    "def is_EN(utilities, allocation, vehicles, tasks):\n",
    "    \"\"\" Check if the current allocation is a Nash Equilibrium or not\n",
    "    \n",
    "    Parameters :\n",
    "        utilities : Matrix(int) the utility matrix of dimension nb_tasks^nb_vehicles * nb_vehicles\n",
    "        allocation : List(int) the list of tasks allocades to each vehicle (in order)\n",
    "        vehicle : List(int) the list of vehicle ids\n",
    "        tasks : List(int) the list of task ids\n",
    "    \n",
    "    Returns :\n",
    "        Tuple(boolean, int)\n",
    "        A tuple containing a boolean (True if this allocation is a Nash Equilibrium, else False)\n",
    "        and an integer that is the id of a vehicle that can increase its utility\n",
    "        by changing unilateraly its allocation (if not EN, -1)\n",
    "    \n",
    "    \"\"\"\n",
    "    for v in range(len(vehicles)) : # for each vehicle\n",
    "        current_task = allocation[v]\n",
    "        current_utility = utilities[tuple(allocation)][v]\n",
    "        for t in range(len(tasks)) :\n",
    "            if t != current_task : # check all other tasks\n",
    "                temp_ind = replaceAlloc(allocation, v, t) # allocating task t to vehicle v\n",
    "                utility = utilities[tuple(temp_ind)][v]\n",
    "                if utility > current_utility : # changing to another task gives more utility -> Not NE\n",
    "                    return (False, v)\n",
    "    return (True, -1)"
   ]
  },
  {
   "cell_type": "markdown",
   "metadata": {},
   "source": [
    "We also return the id of one vehicle that can increase its utility by changing its allocation, if the solution is not a Nash Equilibrium. \n",
    "It didn't increase the computation cost and avoids looping another time later on the utility table to find one in the Best Response Dynamics, it's all benefits."
   ]
  },
  {
   "cell_type": "markdown",
   "metadata": {},
   "source": [
    "##### Nash Equilibrium test example on small dimension"
   ]
  },
  {
   "cell_type": "code",
   "execution_count": 10,
   "metadata": {},
   "outputs": [
    {
     "data": {
      "text/plain": [
       "array([[[9, 0],\n",
       "        [0, 9],\n",
       "        [5, 2]],\n",
       "\n",
       "       [[7, 2],\n",
       "        [5, 5],\n",
       "        [0, 2]],\n",
       "\n",
       "       [[5, 3],\n",
       "        [2, 5],\n",
       "        [4, 5]]])"
      ]
     },
     "execution_count": 10,
     "metadata": {},
     "output_type": "execute_result"
    }
   ],
   "source": [
    "# Create setup : 2 vehicles, 3 tasks\n",
    "v = [0,1] # don't change, it's 2D example\n",
    "t = [0,1,2]\n",
    "ut_test = np.random.randint(0,10,(len(t),len(t),2))\n",
    "ut_test"
   ]
  },
  {
   "cell_type": "code",
   "execution_count": 11,
   "metadata": {},
   "outputs": [
    {
     "data": {
      "text/plain": [
       "(False, 1)"
      ]
     },
     "execution_count": 11,
     "metadata": {},
     "output_type": "execute_result"
    }
   ],
   "source": [
    "# Check EN for allocation (0,0)\n",
    "alloc = [0,0] # set allocation to check (0,1) -> first vehicle do task 0 and second do task 1\n",
    "is_EN(ut_test, alloc, v, t) # random example"
   ]
  },
  {
   "cell_type": "code",
   "execution_count": 12,
   "metadata": {},
   "outputs": [
    {
     "data": {
      "text/plain": [
       "(False, 0)"
      ]
     },
     "execution_count": 12,
     "metadata": {},
     "output_type": "execute_result"
    }
   ],
   "source": [
    "alloc = [0,1]\n",
    "ut_test[tuple(alloc)] = [0,0] # set allocation (0,1) to the lowest value for each vehicle\n",
    "ut_test[2,1] = [1,0] # set another allocation to a better score for one vehicle (in case matrix is full zero)\n",
    "is_EN(ut_test,alloc , v, t) # -> Is necessarly not an EN (result must be False)"
   ]
  },
  {
   "cell_type": "code",
   "execution_count": 13,
   "metadata": {},
   "outputs": [
    {
     "data": {
      "text/plain": [
       "(True, -1)"
      ]
     },
     "execution_count": 13,
     "metadata": {},
     "output_type": "execute_result"
    }
   ],
   "source": [
    "alloc = [0,1]\n",
    "ut_test[tuple(alloc)] = [10,10] # set allocation (0,1) to the highest value for each vehicle\n",
    "is_EN(ut_test, alloc, v, t) # -> Is necessarly  an EN (result must be True)"
   ]
  },
  {
   "cell_type": "code",
   "execution_count": 14,
   "metadata": {},
   "outputs": [
    {
     "data": {
      "text/plain": [
       "array([[[0., 0.],\n",
       "        [0., 0.],\n",
       "        [0., 0.]],\n",
       "\n",
       "       [[0., 0.],\n",
       "        [0., 0.],\n",
       "        [0., 0.]],\n",
       "\n",
       "       [[0., 0.],\n",
       "        [0., 0.],\n",
       "        [0., 0.]]])"
      ]
     },
     "execution_count": 14,
     "metadata": {},
     "output_type": "execute_result"
    }
   ],
   "source": [
    "ut_test_z = np.zeros((len(t),len(t),2)) # set all matrix to 0 (same value everywhere)\n",
    "ut_test_z"
   ]
  },
  {
   "cell_type": "code",
   "execution_count": 15,
   "metadata": {},
   "outputs": [
    {
     "data": {
      "text/plain": [
       "(True, -1)"
      ]
     },
     "execution_count": 15,
     "metadata": {},
     "output_type": "execute_result"
    }
   ],
   "source": [
    "alloc = [2,1] # when Zero everywhere, no solution is strictly better than the current\n",
    "is_EN(ut_test_z, alloc, v, t) # -> Is necessarly an EN (result must be True)"
   ]
  },
  {
   "cell_type": "markdown",
   "metadata": {},
   "source": [
    "### Best Response Dynamics"
   ]
  },
  {
   "cell_type": "code",
   "execution_count": 16,
   "metadata": {},
   "outputs": [],
   "source": [
    "def getBestTask(utilities, allocation, v, tasks):\n",
    "    \"\"\" Compute the best task for vehicle v\n",
    "    \n",
    "    Parameters :\n",
    "        utilities : Matrix(int) the utility matrix of dimension nb_tasks^nb_vehicles * nb_vehicles\n",
    "        allocation : List(int) the list of tasks allocades to each vehicle (in order)\n",
    "        v : int, the vehicle id\n",
    "        tasks : List(int) the list of task ids\n",
    "        \n",
    "    Returns : \n",
    "        int, the best task for vehicle v\n",
    "    \"\"\"\n",
    "    best = np.argmax([utilities[tuple(replaceAlloc(allocation, v, t))][v] for t in range(len(tasks))])\n",
    "    return best"
   ]
  },
  {
   "cell_type": "code",
   "execution_count": 17,
   "metadata": {},
   "outputs": [],
   "source": [
    "def bestResponseDynamic(utilities, vehicles, tasks, maxsteps):\n",
    "    \"\"\" Try to compute a Nash Equilibrium allofaction using Best Response Dynamics\n",
    "    \n",
    "    Parameters :\n",
    "        utilities : Matrix(int) the utility matrix of dimension nb_tasks^nb_vehicles * nb_vehicles\n",
    "        vehicles : List(int), the list of vehicle ids\n",
    "        tasks : List(int) the list of task ids\n",
    "        maxteps : int, the steps limit of the algorithm\n",
    "        \n",
    "    Returns : \n",
    "        List(int), a Nash Equilibrium allocation if one was found (no guarantee)\n",
    "        \n",
    "    \"\"\"\n",
    "    allocation = np.random.randint(0,len(tasks),len(vehicles)) # initial random allocation\n",
    "    end, id_change = is_EN(utilities, allocation, vehicles, tasks)\n",
    "    steps = 0\n",
    "    while not(end) and steps < maxsteps:\n",
    "        # vehicle id_change has interest to change to a better allocation\n",
    "        best = getBestTask(utilities, allocation, id_change, tasks) # get its best unilateral allocation\n",
    "        allocation = replaceAlloc(allocation, id_change, best) # set next allocation for id_change\n",
    "        end, id_change = is_EN(utilities, allocation, vehicles, tasks)\n",
    "        steps += 1\n",
    "    if not(end) and steps >= maxsteps: # cut the exection if maxsteps reached\n",
    "        print(\"Execution stopped : maximum step overflowed, no EN found.\")\n",
    "    return list(allocation)"
   ]
  },
  {
   "cell_type": "markdown",
   "metadata": {},
   "source": [
    "##### Best Response Dynamics test example on the initial matrix"
   ]
  },
  {
   "cell_type": "code",
   "execution_count": 18,
   "metadata": {},
   "outputs": [],
   "source": [
    "ut[2,2,1,1] = [10,10,10,10] # we create a global optimal affectation -> At least one EN in utilities table"
   ]
  },
  {
   "cell_type": "code",
   "execution_count": 19,
   "metadata": {},
   "outputs": [
    {
     "name": "stdout",
     "output_type": "stream",
     "text": [
      "Execution stopped : maximum step overflowed, no EN found.\n"
     ]
    },
    {
     "data": {
      "text/plain": [
       "[0, 0, 0, 2]"
      ]
     },
     "execution_count": 19,
     "metadata": {},
     "output_type": "execute_result"
    }
   ],
   "source": [
    "bestResponseDynamic(ut, vehicles, tasks, 1000) # the global optimum is reached (NE)"
   ]
  },
  {
   "cell_type": "code",
   "execution_count": 20,
   "metadata": {},
   "outputs": [
    {
     "name": "stdout",
     "output_type": "stream",
     "text": [
      "Execution stopped : maximum step overflowed, no EN found.\n"
     ]
    },
    {
     "data": {
      "text/plain": [
       "[1, 0, 0, 2]"
      ]
     },
     "execution_count": 20,
     "metadata": {},
     "output_type": "execute_result"
    }
   ],
   "source": [
    "bestResponseDynamic(ut, vehicles, tasks, 1000) # another Nash Equilibrium is sometimes reached"
   ]
  },
  {
   "cell_type": "markdown",
   "metadata": {},
   "source": [
    "### Fictitious Play"
   ]
  },
  {
   "cell_type": "code",
   "execution_count": 21,
   "metadata": {},
   "outputs": [
    {
     "name": "stdout",
     "output_type": "stream",
     "text": [
      "(3, 3, 3, 3, 4)\n"
     ]
    }
   ],
   "source": [
    "shapes = getShape(len(vehicles),len(tasks))\n",
    "print(shapes)\n",
    "ut = np.random.randint(0,10,shapes) # create utility matrix with random utilities"
   ]
  },
  {
   "cell_type": "code",
   "execution_count": 22,
   "metadata": {},
   "outputs": [],
   "source": [
    "def computeFrequency(proposals, tasks):\n",
    "    \"\"\" Compute the empirical frequency of each proposal\n",
    "    \n",
    "    Parameters :\n",
    "        proposals : List(int), the allocation proposed\n",
    "        tasks : List(int) the list of task ids\n",
    "        \n",
    "    Returns : \n",
    "        List(float), the empirical frequency of each proposal\n",
    "    \n",
    "    \"\"\"\n",
    "    return [np.count_nonzero(np.array(proposals) == t)/len(proposals) for t in range(len(tasks))]"
   ]
  },
  {
   "cell_type": "code",
   "execution_count": 23,
   "metadata": {},
   "outputs": [],
   "source": [
    "# testing frequencies computation\n",
    "proposals = [0,1,2,1,1,2,0,0,1,2,2,1,2,0,1,1,2,1,2,0,1] # proposals sequence made by an agent\n",
    "taks = [0,1,2] # define tasks"
   ]
  },
  {
   "cell_type": "code",
   "execution_count": 24,
   "metadata": {},
   "outputs": [
    {
     "data": {
      "text/plain": [
       "[0.23809523809523808, 0.42857142857142855, 0.3333333333333333]"
      ]
     },
     "execution_count": 24,
     "metadata": {},
     "output_type": "execute_result"
    }
   ],
   "source": [
    "computeFrequency(proposals,tasks) # compute frequency of each task in proposals"
   ]
  },
  {
   "cell_type": "code",
   "execution_count": 25,
   "metadata": {},
   "outputs": [],
   "source": [
    "def computeFullFrequencyMatrix(frequencies, vehicles, tasks): # not used\n",
    "    \"\"\"\n",
    "        Compute the joined frequency matrix of proposed allocation for each vehicle\n",
    "    \"\"\"\n",
    "    shapes = getShape(len(vehicles),len(tasks))\n",
    "    fMat = np.zeros(shapes)\n",
    "    allAlloc = [x for x,_ in np.ndenumerate(ut)]\n",
    "    for alloc in allAlloc :\n",
    "        fMat[alloc] = np.prod([frequencies[v][alloc[v]] for v in range(len(vehicles))])\n",
    "    return fMat"
   ]
  },
  {
   "cell_type": "code",
   "execution_count": 26,
   "metadata": {},
   "outputs": [],
   "source": [
    "# testing frequency matrix computation\n",
    "frequencies = np.random.random((4,10)) # random frequencies"
   ]
  },
  {
   "cell_type": "code",
   "execution_count": 27,
   "metadata": {},
   "outputs": [
    {
     "data": {
      "text/plain": [
       "array([[0.92096608, 0.84538525, 0.83029552, 0.23459773, 0.30379092,\n",
       "        0.98652839, 0.79201913, 0.4812684 , 0.86664984, 0.0924708 ],\n",
       "       [0.5767644 , 0.47691055, 0.62132184, 0.45875497, 0.21526242,\n",
       "        0.73969334, 0.27450046, 0.36047482, 0.10048812, 0.81859101],\n",
       "       [0.14279288, 0.10833564, 0.09449696, 0.34066765, 0.05193562,\n",
       "        0.60401091, 0.16914959, 0.90031113, 0.37012848, 0.01275781],\n",
       "       [0.75728619, 0.65511086, 0.42411246, 0.34581551, 0.92296141,\n",
       "        0.50417888, 0.93880655, 0.93912442, 0.71492036, 0.8976803 ]])"
      ]
     },
     "execution_count": 27,
     "metadata": {},
     "output_type": "execute_result"
    }
   ],
   "source": [
    "frequencies"
   ]
  },
  {
   "cell_type": "code",
   "execution_count": 28,
   "metadata": {},
   "outputs": [
    {
     "data": {
      "text/plain": [
       "array([[[[[0.05743924, 0.05743924, 0.05743924, 0.05743924],\n",
       "          [0.04968936, 0.04968936, 0.04968936, 0.04968936],\n",
       "          [0.03216841, 0.03216841, 0.03216841, 0.03216841]],\n",
       "\n",
       "         [[0.04357862, 0.04357862, 0.04357862, 0.04357862],\n",
       "          [0.03769886, 0.03769886, 0.03769886, 0.03769886],\n",
       "          [0.02440588, 0.02440588, 0.02440588, 0.02440588]],\n",
       "\n",
       "         [[0.03801193, 0.03801193, 0.03801193, 0.03801193],\n",
       "          [0.03288325, 0.03288325, 0.03288325, 0.03288325],\n",
       "          [0.0212883 , 0.0212883 , 0.0212883 , 0.0212883 ]]],\n",
       "\n",
       "\n",
       "        [[[0.04749492, 0.04749492, 0.04749492, 0.04749492],\n",
       "          [0.04108676, 0.04108676, 0.04108676, 0.04108676],\n",
       "          [0.02659917, 0.02659917, 0.02659917, 0.02659917]],\n",
       "\n",
       "         [[0.03603396, 0.03603396, 0.03603396, 0.03603396],\n",
       "          [0.03117215, 0.03117215, 0.03117215, 0.03117215],\n",
       "          [0.02018055, 0.02018055, 0.02018055, 0.02018055]],\n",
       "\n",
       "         [[0.03143102, 0.03143102, 0.03143102, 0.03143102],\n",
       "          [0.02719025, 0.02719025, 0.02719025, 0.02719025],\n",
       "          [0.01760271, 0.01760271, 0.01760271, 0.01760271]]],\n",
       "\n",
       "\n",
       "        [[[0.06187666, 0.06187666, 0.06187666, 0.06187666],\n",
       "          [0.05352807, 0.05352807, 0.05352807, 0.05352807],\n",
       "          [0.03465356, 0.03465356, 0.03465356, 0.03465356]],\n",
       "\n",
       "         [[0.04694525, 0.04694525, 0.04694525, 0.04694525],\n",
       "          [0.04061125, 0.04061125, 0.04061125, 0.04061125],\n",
       "          [0.02629133, 0.02629133, 0.02629133, 0.02629133]],\n",
       "\n",
       "         [[0.04094851, 0.04094851, 0.04094851, 0.04094851],\n",
       "          [0.03542361, 0.03542361, 0.03542361, 0.03542361],\n",
       "          [0.02293291, 0.02293291, 0.02293291, 0.02293291]]]],\n",
       "\n",
       "\n",
       "\n",
       "       [[[[0.05272538, 0.05272538, 0.05272538, 0.05272538],\n",
       "          [0.04561151, 0.04561151, 0.04561151, 0.04561151],\n",
       "          [0.02952845, 0.02952845, 0.02952845, 0.02952845]],\n",
       "\n",
       "         [[0.04000226, 0.04000226, 0.04000226, 0.04000226],\n",
       "          [0.03460503, 0.03460503, 0.03460503, 0.03460503],\n",
       "          [0.02240296, 0.02240296, 0.02240296, 0.02240296]],\n",
       "\n",
       "         [[0.03489241, 0.03489241, 0.03489241, 0.03489241],\n",
       "          [0.03018462, 0.03018462, 0.03018462, 0.03018462],\n",
       "          [0.01954123, 0.01954123, 0.01954123, 0.01954123]]],\n",
       "\n",
       "\n",
       "        [[[0.04359716, 0.04359716, 0.04359716, 0.04359716],\n",
       "          [0.0377149 , 0.0377149 , 0.0377149 , 0.0377149 ],\n",
       "          [0.02441626, 0.02441626, 0.02441626, 0.02441626]],\n",
       "\n",
       "         [[0.03307676, 0.03307676, 0.03307676, 0.03307676],\n",
       "          [0.02861394, 0.02861394, 0.02861394, 0.02861394],\n",
       "          [0.01852439, 0.01852439, 0.01852439, 0.01852439]],\n",
       "\n",
       "         [[0.02885157, 0.02885157, 0.02885157, 0.02885157],\n",
       "          [0.02495883, 0.02495883, 0.02495883, 0.02495883],\n",
       "          [0.01615811, 0.01615811, 0.01615811, 0.01615811]]],\n",
       "\n",
       "\n",
       "        [[[0.05679863, 0.05679863, 0.05679863, 0.05679863],\n",
       "          [0.04913519, 0.04913519, 0.04913519, 0.04913519],\n",
       "          [0.03180965, 0.03180965, 0.03180965, 0.03180965]],\n",
       "\n",
       "         [[0.0430926 , 0.0430926 , 0.0430926 , 0.0430926 ],\n",
       "          [0.03727841, 0.03727841, 0.03727841, 0.03727841],\n",
       "          [0.02413369, 0.02413369, 0.02413369, 0.02413369]],\n",
       "\n",
       "         [[0.03758799, 0.03758799, 0.03758799, 0.03758799],\n",
       "          [0.03251651, 0.03251651, 0.03251651, 0.03251651],\n",
       "          [0.02105087, 0.02105087, 0.02105087, 0.02105087]]]],\n",
       "\n",
       "\n",
       "\n",
       "       [[[[0.05178425, 0.05178425, 0.05178425, 0.05178425],\n",
       "          [0.04479737, 0.04479737, 0.04479737, 0.04479737],\n",
       "          [0.02900138, 0.02900138, 0.02900138, 0.02900138]],\n",
       "\n",
       "         [[0.03928824, 0.03928824, 0.03928824, 0.03928824],\n",
       "          [0.03398735, 0.03398735, 0.03398735, 0.03398735],\n",
       "          [0.02200308, 0.02200308, 0.02200308, 0.02200308]],\n",
       "\n",
       "         [[0.0342696 , 0.0342696 , 0.0342696 , 0.0342696 ],\n",
       "          [0.02964584, 0.02964584, 0.02964584, 0.02964584],\n",
       "          [0.01919243, 0.01919243, 0.01919243, 0.01919243]]],\n",
       "\n",
       "\n",
       "        [[[0.04281897, 0.04281897, 0.04281897, 0.04281897],\n",
       "          [0.0370417 , 0.0370417 , 0.0370417 , 0.0370417 ],\n",
       "          [0.02398044, 0.02398044, 0.02398044, 0.02398044]],\n",
       "\n",
       "         [[0.03248636, 0.03248636, 0.03248636, 0.03248636],\n",
       "          [0.0281032 , 0.0281032 , 0.0281032 , 0.0281032 ],\n",
       "          [0.01819374, 0.01819374, 0.01819374, 0.01819374]],\n",
       "\n",
       "         [[0.02833658, 0.02833658, 0.02833658, 0.02833658],\n",
       "          [0.02451333, 0.02451333, 0.02451333, 0.02451333],\n",
       "          [0.01586969, 0.01586969, 0.01586969, 0.01586969]]],\n",
       "\n",
       "\n",
       "        [[[0.0557848 , 0.0557848 , 0.0557848 , 0.0557848 ],\n",
       "          [0.04825815, 0.04825815, 0.04825815, 0.04825815],\n",
       "          [0.03124186, 0.03124186, 0.03124186, 0.03124186]],\n",
       "\n",
       "         [[0.04232341, 0.04232341, 0.04232341, 0.04232341],\n",
       "          [0.03661301, 0.03661301, 0.03661301, 0.03661301],\n",
       "          [0.02370291, 0.02370291, 0.02370291, 0.02370291]],\n",
       "\n",
       "         [[0.03691707, 0.03691707, 0.03691707, 0.03691707],\n",
       "          [0.0319361 , 0.0319361 , 0.0319361 , 0.0319361 ],\n",
       "          [0.02067513, 0.02067513, 0.02067513, 0.02067513]]]]])"
      ]
     },
     "execution_count": 28,
     "metadata": {},
     "output_type": "execute_result"
    }
   ],
   "source": [
    "computeFullFrequencyMatrix(frequencies, vehicles, tasks)"
   ]
  },
  {
   "cell_type": "code",
   "execution_count": 29,
   "metadata": {},
   "outputs": [],
   "source": [
    "def computePartialFrequencyMatrix(utilities, frequencies, vehicles, tasks, v):\n",
    "    \"\"\"\n",
    "        Compute the expected utility for vehicle v foreach task, considering for each \n",
    "        other vehicle a random allocation choice with probability equal to empirical frequency observed \n",
    "        \n",
    "    \"\"\"\n",
    "    temp_vehicles = vehicles[:v] + vehicles[v+1:] # create a list of index without vehicle v\n",
    "    temp_alloc = np.zeros([len(tasks)]*(len(vehicles)-1)) # create a 0 array of shape (vehicles-1)^task\n",
    "    allAlloc = [x for x,_ in np.ndenumerate(temp_alloc)] # enumerate all possible allocations for these vehicles\n",
    "    expectations = []\n",
    "    for t in range(len(tasks)):\n",
    "        expected = 0\n",
    "        for alloc in allAlloc : # for each possible allocation for vehicles without v\n",
    "            # compute proba for these vehicles to do this allocation : \n",
    "            proba = np.prod([frequencies[temp_vehicles[v]][alloc[v]] for v in range(len(temp_vehicles))])\n",
    "            # recreating full allocation with v :\n",
    "            index = [0]*len(vehicles)\n",
    "            for i in range(len(temp_vehicles)) :\n",
    "                index[temp_vehicles[i]] = alloc[i]\n",
    "            index[v] = t\n",
    "            # get the utility for v if it do task t with this allocation for the other vehicles\n",
    "            utility = utilities[tuple(index)][v]\n",
    "            expected+= utility * proba # add proba time the utility of v to the expectation\n",
    "        expectations.append(expected)\n",
    "    return expectations"
   ]
  },
  {
   "cell_type": "code",
   "execution_count": 30,
   "metadata": {},
   "outputs": [
    {
     "data": {
      "text/plain": [
       "array([[0.38132522, 0.95188707, 0.57155194, 0.62573832, 0.15367298,\n",
       "        0.88971998, 0.9752303 , 0.55803377, 0.23373078, 0.99183439],\n",
       "       [0.35927226, 0.40954941, 0.86242519, 0.73920963, 0.72470426,\n",
       "        0.66088301, 0.74845853, 0.50037538, 0.76501616, 0.27827335],\n",
       "       [0.23973385, 0.68773622, 0.92291609, 0.96363593, 0.10961734,\n",
       "        0.71631332, 0.78391002, 0.73282523, 0.14864491, 0.19520801],\n",
       "       [0.89375705, 0.86763489, 0.25296956, 0.25083487, 0.34733439,\n",
       "        0.06578791, 0.47085788, 0.223188  , 0.10635804, 0.93748372]])"
      ]
     },
     "execution_count": 30,
     "metadata": {},
     "output_type": "execute_result"
    }
   ],
   "source": [
    "# testing expectation computation\n",
    "frequencies = np.random.random((4,10)) # random frequencies (note that sum != 1, it's just for example)\n",
    "frequencies"
   ]
  },
  {
   "cell_type": "code",
   "execution_count": 31,
   "metadata": {},
   "outputs": [
    {
     "name": "stdout",
     "output_type": "stream",
     "text": [
      "[33.73680713678957, 26.12750319072277, 30.129071493149993] --> task 0\n",
      "[35.04830050721285, 30.776100517931138, 23.669864817809657] --> task 0\n",
      "[33.92974695021297, 33.85979497661444, 26.491772613425162] --> task 0\n",
      "[25.252864900380757, 26.815844388561818, 21.438817013805153] --> task 1\n"
     ]
    }
   ],
   "source": [
    "for v in vehicles : # get the task with the highest utility expectation for each vehicle\n",
    "    expect = computePartialFrequencyMatrix(ut, frequencies, vehicles, tasks, v)\n",
    "    print(str(expect)+\" --> task \"+str(np.argmax(expect)))"
   ]
  },
  {
   "cell_type": "code",
   "execution_count": 32,
   "metadata": {},
   "outputs": [],
   "source": [
    "def fictitiousPlay(utilities, vehicles, tasks, maxsteps):\n",
    "    \"\"\" Play Fictitious Play until maxsteps\n",
    "    \n",
    "    Parameters :\n",
    "        utilities : Matrix(int) the utility matrix of dimension nb_tasks^nb_vehicles * nb_vehicles\n",
    "        vehicles : List(int), the list of vehicle ids\n",
    "        tasks : List(int) the list of task ids\n",
    "        maxteps : int, the steps limit of the algorithm\n",
    "        \n",
    "    Returns : \n",
    "        List(int), the found allocation after maxsteps steps (no optimality guarantee)\n",
    "        \n",
    "    \"\"\"\n",
    "    passedPropositions = [[t for t in tasks] for v in vehicles]\n",
    "    steps = 0\n",
    "    while steps < maxsteps:\n",
    "        for v in vehicles :\n",
    "            f = [computeFrequency(passedPropositions[v],tasks) for v in vehicles]\n",
    "            expect = computePartialFrequencyMatrix(utilities, f, vehicles, tasks, v)\n",
    "            bestTask = np.argmax(expect)\n",
    "            passedPropositions[v].append(bestTask)\n",
    "        #print([passedPropositions[v][-1] for v in vehicles])\n",
    "        steps += 1\n",
    "    return list([passedPropositions[v][-1] for v in vehicles])"
   ]
  },
  {
   "cell_type": "code",
   "execution_count": 33,
   "metadata": {},
   "outputs": [],
   "source": [
    "# testing FP compared to BRD on some examples :"
   ]
  },
  {
   "cell_type": "code",
   "execution_count": 34,
   "metadata": {},
   "outputs": [
    {
     "name": "stdout",
     "output_type": "stream",
     "text": [
      "Execution stopped : maximum step overflowed, no EN found.\n"
     ]
    },
    {
     "data": {
      "text/plain": [
       "[2, 2, 1, 2]"
      ]
     },
     "execution_count": 34,
     "metadata": {},
     "output_type": "execute_result"
    }
   ],
   "source": [
    "bestResponseDynamic(ut, vehicles, tasks, 1000)"
   ]
  },
  {
   "cell_type": "code",
   "execution_count": 35,
   "metadata": {},
   "outputs": [
    {
     "name": "stdout",
     "output_type": "stream",
     "text": [
      "Execution stopped : maximum step overflowed, no EN found.\n"
     ]
    },
    {
     "data": {
      "text/plain": [
       "[0, 1, 0, 0]"
      ]
     },
     "execution_count": 35,
     "metadata": {},
     "output_type": "execute_result"
    }
   ],
   "source": [
    "bestResponseDynamic(ut, vehicles, tasks, 1000)"
   ]
  },
  {
   "cell_type": "code",
   "execution_count": 36,
   "metadata": {},
   "outputs": [
    {
     "name": "stdout",
     "output_type": "stream",
     "text": [
      "Execution stopped : maximum step overflowed, no EN found.\n"
     ]
    },
    {
     "data": {
      "text/plain": [
       "[0, 0, 2, 0]"
      ]
     },
     "execution_count": 36,
     "metadata": {},
     "output_type": "execute_result"
    }
   ],
   "source": [
    "bestResponseDynamic(ut, vehicles, tasks, 1000)"
   ]
  },
  {
   "cell_type": "code",
   "execution_count": 37,
   "metadata": {},
   "outputs": [
    {
     "data": {
      "text/plain": [
       "[2, 1, 1, 1]"
      ]
     },
     "execution_count": 37,
     "metadata": {},
     "output_type": "execute_result"
    }
   ],
   "source": [
    "fictitiousPlay(ut, vehicles, tasks, 1000)"
   ]
  },
  {
   "cell_type": "code",
   "execution_count": 38,
   "metadata": {},
   "outputs": [
    {
     "data": {
      "text/plain": [
       "[2, 1, 1, 1]"
      ]
     },
     "execution_count": 38,
     "metadata": {},
     "output_type": "execute_result"
    }
   ],
   "source": [
    "fictitiousPlay(ut, vehicles, tasks, 1000) # this is a better solution than BRD's NE in term of social utility"
   ]
  },
  {
   "cell_type": "code",
   "execution_count": 39,
   "metadata": {},
   "outputs": [
    {
     "name": "stdout",
     "output_type": "stream",
     "text": [
      "FP : [1 3 5 2] -> mean 2.75\n",
      "FP : [1 5 1 7] -> mean 3.5\n",
      "BRD : [3 7 4 4] -> mean 4.5\n",
      "BRD : [9 4 4 7] -> mean 6.0\n",
      "BRD : [6 9 3 7] -> mean 6.25\n"
     ]
    }
   ],
   "source": [
    "# (if cells before have been re-run, it's no more the same ut matrix so no more the same results)\n",
    "# obtained with fictitious play :  \n",
    "# [2,1,1,0]  (maxsteps 500)\n",
    "# [2,1,2,0]  (maxsteps 1500)\n",
    "print(\"FP : \"+str(ut[2,1,1,0])+\" -> mean \"+str(np.mean(ut[2,1,1,0])))\n",
    "print(\"FP : \"+str(ut[2,1,2,0])+\" -> mean \"+str(np.mean(ut[2,1,2,0])))\n",
    "\n",
    "# obtained with best response dynamic : \n",
    "# [1,2,0,0]  (maxsteps 1000)\n",
    "# [2,0,1,2]  (maxsteps 1000)\n",
    "# [0,0,2,1]  (maxsteps 1000)\n",
    "\n",
    "print(\"BRD : \"+str(ut[1,2,0,0])+\" -> mean \"+str(np.mean(ut[1,2,0,0])))\n",
    "print(\"BRD : \"+str(ut[2,0,1,2])+\" -> mean \"+str(np.mean(ut[2,0,1,2])))\n",
    "print(\"BRD : \"+str(ut[0,0,2,1])+\" -> mean \"+str(np.mean(ut[0,0,2,1])))"
   ]
  },
  {
   "cell_type": "markdown",
   "metadata": {},
   "source": [
    "### Regret Matching"
   ]
  },
  {
   "cell_type": "code",
   "execution_count": 40,
   "metadata": {},
   "outputs": [],
   "source": [
    "def computeR(R, u, k, tasks, alloc, v): # not used\n",
    "    \"\"\" Update the average regret table of vehicle v for not proposing each task\n",
    "    \n",
    "    Parameters:\n",
    "        R : np.array(float) the regret table for each action at each step k (size: steps*tasks)\n",
    "        u : the utility matrix\n",
    "        k : int, the current time step\n",
    "        tasks : List(int), the list of tasks id\n",
    "        alloc : List(int), the current allocation\n",
    "        v : int, the vehicle\n",
    "    \n",
    "    \"\"\"\n",
    "    if k == 0:\n",
    "        return\n",
    "    for t in tasks :\n",
    "        loss = u[tuple(replaceAlloc(alloc, v, t))][v] - u[alloc][v]\n",
    "        R[k+1,t] = ((k-1)/k)*R[k,t] + (1/k) * loss\n",
    "\n",
    "def getNextR(lastR, u, k, tasks, alloc, v):\n",
    "    \"\"\" Compute the average regret vector of vehicle v for not proposing each task, based on last regret vector\n",
    "    \n",
    "    Parameters:\n",
    "        lastR : np.array(float) the regret vactor for each task at last step k-1\n",
    "        u : the utility matrix\n",
    "        k : int, the current time step\n",
    "        tasks : List(int), the list of tasks id\n",
    "        alloc : List(int), the current allocation\n",
    "        v : int, the vehicle\n",
    "    Return:\n",
    "        np.array(float) the regret vactor for each action at current step k\n",
    "    \"\"\"\n",
    "    if k == 0:\n",
    "        return np.zeros(len(tasks))\n",
    "    else :\n",
    "        return np.array([((k-1)/k)*lastR[t] + (1/k) * (u[tuple(replaceAlloc(alloc, v, t))][v] - u[alloc][v]) for t in tasks])\n",
    "        "
   ]
  },
  {
   "cell_type": "code",
   "execution_count": 41,
   "metadata": {},
   "outputs": [],
   "source": [
    "# computing regret during random play using a regret table\n",
    "v=0\n",
    "total_steps = 10\n",
    "R = np.zeros((total_steps, len(tasks)))\n",
    "for i in range(9) : # computing regret during random play\n",
    "    computeR(R, ut, i, tasks, tuple(np.random.randint(0,len(tasks),len(vehicles))),v)"
   ]
  },
  {
   "cell_type": "code",
   "execution_count": 42,
   "metadata": {},
   "outputs": [
    {
     "data": {
      "text/plain": [
       "array([[ 0.        ,  0.        ,  0.        ],\n",
       "       [ 0.        ,  0.        ,  0.        ],\n",
       "       [-4.        , -7.        ,  0.        ],\n",
       "       [-4.5       , -6.5       ,  0.        ],\n",
       "       [-0.33333333, -4.33333333,  0.        ],\n",
       "       [-0.25      , -4.5       ,  0.25      ],\n",
       "       [-0.2       , -3.6       , -0.2       ],\n",
       "       [-0.16666667, -3.        ,  0.5       ],\n",
       "       [ 0.14285714, -2.28571429,  0.42857143],\n",
       "       [ 0.125     , -2.625     ,  0.5       ]])"
      ]
     },
     "execution_count": 42,
     "metadata": {},
     "output_type": "execute_result"
    }
   ],
   "source": [
    "R # regret at each step k"
   ]
  },
  {
   "cell_type": "code",
   "execution_count": 43,
   "metadata": {},
   "outputs": [
    {
     "name": "stdout",
     "output_type": "stream",
     "text": [
      "[0. 0. 0.]\n",
      "[ 2.  0. -5.]\n",
      "[ 2.  0. -1.]\n",
      "[ 1.33333333 -2.66666667 -3.33333333]\n",
      "[ 1.25 -2.   -4.25]\n",
      "[ 1.  -2.  -3.2]\n",
      "[ 1.16666667 -1.66666667 -3.33333333]\n",
      "[ 1.42857143 -1.42857143 -3.        ]\n",
      "[ 1.5   -1.25  -2.625]\n"
     ]
    }
   ],
   "source": [
    "# computing it during random play with last regret only (no regret table)\n",
    "v=0\n",
    "lastR = np.zeros(len(tasks)) \n",
    "for k in range(9) : # computing regret during random play\n",
    "    lastR = getNextR(lastR, ut, k, tasks, tuple(np.random.randint(0,len(tasks),len(vehicles))),v)\n",
    "    print(lastR)"
   ]
  },
  {
   "cell_type": "code",
   "execution_count": 44,
   "metadata": {},
   "outputs": [],
   "source": [
    "def probaFromRegret(R):\n",
    "    \"\"\" Compute the probability to propose each task depending on the regret vector\n",
    "    \n",
    "    Parameters:\n",
    "        R : np.array(float) the regret vector for each action at current step k     \n",
    "    Return:\n",
    "        np.array(float) the probability vector for each action at current step k\n",
    "    \n",
    "    \"\"\"\n",
    "    Rn = np.array(R)\n",
    "    positive_reg = np.where(Rn > 0, Rn, 0)\n",
    "    if np.sum(positive_reg) == 0:\n",
    "        proba = np.ones(len(R))/len(R)\n",
    "    else :\n",
    "        proba = positive_reg/np.sum(positive_reg)\n",
    "    return proba"
   ]
  },
  {
   "cell_type": "code",
   "execution_count": 45,
   "metadata": {},
   "outputs": [
    {
     "name": "stdout",
     "output_type": "stream",
     "text": [
      "regret vector for v : [ 1.5   -1.25  -2.625]\n",
      "proba : \n",
      "[1. 0. 0.]\n",
      "proba when all regrets <=0 : \n",
      "[0.33333333 0.33333333 0.33333333]\n"
     ]
    }
   ],
   "source": [
    "print(\"regret vector for v : \"+str(lastR))\n",
    "print(\"proba : \")\n",
    "print(probaFromRegret(lastR)) # getting proba based on lastR regret vector\n",
    "print(\"proba when all regrets <=0 : \")\n",
    "print(probaFromRegret([0,0,0])) # if all <=0 : same proba for all"
   ]
  },
  {
   "cell_type": "code",
   "execution_count": 46,
   "metadata": {},
   "outputs": [],
   "source": [
    "def RegretMatching(utilities, vehicles, tasks, maxsteps):\n",
    "    \"\"\" Play Regret Matching until maxsteps\n",
    "    \n",
    "    Parameters :\n",
    "        utilities : Matrix(int) the utility matrix of dimension nb_tasks^nb_vehicles * nb_vehicles\n",
    "        vehicles : List(int), the list of vehicle ids\n",
    "        tasks : List(int) the list of task ids\n",
    "        maxteps : int, the steps limit of the algorithm\n",
    "        \n",
    "    Returns : \n",
    "        List(int), the found allocation after maxsteps steps (no optimality guarantee)\n",
    "        \n",
    "    \"\"\"\n",
    "    k = 0\n",
    "    lastR = np.zeros((len(vehicles), len(tasks)))\n",
    "    cur_alloc = np.random.randint(0,len(tasks), len(vehicles))\n",
    "    next_alloc = np.random.randint(0,len(tasks), len(vehicles))\n",
    "    while k < maxsteps:\n",
    "        for v in vehicles:\n",
    "            lastRv = lastR[v]\n",
    "            nextRv = getNextR(lastRv, ut, k, tasks, tuple(cur_alloc), v)\n",
    "            proba = probaFromRegret(nextRv)\n",
    "            task = np.random.choice(tasks, p=proba)\n",
    "            next_alloc[v] = task\n",
    "            lastR[v] = nextRv # update the regret of v\n",
    "        #print(next_alloc)\n",
    "        cur_alloc = next_alloc # update the allocation\n",
    "        k += 1\n",
    "    return list(cur_alloc)"
   ]
  },
  {
   "cell_type": "code",
   "execution_count": 47,
   "metadata": {},
   "outputs": [],
   "source": [
    "# some runs of the 3 methods on the same ut matrix :"
   ]
  },
  {
   "cell_type": "code",
   "execution_count": 48,
   "metadata": {},
   "outputs": [
    {
     "data": {
      "text/plain": [
       "[2, 1, 1, 1]"
      ]
     },
     "execution_count": 48,
     "metadata": {},
     "output_type": "execute_result"
    }
   ],
   "source": [
    "RegretMatching(ut, vehicles, tasks, 1000) "
   ]
  },
  {
   "cell_type": "code",
   "execution_count": 49,
   "metadata": {},
   "outputs": [
    {
     "data": {
      "text/plain": [
       "[2, 1, 1, 1]"
      ]
     },
     "execution_count": 49,
     "metadata": {},
     "output_type": "execute_result"
    }
   ],
   "source": [
    "RegretMatching(ut, vehicles, tasks, 1000)"
   ]
  },
  {
   "cell_type": "code",
   "execution_count": 50,
   "metadata": {},
   "outputs": [
    {
     "data": {
      "text/plain": [
       "[2, 1, 1, 1]"
      ]
     },
     "execution_count": 50,
     "metadata": {},
     "output_type": "execute_result"
    }
   ],
   "source": [
    "RegretMatching(ut, vehicles, tasks, 1000)"
   ]
  },
  {
   "cell_type": "code",
   "execution_count": 51,
   "metadata": {},
   "outputs": [
    {
     "data": {
      "text/plain": [
       "[2, 1, 1, 1]"
      ]
     },
     "execution_count": 51,
     "metadata": {},
     "output_type": "execute_result"
    }
   ],
   "source": [
    "fictitiousPlay(ut, vehicles, tasks, 1000)"
   ]
  },
  {
   "cell_type": "code",
   "execution_count": 52,
   "metadata": {},
   "outputs": [
    {
     "data": {
      "text/plain": [
       "[2, 1, 1, 1]"
      ]
     },
     "execution_count": 52,
     "metadata": {},
     "output_type": "execute_result"
    }
   ],
   "source": [
    "fictitiousPlay(ut, vehicles, tasks, 1000)"
   ]
  },
  {
   "cell_type": "code",
   "execution_count": 53,
   "metadata": {},
   "outputs": [
    {
     "data": {
      "text/plain": [
       "[2, 1, 1, 1]"
      ]
     },
     "execution_count": 53,
     "metadata": {},
     "output_type": "execute_result"
    }
   ],
   "source": [
    "fictitiousPlay(ut, vehicles, tasks, 1000)"
   ]
  },
  {
   "cell_type": "code",
   "execution_count": 54,
   "metadata": {},
   "outputs": [
    {
     "name": "stdout",
     "output_type": "stream",
     "text": [
      "Execution stopped : maximum step overflowed, no EN found.\n"
     ]
    },
    {
     "data": {
      "text/plain": [
       "[0, 1, 1, 1]"
      ]
     },
     "execution_count": 54,
     "metadata": {},
     "output_type": "execute_result"
    }
   ],
   "source": [
    "bestResponseDynamic(ut, vehicles, tasks, 1000)"
   ]
  },
  {
   "cell_type": "code",
   "execution_count": 55,
   "metadata": {},
   "outputs": [
    {
     "name": "stdout",
     "output_type": "stream",
     "text": [
      "Execution stopped : maximum step overflowed, no EN found.\n"
     ]
    },
    {
     "data": {
      "text/plain": [
       "[0, 1, 2, 2]"
      ]
     },
     "execution_count": 55,
     "metadata": {},
     "output_type": "execute_result"
    }
   ],
   "source": [
    "bestResponseDynamic(ut, vehicles, tasks, 1000)"
   ]
  },
  {
   "cell_type": "code",
   "execution_count": 56,
   "metadata": {
    "scrolled": true
   },
   "outputs": [
    {
     "name": "stdout",
     "output_type": "stream",
     "text": [
      "Execution stopped : maximum step overflowed, no EN found.\n"
     ]
    },
    {
     "data": {
      "text/plain": [
       "[0, 0, 1, 1]"
      ]
     },
     "execution_count": 56,
     "metadata": {},
     "output_type": "execute_result"
    }
   ],
   "source": [
    "bestResponseDynamic(ut, vehicles, tasks, 1000)"
   ]
  },
  {
   "cell_type": "markdown",
   "metadata": {},
   "source": [
    "### Spatial Adaptative Play"
   ]
  },
  {
   "cell_type": "code",
   "execution_count": 57,
   "metadata": {},
   "outputs": [],
   "source": [
    "allocation = [0, 1, 1, 2]"
   ]
  },
  {
   "cell_type": "code",
   "execution_count": 58,
   "metadata": {},
   "outputs": [
    {
     "data": {
      "text/plain": [
       "[0, 2, 1, 2]"
      ]
     },
     "execution_count": 58,
     "metadata": {},
     "output_type": "execute_result"
    }
   ],
   "source": [
    "replaceAlloc(allocation, 1, 2)"
   ]
  },
  {
   "cell_type": "code",
   "execution_count": 59,
   "metadata": {},
   "outputs": [],
   "source": [
    "def softmax(x):\n",
    "    return np.exp(x) / np.sum(np.exp(x), axis=0)"
   ]
  },
  {
   "cell_type": "code",
   "execution_count": 60,
   "metadata": {},
   "outputs": [],
   "source": [
    "def computeSAPproba(utilities, alloc, vehicle, tasks, ro = 0.1):\n",
    "    Uv = np.array([utilities[tuple(replaceAlloc(alloc, vehicle, t))][vehicle] for t in tasks])\n",
    "    #print(\"utilities for each task : \"+str(Uv))\n",
    "    proba = softmax(Uv/ro) # use softmax or logit function\n",
    "    return proba"
   ]
  },
  {
   "cell_type": "code",
   "execution_count": 61,
   "metadata": {},
   "outputs": [
    {
     "data": {
      "text/plain": [
       "array([1.00000000e+00, 9.35762297e-14, 8.75651076e-27])"
      ]
     },
     "execution_count": 61,
     "metadata": {},
     "output_type": "execute_result"
    }
   ],
   "source": [
    "computeSAPproba(ut, allocation, 1, tasks, ro = 0.1) # very small ro value : probas are very unbalanced (no random)"
   ]
  },
  {
   "cell_type": "code",
   "execution_count": 62,
   "metadata": {},
   "outputs": [
    {
     "data": {
      "text/plain": [
       "array([0.95033021, 0.04731416, 0.00235563])"
      ]
     },
     "execution_count": 62,
     "metadata": {},
     "output_type": "execute_result"
    }
   ],
   "source": [
    "computeSAPproba(ut, allocation, 1, tasks, ro = 1) # small ro value : probas are unbalanced (very small random)"
   ]
  },
  {
   "cell_type": "code",
   "execution_count": 63,
   "metadata": {},
   "outputs": [
    {
     "data": {
      "text/plain": [
       "array([0.33433383, 0.33333233, 0.33233383])"
      ]
     },
     "execution_count": 63,
     "metadata": {},
     "output_type": "execute_result"
    }
   ],
   "source": [
    "computeSAPproba(ut, allocation, 1, tasks, ro = 1000) # very high ro value : probas are ~ uniform (a lot of random)"
   ]
  },
  {
   "cell_type": "code",
   "execution_count": 64,
   "metadata": {},
   "outputs": [],
   "source": [
    "def SpatialAdaptativePlay(utilities, vehicles, tasks, maxsteps, ro):\n",
    "    k = 0\n",
    "    cur_alloc = np.random.randint(0,len(tasks), len(vehicles))\n",
    "    while k < maxsteps:\n",
    "        v = np.random.choice(vehicles) # select uniformly the vehicle which is given the chance to update its task\n",
    "        proba = computeSAPproba(ut, cur_alloc, v, tasks, ro = 1) # compute proba to propose each task\n",
    "        t = np.random.choice(tasks, p=proba) # choose the task to propose\n",
    "        cur_alloc = replaceAlloc(cur_alloc, v, t) # update the allocation\n",
    "        k += 1\n",
    "    return list(cur_alloc)"
   ]
  },
  {
   "cell_type": "code",
   "execution_count": 65,
   "metadata": {},
   "outputs": [
    {
     "data": {
      "text/plain": [
       "[2, 1, 2, 1]"
      ]
     },
     "execution_count": 65,
     "metadata": {},
     "output_type": "execute_result"
    }
   ],
   "source": [
    "# spatial adaptative play\n",
    "SpatialAdaptativePlay(ut, vehicles, tasks, 1000, ro=1)"
   ]
  },
  {
   "cell_type": "markdown",
   "metadata": {},
   "source": [
    "### Comparing the different negociation methods :"
   ]
  },
  {
   "cell_type": "code",
   "execution_count": 66,
   "metadata": {
    "scrolled": true
   },
   "outputs": [
    {
     "name": "stdout",
     "output_type": "stream",
     "text": [
      "DMR : (0, 2, 0, 0)\n",
      "FP : (0, 1, 2, 1)\n",
      "RM : (0, 1, 2, 1)\n",
      "SAP : (0, 2, 0, 0)\n",
      "DMR : (0, 2, 0, 0)\n",
      "FP : (0, 1, 2, 1)\n",
      "RM : (0, 1, 2, 1)\n",
      "SAP : (1, 0, 2, 2)\n",
      "DMR : (0, 1, 2, 1)\n",
      "FP : (0, 1, 2, 1)\n",
      "RM : (0, 1, 2, 1)\n",
      "SAP : (2, 2, 2, 2)\n",
      "DMR : (2, 2, 1, 1)\n",
      "FP : (0, 1, 2, 1)\n",
      "RM : (0, 1, 0, 1)\n",
      "SAP : (2, 1, 1, 1)\n",
      "DMR : (0, 2, 0, 0)\n",
      "FP : (0, 1, 2, 1)\n",
      "RM : (0, 1, 2, 1)\n",
      "SAP : (1, 2, 2, 1)\n",
      "DMR : (2, 2, 1, 1)\n",
      "FP : (0, 1, 2, 1)\n",
      "RM : (0, 1, 2, 1)\n",
      "SAP : (0, 1, 2, 1)\n",
      "DMR : (1, 0, 2, 0)\n",
      "FP : (0, 1, 2, 1)\n",
      "RM : (0, 1, 2, 1)\n",
      "SAP : (2, 0, 2, 2)\n",
      "DMR : (0, 1, 2, 1)\n",
      "FP : (0, 1, 2, 1)\n",
      "RM : (0, 1, 2, 1)\n",
      "SAP : (2, 1, 2, 1)\n",
      "DMR : (2, 2, 1, 1)\n",
      "FP : (0, 1, 2, 1)\n",
      "RM : (2, 1, 1, 2)\n",
      "SAP : (2, 2, 1, 1)\n",
      "DMR : (0, 1, 2, 1)\n",
      "FP : (0, 1, 2, 1)\n",
      "RM : (2, 0, 1, 0)\n",
      "SAP : (1, 1, 2, 0)\n",
      "DMR : (1, 0, 2, 2)\n",
      "FP : (1, 0, 2, 2)\n",
      "RM : (1, 0, 2, 2)\n",
      "SAP : (1, 0, 0, 2)\n",
      "DMR : (1, 0, 2, 2)\n",
      "FP : (1, 0, 2, 2)\n",
      "RM : (1, 0, 2, 2)\n",
      "SAP : (1, 1, 0, 2)\n",
      "DMR : (1, 0, 2, 2)\n",
      "FP : (1, 0, 2, 2)\n",
      "RM : (0, 2, 1, 0)\n",
      "SAP : (1, 0, 2, 2)\n",
      "DMR : (1, 0, 2, 2)\n",
      "FP : (1, 0, 2, 2)\n",
      "RM : (1, 0, 2, 0)\n",
      "SAP : (1, 2, 1, 2)\n",
      "DMR : (0, 0, 2, 1)\n",
      "FP : (1, 0, 2, 2)\n",
      "RM : (1, 0, 2, 2)\n",
      "SAP : (2, 1, 2, 2)\n",
      "DMR : (0, 0, 2, 1)\n",
      "FP : (1, 0, 2, 2)\n",
      "RM : (1, 0, 2, 2)\n",
      "SAP : (2, 0, 0, 2)\n",
      "DMR : (1, 0, 2, 2)\n",
      "FP : (1, 0, 2, 2)\n",
      "RM : (1, 2, 0, 1)\n",
      "SAP : (2, 2, 0, 2)\n",
      "DMR : (1, 0, 2, 2)\n",
      "FP : (1, 0, 2, 2)\n",
      "RM : (1, 0, 2, 2)\n",
      "SAP : (1, 1, 1, 0)\n",
      "DMR : (1, 0, 2, 2)\n",
      "FP : (1, 0, 2, 2)\n",
      "RM : (1, 0, 2, 2)\n",
      "SAP : (1, 0, 2, 0)\n",
      "Execution stopped : maximum step overflowed, no EN found.\n",
      "DMR : (0, 1, 0, 1)\n",
      "FP : (1, 0, 2, 2)\n",
      "RM : (1, 0, 2, 2)\n",
      "SAP : (1, 1, 0, 1)\n",
      "Execution stopped : maximum step overflowed, no EN found.\n",
      "DMR : (0, 1, 1, 2)\n",
      "FP : (1, 0, 2, 0)\n",
      "RM : (1, 2, 2, 0)\n",
      "SAP : (1, 2, 2, 0)\n",
      "Execution stopped : maximum step overflowed, no EN found.\n",
      "DMR : (0, 0, 1, 2)\n",
      "FP : (1, 0, 2, 0)\n",
      "RM : (1, 1, 0, 0)\n",
      "SAP : (1, 0, 2, 0)\n",
      "Execution stopped : maximum step overflowed, no EN found.\n",
      "DMR : (1, 0, 1, 1)\n",
      "FP : (1, 0, 2, 0)\n",
      "RM : (1, 1, 0, 0)\n",
      "SAP : (1, 0, 1, 1)\n",
      "Execution stopped : maximum step overflowed, no EN found.\n",
      "DMR : (1, 0, 1, 1)\n",
      "FP : (1, 0, 2, 0)\n",
      "RM : (1, 0, 2, 0)\n",
      "SAP : (1, 1, 0, 2)\n",
      "DMR : (2, 2, 2, 2)\n",
      "FP : (1, 0, 2, 0)\n",
      "RM : (0, 2, 2, 1)\n",
      "SAP : (2, 2, 2, 2)\n",
      "Execution stopped : maximum step overflowed, no EN found.\n",
      "DMR : (2, 2, 1, 1)\n",
      "FP : (1, 0, 2, 0)\n",
      "RM : (1, 0, 2, 0)\n",
      "SAP : (2, 2, 0, 1)\n",
      "Execution stopped : maximum step overflowed, no EN found.\n",
      "DMR : (2, 1, 1, 2)\n",
      "FP : (1, 0, 2, 0)\n",
      "RM : (1, 1, 0, 0)\n",
      "SAP : (2, 2, 2, 2)\n",
      "DMR : (1, 1, 0, 0)\n",
      "FP : (1, 0, 2, 0)\n",
      "RM : (2, 2, 2, 2)\n",
      "SAP : (0, 2, 0, 1)\n",
      "DMR : (2, 2, 2, 2)\n",
      "FP : (1, 0, 2, 0)\n",
      "RM : (1, 0, 2, 0)\n",
      "SAP : (1, 0, 2, 0)\n",
      "Execution stopped : maximum step overflowed, no EN found.\n",
      "DMR : (1, 0, 0, 1)\n",
      "FP : (1, 0, 2, 0)\n",
      "RM : (1, 0, 2, 0)\n",
      "SAP : (1, 0, 2, 0)\n",
      "Execution stopped : maximum step overflowed, no EN found.\n",
      "DMR : (2, 1, 1, 0)\n",
      "FP : (2, 2, 1, 2)\n",
      "RM : (2, 1, 0, 1)\n",
      "SAP : (0, 1, 0, 0)\n",
      "DMR : (0, 0, 1, 1)\n",
      "FP : (2, 2, 1, 2)\n",
      "RM : (2, 2, 1, 1)\n",
      "SAP : (2, 0, 0, 2)\n",
      "Execution stopped : maximum step overflowed, no EN found.\n",
      "DMR : (0, 2, 1, 0)\n",
      "FP : (2, 2, 1, 2)\n",
      "RM : (2, 2, 1, 2)\n",
      "SAP : (2, 1, 1, 0)\n",
      "DMR : (0, 0, 1, 1)\n",
      "FP : (2, 2, 1, 2)\n",
      "RM : (2, 2, 1, 2)\n",
      "SAP : (0, 0, 1, 1)\n",
      "Execution stopped : maximum step overflowed, no EN found.\n",
      "DMR : (0, 1, 1, 0)\n",
      "FP : (2, 2, 1, 2)\n",
      "RM : (2, 1, 1, 0)\n",
      "SAP : (2, 2, 1, 1)\n",
      "Execution stopped : maximum step overflowed, no EN found.\n",
      "DMR : (0, 2, 1, 0)\n",
      "FP : (2, 2, 1, 2)\n",
      "RM : (0, 0, 1, 1)\n",
      "SAP : (2, 2, 1, 0)\n",
      "Execution stopped : maximum step overflowed, no EN found.\n",
      "DMR : (2, 2, 1, 0)\n",
      "FP : (2, 2, 1, 2)\n",
      "RM : (2, 2, 1, 2)\n",
      "SAP : (0, 1, 0, 0)\n",
      "Execution stopped : maximum step overflowed, no EN found.\n",
      "DMR : (0, 2, 1, 0)\n",
      "FP : (2, 2, 1, 2)\n",
      "RM : (2, 2, 1, 1)\n",
      "SAP : (1, 1, 2, 1)\n",
      "Execution stopped : maximum step overflowed, no EN found.\n",
      "DMR : (2, 2, 1, 0)\n",
      "FP : (2, 2, 1, 2)\n",
      "RM : (1, 1, 1, 0)\n",
      "SAP : (1, 1, 1, 0)\n",
      "Execution stopped : maximum step overflowed, no EN found.\n",
      "DMR : (2, 1, 1, 0)\n",
      "FP : (2, 2, 1, 2)\n",
      "RM : (2, 2, 1, 0)\n",
      "SAP : (2, 2, 1, 1)\n",
      "Execution stopped : maximum step overflowed, no EN found.\n",
      "DMR : (1, 0, 1, 0)\n",
      "FP : (0, 1, 2, 0)\n",
      "RM : (0, 1, 2, 0)\n",
      "SAP : (2, 2, 2, 2)\n",
      "DMR : (0, 1, 2, 0)\n",
      "FP : (0, 1, 2, 0)\n",
      "RM : (1, 0, 0, 0)\n",
      "SAP : (0, 1, 2, 1)\n",
      "DMR : (2, 1, 2, 1)\n",
      "FP : (0, 1, 2, 0)\n",
      "RM : (0, 1, 2, 0)\n",
      "SAP : (0, 1, 2, 0)\n",
      "DMR : (2, 1, 2, 1)\n",
      "FP : (0, 1, 2, 0)\n",
      "RM : (0, 1, 2, 0)\n",
      "SAP : (1, 1, 0, 0)\n",
      "DMR : (0, 1, 2, 0)\n",
      "FP : (0, 1, 2, 0)\n",
      "RM : (0, 1, 2, 0)\n",
      "SAP : (1, 2, 2, 0)\n",
      "DMR : (0, 1, 2, 0)\n",
      "FP : (0, 1, 2, 0)\n",
      "RM : (0, 1, 2, 0)\n",
      "SAP : (2, 0, 1, 2)\n",
      "Execution stopped : maximum step overflowed, no EN found.\n",
      "DMR : (0, 0, 1, 0)\n",
      "FP : (0, 1, 2, 0)\n",
      "RM : (0, 1, 2, 0)\n",
      "SAP : (2, 1, 1, 2)\n",
      "DMR : (0, 1, 2, 0)\n",
      "FP : (0, 1, 2, 0)\n",
      "RM : (0, 1, 2, 0)\n",
      "SAP : (1, 2, 2, 1)\n",
      "DMR : (0, 1, 2, 0)\n",
      "FP : (0, 1, 2, 0)\n",
      "RM : (0, 1, 2, 0)\n",
      "SAP : (0, 2, 0, 1)\n",
      "DMR : (0, 1, 2, 0)\n",
      "FP : (0, 1, 2, 0)\n",
      "RM : (0, 1, 2, 0)\n",
      "SAP : (2, 0, 1, 0)\n",
      "Execution stopped : maximum step overflowed, no EN found.\n",
      "DMR : (1, 2, 2, 0)\n",
      "FP : (0, 1, 2, 1)\n",
      "RM : (0, 1, 2, 1)\n",
      "SAP : (1, 1, 0, 2)\n",
      "Execution stopped : maximum step overflowed, no EN found.\n",
      "DMR : (2, 1, 2, 1)\n",
      "FP : (0, 1, 2, 1)\n",
      "RM : (0, 1, 2, 1)\n",
      "SAP : (0, 2, 2, 2)\n",
      "Execution stopped : maximum step overflowed, no EN found.\n",
      "DMR : (0, 0, 2, 0)\n",
      "FP : (0, 1, 2, 1)\n",
      "RM : (0, 1, 2, 1)\n",
      "SAP : (0, 1, 2, 0)\n",
      "Execution stopped : maximum step overflowed, no EN found.\n",
      "DMR : (0, 0, 0, 0)\n",
      "FP : (0, 1, 2, 1)\n",
      "RM : (0, 1, 2, 1)\n",
      "SAP : (1, 0, 0, 0)\n",
      "Execution stopped : maximum step overflowed, no EN found.\n",
      "DMR : (0, 0, 2, 1)\n",
      "FP : (0, 1, 2, 1)\n",
      "RM : (2, 2, 1, 1)\n",
      "SAP : (0, 0, 0, 2)\n",
      "Execution stopped : maximum step overflowed, no EN found.\n",
      "DMR : (0, 1, 2, 1)\n",
      "FP : (0, 1, 2, 1)\n",
      "RM : (1, 2, 1, 1)\n",
      "SAP : (1, 1, 0, 2)\n",
      "Execution stopped : maximum step overflowed, no EN found.\n",
      "DMR : (0, 0, 2, 1)\n",
      "FP : (0, 1, 2, 1)\n",
      "RM : (0, 1, 2, 2)\n",
      "SAP : (2, 2, 1, 1)\n",
      "Execution stopped : maximum step overflowed, no EN found.\n",
      "DMR : (1, 1, 1, 2)\n",
      "FP : (0, 1, 2, 1)\n",
      "RM : (1, 0, 1, 2)\n",
      "SAP : (0, 1, 2, 1)\n",
      "Execution stopped : maximum step overflowed, no EN found.\n",
      "DMR : (1, 2, 2, 0)\n",
      "FP : (0, 1, 2, 1)\n",
      "RM : (0, 1, 2, 1)\n",
      "SAP : (1, 1, 0, 2)\n",
      "Execution stopped : maximum step overflowed, no EN found.\n",
      "DMR : (0, 2, 2, 0)\n",
      "FP : (0, 1, 2, 1)\n",
      "RM : (0, 1, 2, 1)\n",
      "SAP : (0, 2, 2, 1)\n",
      "Execution stopped : maximum step overflowed, no EN found.\n",
      "DMR : (2, 1, 1, 0)\n",
      "FP : (1, 1, 0, 2)\n",
      "RM : (1, 0, 0, 2)\n",
      "SAP : (0, 2, 0, 1)\n",
      "Execution stopped : maximum step overflowed, no EN found.\n",
      "DMR : (1, 2, 1, 0)\n",
      "FP : (1, 1, 0, 2)\n",
      "RM : (0, 2, 0, 1)\n",
      "SAP : (2, 2, 0, 1)\n",
      "Execution stopped : maximum step overflowed, no EN found.\n",
      "DMR : (2, 2, 1, 1)\n",
      "FP : (1, 1, 0, 2)\n",
      "RM : (1, 0, 0, 2)\n",
      "SAP : (0, 1, 2, 1)\n",
      "Execution stopped : maximum step overflowed, no EN found.\n",
      "DMR : (1, 2, 1, 0)\n",
      "FP : (1, 1, 0, 2)\n",
      "RM : (1, 0, 0, 2)\n",
      "SAP : (1, 0, 2, 0)\n",
      "Execution stopped : maximum step overflowed, no EN found.\n",
      "DMR : (1, 2, 1, 0)\n",
      "FP : (1, 1, 0, 2)\n",
      "RM : (2, 2, 1, 1)\n",
      "SAP : (0, 2, 2, 2)\n",
      "Execution stopped : maximum step overflowed, no EN found.\n",
      "DMR : (2, 2, 0, 1)\n",
      "FP : (1, 1, 0, 2)\n",
      "RM : (2, 2, 1, 1)\n",
      "SAP : (2, 1, 0, 2)\n",
      "Execution stopped : maximum step overflowed, no EN found.\n",
      "DMR : (2, 2, 1, 1)\n",
      "FP : (1, 1, 0, 2)\n",
      "RM : (1, 0, 0, 2)\n",
      "SAP : (1, 0, 0, 1)\n",
      "Execution stopped : maximum step overflowed, no EN found.\n",
      "DMR : (0, 2, 0, 1)\n",
      "FP : (1, 1, 0, 2)\n",
      "RM : (1, 0, 0, 2)\n",
      "SAP : (0, 0, 2, 2)\n",
      "Execution stopped : maximum step overflowed, no EN found.\n",
      "DMR : (1, 2, 1, 0)\n",
      "FP : (1, 1, 0, 2)\n",
      "RM : (1, 0, 0, 2)\n",
      "SAP : (0, 2, 0, 2)\n",
      "DMR : (0, 1, 2, 0)\n",
      "FP : (1, 1, 0, 2)\n",
      "RM : (0, 2, 1, 1)\n",
      "SAP : (1, 0, 2, 1)\n",
      "DMR : (2, 2, 2, 0)\n",
      "FP : (2, 2, 2, 0)\n",
      "RM : (2, 2, 2, 0)\n",
      "SAP : (2, 2, 2, 0)\n",
      "DMR : (2, 2, 2, 0)\n",
      "FP : (2, 2, 2, 0)\n",
      "RM : (2, 2, 2, 0)\n",
      "SAP : (2, 2, 2, 0)\n",
      "DMR : (2, 2, 2, 0)\n",
      "FP : (2, 2, 2, 0)\n",
      "RM : (2, 2, 2, 0)\n",
      "SAP : (2, 1, 1, 2)\n",
      "DMR : (2, 2, 2, 0)\n",
      "FP : (2, 2, 2, 0)\n",
      "RM : (2, 1, 1, 2)\n",
      "SAP : (2, 2, 2, 1)\n",
      "DMR : (2, 2, 2, 0)\n",
      "FP : (2, 2, 2, 0)\n",
      "RM : (2, 2, 2, 0)\n",
      "SAP : (2, 1, 1, 2)\n",
      "DMR : (2, 2, 2, 0)\n",
      "FP : (2, 2, 2, 0)\n",
      "RM : (2, 2, 2, 0)\n",
      "SAP : (2, 2, 2, 1)\n",
      "DMR : (2, 2, 2, 0)\n",
      "FP : (2, 2, 2, 0)\n",
      "RM : (2, 2, 2, 0)\n",
      "SAP : (2, 2, 0, 1)\n",
      "DMR : (2, 2, 2, 0)\n",
      "FP : (2, 2, 2, 0)\n",
      "RM : (2, 2, 2, 0)\n",
      "SAP : (2, 2, 1, 0)\n",
      "DMR : (2, 2, 2, 0)\n",
      "FP : (2, 2, 2, 0)\n",
      "RM : (2, 2, 2, 0)\n",
      "SAP : (0, 1, 0, 0)\n",
      "DMR : (2, 2, 2, 0)\n",
      "FP : (2, 2, 2, 0)\n",
      "RM : (2, 2, 2, 0)\n",
      "SAP : (2, 0, 2, 2)\n",
      "Execution stopped : maximum step overflowed, no EN found.\n",
      "DMR : (0, 0, 2, 2)\n",
      "FP : (0, 1, 1, 0)\n",
      "RM : (1, 2, 2, 1)\n",
      "SAP : (1, 2, 2, 1)\n",
      "DMR : (0, 1, 1, 0)\n"
     ]
    },
    {
     "name": "stdout",
     "output_type": "stream",
     "text": [
      "FP : (0, 1, 1, 0)\n",
      "RM : (1, 2, 2, 1)\n",
      "SAP : (1, 2, 2, 1)\n",
      "DMR : (0, 1, 1, 0)\n",
      "FP : (0, 1, 1, 0)\n",
      "RM : (1, 2, 2, 1)\n",
      "SAP : (0, 1, 1, 0)\n",
      "Execution stopped : maximum step overflowed, no EN found.\n",
      "DMR : (2, 0, 2, 2)\n",
      "FP : (0, 1, 1, 0)\n",
      "RM : (1, 2, 2, 1)\n",
      "SAP : (2, 2, 0, 0)\n",
      "DMR : (1, 2, 2, 1)\n",
      "FP : (0, 1, 1, 0)\n",
      "RM : (1, 2, 2, 1)\n",
      "SAP : (2, 0, 2, 2)\n",
      "DMR : (0, 1, 1, 0)\n",
      "FP : (0, 1, 1, 0)\n",
      "RM : (1, 2, 2, 1)\n",
      "SAP : (0, 0, 1, 0)\n",
      "DMR : (1, 2, 2, 1)\n",
      "FP : (0, 1, 1, 0)\n",
      "RM : (1, 2, 2, 1)\n",
      "SAP : (1, 2, 2, 1)\n",
      "DMR : (1, 2, 2, 1)\n",
      "FP : (0, 1, 1, 0)\n",
      "RM : (0, 1, 1, 0)\n",
      "SAP : (0, 1, 1, 0)\n",
      "DMR : (0, 1, 1, 0)\n",
      "FP : (0, 1, 1, 0)\n",
      "RM : (0, 1, 1, 0)\n",
      "SAP : (0, 2, 1, 2)\n",
      "DMR : (0, 1, 1, 0)\n",
      "FP : (0, 1, 1, 0)\n",
      "RM : (1, 2, 2, 1)\n",
      "SAP : (1, 2, 2, 0)\n",
      "DMR : (0, 1, 0, 0)\n",
      "FP : (1, 0, 2, 0)\n",
      "RM : (1, 0, 2, 0)\n",
      "SAP : (2, 1, 0, 0)\n",
      "DMR : (1, 0, 1, 1)\n",
      "FP : (1, 0, 2, 0)\n",
      "RM : (1, 0, 2, 0)\n",
      "SAP : (1, 0, 1, 1)\n",
      "DMR : (1, 0, 2, 0)\n",
      "FP : (1, 0, 2, 0)\n",
      "RM : (1, 0, 2, 0)\n",
      "SAP : (0, 2, 2, 0)\n",
      "Execution stopped : maximum step overflowed, no EN found.\n",
      "DMR : (1, 2, 0, 1)\n",
      "FP : (1, 0, 2, 0)\n",
      "RM : (1, 0, 1, 1)\n",
      "SAP : (0, 0, 2, 0)\n",
      "DMR : (0, 1, 0, 0)\n",
      "FP : (1, 0, 2, 0)\n",
      "RM : (1, 0, 2, 0)\n",
      "SAP : (2, 1, 1, 0)\n",
      "DMR : (0, 1, 0, 0)\n",
      "FP : (1, 0, 2, 0)\n",
      "RM : (1, 0, 2, 0)\n",
      "SAP : (0, 0, 1, 0)\n",
      "DMR : (0, 1, 0, 0)\n",
      "FP : (1, 0, 2, 0)\n",
      "RM : (1, 0, 2, 0)\n",
      "SAP : (2, 2, 2, 0)\n",
      "DMR : (0, 1, 0, 0)\n",
      "FP : (1, 0, 2, 0)\n",
      "RM : (1, 0, 2, 0)\n",
      "SAP : (1, 2, 0, 0)\n",
      "DMR : (0, 1, 0, 0)\n",
      "FP : (1, 0, 2, 0)\n",
      "RM : (1, 0, 2, 0)\n",
      "SAP : (1, 0, 0, 2)\n",
      "Execution stopped : maximum step overflowed, no EN found.\n",
      "DMR : (1, 0, 0, 1)\n",
      "FP : (1, 0, 2, 0)\n",
      "RM : (1, 0, 2, 0)\n",
      "SAP : (1, 0, 1, 0)\n"
     ]
    }
   ],
   "source": [
    "# compare utility sum and execution time of the 3 methods\n",
    "score_DMR = []\n",
    "time_DMR = []\n",
    "score_FP = []\n",
    "time_FP = []\n",
    "score_RM = []\n",
    "time_RM = []\n",
    "score_SAP = []\n",
    "time_SAP = []\n",
    "for step in range(10):# 10 different utility matrix\n",
    "    ut = np.random.randint(0,10,shapes) # create utility matrix with random utilities\n",
    "    for repeat in range(10): # 10 repeats on each utility matrix\n",
    "        # best response dynamic\n",
    "        start = time.time()\n",
    "        alloc = tuple(bestResponseDynamic(ut, vehicles, tasks, 1000))\n",
    "        duration = time.time() - start\n",
    "        print(\"DMR : \"+str(alloc))\n",
    "        #print(ut[alloc])\n",
    "        score_DMR.append(np.sum(ut[alloc]))\n",
    "        time_DMR.append(duration)\n",
    "\n",
    "        # fictitious play\n",
    "        start = time.time()\n",
    "        alloc = tuple(fictitiousPlay(ut, vehicles, tasks, 1000))\n",
    "        duration = time.time() - start\n",
    "        print(\"FP : \"+str(alloc))\n",
    "        #print(ut[alloc])\n",
    "        score_FP.append(np.sum(ut[alloc]))\n",
    "        time_FP.append(duration)\n",
    "\n",
    "        # regret matching\n",
    "        start = time.time()\n",
    "        alloc = tuple(RegretMatching(ut, vehicles, tasks, 1000))\n",
    "        duration = time.time() - start\n",
    "        print(\"RM : \"+str(alloc))\n",
    "        #print(ut[alloc])\n",
    "        score_RM.append(np.sum(ut[alloc]))\n",
    "        time_RM.append(duration)\n",
    "\n",
    "        # spatial adaptative play\n",
    "        start = time.time()\n",
    "        alloc = tuple(SpatialAdaptativePlay(ut, vehicles, tasks, 1000, ro=1))\n",
    "        duration = time.time() - start\n",
    "        print(\"SAP : \"+str(alloc))\n",
    "        #print(ut[alloc])\n",
    "        score_SAP.append(np.sum(ut[alloc]))\n",
    "        time_SAP.append(duration)"
   ]
  },
  {
   "cell_type": "code",
   "execution_count": 67,
   "metadata": {},
   "outputs": [
    {
     "name": "stdout",
     "output_type": "stream",
     "text": [
      "mean DMR : 24.42 average time : 0.005681312084197998\n",
      "mean FP : 27.6 average time : 4.558608031272888\n",
      "mean RM : 27.31 average time : 0.24934000492095948\n",
      "mean SAP : 23.48 average time : 0.057477707862854006\n"
     ]
    }
   ],
   "source": [
    "# on a first utility matrix :\n",
    "print(\"mean DMR : \"+str(np.mean(score_DMR))+\" average time : \"+str(np.mean(time_DMR)))\n",
    "print(\"mean FP : \"+str(np.mean(score_FP))+\" average time : \"+str(np.mean(time_FP)))\n",
    "print(\"mean RM : \"+str(np.mean(score_RM))+\" average time : \"+str(np.mean(time_RM)))\n",
    "print(\"mean SAP : \"+str(np.mean(score_SAP))+\" average time : \"+str(np.mean(time_SAP)))"
   ]
  },
  {
   "cell_type": "code",
   "execution_count": 69,
   "metadata": {},
   "outputs": [],
   "source": [
    "def getNashProduct(utilities, allocation):\n",
    "    \"\"\" Compute the nash social welfare criteria of an allocation\n",
    "    \n",
    "    Parameters :\n",
    "        utilities : Matrix(int) the utility matrix of dimension nb_tasks^nb_vehicles * nb_vehicles\n",
    "        allocation : List(int) the list of tasks allocades to each vehicle (in order)\n",
    "    \n",
    "    Returns :\n",
    "        Int\n",
    "        The nash product welfare of the allocation\n",
    "        (Utilities are supposed to be expressed as int)\n",
    "    \n",
    "    \"\"\"\n",
    "    \n",
    "    nsw = 1\n",
    "    for u in utilities[tuple(allocation)]:\n",
    "        nsw *= u\n",
    "\n",
    "    return nsw"
   ]
  },
  {
   "cell_type": "code",
   "execution_count": 71,
   "metadata": {},
   "outputs": [
    {
     "name": "stdout",
     "output_type": "stream",
     "text": [
      "allocation res = [1, 0, 1, 0]\n",
      "utility values for the allocation = [6 8 2 9]\n",
      "Nash product associated = 864\n"
     ]
    }
   ],
   "source": [
    "ut_test = np.random.randint(0,10,shapes)\n",
    "allocation_res = fictitiousPlay(ut_test, vehicles, tasks, 1000)\n",
    "print(\"allocation res =\", allocation_res)\n",
    "print(\"utility values for the allocation =\", ut_test[tuple(allocation_res)])\n",
    "print(\"Nash product associated =\", getNashProduct(ut_test, allocation_res))"
   ]
  },
  {
   "cell_type": "code",
   "execution_count": 72,
   "metadata": {},
   "outputs": [],
   "source": [
    "def getSumUt(utilities, allocation):\n",
    "    \"\"\" Compute the sum of the utilities of agents generated by an allocation\n",
    "    \n",
    "    Parameters :\n",
    "        utilities : Matrix(int) the utility matrix of dimension nb_tasks^nb_vehicles * nb_vehicles\n",
    "        allocation : List(int) the list of tasks allocades to each vehicle (in order)\n",
    "    \n",
    "    Returns :\n",
    "        Int\n",
    "        The sum of utilities generated by the allocation\n",
    "        (Utilities are supposed to be expressed as int)\n",
    "    \n",
    "    \"\"\"\n",
    "    \n",
    "    sumUt = 0\n",
    "    for u in utilities[tuple(allocation)]:\n",
    "        sumUt += u\n",
    "\n",
    "    return sumUt"
   ]
  },
  {
   "cell_type": "code",
   "execution_count": 73,
   "metadata": {},
   "outputs": [
    {
     "name": "stdout",
     "output_type": "stream",
     "text": [
      "Ut sum associated = 25\n"
     ]
    }
   ],
   "source": [
    "print(\"Ut sum associated =\", getSumUt(ut_test, allocation_res))"
   ]
  },
  {
   "cell_type": "code",
   "execution_count": 74,
   "metadata": {},
   "outputs": [],
   "source": [
    "def getEgalitarienSW(utilities, allocation):\n",
    "    \"\"\" Compute the egalitarian social welfare measure of agents generated by an allocation\n",
    "    \n",
    "    Parameters :\n",
    "        utilities : Matrix(int) the utility matrix of dimension nb_tasks^nb_vehicles * nb_vehicles\n",
    "        allocation : List(int) the list of tasks allocades to each vehicle (in order)\n",
    "    \n",
    "    Returns :\n",
    "        Int\n",
    "        The egalitarian social welfare measure generated by the allocation\n",
    "        (Utilities are supposed to be expressed as int)\n",
    "    \n",
    "    \"\"\"\n",
    "    \n",
    "    egalitarianSW = utilities[tuple(allocation)][0]\n",
    "    \n",
    "    for u in utilities[tuple(allocation)]:\n",
    "        if u < egalitarianSW:\n",
    "            egalitarianSW = u\n",
    "\n",
    "    return egalitarianSW"
   ]
  },
  {
   "cell_type": "code",
   "execution_count": 75,
   "metadata": {},
   "outputs": [
    {
     "name": "stdout",
     "output_type": "stream",
     "text": [
      "ESW associated = 2\n"
     ]
    }
   ],
   "source": [
    "print(\"ESW associated =\", getEgalitarienSW(ut_test, allocation_res))"
   ]
  },
  {
   "cell_type": "code",
   "execution_count": 76,
   "metadata": {},
   "outputs": [],
   "source": [
    "def getProportionality(utilities, allocation, vehicles):\n",
    "    \"\"\" Compute if an allocation satisfies the proportionate criteria \n",
    "    \n",
    "    Parameters :\n",
    "        utilities : Matrix(int) the utility matrix of dimension nb_tasks^nb_vehicles * nb_vehicles\n",
    "        allocation : List(int) the list of tasks allocades to each vehicle (in order)\n",
    "        vehicle : List(int) the list of vehicle ids\n",
    "    \n",
    "    Returns :\n",
    "        Bool\n",
    "        If an allocation is proportionate (True) or not (False)\n",
    "        (Utilities are supposed to be expressed as int)\n",
    "    \n",
    "    \"\"\"\n",
    "    pfs = getSumUt(utilities, allocation)/len(vehicles)\n",
    "    \n",
    "    for u in utilities[tuple(allocation)]:\n",
    "        if u < pfs:\n",
    "            return False\n",
    "\n",
    "    return True"
   ]
  },
  {
   "cell_type": "code",
   "execution_count": 77,
   "metadata": {},
   "outputs": [
    {
     "name": "stdout",
     "output_type": "stream",
     "text": [
      "Prop associated = False\n"
     ]
    }
   ],
   "source": [
    "print(\"Prop associated =\", getProportionality(ut_test, allocation_res, vehicles))"
   ]
  },
  {
   "cell_type": "code",
   "execution_count": 80,
   "metadata": {},
   "outputs": [],
   "source": [
    "def computeEnvies(utilities, allocation, vehicles):\n",
    "    \"\"\" Compute the envy of an agent according to its allocation and the ones of others agents\n",
    "    \n",
    "    Parameters :\n",
    "        utilities : Matrix(int) the utility matrix of dimension nb_tasks^nb_vehicles * nb_vehicles\n",
    "        allocation : List(int) the list of tasks allocades to each vehicle (in order)\n",
    "        vehicle : List(int) the list of vehicle ids\n",
    "    \n",
    "    Returns :\n",
    "        Matrix(Int)\n",
    "        The envy matrix of dimension nb_vehicles*nb_vehicles\n",
    "    \n",
    "    \"\"\"\n",
    "\n",
    "    nb_agents = len(vehicles)\n",
    "    envies = np.zeros((nb_agents,nb_agents), dtype=int)\n",
    "    \n",
    "    for i in range(nb_agents):\n",
    "        for j in range(nb_agents):\n",
    "            if i != j:\n",
    "                temp_alloc = replaceAlloc(allocation, i, allocation[j])\n",
    "                envies[i,j] = utilities[tuple(temp_alloc)][i] - utilities[tuple(allocation)][i]\n",
    "\n",
    "    return envies\n",
    "\n",
    "def getMaxEnvy(utilities, allocation, vehicles):\n",
    "    \"\"\" compute the maximum value of envy of an allocation\n",
    "    \n",
    "    Parameters :\n",
    "        utilities : Matrix(int) the utility matrix of dimension nb_tasks^nb_vehicles * nb_vehicles\n",
    "        allocation : List(int) the list of tasks allocades to each vehicle (in order)\n",
    "        vehicle : List(int) the list of vehicle ids\n",
    "    \n",
    "    Returns :\n",
    "        Int\n",
    "        The maximum envy value\n",
    "        (Utilities are supposed to be expressed as int)\n",
    "    \n",
    "    \"\"\"\n",
    "    envies = computeEnvies(utilities,allocation, vehicles)\n",
    "\n",
    "    nb_agents = len(vehicles)\n",
    "    max_envy = 0\n",
    "    \n",
    "    for i in range(nb_agents):\n",
    "        for j in range(nb_agents):\n",
    "            if envies[i,j] > max_envy:\n",
    "                max_envy = envies[i,j]\n",
    "\n",
    "    return max_envy\n",
    "\n",
    "\n",
    "\n",
    "def getEnvy(utilities, allocation, vehicles):\n",
    "    \"\"\" Test if an allocation is envy-free or not\n",
    "    \n",
    "    Parameters :\n",
    "        utilities : Matrix(int) the utility matrix of dimension nb_tasks^nb_vehicles * nb_vehicles\n",
    "        allocation : List(int) the list of tasks allocades to each vehicle (in order)\n",
    "        vehicle : List(int) the list of vehicle ids\n",
    "    \n",
    "    Returns :\n",
    "        Bool\n",
    "        If an allocation is EF (True) or not (False)\n",
    "        (Utilities are supposed to be expressed as int)\n",
    "    \n",
    "    \"\"\"\n",
    "    max_envy = getMaxEnvy(utilities, allocation, vehicles)\n",
    "    \n",
    "    if max_envy > 0:\n",
    "        return False\n",
    "\n",
    "    return True\n"
   ]
  },
  {
   "cell_type": "code",
   "execution_count": 81,
   "metadata": {},
   "outputs": [
    {
     "name": "stdout",
     "output_type": "stream",
     "text": [
      "Envies associated = [[ 0 -3  0 -3]\n",
      " [-4  0 -4  0]\n",
      " [ 0  0  0  0]\n",
      " [-7  0 -7  0]]\n"
     ]
    }
   ],
   "source": [
    "print(\"Envies associated =\", computeEnvies(ut_test, allocation_res, vehicles))"
   ]
  },
  {
   "cell_type": "code",
   "execution_count": 82,
   "metadata": {},
   "outputs": [
    {
     "name": "stdout",
     "output_type": "stream",
     "text": [
      "Envyfreeness associated = True\n"
     ]
    }
   ],
   "source": [
    "print(\"Envyfreeness associated =\", getEnvy(ut_test, allocation_res, vehicles))"
   ]
  },
  {
   "cell_type": "code",
   "execution_count": 137,
   "metadata": {},
   "outputs": [],
   "source": [
    "def getRandomUt(nb_vehicles, nb_tasks, ut_range):\n",
    "    \"\"\" Compute the utility matrix with random value in utility range given and an null task\n",
    "    \n",
    "    Parameters :\n",
    "        nb_vehicles : int, the number of vehicles\n",
    "        nb_tasks : int, the number of tasks\n",
    "        ut_range : Tuple(int) the range of values that utility can take\n",
    "        \n",
    "    Returns :\n",
    "        Matrix(Int)\n",
    "        The utility matrix produced\n",
    "        \n",
    "    \"\"\"\n",
    "    min_ut, max_ut = ut_range\n",
    "    \n",
    "    shapes = getShape(nb_vehicles,nb_tasks+1)\n",
    "    \n",
    "    utilities = np.random.randint(min_ut,max_ut,shapes)\n",
    "    \n",
    "    alloc_dim = np.zeros([nb_tasks+1]*(nb_vehicles))\n",
    "    allAlloc = [x for x,_ in np.ndenumerate(alloc_dim)] \n",
    "    \n",
    "    for a in allAlloc:\n",
    "        for i in range(utilities[a].size):\n",
    "            if a[i] == 0:\n",
    "                utilities[a][i] = 0\n",
    "\n",
    "    return utilities\n",
    "   "
   ]
  },
  {
   "cell_type": "code",
   "execution_count": null,
   "metadata": {},
   "outputs": [],
   "source": []
  },
  {
   "cell_type": "code",
   "execution_count": 146,
   "metadata": {},
   "outputs": [],
   "source": [
    "def getEqualySharedUt(nb_vehicles, nb_tasks, ut_range):\n",
    "    \"\"\" Compute the utility matrix with random value in utility range given and an null task\n",
    "    according to an equaly shared utility for agents sharing the same target\n",
    "    \n",
    "    Parameters :\n",
    "        nb_vehicles : int, the number of vehicles\n",
    "        nb_tasks : int, the number of tasks\n",
    "        ut_range : Tuple(int) the range of values that utility can take\n",
    "        \n",
    "    Returns :\n",
    "        Matrix(Int)\n",
    "        The utility matrix produced\n",
    "        \n",
    "    \"\"\"\n",
    "    \n",
    "    min_ut, max_ut = ut_range\n",
    "    \n",
    "    shapes = getShape(nb_vehicles,nb_tasks+1)\n",
    "    \n",
    "    utilities = np.random.randint(min_ut,max_ut,shapes)\n",
    "    \n",
    "    alloc_dim = np.zeros([nb_tasks+1]*(nb_vehicles))\n",
    "    allAlloc = [x for x,_ in np.ndenumerate(alloc_dim)] \n",
    "    \n",
    "    for a in allAlloc:\n",
    "        sharedUt = {}\n",
    "        \n",
    "        for vi in range(utilities[a].size):\n",
    "            if a[vi] not in sharedUt:\n",
    "                sharedUt[a[vi]] = [utilities[a][vi], 1]\n",
    "            else:\n",
    "                sharedUt[a[vi]][0] += utilities[a][vi]\n",
    "                sharedUt[a[vi]][1] += 1\n",
    "                \n",
    "        for i in range(utilities[a].size):\n",
    "            if a[i] == 0:\n",
    "                utilities[a][i] = 0\n",
    "            else:\n",
    "                utilities[a][i] = sharedUt[a[vi]][0]/sharedUt[a[vi]][1]\n",
    "            \n",
    "        \n",
    "    return utilities\n",
    "    \n",
    "    "
   ]
  },
  {
   "cell_type": "code",
   "execution_count": null,
   "metadata": {},
   "outputs": [],
   "source": []
  }
 ],
 "metadata": {
  "kernelspec": {
   "display_name": "Python 3",
   "language": "python",
   "name": "python3"
  },
  "language_info": {
   "codemirror_mode": {
    "name": "ipython",
    "version": 3
   },
   "file_extension": ".py",
   "mimetype": "text/x-python",
   "name": "python",
   "nbconvert_exporter": "python",
   "pygments_lexer": "ipython3",
   "version": "3.8.5"
  }
 },
 "nbformat": 4,
 "nbformat_minor": 4
}
