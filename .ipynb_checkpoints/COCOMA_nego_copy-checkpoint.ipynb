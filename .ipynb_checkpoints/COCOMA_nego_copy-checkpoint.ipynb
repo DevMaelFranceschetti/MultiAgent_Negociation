{
 "cells": [
  {
   "cell_type": "code",
   "execution_count": 2,
   "metadata": {},
   "outputs": [],
   "source": [
    "import numpy as np\n",
    "import time"
   ]
  },
  {
   "cell_type": "markdown",
   "metadata": {},
   "source": [
    "### Define vehicles and tasks sets"
   ]
  },
  {
   "cell_type": "code",
   "execution_count": 3,
   "metadata": {},
   "outputs": [],
   "source": [
    "vehicles = [0,1,2,3]\n",
    "tasks = [0,1,2]"
   ]
  },
  {
   "cell_type": "markdown",
   "metadata": {},
   "source": [
    "### Create random utility matrix"
   ]
  },
  {
   "cell_type": "markdown",
   "metadata": {},
   "source": [
    "We use a matrix to store the utilities of the vehicles for the different possible allocations.\n",
    "The advantage of using a matrix compared to storing all the possible combinations in a dictionary, a hashmap or similar, is that we save a lot of space because we don't have to store the keys, and the acces time is the same. The other advantage is that we can loop easily on the matrix and use optimized numpy functions over this matrix. Using a matrix could also be interesting to move the computations on GPU to speed it up for high dimentionnal instances."
   ]
  },
  {
   "cell_type": "raw",
   "metadata": {},
   "source": [
    "# Old version for tortured spirits : \n",
    "\n",
    "mat = np.zeros([len(tasks)]*len(vehicles)) # initialize a matrix of dimension tasks^vehicles\n",
    "concat = mat.shape + (len(vehicles), 0) \n",
    "# concat to add a dimension of size nb_vehicles on the last dimension, we add 0 to create a tuple\n",
    "shapes = concat[:-1] # remove the 0 added to create a tuple\n",
    "shapes # we get the shape of our final matrix, ex : 3,3,3,3,4 for 4 vehicles and 3 tasks \n",
    "# (dimension is tasks^vehicles * tasks)"
   ]
  },
  {
   "cell_type": "code",
   "execution_count": 4,
   "metadata": {},
   "outputs": [
    {
     "data": {
      "text/plain": [
       "(3, 3, 3, 3, 4)"
      ]
     },
     "execution_count": 4,
     "metadata": {},
     "output_type": "execute_result"
    }
   ],
   "source": [
    "# Clean version :\n",
    "\n",
    "def getShape(nb_vehicles, nb_tasks):\n",
    "    \"\"\" Compute the shape for this settings\n",
    "    \n",
    "    Parameters :\n",
    "        nb_vehicles : int, the number of vehicles\n",
    "        nb_tasks : int, the number of tasks\n",
    "        \n",
    "    Returns :\n",
    "        a tuple containing the shape (tasks^vehicles * vehicles),\n",
    "        that is the shape for the utility matrix.\n",
    "        \n",
    "    \"\"\"\n",
    "    list_dim = [nb_tasks]*nb_vehicles +[nb_vehicles]# matrix of shape tasks^vehicles * vehicles\n",
    "    return tuple(list_dim)\n",
    "\n",
    "shapes = getShape(len(vehicles),len(tasks))\n",
    "shapes"
   ]
  },
  {
   "cell_type": "code",
   "execution_count": 5,
   "metadata": {},
   "outputs": [],
   "source": [
    "ut = np.random.randint(0,10,shapes) # create utility matrix with random utilities"
   ]
  },
  {
   "cell_type": "code",
   "execution_count": 6,
   "metadata": {},
   "outputs": [
    {
     "data": {
      "text/plain": [
       "array([3, 9, 5, 3])"
      ]
     },
     "execution_count": 6,
     "metadata": {},
     "output_type": "execute_result"
    }
   ],
   "source": [
    "ut[0][0][0][0] # get utility of all agents when all do task 0"
   ]
  },
  {
   "cell_type": "code",
   "execution_count": 7,
   "metadata": {},
   "outputs": [
    {
     "data": {
      "text/plain": [
       "array([3, 9, 5, 3])"
      ]
     },
     "execution_count": 7,
     "metadata": {},
     "output_type": "execute_result"
    }
   ],
   "source": [
    "ind = tuple([0,0,0,0]) # accessing the matrix from array as index\n",
    "ut[ind]"
   ]
  },
  {
   "cell_type": "code",
   "execution_count": 8,
   "metadata": {},
   "outputs": [
    {
     "data": {
      "text/plain": [
       "array([3, 1, 8, 8])"
      ]
     },
     "execution_count": 8,
     "metadata": {},
     "output_type": "execute_result"
    }
   ],
   "source": [
    "ut[0][1][2][2] # get utility of all agents when allocation for vehicles to task is = 0,1,2,2 \n",
    "# (means vehicule 0 do task 0, vehicule 1 do task 1, vehicule 2 do task 2, vehicule 3 do task 2)"
   ]
  },
  {
   "cell_type": "markdown",
   "metadata": {},
   "source": [
    "### Defining usefull functions"
   ]
  },
  {
   "cell_type": "code",
   "execution_count": 9,
   "metadata": {},
   "outputs": [],
   "source": [
    "def replaceAlloc(allocation, v, t):\n",
    "    \"\"\" Compute the new allocation with task t asigned to vehicle v\n",
    "    \n",
    "    Parameters :\n",
    "        allocation : List(int) the list of tasks allocades to each vehicle (in order)\n",
    "        v : int, the vehicle id\n",
    "        t : int, the task id\n",
    "    \n",
    "    Returns :\n",
    "        List(int), the new allocation\n",
    "    \n",
    "    \"\"\"\n",
    "    return list(allocation[:v])+[t]+list(allocation[v+1:])"
   ]
  },
  {
   "cell_type": "code",
   "execution_count": 10,
   "metadata": {},
   "outputs": [],
   "source": [
    "def is_EN(utilities, allocation, vehicles, tasks):\n",
    "    \"\"\" Check if the current allocation is a Nash Equilibrium or not\n",
    "    \n",
    "    Parameters :\n",
    "        utilities : Matrix(int) the utility matrix of dimension nb_tasks^nb_vehicles * nb_vehicles\n",
    "        allocation : List(int) the list of tasks allocades to each vehicle (in order)\n",
    "        vehicle : List(int) the list of vehicle ids\n",
    "        tasks : List(int) the list of task ids\n",
    "    \n",
    "    Returns :\n",
    "        Tuple(boolean, int)\n",
    "        A tuple containing a boolean (True if this allocation is a Nash Equilibrium, else False)\n",
    "        and an integer that is the id of a vehicle that can increase its utility\n",
    "        by changing unilateraly its allocation (if not EN, -1)\n",
    "    \n",
    "    \"\"\"\n",
    "    for v in range(len(vehicles)) : # for each vehicle\n",
    "        current_task = allocation[v]\n",
    "        current_utility = utilities[tuple(allocation)][v]\n",
    "        for t in range(len(tasks)) :\n",
    "            if t != current_task : # check all other tasks\n",
    "                temp_ind = replaceAlloc(allocation, v, t) # allocating task t to vehicle v\n",
    "                utility = utilities[tuple(temp_ind)][v]\n",
    "                if utility > current_utility : # changing to another task gives more utility -> Not NE\n",
    "                    return (False, v)\n",
    "    return (True, -1)"
   ]
  },
  {
   "cell_type": "markdown",
   "metadata": {},
   "source": [
    "We also return the id of one vehicle that can increase its utility by changing its allocation, if the solution is not a Nash Equilibrium. \n",
    "It didn't increase the computation cost and avoids looping another time later on the utility table to find one in the Best Response Dynamics, it's all benefits."
   ]
  },
  {
   "cell_type": "markdown",
   "metadata": {},
   "source": [
    "##### Nash Equilibrium test example on small dimension"
   ]
  },
  {
   "cell_type": "code",
   "execution_count": 11,
   "metadata": {},
   "outputs": [
    {
     "data": {
      "text/plain": [
       "array([[[3, 3],\n",
       "        [2, 5],\n",
       "        [1, 1]],\n",
       "\n",
       "       [[6, 2],\n",
       "        [1, 6],\n",
       "        [3, 2]],\n",
       "\n",
       "       [[9, 8],\n",
       "        [8, 5],\n",
       "        [0, 9]]])"
      ]
     },
     "execution_count": 11,
     "metadata": {},
     "output_type": "execute_result"
    }
   ],
   "source": [
    "# Create setup : 2 vehicles, 3 tasks\n",
    "v = [0,1] # don't change, it's 2D example\n",
    "t = [0,1,2]\n",
    "ut_test = np.random.randint(0,10,(len(t),len(t),2))\n",
    "ut_test"
   ]
  },
  {
   "cell_type": "code",
   "execution_count": 12,
   "metadata": {},
   "outputs": [
    {
     "data": {
      "text/plain": [
       "(False, 0)"
      ]
     },
     "execution_count": 12,
     "metadata": {},
     "output_type": "execute_result"
    }
   ],
   "source": [
    "# Check EN for allocation (0,0)\n",
    "alloc = [0,0] # set allocation to check (0,1) -> first vehicle do task 0 and second do task 1\n",
    "is_EN(ut_test, alloc, v, t) # random example"
   ]
  },
  {
   "cell_type": "code",
   "execution_count": 13,
   "metadata": {},
   "outputs": [
    {
     "data": {
      "text/plain": [
       "(False, 0)"
      ]
     },
     "execution_count": 13,
     "metadata": {},
     "output_type": "execute_result"
    }
   ],
   "source": [
    "alloc = [0,1]\n",
    "ut_test[tuple(alloc)] = [0,0] # set allocation (0,1) to the lowest value for each vehicle\n",
    "ut_test[2,1] = [1,0] # set another allocation to a better score for one vehicle (in case matrix is full zero)\n",
    "is_EN(ut_test,alloc , v, t) # -> Is necessarly not an EN (result must be False)"
   ]
  },
  {
   "cell_type": "code",
   "execution_count": 14,
   "metadata": {},
   "outputs": [
    {
     "data": {
      "text/plain": [
       "(True, -1)"
      ]
     },
     "execution_count": 14,
     "metadata": {},
     "output_type": "execute_result"
    }
   ],
   "source": [
    "alloc = [0,1]\n",
    "ut_test[tuple(alloc)] = [10,10] # set allocation (0,1) to the highest value for each vehicle\n",
    "is_EN(ut_test, alloc, v, t) # -> Is necessarly  an EN (result must be True)"
   ]
  },
  {
   "cell_type": "code",
   "execution_count": 15,
   "metadata": {},
   "outputs": [
    {
     "data": {
      "text/plain": [
       "array([[[0., 0.],\n",
       "        [0., 0.],\n",
       "        [0., 0.]],\n",
       "\n",
       "       [[0., 0.],\n",
       "        [0., 0.],\n",
       "        [0., 0.]],\n",
       "\n",
       "       [[0., 0.],\n",
       "        [0., 0.],\n",
       "        [0., 0.]]])"
      ]
     },
     "execution_count": 15,
     "metadata": {},
     "output_type": "execute_result"
    }
   ],
   "source": [
    "ut_test_z = np.zeros((len(t),len(t),2)) # set all matrix to 0 (same value everywhere)\n",
    "ut_test_z"
   ]
  },
  {
   "cell_type": "code",
   "execution_count": 16,
   "metadata": {},
   "outputs": [
    {
     "data": {
      "text/plain": [
       "(True, -1)"
      ]
     },
     "execution_count": 16,
     "metadata": {},
     "output_type": "execute_result"
    }
   ],
   "source": [
    "alloc = [2,1] # when Zero everywhere, no solution is strictly better than the current\n",
    "is_EN(ut_test_z, alloc, v, t) # -> Is necessarly an EN (result must be True)"
   ]
  },
  {
   "cell_type": "markdown",
   "metadata": {},
   "source": [
    "### Best Response Dynamics"
   ]
  },
  {
   "cell_type": "code",
   "execution_count": 17,
   "metadata": {},
   "outputs": [],
   "source": [
    "def getBestTask(utilities, allocation, v, tasks):\n",
    "    \"\"\" Compute the best task for vehicle v\n",
    "    \n",
    "    Parameters :\n",
    "        utilities : Matrix(int) the utility matrix of dimension nb_tasks^nb_vehicles * nb_vehicles\n",
    "        allocation : List(int) the list of tasks allocades to each vehicle (in order)\n",
    "        v : int, the vehicle id\n",
    "        tasks : List(int) the list of task ids\n",
    "        \n",
    "    Returns : \n",
    "        int, the best task for vehicle v\n",
    "    \"\"\"\n",
    "    best = np.argmax([utilities[tuple(replaceAlloc(allocation, v, t))][v] for t in range(len(tasks))])\n",
    "    return best"
   ]
  },
  {
   "cell_type": "code",
   "execution_count": 18,
   "metadata": {},
   "outputs": [],
   "source": [
    "def bestResponseDynamic(utilities, vehicles, tasks, maxsteps):\n",
    "    \"\"\" Try to compute a Nash Equilibrium allofaction using Best Response Dynamics\n",
    "    \n",
    "    Parameters :\n",
    "        utilities : Matrix(int) the utility matrix of dimension nb_tasks^nb_vehicles * nb_vehicles\n",
    "        vehicles : List(int), the list of vehicle ids\n",
    "        tasks : List(int) the list of task ids\n",
    "        maxteps : int, the steps limit of the algorithm\n",
    "        \n",
    "    Returns : \n",
    "        List(int), a Nash Equilibrium allocation if one was found (no guarantee)\n",
    "        \n",
    "    \"\"\"\n",
    "    allocation = np.random.randint(0,len(tasks),len(vehicles)) # initial random allocation\n",
    "    end, id_change = is_EN(utilities, allocation, vehicles, tasks)\n",
    "    steps = 0\n",
    "    while not(end) and steps < maxsteps:\n",
    "        # vehicle id_change has interest to change to a better allocation\n",
    "        best = getBestTask(utilities, allocation, id_change, tasks) # get its best unilateral allocation\n",
    "        allocation = replaceAlloc(allocation, id_change, best) # set next allocation for id_change\n",
    "        end, id_change = is_EN(utilities, allocation, vehicles, tasks)\n",
    "        steps += 1\n",
    "    if not(end) and steps >= maxsteps: # cut the exection if maxsteps reached\n",
    "        print(\"Execution stopped : maximum step overflowed, no EN found.\")\n",
    "    return list(allocation)"
   ]
  },
  {
   "cell_type": "markdown",
   "metadata": {},
   "source": [
    "##### Best Response Dynamics test example on the initial matrix"
   ]
  },
  {
   "cell_type": "code",
   "execution_count": 19,
   "metadata": {},
   "outputs": [],
   "source": [
    "ut[2,2,1,1] = [10,10,10,10] # we create a global optimal affectation -> At least one EN in utilities table"
   ]
  },
  {
   "cell_type": "code",
   "execution_count": 20,
   "metadata": {},
   "outputs": [
    {
     "data": {
      "text/plain": [
       "[1, 0, 2, 0]"
      ]
     },
     "execution_count": 20,
     "metadata": {},
     "output_type": "execute_result"
    }
   ],
   "source": [
    "bestResponseDynamic(ut, vehicles, tasks, 1000) # the global optimum is reached (NE)"
   ]
  },
  {
   "cell_type": "code",
   "execution_count": 21,
   "metadata": {},
   "outputs": [
    {
     "data": {
      "text/plain": [
       "[1, 0, 2, 0]"
      ]
     },
     "execution_count": 21,
     "metadata": {},
     "output_type": "execute_result"
    }
   ],
   "source": [
    "bestResponseDynamic(ut, vehicles, tasks, 1000) # another Nash Equilibrium is sometimes reached"
   ]
  },
  {
   "cell_type": "markdown",
   "metadata": {},
   "source": [
    "### Fictitious Play"
   ]
  },
  {
   "cell_type": "code",
   "execution_count": 22,
   "metadata": {},
   "outputs": [
    {
     "name": "stdout",
     "output_type": "stream",
     "text": [
      "(3, 3, 3, 3, 4)\n"
     ]
    }
   ],
   "source": [
    "shapes = getShape(len(vehicles),len(tasks))\n",
    "print(shapes)\n",
    "ut = np.random.randint(0,10,shapes) # create utility matrix with random utilities"
   ]
  },
  {
   "cell_type": "code",
   "execution_count": 23,
   "metadata": {},
   "outputs": [],
   "source": [
    "def computeFrequency(proposals, tasks):\n",
    "    \"\"\" Compute the empirical frequency of each proposal\n",
    "    \n",
    "    Parameters :\n",
    "        proposals : List(int), the allocation proposed\n",
    "        tasks : List(int) the list of task ids\n",
    "        \n",
    "    Returns : \n",
    "        List(float), the empirical frequency of each proposal\n",
    "    \n",
    "    \"\"\"\n",
    "    return [np.count_nonzero(np.array(proposals) == t)/len(proposals) for t in range(len(tasks))]"
   ]
  },
  {
   "cell_type": "code",
   "execution_count": 24,
   "metadata": {},
   "outputs": [],
   "source": [
    "# testing frequencies computation\n",
    "proposals = [0,1,2,1,1,2,0,0,1,2,2,1,2,0,1,1,2,1,2,0,1] # proposals sequence made by an agent\n",
    "taks = [0,1,2] # define tasks"
   ]
  },
  {
   "cell_type": "code",
   "execution_count": 25,
   "metadata": {},
   "outputs": [
    {
     "data": {
      "text/plain": [
       "[0.23809523809523808, 0.42857142857142855, 0.3333333333333333]"
      ]
     },
     "execution_count": 25,
     "metadata": {},
     "output_type": "execute_result"
    }
   ],
   "source": [
    "computeFrequency(proposals,tasks) # compute frequency of each task in proposals"
   ]
  },
  {
   "cell_type": "code",
   "execution_count": 26,
   "metadata": {},
   "outputs": [],
   "source": [
    "def computeFullFrequencyMatrix(frequencies, vehicles, tasks): # not used\n",
    "    \"\"\"\n",
    "        Compute the joined frequency matrix of proposed allocation for each vehicle\n",
    "    \"\"\"\n",
    "    shapes = getShape(len(vehicles),len(tasks))\n",
    "    fMat = np.zeros(shapes)\n",
    "    allAlloc = [x for x,_ in np.ndenumerate(ut)]\n",
    "    for alloc in allAlloc :\n",
    "        fMat[alloc] = np.prod([frequencies[v][alloc[v]] for v in range(len(vehicles))])\n",
    "    return fMat"
   ]
  },
  {
   "cell_type": "code",
   "execution_count": 27,
   "metadata": {},
   "outputs": [],
   "source": [
    "# testing frequency matrix computation\n",
    "frequencies = np.random.random((4,10)) # random frequencies"
   ]
  },
  {
   "cell_type": "code",
   "execution_count": 28,
   "metadata": {},
   "outputs": [
    {
     "data": {
      "text/plain": [
       "array([[0.32193921, 0.50573386, 0.56258006, 0.6082882 , 0.50994466,\n",
       "        0.93448077, 0.81113034, 0.87882467, 0.459991  , 0.37306147],\n",
       "       [0.629901  , 0.14593952, 0.97715627, 0.49844585, 0.79883556,\n",
       "        0.18165107, 0.13796542, 0.46748834, 0.05091305, 0.63970936],\n",
       "       [0.83144323, 0.47846886, 0.38528909, 0.55619991, 0.84183759,\n",
       "        0.4369402 , 0.35481573, 0.58292629, 0.88554318, 0.17547886],\n",
       "       [0.12027081, 0.24424001, 0.94442692, 0.5705087 , 0.34420209,\n",
       "        0.92411436, 0.93871641, 0.29881403, 0.00667194, 0.93237734]])"
      ]
     },
     "execution_count": 28,
     "metadata": {},
     "output_type": "execute_result"
    }
   ],
   "source": [
    "frequencies"
   ]
  },
  {
   "cell_type": "code",
   "execution_count": 29,
   "metadata": {},
   "outputs": [
    {
     "data": {
      "text/plain": [
       "array([[[[[0.02027865, 0.02027865, 0.02027865, 0.02027865],\n",
       "          [0.04118088, 0.04118088, 0.04118088, 0.04118088],\n",
       "          [0.15923815, 0.15923815, 0.15923815, 0.15923815]],\n",
       "\n",
       "         [[0.01166971, 0.01166971, 0.01166971, 0.01166971],\n",
       "          [0.02369827, 0.02369827, 0.02369827, 0.02369827],\n",
       "          [0.09163644, 0.09163644, 0.09163644, 0.09163644]],\n",
       "\n",
       "         [[0.00939708, 0.00939708, 0.00939708, 0.00939708],\n",
       "          [0.01908313, 0.01908313, 0.01908313, 0.01908313],\n",
       "          [0.07379063, 0.07379063, 0.07379063, 0.07379063]]],\n",
       "\n",
       "\n",
       "        [[[0.00469829, 0.00469829, 0.00469829, 0.00469829],\n",
       "          [0.00954105, 0.00954105, 0.00954105, 0.00954105],\n",
       "          [0.03689332, 0.03689332, 0.03689332, 0.03689332]],\n",
       "\n",
       "         [[0.00270371, 0.00270371, 0.00270371, 0.00270371],\n",
       "          [0.00549057, 0.00549057, 0.00549057, 0.00549057],\n",
       "          [0.02123092, 0.02123092, 0.02123092, 0.02123092]],\n",
       "\n",
       "         [[0.00217718, 0.00217718, 0.00217718, 0.00217718],\n",
       "          [0.0044213 , 0.0044213 , 0.0044213 , 0.0044213 ],\n",
       "          [0.01709629, 0.01709629, 0.01709629, 0.01709629]]],\n",
       "\n",
       "\n",
       "        [[[0.03145797, 0.03145797, 0.03145797, 0.03145797],\n",
       "          [0.0638833 , 0.0638833 , 0.0638833 , 0.0638833 ],\n",
       "          [0.24702384, 0.24702384, 0.24702384, 0.24702384]],\n",
       "\n",
       "         [[0.01810305, 0.01810305, 0.01810305, 0.01810305],\n",
       "          [0.03676278, 0.03676278, 0.03676278, 0.03676278],\n",
       "          [0.14215428, 0.14215428, 0.14215428, 0.14215428]],\n",
       "\n",
       "         [[0.01457756, 0.01457756, 0.01457756, 0.01457756],\n",
       "          [0.02960339, 0.02960339, 0.02960339, 0.02960339],\n",
       "          [0.11447034, 0.11447034, 0.11447034, 0.11447034]]]],\n",
       "\n",
       "\n",
       "\n",
       "       [[[[0.0318557 , 0.0318557 , 0.0318557 , 0.0318557 ],\n",
       "          [0.06469098, 0.06469098, 0.06469098, 0.06469098],\n",
       "          [0.25014699, 0.25014699, 0.25014699, 0.25014699]],\n",
       "\n",
       "         [[0.01833193, 0.01833193, 0.01833193, 0.01833193],\n",
       "          [0.03722758, 0.03722758, 0.03722758, 0.03722758],\n",
       "          [0.14395155, 0.14395155, 0.14395155, 0.14395155]],\n",
       "\n",
       "         [[0.01476187, 0.01476187, 0.01476187, 0.01476187],\n",
       "          [0.02997767, 0.02997767, 0.02997767, 0.02997767],\n",
       "          [0.1159176 , 0.1159176 , 0.1159176 , 0.1159176 ]]],\n",
       "\n",
       "\n",
       "        [[[0.00738053, 0.00738053, 0.00738053, 0.00738053],\n",
       "          [0.01498802, 0.01498802, 0.01498802, 0.01498802],\n",
       "          [0.05795566, 0.05795566, 0.05795566, 0.05795566]],\n",
       "\n",
       "         [[0.00424726, 0.00424726, 0.00424726, 0.00424726],\n",
       "          [0.00862513, 0.00862513, 0.00862513, 0.00862513],\n",
       "          [0.03335162, 0.03335162, 0.03335162, 0.03335162]],\n",
       "\n",
       "         [[0.00342012, 0.00342012, 0.00342012, 0.00342012],\n",
       "          [0.00694542, 0.00694542, 0.00694542, 0.00694542],\n",
       "          [0.02685654, 0.02685654, 0.02685654, 0.02685654]]],\n",
       "\n",
       "\n",
       "        [[[0.04941729, 0.04941729, 0.04941729, 0.04941729],\n",
       "          [0.10035418, 0.10035418, 0.10035418, 0.10035418],\n",
       "          [0.3880494 , 0.3880494 , 0.3880494 , 0.3880494 ]],\n",
       "\n",
       "         [[0.02843806, 0.02843806, 0.02843806, 0.02843806],\n",
       "          [0.05775061, 0.05775061, 0.05775061, 0.05775061],\n",
       "          [0.22330996, 0.22330996, 0.22330996, 0.22330996]],\n",
       "\n",
       "         [[0.02289987, 0.02289987, 0.02289987, 0.02289987],\n",
       "          [0.04650392, 0.04650392, 0.04650392, 0.04650392],\n",
       "          [0.1798213 , 0.1798213 , 0.1798213 , 0.1798213 ]]]],\n",
       "\n",
       "\n",
       "\n",
       "       [[[[0.03543639, 0.03543639, 0.03543639, 0.03543639],\n",
       "          [0.07196247, 0.07196247, 0.07196247, 0.07196247],\n",
       "          [0.27826436, 0.27826436, 0.27826436, 0.27826436]],\n",
       "\n",
       "         [[0.0203925 , 0.0203925 , 0.0203925 , 0.0203925 ],\n",
       "          [0.04141209, 0.04141209, 0.04141209, 0.04141209],\n",
       "          [0.1601322 , 0.1601322 , 0.1601322 , 0.1601322 ]],\n",
       "\n",
       "         [[0.01642115, 0.01642115, 0.01642115, 0.01642115],\n",
       "          [0.03334726, 0.03334726, 0.03334726, 0.03334726],\n",
       "          [0.12894713, 0.12894713, 0.12894713, 0.12894713]]],\n",
       "\n",
       "\n",
       "        [[[0.00821013, 0.00821013, 0.00821013, 0.00821013],\n",
       "          [0.01667273, 0.01667273, 0.01667273, 0.01667273],\n",
       "          [0.06447008, 0.06447008, 0.06447008, 0.06447008]],\n",
       "\n",
       "         [[0.00472467, 0.00472467, 0.00472467, 0.00472467],\n",
       "          [0.00959462, 0.00959462, 0.00959462, 0.00959462],\n",
       "          [0.03710046, 0.03710046, 0.03710046, 0.03710046]],\n",
       "\n",
       "         [[0.00380456, 0.00380456, 0.00380456, 0.00380456],\n",
       "          [0.00772611, 0.00772611, 0.00772611, 0.00772611],\n",
       "          [0.0298753 , 0.0298753 , 0.0298753 , 0.0298753 ]]],\n",
       "\n",
       "\n",
       "        [[[0.05497196, 0.05497196, 0.05497196, 0.05497196],\n",
       "          [0.11163433, 0.11163433, 0.11163433, 0.11163433],\n",
       "          [0.43166747, 0.43166747, 0.43166747, 0.43166747]],\n",
       "\n",
       "         [[0.03163459, 0.03163459, 0.03163459, 0.03163459],\n",
       "          [0.06424197, 0.06424197, 0.06424197, 0.06424197],\n",
       "          [0.24841076, 0.24841076, 0.24841076, 0.24841076]],\n",
       "\n",
       "         [[0.02547389, 0.02547389, 0.02547389, 0.02547389],\n",
       "          [0.05173112, 0.05173112, 0.05173112, 0.05173112],\n",
       "          [0.20003382, 0.20003382, 0.20003382, 0.20003382]]]]])"
      ]
     },
     "execution_count": 29,
     "metadata": {},
     "output_type": "execute_result"
    }
   ],
   "source": [
    "computeFullFrequencyMatrix(frequencies, vehicles, tasks)"
   ]
  },
  {
   "cell_type": "code",
   "execution_count": 30,
   "metadata": {},
   "outputs": [],
   "source": [
    "def computePartialFrequencyMatrix(utilities, frequencies, vehicles, tasks, v):\n",
    "    \"\"\"\n",
    "        Compute the expected utility for vehicle v foreach task, considering for each \n",
    "        other vehicle a random allocation choice with probability equal to empirical frequency observed \n",
    "        \n",
    "    \"\"\"\n",
    "    temp_vehicles = vehicles[:v] + vehicles[v+1:] # create a list of index without vehicle v\n",
    "    temp_alloc = np.zeros([len(tasks)]*(len(vehicles)-1)) # create a 0 array of shape (vehicles-1)^task\n",
    "    allAlloc = [x for x,_ in np.ndenumerate(temp_alloc)] # enumerate all possible allocations for these vehicles\n",
    "    expectations = []\n",
    "    for t in range(len(tasks)):\n",
    "        expected = 0\n",
    "        for alloc in allAlloc : # for each possible allocation for vehicles without v\n",
    "            # compute proba for these vehicles to do this allocation : \n",
    "            proba = np.prod([frequencies[temp_vehicles[v]][alloc[v]] for v in range(len(temp_vehicles))])\n",
    "            # recreating full allocation with v :\n",
    "            index = [0]*len(vehicles)\n",
    "            for i in range(len(temp_vehicles)) :\n",
    "                index[temp_vehicles[i]] = alloc[i]\n",
    "            index[v] = t\n",
    "            # get the utility for v if it do task t with this allocation for the other vehicles\n",
    "            utility = utilities[tuple(index)][v]\n",
    "            expected+= utility * proba # add proba time the utility of v to the expectation\n",
    "        expectations.append(expected)\n",
    "    return expectations"
   ]
  },
  {
   "cell_type": "code",
   "execution_count": 31,
   "metadata": {},
   "outputs": [
    {
     "data": {
      "text/plain": [
       "array([[0.38302148, 0.71522696, 0.10777215, 0.71475331, 0.61052984,\n",
       "        0.63302887, 0.51312582, 0.3735807 , 0.11669038, 0.35616393],\n",
       "       [0.73397093, 0.3190796 , 0.76547603, 0.71248524, 0.21849877,\n",
       "        0.26928172, 0.42461487, 0.63032684, 0.14282733, 0.77065972],\n",
       "       [0.63541185, 0.96559973, 0.72287083, 0.69430997, 0.62170353,\n",
       "        0.62501284, 0.86054594, 0.77531624, 0.52590642, 0.79562915],\n",
       "       [0.48667382, 0.05293033, 0.3584864 , 0.61691046, 0.89833664,\n",
       "        0.6847168 , 0.32395912, 0.56953913, 0.90911629, 0.63547034]])"
      ]
     },
     "execution_count": 31,
     "metadata": {},
     "output_type": "execute_result"
    }
   ],
   "source": [
    "# testing expectation computation\n",
    "frequencies = np.random.random((4,10)) # random frequencies (note that sum != 1, it's just for example)\n",
    "frequencies"
   ]
  },
  {
   "cell_type": "code",
   "execution_count": 32,
   "metadata": {},
   "outputs": [
    {
     "name": "stdout",
     "output_type": "stream",
     "text": [
      "[17.75291563942251, 18.597496790360818, 18.006667441505297] --> task 1\n",
      "[9.500301015334431, 11.754893919789275, 13.605769461766732] --> task 2\n",
      "[10.457010094711231, 8.375872295951698, 8.442472471117897] --> task 0\n",
      "[27.1075335869325, 22.260251535991923, 17.523112119257966] --> task 0\n"
     ]
    }
   ],
   "source": [
    "for v in vehicles : # get the task with the highest utility expectation for each vehicle\n",
    "    expect = computePartialFrequencyMatrix(ut, frequencies, vehicles, tasks, v)\n",
    "    print(str(expect)+\" --> task \"+str(np.argmax(expect)))"
   ]
  },
  {
   "cell_type": "code",
   "execution_count": 33,
   "metadata": {},
   "outputs": [],
   "source": [
    "def fictitiousPlay(utilities, vehicles, tasks, maxsteps):\n",
    "    \"\"\" Play Fictitious Play until maxsteps\n",
    "    \n",
    "    Parameters :\n",
    "        utilities : Matrix(int) the utility matrix of dimension nb_tasks^nb_vehicles * nb_vehicles\n",
    "        vehicles : List(int), the list of vehicle ids\n",
    "        tasks : List(int) the list of task ids\n",
    "        maxteps : int, the steps limit of the algorithm\n",
    "        \n",
    "    Returns : \n",
    "        List(int), the found allocation after maxsteps steps (no optimality guarantee)\n",
    "        \n",
    "    \"\"\"\n",
    "    passedPropositions = [[t for t in tasks] for v in vehicles]\n",
    "    steps = 0\n",
    "    while steps < maxsteps:\n",
    "        for v in vehicles :\n",
    "            f = [computeFrequency(passedPropositions[v],tasks) for v in vehicles]\n",
    "            expect = computePartialFrequencyMatrix(utilities, f, vehicles, tasks, v)\n",
    "            bestTask = np.argmax(expect)\n",
    "            passedPropositions[v].append(bestTask)\n",
    "        #print([passedPropositions[v][-1] for v in vehicles])\n",
    "        steps += 1\n",
    "    return list([passedPropositions[v][-1] for v in vehicles])"
   ]
  },
  {
   "cell_type": "code",
   "execution_count": 34,
   "metadata": {},
   "outputs": [],
   "source": [
    "# testing FP compared to BRD on some examples :"
   ]
  },
  {
   "cell_type": "code",
   "execution_count": 35,
   "metadata": {},
   "outputs": [
    {
     "data": {
      "text/plain": [
       "[0, 1, 2, 2]"
      ]
     },
     "execution_count": 35,
     "metadata": {},
     "output_type": "execute_result"
    }
   ],
   "source": [
    "bestResponseDynamic(ut, vehicles, tasks, 1000)"
   ]
  },
  {
   "cell_type": "code",
   "execution_count": 36,
   "metadata": {},
   "outputs": [
    {
     "data": {
      "text/plain": [
       "[0, 1, 2, 2]"
      ]
     },
     "execution_count": 36,
     "metadata": {},
     "output_type": "execute_result"
    }
   ],
   "source": [
    "bestResponseDynamic(ut, vehicles, tasks, 1000)"
   ]
  },
  {
   "cell_type": "code",
   "execution_count": 37,
   "metadata": {},
   "outputs": [
    {
     "data": {
      "text/plain": [
       "[0, 1, 2, 2]"
      ]
     },
     "execution_count": 37,
     "metadata": {},
     "output_type": "execute_result"
    }
   ],
   "source": [
    "bestResponseDynamic(ut, vehicles, tasks, 1000)"
   ]
  },
  {
   "cell_type": "code",
   "execution_count": 38,
   "metadata": {},
   "outputs": [
    {
     "data": {
      "text/plain": [
       "[2, 2, 2, 0]"
      ]
     },
     "execution_count": 38,
     "metadata": {},
     "output_type": "execute_result"
    }
   ],
   "source": [
    "fictitiousPlay(ut, vehicles, tasks, 1000)"
   ]
  },
  {
   "cell_type": "code",
   "execution_count": 39,
   "metadata": {},
   "outputs": [
    {
     "data": {
      "text/plain": [
       "[2, 2, 2, 0]"
      ]
     },
     "execution_count": 39,
     "metadata": {},
     "output_type": "execute_result"
    }
   ],
   "source": [
    "fictitiousPlay(ut, vehicles, tasks, 1000) # this is a better solution than BRD's NE in term of social utility"
   ]
  },
  {
   "cell_type": "code",
   "execution_count": 40,
   "metadata": {},
   "outputs": [
    {
     "name": "stdout",
     "output_type": "stream",
     "text": [
      "FP : [5 8 6 4] -> mean 5.75\n",
      "FP : [9 8 3 7] -> mean 6.75\n",
      "BRD : [8 7 9 3] -> mean 6.75\n",
      "BRD : [9 0 2 4] -> mean 3.75\n",
      "BRD : [8 7 2 6] -> mean 5.75\n"
     ]
    }
   ],
   "source": [
    "# (if cells before have been re-run, it's no more the same ut matrix so no more the same results)\n",
    "# obtained with fictitious play :  \n",
    "# [2,1,1,0]  (maxsteps 500)\n",
    "# [2,1,2,0]  (maxsteps 1500)\n",
    "print(\"FP : \"+str(ut[2,1,1,0])+\" -> mean \"+str(np.mean(ut[2,1,1,0])))\n",
    "print(\"FP : \"+str(ut[2,1,2,0])+\" -> mean \"+str(np.mean(ut[2,1,2,0])))\n",
    "\n",
    "# obtained with best response dynamic : \n",
    "# [1,2,0,0]  (maxsteps 1000)\n",
    "# [2,0,1,2]  (maxsteps 1000)\n",
    "# [0,0,2,1]  (maxsteps 1000)\n",
    "\n",
    "print(\"BRD : \"+str(ut[1,2,0,0])+\" -> mean \"+str(np.mean(ut[1,2,0,0])))\n",
    "print(\"BRD : \"+str(ut[2,0,1,2])+\" -> mean \"+str(np.mean(ut[2,0,1,2])))\n",
    "print(\"BRD : \"+str(ut[0,0,2,1])+\" -> mean \"+str(np.mean(ut[0,0,2,1])))"
   ]
  },
  {
   "cell_type": "markdown",
   "metadata": {},
   "source": [
    "### Regret Matching"
   ]
  },
  {
   "cell_type": "code",
   "execution_count": 41,
   "metadata": {},
   "outputs": [],
   "source": [
    "def computeR(R, u, k, tasks, alloc, v): # not used\n",
    "    \"\"\" Update the average regret table of vehicle v for not proposing each task\n",
    "    \n",
    "    Parameters:\n",
    "        R : np.array(float) the regret table for each action at each step k (size: steps*tasks)\n",
    "        u : the utility matrix\n",
    "        k : int, the current time step\n",
    "        tasks : List(int), the list of tasks id\n",
    "        alloc : List(int), the current allocation\n",
    "        v : int, the vehicle\n",
    "    \n",
    "    \"\"\"\n",
    "    if k == 0:\n",
    "        return\n",
    "    for t in tasks :\n",
    "        loss = u[tuple(replaceAlloc(alloc, v, t))][v] - u[alloc][v]\n",
    "        R[k+1,t] = ((k-1)/k)*R[k,t] + (1/k) * loss\n",
    "\n",
    "def getNextR(lastR, u, k, tasks, alloc, v):\n",
    "    \"\"\" Compute the average regret vector of vehicle v for not proposing each task, based on last regret vector\n",
    "    \n",
    "    Parameters:\n",
    "        lastR : np.array(float) the regret vactor for each task at last step k-1\n",
    "        u : the utility matrix\n",
    "        k : int, the current time step\n",
    "        tasks : List(int), the list of tasks id\n",
    "        alloc : List(int), the current allocation\n",
    "        v : int, the vehicle\n",
    "    Return:\n",
    "        np.array(float) the regret vactor for each action at current step k\n",
    "    \"\"\"\n",
    "    if k == 0:\n",
    "        return np.zeros(len(tasks))\n",
    "    else :\n",
    "        return np.array([((k-1)/k)*lastR[t] + (1/k) * (u[tuple(replaceAlloc(alloc, v, t))][v] - u[alloc][v]) for t in tasks])\n",
    "        "
   ]
  },
  {
   "cell_type": "code",
   "execution_count": 42,
   "metadata": {},
   "outputs": [],
   "source": [
    "# computing regret during random play using a regret table\n",
    "v=0\n",
    "total_steps = 10\n",
    "R = np.zeros((total_steps, len(tasks)))\n",
    "for i in range(9) : # computing regret during random play\n",
    "    computeR(R, ut, i, tasks, tuple(np.random.randint(0,len(tasks),len(vehicles))),v)"
   ]
  },
  {
   "cell_type": "code",
   "execution_count": 43,
   "metadata": {},
   "outputs": [
    {
     "data": {
      "text/plain": [
       "array([[ 0.        ,  0.        ,  0.        ],\n",
       "       [ 0.        ,  0.        ,  0.        ],\n",
       "       [ 2.        ,  0.        , -1.        ],\n",
       "       [ 1.        ,  4.        ,  3.5       ],\n",
       "       [ 2.        ,  2.66666667,  2.33333333],\n",
       "       [ 1.5       ,  2.75      ,  2.        ],\n",
       "       [ 2.        ,  2.2       ,  1.6       ],\n",
       "       [ 1.66666667,  1.33333333,  1.5       ],\n",
       "       [ 1.42857143,  1.57142857,  1.42857143],\n",
       "       [ 1.5       ,  1.375     ,  1.625     ]])"
      ]
     },
     "execution_count": 43,
     "metadata": {},
     "output_type": "execute_result"
    }
   ],
   "source": [
    "R # regret at each step k"
   ]
  },
  {
   "cell_type": "code",
   "execution_count": 44,
   "metadata": {},
   "outputs": [
    {
     "name": "stdout",
     "output_type": "stream",
     "text": [
      "[0. 0. 0.]\n",
      "[4. 3. 0.]\n",
      "[ 2.   0.5 -1. ]\n",
      "[ 0.          0.33333333 -0.66666667]\n",
      "[ 0.   -0.5  -0.25]\n",
      "[ 0.  -0.8 -0.8]\n",
      "[ 0.  -1.  -0.5]\n",
      "[ 0.         -0.42857143 -0.28571429]\n",
      "[-0.25 -0.75 -0.25]\n"
     ]
    }
   ],
   "source": [
    "# computing it during random play with last regret only (no regret table)\n",
    "v=0\n",
    "lastR = np.zeros(len(tasks)) \n",
    "for k in range(9) : # computing regret during random play\n",
    "    lastR = getNextR(lastR, ut, k, tasks, tuple(np.random.randint(0,len(tasks),len(vehicles))),v)\n",
    "    print(lastR)"
   ]
  },
  {
   "cell_type": "code",
   "execution_count": 45,
   "metadata": {},
   "outputs": [],
   "source": [
    "def probaFromRegret(R):\n",
    "    \"\"\" Compute the probability to propose each task depending on the regret vector\n",
    "    \n",
    "    Parameters:\n",
    "        R : np.array(float) the regret vector for each action at current step k     \n",
    "    Return:\n",
    "        np.array(float) the probability vector for each action at current step k\n",
    "    \n",
    "    \"\"\"\n",
    "    Rn = np.array(R)\n",
    "    positive_reg = np.where(Rn > 0, Rn, 0)\n",
    "    if np.sum(positive_reg) == 0:\n",
    "        proba = np.ones(len(R))/len(R)\n",
    "    else :\n",
    "        proba = positive_reg/np.sum(positive_reg)\n",
    "    return proba"
   ]
  },
  {
   "cell_type": "code",
   "execution_count": 46,
   "metadata": {},
   "outputs": [
    {
     "name": "stdout",
     "output_type": "stream",
     "text": [
      "regret vector for v : [-0.25 -0.75 -0.25]\n",
      "proba : \n",
      "[0.33333333 0.33333333 0.33333333]\n",
      "proba when all regrets <=0 : \n",
      "[0.33333333 0.33333333 0.33333333]\n"
     ]
    }
   ],
   "source": [
    "print(\"regret vector for v : \"+str(lastR))\n",
    "print(\"proba : \")\n",
    "print(probaFromRegret(lastR)) # getting proba based on lastR regret vector\n",
    "print(\"proba when all regrets <=0 : \")\n",
    "print(probaFromRegret([0,0,0])) # if all <=0 : same proba for all"
   ]
  },
  {
   "cell_type": "code",
   "execution_count": 47,
   "metadata": {},
   "outputs": [],
   "source": [
    "def RegretMatching(utilities, vehicles, tasks, maxsteps):\n",
    "    \"\"\" Play Regret Matching until maxsteps\n",
    "    \n",
    "    Parameters :\n",
    "        utilities : Matrix(int) the utility matrix of dimension nb_tasks^nb_vehicles * nb_vehicles\n",
    "        vehicles : List(int), the list of vehicle ids\n",
    "        tasks : List(int) the list of task ids\n",
    "        maxteps : int, the steps limit of the algorithm\n",
    "        \n",
    "    Returns : \n",
    "        List(int), the found allocation after maxsteps steps (no optimality guarantee)\n",
    "        \n",
    "    \"\"\"\n",
    "    k = 0\n",
    "    lastR = np.zeros((len(vehicles), len(tasks)))\n",
    "    cur_alloc = np.random.randint(0,len(tasks), len(vehicles))\n",
    "    next_alloc = np.random.randint(0,len(tasks), len(vehicles))\n",
    "    while k < maxsteps:\n",
    "        for v in vehicles:\n",
    "            lastRv = lastR[v]\n",
    "            nextRv = getNextR(lastRv, ut, k, tasks, tuple(cur_alloc), v)\n",
    "            proba = probaFromRegret(nextRv)\n",
    "            task = np.random.choice(tasks, p=proba)\n",
    "            next_alloc[v] = task\n",
    "            lastR[v] = nextRv # update the regret of v\n",
    "        #print(next_alloc)\n",
    "        cur_alloc = next_alloc # update the allocation\n",
    "        k += 1\n",
    "    return list(cur_alloc)"
   ]
  },
  {
   "cell_type": "code",
   "execution_count": 48,
   "metadata": {},
   "outputs": [],
   "source": [
    "# some runs of the 3 methods on the same ut matrix :"
   ]
  },
  {
   "cell_type": "code",
   "execution_count": 49,
   "metadata": {},
   "outputs": [
    {
     "data": {
      "text/plain": [
       "[0, 1, 2, 2]"
      ]
     },
     "execution_count": 49,
     "metadata": {},
     "output_type": "execute_result"
    }
   ],
   "source": [
    "RegretMatching(ut, vehicles, tasks, 1000) "
   ]
  },
  {
   "cell_type": "code",
   "execution_count": 50,
   "metadata": {},
   "outputs": [
    {
     "data": {
      "text/plain": [
       "[0, 1, 2, 2]"
      ]
     },
     "execution_count": 50,
     "metadata": {},
     "output_type": "execute_result"
    }
   ],
   "source": [
    "RegretMatching(ut, vehicles, tasks, 1000)"
   ]
  },
  {
   "cell_type": "code",
   "execution_count": 51,
   "metadata": {},
   "outputs": [
    {
     "data": {
      "text/plain": [
       "[0, 0, 0, 2]"
      ]
     },
     "execution_count": 51,
     "metadata": {},
     "output_type": "execute_result"
    }
   ],
   "source": [
    "RegretMatching(ut, vehicles, tasks, 1000)"
   ]
  },
  {
   "cell_type": "code",
   "execution_count": 52,
   "metadata": {},
   "outputs": [
    {
     "data": {
      "text/plain": [
       "[2, 2, 2, 0]"
      ]
     },
     "execution_count": 52,
     "metadata": {},
     "output_type": "execute_result"
    }
   ],
   "source": [
    "fictitiousPlay(ut, vehicles, tasks, 1000)"
   ]
  },
  {
   "cell_type": "code",
   "execution_count": 53,
   "metadata": {},
   "outputs": [
    {
     "data": {
      "text/plain": [
       "[2, 2, 2, 0]"
      ]
     },
     "execution_count": 53,
     "metadata": {},
     "output_type": "execute_result"
    }
   ],
   "source": [
    "fictitiousPlay(ut, vehicles, tasks, 1000)"
   ]
  },
  {
   "cell_type": "code",
   "execution_count": 54,
   "metadata": {},
   "outputs": [
    {
     "data": {
      "text/plain": [
       "[2, 2, 2, 0]"
      ]
     },
     "execution_count": 54,
     "metadata": {},
     "output_type": "execute_result"
    }
   ],
   "source": [
    "fictitiousPlay(ut, vehicles, tasks, 1000)"
   ]
  },
  {
   "cell_type": "code",
   "execution_count": 55,
   "metadata": {},
   "outputs": [
    {
     "data": {
      "text/plain": [
       "[0, 1, 2, 2]"
      ]
     },
     "execution_count": 55,
     "metadata": {},
     "output_type": "execute_result"
    }
   ],
   "source": [
    "bestResponseDynamic(ut, vehicles, tasks, 1000)"
   ]
  },
  {
   "cell_type": "code",
   "execution_count": 56,
   "metadata": {},
   "outputs": [
    {
     "data": {
      "text/plain": [
       "[2, 2, 2, 0]"
      ]
     },
     "execution_count": 56,
     "metadata": {},
     "output_type": "execute_result"
    }
   ],
   "source": [
    "bestResponseDynamic(ut, vehicles, tasks, 1000)"
   ]
  },
  {
   "cell_type": "code",
   "execution_count": 57,
   "metadata": {
    "scrolled": true
   },
   "outputs": [
    {
     "data": {
      "text/plain": [
       "[0, 1, 2, 2]"
      ]
     },
     "execution_count": 57,
     "metadata": {},
     "output_type": "execute_result"
    }
   ],
   "source": [
    "bestResponseDynamic(ut, vehicles, tasks, 1000)"
   ]
  },
  {
   "cell_type": "markdown",
   "metadata": {},
   "source": [
    "### Spatial Adaptative Play"
   ]
  },
  {
   "cell_type": "code",
   "execution_count": 58,
   "metadata": {},
   "outputs": [],
   "source": [
    "allocation = [0, 1, 1, 2]"
   ]
  },
  {
   "cell_type": "code",
   "execution_count": 59,
   "metadata": {},
   "outputs": [
    {
     "data": {
      "text/plain": [
       "[0, 2, 1, 2]"
      ]
     },
     "execution_count": 59,
     "metadata": {},
     "output_type": "execute_result"
    }
   ],
   "source": [
    "replaceAlloc(allocation, 1, 2)"
   ]
  },
  {
   "cell_type": "code",
   "execution_count": 60,
   "metadata": {},
   "outputs": [],
   "source": [
    "def softmax(x):\n",
    "    return np.exp(x) / np.sum(np.exp(x), axis=0)"
   ]
  },
  {
   "cell_type": "code",
   "execution_count": 61,
   "metadata": {},
   "outputs": [],
   "source": [
    "def computeSAPproba(utilities, alloc, vehicle, tasks, ro = 0.1):\n",
    "    Uv = np.array([utilities[tuple(replaceAlloc(alloc, vehicle, t))][vehicle] for t in tasks])\n",
    "    #print(\"utilities for each task : \"+str(Uv))\n",
    "    proba = softmax(Uv/ro) # use softmax or logit function\n",
    "    return proba"
   ]
  },
  {
   "cell_type": "code",
   "execution_count": 62,
   "metadata": {},
   "outputs": [
    {
     "data": {
      "text/plain": [
       "array([9.99999998e-01, 2.06115362e-09, 1.92874984e-22])"
      ]
     },
     "execution_count": 62,
     "metadata": {},
     "output_type": "execute_result"
    }
   ],
   "source": [
    "computeSAPproba(ut, allocation, 1, tasks, ro = 0.1) # very small ro value : probas are very unbalanced (no random)"
   ]
  },
  {
   "cell_type": "code",
   "execution_count": 63,
   "metadata": {},
   "outputs": [
    {
     "data": {
      "text/plain": [
       "array([0.8756006 , 0.11849965, 0.00589975])"
      ]
     },
     "execution_count": 63,
     "metadata": {},
     "output_type": "execute_result"
    }
   ],
   "source": [
    "computeSAPproba(ut, allocation, 1, tasks, ro = 1) # small ro value : probas are unbalanced (very small random)"
   ]
  },
  {
   "cell_type": "code",
   "execution_count": 64,
   "metadata": {},
   "outputs": [
    {
     "data": {
      "text/plain": [
       "array([0.33411131, 0.33344376, 0.33244493])"
      ]
     },
     "execution_count": 64,
     "metadata": {},
     "output_type": "execute_result"
    }
   ],
   "source": [
    "computeSAPproba(ut, allocation, 1, tasks, ro = 1000) # very high ro value : probas are ~ uniform (a lot of random)"
   ]
  },
  {
   "cell_type": "code",
   "execution_count": 65,
   "metadata": {},
   "outputs": [],
   "source": [
    "def SpatialAdaptativePlay(utilities, vehicles, tasks, maxsteps, ro):\n",
    "    k = 0\n",
    "    cur_alloc = np.random.randint(0,len(tasks), len(vehicles))\n",
    "    while k < maxsteps:\n",
    "        v = np.random.choice(vehicles) # select uniformly the vehicle which is given the chance to update its task\n",
    "        proba = computeSAPproba(ut, cur_alloc, v, tasks, ro = 1) # compute proba to propose each task\n",
    "        t = np.random.choice(tasks, p=proba) # choose the task to propose\n",
    "        cur_alloc = replaceAlloc(cur_alloc, v, t) # update the allocation\n",
    "        k += 1\n",
    "    return list(cur_alloc)"
   ]
  },
  {
   "cell_type": "code",
   "execution_count": 66,
   "metadata": {},
   "outputs": [
    {
     "data": {
      "text/plain": [
       "[2, 1, 1, 2]"
      ]
     },
     "execution_count": 66,
     "metadata": {},
     "output_type": "execute_result"
    }
   ],
   "source": [
    "# spatial adaptative play\n",
    "SpatialAdaptativePlay(ut, vehicles, tasks, 1000, ro=1)"
   ]
  },
  {
   "cell_type": "markdown",
   "metadata": {},
   "source": [
    "### Comparing the different negociation methods :"
   ]
  },
  {
   "cell_type": "code",
   "execution_count": 66,
   "metadata": {
    "scrolled": true
   },
   "outputs": [
    {
     "name": "stdout",
     "output_type": "stream",
     "text": [
      "DMR : (0, 2, 0, 0)\n",
      "FP : (0, 1, 2, 1)\n",
      "RM : (0, 1, 2, 1)\n",
      "SAP : (0, 2, 0, 0)\n",
      "DMR : (0, 2, 0, 0)\n",
      "FP : (0, 1, 2, 1)\n",
      "RM : (0, 1, 2, 1)\n",
      "SAP : (1, 0, 2, 2)\n",
      "DMR : (0, 1, 2, 1)\n",
      "FP : (0, 1, 2, 1)\n",
      "RM : (0, 1, 2, 1)\n",
      "SAP : (2, 2, 2, 2)\n",
      "DMR : (2, 2, 1, 1)\n",
      "FP : (0, 1, 2, 1)\n",
      "RM : (0, 1, 0, 1)\n",
      "SAP : (2, 1, 1, 1)\n",
      "DMR : (0, 2, 0, 0)\n",
      "FP : (0, 1, 2, 1)\n",
      "RM : (0, 1, 2, 1)\n",
      "SAP : (1, 2, 2, 1)\n",
      "DMR : (2, 2, 1, 1)\n",
      "FP : (0, 1, 2, 1)\n",
      "RM : (0, 1, 2, 1)\n",
      "SAP : (0, 1, 2, 1)\n",
      "DMR : (1, 0, 2, 0)\n",
      "FP : (0, 1, 2, 1)\n",
      "RM : (0, 1, 2, 1)\n",
      "SAP : (2, 0, 2, 2)\n",
      "DMR : (0, 1, 2, 1)\n",
      "FP : (0, 1, 2, 1)\n",
      "RM : (0, 1, 2, 1)\n",
      "SAP : (2, 1, 2, 1)\n",
      "DMR : (2, 2, 1, 1)\n",
      "FP : (0, 1, 2, 1)\n",
      "RM : (2, 1, 1, 2)\n",
      "SAP : (2, 2, 1, 1)\n",
      "DMR : (0, 1, 2, 1)\n",
      "FP : (0, 1, 2, 1)\n",
      "RM : (2, 0, 1, 0)\n",
      "SAP : (1, 1, 2, 0)\n",
      "DMR : (1, 0, 2, 2)\n",
      "FP : (1, 0, 2, 2)\n",
      "RM : (1, 0, 2, 2)\n",
      "SAP : (1, 0, 0, 2)\n",
      "DMR : (1, 0, 2, 2)\n",
      "FP : (1, 0, 2, 2)\n",
      "RM : (1, 0, 2, 2)\n",
      "SAP : (1, 1, 0, 2)\n",
      "DMR : (1, 0, 2, 2)\n",
      "FP : (1, 0, 2, 2)\n",
      "RM : (0, 2, 1, 0)\n",
      "SAP : (1, 0, 2, 2)\n",
      "DMR : (1, 0, 2, 2)\n",
      "FP : (1, 0, 2, 2)\n",
      "RM : (1, 0, 2, 0)\n",
      "SAP : (1, 2, 1, 2)\n",
      "DMR : (0, 0, 2, 1)\n",
      "FP : (1, 0, 2, 2)\n",
      "RM : (1, 0, 2, 2)\n",
      "SAP : (2, 1, 2, 2)\n",
      "DMR : (0, 0, 2, 1)\n",
      "FP : (1, 0, 2, 2)\n",
      "RM : (1, 0, 2, 2)\n",
      "SAP : (2, 0, 0, 2)\n",
      "DMR : (1, 0, 2, 2)\n",
      "FP : (1, 0, 2, 2)\n",
      "RM : (1, 2, 0, 1)\n",
      "SAP : (2, 2, 0, 2)\n",
      "DMR : (1, 0, 2, 2)\n",
      "FP : (1, 0, 2, 2)\n",
      "RM : (1, 0, 2, 2)\n",
      "SAP : (1, 1, 1, 0)\n",
      "DMR : (1, 0, 2, 2)\n",
      "FP : (1, 0, 2, 2)\n",
      "RM : (1, 0, 2, 2)\n",
      "SAP : (1, 0, 2, 0)\n",
      "Execution stopped : maximum step overflowed, no EN found.\n",
      "DMR : (0, 1, 0, 1)\n",
      "FP : (1, 0, 2, 2)\n",
      "RM : (1, 0, 2, 2)\n",
      "SAP : (1, 1, 0, 1)\n",
      "Execution stopped : maximum step overflowed, no EN found.\n",
      "DMR : (0, 1, 1, 2)\n",
      "FP : (1, 0, 2, 0)\n",
      "RM : (1, 2, 2, 0)\n",
      "SAP : (1, 2, 2, 0)\n",
      "Execution stopped : maximum step overflowed, no EN found.\n",
      "DMR : (0, 0, 1, 2)\n",
      "FP : (1, 0, 2, 0)\n",
      "RM : (1, 1, 0, 0)\n",
      "SAP : (1, 0, 2, 0)\n",
      "Execution stopped : maximum step overflowed, no EN found.\n",
      "DMR : (1, 0, 1, 1)\n",
      "FP : (1, 0, 2, 0)\n",
      "RM : (1, 1, 0, 0)\n",
      "SAP : (1, 0, 1, 1)\n",
      "Execution stopped : maximum step overflowed, no EN found.\n",
      "DMR : (1, 0, 1, 1)\n",
      "FP : (1, 0, 2, 0)\n",
      "RM : (1, 0, 2, 0)\n",
      "SAP : (1, 1, 0, 2)\n",
      "DMR : (2, 2, 2, 2)\n",
      "FP : (1, 0, 2, 0)\n",
      "RM : (0, 2, 2, 1)\n",
      "SAP : (2, 2, 2, 2)\n",
      "Execution stopped : maximum step overflowed, no EN found.\n",
      "DMR : (2, 2, 1, 1)\n",
      "FP : (1, 0, 2, 0)\n",
      "RM : (1, 0, 2, 0)\n",
      "SAP : (2, 2, 0, 1)\n",
      "Execution stopped : maximum step overflowed, no EN found.\n",
      "DMR : (2, 1, 1, 2)\n",
      "FP : (1, 0, 2, 0)\n",
      "RM : (1, 1, 0, 0)\n",
      "SAP : (2, 2, 2, 2)\n",
      "DMR : (1, 1, 0, 0)\n",
      "FP : (1, 0, 2, 0)\n",
      "RM : (2, 2, 2, 2)\n",
      "SAP : (0, 2, 0, 1)\n",
      "DMR : (2, 2, 2, 2)\n",
      "FP : (1, 0, 2, 0)\n",
      "RM : (1, 0, 2, 0)\n",
      "SAP : (1, 0, 2, 0)\n",
      "Execution stopped : maximum step overflowed, no EN found.\n",
      "DMR : (1, 0, 0, 1)\n",
      "FP : (1, 0, 2, 0)\n",
      "RM : (1, 0, 2, 0)\n",
      "SAP : (1, 0, 2, 0)\n",
      "Execution stopped : maximum step overflowed, no EN found.\n",
      "DMR : (2, 1, 1, 0)\n",
      "FP : (2, 2, 1, 2)\n",
      "RM : (2, 1, 0, 1)\n",
      "SAP : (0, 1, 0, 0)\n",
      "DMR : (0, 0, 1, 1)\n",
      "FP : (2, 2, 1, 2)\n",
      "RM : (2, 2, 1, 1)\n",
      "SAP : (2, 0, 0, 2)\n",
      "Execution stopped : maximum step overflowed, no EN found.\n",
      "DMR : (0, 2, 1, 0)\n",
      "FP : (2, 2, 1, 2)\n",
      "RM : (2, 2, 1, 2)\n",
      "SAP : (2, 1, 1, 0)\n",
      "DMR : (0, 0, 1, 1)\n",
      "FP : (2, 2, 1, 2)\n",
      "RM : (2, 2, 1, 2)\n",
      "SAP : (0, 0, 1, 1)\n",
      "Execution stopped : maximum step overflowed, no EN found.\n",
      "DMR : (0, 1, 1, 0)\n",
      "FP : (2, 2, 1, 2)\n",
      "RM : (2, 1, 1, 0)\n",
      "SAP : (2, 2, 1, 1)\n",
      "Execution stopped : maximum step overflowed, no EN found.\n",
      "DMR : (0, 2, 1, 0)\n",
      "FP : (2, 2, 1, 2)\n",
      "RM : (0, 0, 1, 1)\n",
      "SAP : (2, 2, 1, 0)\n",
      "Execution stopped : maximum step overflowed, no EN found.\n",
      "DMR : (2, 2, 1, 0)\n",
      "FP : (2, 2, 1, 2)\n",
      "RM : (2, 2, 1, 2)\n",
      "SAP : (0, 1, 0, 0)\n",
      "Execution stopped : maximum step overflowed, no EN found.\n",
      "DMR : (0, 2, 1, 0)\n",
      "FP : (2, 2, 1, 2)\n",
      "RM : (2, 2, 1, 1)\n",
      "SAP : (1, 1, 2, 1)\n",
      "Execution stopped : maximum step overflowed, no EN found.\n",
      "DMR : (2, 2, 1, 0)\n",
      "FP : (2, 2, 1, 2)\n",
      "RM : (1, 1, 1, 0)\n",
      "SAP : (1, 1, 1, 0)\n",
      "Execution stopped : maximum step overflowed, no EN found.\n",
      "DMR : (2, 1, 1, 0)\n",
      "FP : (2, 2, 1, 2)\n",
      "RM : (2, 2, 1, 0)\n",
      "SAP : (2, 2, 1, 1)\n",
      "Execution stopped : maximum step overflowed, no EN found.\n",
      "DMR : (1, 0, 1, 0)\n",
      "FP : (0, 1, 2, 0)\n",
      "RM : (0, 1, 2, 0)\n",
      "SAP : (2, 2, 2, 2)\n",
      "DMR : (0, 1, 2, 0)\n",
      "FP : (0, 1, 2, 0)\n",
      "RM : (1, 0, 0, 0)\n",
      "SAP : (0, 1, 2, 1)\n",
      "DMR : (2, 1, 2, 1)\n",
      "FP : (0, 1, 2, 0)\n",
      "RM : (0, 1, 2, 0)\n",
      "SAP : (0, 1, 2, 0)\n",
      "DMR : (2, 1, 2, 1)\n",
      "FP : (0, 1, 2, 0)\n",
      "RM : (0, 1, 2, 0)\n",
      "SAP : (1, 1, 0, 0)\n",
      "DMR : (0, 1, 2, 0)\n",
      "FP : (0, 1, 2, 0)\n",
      "RM : (0, 1, 2, 0)\n",
      "SAP : (1, 2, 2, 0)\n",
      "DMR : (0, 1, 2, 0)\n",
      "FP : (0, 1, 2, 0)\n",
      "RM : (0, 1, 2, 0)\n",
      "SAP : (2, 0, 1, 2)\n",
      "Execution stopped : maximum step overflowed, no EN found.\n",
      "DMR : (0, 0, 1, 0)\n",
      "FP : (0, 1, 2, 0)\n",
      "RM : (0, 1, 2, 0)\n",
      "SAP : (2, 1, 1, 2)\n",
      "DMR : (0, 1, 2, 0)\n",
      "FP : (0, 1, 2, 0)\n",
      "RM : (0, 1, 2, 0)\n",
      "SAP : (1, 2, 2, 1)\n",
      "DMR : (0, 1, 2, 0)\n",
      "FP : (0, 1, 2, 0)\n",
      "RM : (0, 1, 2, 0)\n",
      "SAP : (0, 2, 0, 1)\n",
      "DMR : (0, 1, 2, 0)\n",
      "FP : (0, 1, 2, 0)\n",
      "RM : (0, 1, 2, 0)\n",
      "SAP : (2, 0, 1, 0)\n",
      "Execution stopped : maximum step overflowed, no EN found.\n",
      "DMR : (1, 2, 2, 0)\n",
      "FP : (0, 1, 2, 1)\n",
      "RM : (0, 1, 2, 1)\n",
      "SAP : (1, 1, 0, 2)\n",
      "Execution stopped : maximum step overflowed, no EN found.\n",
      "DMR : (2, 1, 2, 1)\n",
      "FP : (0, 1, 2, 1)\n",
      "RM : (0, 1, 2, 1)\n",
      "SAP : (0, 2, 2, 2)\n",
      "Execution stopped : maximum step overflowed, no EN found.\n",
      "DMR : (0, 0, 2, 0)\n",
      "FP : (0, 1, 2, 1)\n",
      "RM : (0, 1, 2, 1)\n",
      "SAP : (0, 1, 2, 0)\n",
      "Execution stopped : maximum step overflowed, no EN found.\n",
      "DMR : (0, 0, 0, 0)\n",
      "FP : (0, 1, 2, 1)\n",
      "RM : (0, 1, 2, 1)\n",
      "SAP : (1, 0, 0, 0)\n",
      "Execution stopped : maximum step overflowed, no EN found.\n",
      "DMR : (0, 0, 2, 1)\n",
      "FP : (0, 1, 2, 1)\n",
      "RM : (2, 2, 1, 1)\n",
      "SAP : (0, 0, 0, 2)\n",
      "Execution stopped : maximum step overflowed, no EN found.\n",
      "DMR : (0, 1, 2, 1)\n",
      "FP : (0, 1, 2, 1)\n",
      "RM : (1, 2, 1, 1)\n",
      "SAP : (1, 1, 0, 2)\n",
      "Execution stopped : maximum step overflowed, no EN found.\n",
      "DMR : (0, 0, 2, 1)\n",
      "FP : (0, 1, 2, 1)\n",
      "RM : (0, 1, 2, 2)\n",
      "SAP : (2, 2, 1, 1)\n",
      "Execution stopped : maximum step overflowed, no EN found.\n",
      "DMR : (1, 1, 1, 2)\n",
      "FP : (0, 1, 2, 1)\n",
      "RM : (1, 0, 1, 2)\n",
      "SAP : (0, 1, 2, 1)\n",
      "Execution stopped : maximum step overflowed, no EN found.\n",
      "DMR : (1, 2, 2, 0)\n",
      "FP : (0, 1, 2, 1)\n",
      "RM : (0, 1, 2, 1)\n",
      "SAP : (1, 1, 0, 2)\n",
      "Execution stopped : maximum step overflowed, no EN found.\n",
      "DMR : (0, 2, 2, 0)\n",
      "FP : (0, 1, 2, 1)\n",
      "RM : (0, 1, 2, 1)\n",
      "SAP : (0, 2, 2, 1)\n",
      "Execution stopped : maximum step overflowed, no EN found.\n",
      "DMR : (2, 1, 1, 0)\n",
      "FP : (1, 1, 0, 2)\n",
      "RM : (1, 0, 0, 2)\n",
      "SAP : (0, 2, 0, 1)\n",
      "Execution stopped : maximum step overflowed, no EN found.\n",
      "DMR : (1, 2, 1, 0)\n",
      "FP : (1, 1, 0, 2)\n",
      "RM : (0, 2, 0, 1)\n",
      "SAP : (2, 2, 0, 1)\n",
      "Execution stopped : maximum step overflowed, no EN found.\n",
      "DMR : (2, 2, 1, 1)\n",
      "FP : (1, 1, 0, 2)\n",
      "RM : (1, 0, 0, 2)\n",
      "SAP : (0, 1, 2, 1)\n",
      "Execution stopped : maximum step overflowed, no EN found.\n",
      "DMR : (1, 2, 1, 0)\n",
      "FP : (1, 1, 0, 2)\n",
      "RM : (1, 0, 0, 2)\n",
      "SAP : (1, 0, 2, 0)\n",
      "Execution stopped : maximum step overflowed, no EN found.\n",
      "DMR : (1, 2, 1, 0)\n",
      "FP : (1, 1, 0, 2)\n",
      "RM : (2, 2, 1, 1)\n",
      "SAP : (0, 2, 2, 2)\n",
      "Execution stopped : maximum step overflowed, no EN found.\n",
      "DMR : (2, 2, 0, 1)\n",
      "FP : (1, 1, 0, 2)\n",
      "RM : (2, 2, 1, 1)\n",
      "SAP : (2, 1, 0, 2)\n",
      "Execution stopped : maximum step overflowed, no EN found.\n",
      "DMR : (2, 2, 1, 1)\n",
      "FP : (1, 1, 0, 2)\n",
      "RM : (1, 0, 0, 2)\n",
      "SAP : (1, 0, 0, 1)\n",
      "Execution stopped : maximum step overflowed, no EN found.\n",
      "DMR : (0, 2, 0, 1)\n",
      "FP : (1, 1, 0, 2)\n",
      "RM : (1, 0, 0, 2)\n",
      "SAP : (0, 0, 2, 2)\n",
      "Execution stopped : maximum step overflowed, no EN found.\n",
      "DMR : (1, 2, 1, 0)\n",
      "FP : (1, 1, 0, 2)\n",
      "RM : (1, 0, 0, 2)\n",
      "SAP : (0, 2, 0, 2)\n",
      "DMR : (0, 1, 2, 0)\n",
      "FP : (1, 1, 0, 2)\n",
      "RM : (0, 2, 1, 1)\n",
      "SAP : (1, 0, 2, 1)\n",
      "DMR : (2, 2, 2, 0)\n",
      "FP : (2, 2, 2, 0)\n",
      "RM : (2, 2, 2, 0)\n",
      "SAP : (2, 2, 2, 0)\n",
      "DMR : (2, 2, 2, 0)\n",
      "FP : (2, 2, 2, 0)\n",
      "RM : (2, 2, 2, 0)\n",
      "SAP : (2, 2, 2, 0)\n",
      "DMR : (2, 2, 2, 0)\n",
      "FP : (2, 2, 2, 0)\n",
      "RM : (2, 2, 2, 0)\n",
      "SAP : (2, 1, 1, 2)\n",
      "DMR : (2, 2, 2, 0)\n",
      "FP : (2, 2, 2, 0)\n",
      "RM : (2, 1, 1, 2)\n",
      "SAP : (2, 2, 2, 1)\n",
      "DMR : (2, 2, 2, 0)\n",
      "FP : (2, 2, 2, 0)\n",
      "RM : (2, 2, 2, 0)\n",
      "SAP : (2, 1, 1, 2)\n",
      "DMR : (2, 2, 2, 0)\n",
      "FP : (2, 2, 2, 0)\n",
      "RM : (2, 2, 2, 0)\n",
      "SAP : (2, 2, 2, 1)\n",
      "DMR : (2, 2, 2, 0)\n",
      "FP : (2, 2, 2, 0)\n",
      "RM : (2, 2, 2, 0)\n",
      "SAP : (2, 2, 0, 1)\n",
      "DMR : (2, 2, 2, 0)\n",
      "FP : (2, 2, 2, 0)\n",
      "RM : (2, 2, 2, 0)\n",
      "SAP : (2, 2, 1, 0)\n",
      "DMR : (2, 2, 2, 0)\n",
      "FP : (2, 2, 2, 0)\n",
      "RM : (2, 2, 2, 0)\n",
      "SAP : (0, 1, 0, 0)\n",
      "DMR : (2, 2, 2, 0)\n",
      "FP : (2, 2, 2, 0)\n",
      "RM : (2, 2, 2, 0)\n",
      "SAP : (2, 0, 2, 2)\n",
      "Execution stopped : maximum step overflowed, no EN found.\n",
      "DMR : (0, 0, 2, 2)\n",
      "FP : (0, 1, 1, 0)\n",
      "RM : (1, 2, 2, 1)\n",
      "SAP : (1, 2, 2, 1)\n",
      "DMR : (0, 1, 1, 0)\n"
     ]
    },
    {
     "name": "stdout",
     "output_type": "stream",
     "text": [
      "FP : (0, 1, 1, 0)\n",
      "RM : (1, 2, 2, 1)\n",
      "SAP : (1, 2, 2, 1)\n",
      "DMR : (0, 1, 1, 0)\n",
      "FP : (0, 1, 1, 0)\n",
      "RM : (1, 2, 2, 1)\n",
      "SAP : (0, 1, 1, 0)\n",
      "Execution stopped : maximum step overflowed, no EN found.\n",
      "DMR : (2, 0, 2, 2)\n",
      "FP : (0, 1, 1, 0)\n",
      "RM : (1, 2, 2, 1)\n",
      "SAP : (2, 2, 0, 0)\n",
      "DMR : (1, 2, 2, 1)\n",
      "FP : (0, 1, 1, 0)\n",
      "RM : (1, 2, 2, 1)\n",
      "SAP : (2, 0, 2, 2)\n",
      "DMR : (0, 1, 1, 0)\n",
      "FP : (0, 1, 1, 0)\n",
      "RM : (1, 2, 2, 1)\n",
      "SAP : (0, 0, 1, 0)\n",
      "DMR : (1, 2, 2, 1)\n",
      "FP : (0, 1, 1, 0)\n",
      "RM : (1, 2, 2, 1)\n",
      "SAP : (1, 2, 2, 1)\n",
      "DMR : (1, 2, 2, 1)\n",
      "FP : (0, 1, 1, 0)\n",
      "RM : (0, 1, 1, 0)\n",
      "SAP : (0, 1, 1, 0)\n",
      "DMR : (0, 1, 1, 0)\n",
      "FP : (0, 1, 1, 0)\n",
      "RM : (0, 1, 1, 0)\n",
      "SAP : (0, 2, 1, 2)\n",
      "DMR : (0, 1, 1, 0)\n",
      "FP : (0, 1, 1, 0)\n",
      "RM : (1, 2, 2, 1)\n",
      "SAP : (1, 2, 2, 0)\n",
      "DMR : (0, 1, 0, 0)\n",
      "FP : (1, 0, 2, 0)\n",
      "RM : (1, 0, 2, 0)\n",
      "SAP : (2, 1, 0, 0)\n",
      "DMR : (1, 0, 1, 1)\n",
      "FP : (1, 0, 2, 0)\n",
      "RM : (1, 0, 2, 0)\n",
      "SAP : (1, 0, 1, 1)\n",
      "DMR : (1, 0, 2, 0)\n",
      "FP : (1, 0, 2, 0)\n",
      "RM : (1, 0, 2, 0)\n",
      "SAP : (0, 2, 2, 0)\n",
      "Execution stopped : maximum step overflowed, no EN found.\n",
      "DMR : (1, 2, 0, 1)\n",
      "FP : (1, 0, 2, 0)\n",
      "RM : (1, 0, 1, 1)\n",
      "SAP : (0, 0, 2, 0)\n",
      "DMR : (0, 1, 0, 0)\n",
      "FP : (1, 0, 2, 0)\n",
      "RM : (1, 0, 2, 0)\n",
      "SAP : (2, 1, 1, 0)\n",
      "DMR : (0, 1, 0, 0)\n",
      "FP : (1, 0, 2, 0)\n",
      "RM : (1, 0, 2, 0)\n",
      "SAP : (0, 0, 1, 0)\n",
      "DMR : (0, 1, 0, 0)\n",
      "FP : (1, 0, 2, 0)\n",
      "RM : (1, 0, 2, 0)\n",
      "SAP : (2, 2, 2, 0)\n",
      "DMR : (0, 1, 0, 0)\n",
      "FP : (1, 0, 2, 0)\n",
      "RM : (1, 0, 2, 0)\n",
      "SAP : (1, 2, 0, 0)\n",
      "DMR : (0, 1, 0, 0)\n",
      "FP : (1, 0, 2, 0)\n",
      "RM : (1, 0, 2, 0)\n",
      "SAP : (1, 0, 0, 2)\n",
      "Execution stopped : maximum step overflowed, no EN found.\n",
      "DMR : (1, 0, 0, 1)\n",
      "FP : (1, 0, 2, 0)\n",
      "RM : (1, 0, 2, 0)\n",
      "SAP : (1, 0, 1, 0)\n"
     ]
    }
   ],
   "source": [
    "# compare utility sum and execution time of the 3 methods\n",
    "score_DMR = []\n",
    "time_DMR = []\n",
    "score_FP = []\n",
    "time_FP = []\n",
    "score_RM = []\n",
    "time_RM = []\n",
    "score_SAP = []\n",
    "time_SAP = []\n",
    "for step in range(10):# 10 different utility matrix\n",
    "    ut = np.random.randint(0,10,shapes) # create utility matrix with random utilities\n",
    "    for repeat in range(10): # 10 repeats on each utility matrix\n",
    "        # best response dynamic\n",
    "        start = time.time()\n",
    "        alloc = tuple(bestResponseDynamic(ut, vehicles, tasks, 1000))\n",
    "        duration = time.time() - start\n",
    "        print(\"DMR : \"+str(alloc))\n",
    "        #print(ut[alloc])\n",
    "        score_DMR.append(np.sum(ut[alloc]))\n",
    "        time_DMR.append(duration)\n",
    "\n",
    "        # fictitious play\n",
    "        start = time.time()\n",
    "        alloc = tuple(fictitiousPlay(ut, vehicles, tasks, 1000))\n",
    "        duration = time.time() - start\n",
    "        print(\"FP : \"+str(alloc))\n",
    "        #print(ut[alloc])\n",
    "        score_FP.append(np.sum(ut[alloc]))\n",
    "        time_FP.append(duration)\n",
    "\n",
    "        # regret matching\n",
    "        start = time.time()\n",
    "        alloc = tuple(RegretMatching(ut, vehicles, tasks, 1000))\n",
    "        duration = time.time() - start\n",
    "        print(\"RM : \"+str(alloc))\n",
    "        #print(ut[alloc])\n",
    "        score_RM.append(np.sum(ut[alloc]))\n",
    "        time_RM.append(duration)\n",
    "\n",
    "        # spatial adaptative play\n",
    "        start = time.time()\n",
    "        alloc = tuple(SpatialAdaptativePlay(ut, vehicles, tasks, 1000, ro=1))\n",
    "        duration = time.time() - start\n",
    "        print(\"SAP : \"+str(alloc))\n",
    "        #print(ut[alloc])\n",
    "        score_SAP.append(np.sum(ut[alloc]))\n",
    "        time_SAP.append(duration)"
   ]
  },
  {
   "cell_type": "code",
   "execution_count": 67,
   "metadata": {},
   "outputs": [
    {
     "name": "stdout",
     "output_type": "stream",
     "text": [
      "mean DMR : 24.42 average time : 0.005681312084197998\n",
      "mean FP : 27.6 average time : 4.558608031272888\n",
      "mean RM : 27.31 average time : 0.24934000492095948\n",
      "mean SAP : 23.48 average time : 0.057477707862854006\n"
     ]
    }
   ],
   "source": [
    "# on a first utility matrix :\n",
    "print(\"mean DMR : \"+str(np.mean(score_DMR))+\" average time : \"+str(np.mean(time_DMR)))\n",
    "print(\"mean FP : \"+str(np.mean(score_FP))+\" average time : \"+str(np.mean(time_FP)))\n",
    "print(\"mean RM : \"+str(np.mean(score_RM))+\" average time : \"+str(np.mean(time_RM)))\n",
    "print(\"mean SAP : \"+str(np.mean(score_SAP))+\" average time : \"+str(np.mean(time_SAP)))"
   ]
  },
  {
   "cell_type": "code",
   "execution_count": 67,
   "metadata": {},
   "outputs": [],
   "source": [
    "def getNashProduct(utilities, allocation):\n",
    "    \"\"\" Compute the nash social welfare criteria of an allocation\n",
    "    \n",
    "    Parameters :\n",
    "        utilities : Matrix(int) the utility matrix of dimension nb_tasks^nb_vehicles * nb_vehicles\n",
    "        allocation : List(int) the list of tasks allocades to each vehicle (in order)\n",
    "    \n",
    "    Returns :\n",
    "        Int\n",
    "        The nash product welfare of the allocation\n",
    "        (Utilities are supposed to be expressed as int)\n",
    "    \n",
    "    \"\"\"\n",
    "    \n",
    "    nsw = 1\n",
    "    for u in utilities[tuple(allocation)]:\n",
    "        nsw *= u\n",
    "\n",
    "    return nsw"
   ]
  },
  {
   "cell_type": "code",
   "execution_count": 68,
   "metadata": {},
   "outputs": [
    {
     "name": "stdout",
     "output_type": "stream",
     "text": [
      "allocation res = [1, 2, 0, 0]\n",
      "utility values for the allocation = [7 4 4 8]\n",
      "Nash product associated = 896\n"
     ]
    }
   ],
   "source": [
    "ut_test = np.random.randint(0,10,shapes)\n",
    "allocation_res = fictitiousPlay(ut_test, vehicles, tasks, 1000)\n",
    "print(\"allocation res =\", allocation_res)\n",
    "print(\"utility values for the allocation =\", ut_test[tuple(allocation_res)])\n",
    "print(\"Nash product associated =\", getNashProduct(ut_test, allocation_res))"
   ]
  },
  {
   "cell_type": "code",
   "execution_count": 69,
   "metadata": {},
   "outputs": [],
   "source": [
    "def getSumUt(utilities, allocation):\n",
    "    \"\"\" Compute the sum of the utilities of agents generated by an allocation\n",
    "    \n",
    "    Parameters :\n",
    "        utilities : Matrix(int) the utility matrix of dimension nb_tasks^nb_vehicles * nb_vehicles\n",
    "        allocation : List(int) the list of tasks allocades to each vehicle (in order)\n",
    "    \n",
    "    Returns :\n",
    "        Int\n",
    "        The sum of utilities generated by the allocation\n",
    "        (Utilities are supposed to be expressed as int)\n",
    "    \n",
    "    \"\"\"\n",
    "    \n",
    "    sumUt = 0\n",
    "    for u in utilities[tuple(allocation)]:\n",
    "        sumUt += u\n",
    "\n",
    "    return sumUt"
   ]
  },
  {
   "cell_type": "code",
   "execution_count": 70,
   "metadata": {},
   "outputs": [
    {
     "name": "stdout",
     "output_type": "stream",
     "text": [
      "Ut sum associated = 23\n"
     ]
    }
   ],
   "source": [
    "print(\"Ut sum associated =\", getSumUt(ut_test, allocation_res))"
   ]
  },
  {
   "cell_type": "code",
   "execution_count": 71,
   "metadata": {},
   "outputs": [],
   "source": [
    "def getEgalitarienSW(utilities, allocation):\n",
    "    \"\"\" Compute the egalitarian social welfare measure of agents generated by an allocation\n",
    "    \n",
    "    Parameters :\n",
    "        utilities : Matrix(int) the utility matrix of dimension nb_tasks^nb_vehicles * nb_vehicles\n",
    "        allocation : List(int) the list of tasks allocades to each vehicle (in order)\n",
    "    \n",
    "    Returns :\n",
    "        Int\n",
    "        The egalitarian social welfare measure generated by the allocation\n",
    "        (Utilities are supposed to be expressed as int)\n",
    "    \n",
    "    \"\"\"\n",
    "    \n",
    "    egalitarianSW = utilities[tuple(allocation)][0]\n",
    "    \n",
    "    for u in utilities[tuple(allocation)]:\n",
    "        if u < egalitarianSW:\n",
    "            egalitarianSW = u\n",
    "\n",
    "    return egalitarianSW"
   ]
  },
  {
   "cell_type": "code",
   "execution_count": 72,
   "metadata": {},
   "outputs": [
    {
     "name": "stdout",
     "output_type": "stream",
     "text": [
      "ESW associated = 4\n"
     ]
    }
   ],
   "source": [
    "print(\"ESW associated =\", getEgalitarienSW(ut_test, allocation_res))"
   ]
  },
  {
   "cell_type": "code",
   "execution_count": 73,
   "metadata": {},
   "outputs": [],
   "source": [
    "def getProportionality(utilities, allocation, vehicles):\n",
    "    \"\"\" Compute if an allocation satisfies the proportionate criteria \n",
    "    \n",
    "    Parameters :\n",
    "        utilities : Matrix(int) the utility matrix of dimension nb_tasks^nb_vehicles * nb_vehicles\n",
    "        allocation : List(int) the list of tasks allocades to each vehicle (in order)\n",
    "        vehicle : List(int) the list of vehicle ids\n",
    "    \n",
    "    Returns :\n",
    "        Bool\n",
    "        If an allocation is proportionate (True) or not (False)\n",
    "        (Utilities are supposed to be expressed as int)\n",
    "    \n",
    "    \"\"\"\n",
    "    pfs = getSumUt(utilities, allocation)/len(vehicles)\n",
    "    \n",
    "    for u in utilities[tuple(allocation)]:\n",
    "        if u < pfs:\n",
    "            return False\n",
    "\n",
    "    return True"
   ]
  },
  {
   "cell_type": "code",
   "execution_count": 74,
   "metadata": {},
   "outputs": [
    {
     "name": "stdout",
     "output_type": "stream",
     "text": [
      "Prop associated = False\n"
     ]
    }
   ],
   "source": [
    "print(\"Prop associated =\", getProportionality(ut_test, allocation_res, vehicles))"
   ]
  },
  {
   "cell_type": "code",
   "execution_count": 75,
   "metadata": {},
   "outputs": [],
   "source": [
    "def computeEnvies(utilities, allocation, vehicles):\n",
    "    \"\"\" Compute the envy of an agent according to its allocation and the ones of others agents\n",
    "    \n",
    "    Parameters :\n",
    "        utilities : Matrix(int) the utility matrix of dimension nb_tasks^nb_vehicles * nb_vehicles\n",
    "        allocation : List(int) the list of tasks allocades to each vehicle (in order)\n",
    "        vehicle : List(int) the list of vehicle ids\n",
    "    \n",
    "    Returns :\n",
    "        Matrix(Int)\n",
    "        The envy matrix of dimension nb_vehicles*nb_vehicles\n",
    "    \n",
    "    \"\"\"\n",
    "\n",
    "    nb_agents = len(vehicles)\n",
    "    envies = np.zeros((nb_agents,nb_agents), dtype=int)\n",
    "    \n",
    "    for i in range(nb_agents):\n",
    "        for j in range(nb_agents):\n",
    "            if i != j:\n",
    "                temp_alloc = replaceAlloc(allocation, i, allocation[j])\n",
    "                envies[i,j] = utilities[tuple(temp_alloc)][i] - utilities[tuple(allocation)][i]\n",
    "\n",
    "    return envies\n",
    "\n",
    "def getMaxEnvy(utilities, allocation, vehicles):\n",
    "    \"\"\" compute the maximum value of envy of an allocation\n",
    "    \n",
    "    Parameters :\n",
    "        utilities : Matrix(int) the utility matrix of dimension nb_tasks^nb_vehicles * nb_vehicles\n",
    "        allocation : List(int) the list of tasks allocades to each vehicle (in order)\n",
    "        vehicle : List(int) the list of vehicle ids\n",
    "    \n",
    "    Returns :\n",
    "        Int\n",
    "        The maximum envy value\n",
    "        (Utilities are supposed to be expressed as int)\n",
    "    \n",
    "    \"\"\"\n",
    "    envies = computeEnvies(utilities,allocation, vehicles)\n",
    "\n",
    "    nb_agents = len(vehicles)\n",
    "    max_envy = 0\n",
    "    \n",
    "    for i in range(nb_agents):\n",
    "        for j in range(nb_agents):\n",
    "            if envies[i,j] > max_envy:\n",
    "                max_envy = envies[i,j]\n",
    "\n",
    "    return max_envy\n",
    "\n",
    "\n",
    "\n",
    "def getEnvy(utilities, allocation, vehicles):\n",
    "    \"\"\" Test if an allocation is envy-free or not\n",
    "    \n",
    "    Parameters :\n",
    "        utilities : Matrix(int) the utility matrix of dimension nb_tasks^nb_vehicles * nb_vehicles\n",
    "        allocation : List(int) the list of tasks allocades to each vehicle (in order)\n",
    "        vehicle : List(int) the list of vehicle ids\n",
    "    \n",
    "    Returns :\n",
    "        Bool\n",
    "        If an allocation is EF (True) or not (False)\n",
    "        (Utilities are supposed to be expressed as int)\n",
    "    \n",
    "    \"\"\"\n",
    "    max_envy = getMaxEnvy(utilities, allocation, vehicles)\n",
    "    \n",
    "    if max_envy > 0:\n",
    "        return False\n",
    "\n",
    "    return True\n"
   ]
  },
  {
   "cell_type": "code",
   "execution_count": 76,
   "metadata": {},
   "outputs": [
    {
     "name": "stdout",
     "output_type": "stream",
     "text": [
      "Envies associated = [[ 0 -2 -5 -5]\n",
      " [-2  0 -1 -1]\n",
      " [ 0 -4  0  0]\n",
      " [-2  0  0  0]]\n"
     ]
    }
   ],
   "source": [
    "print(\"Envies associated =\", computeEnvies(ut_test, allocation_res, vehicles))"
   ]
  },
  {
   "cell_type": "code",
   "execution_count": 77,
   "metadata": {},
   "outputs": [
    {
     "name": "stdout",
     "output_type": "stream",
     "text": [
      "Envyfreeness associated = True\n"
     ]
    }
   ],
   "source": [
    "print(\"Envyfreeness associated =\", getEnvy(ut_test, allocation_res, vehicles))"
   ]
  },
  {
   "cell_type": "code",
   "execution_count": 78,
   "metadata": {},
   "outputs": [],
   "source": [
    "def getRandomUt(nb_vehicles, nb_tasks, ut_range):\n",
    "    \"\"\" Compute the utility matrix with random value in utility range given and an null task\n",
    "    \n",
    "    Parameters :\n",
    "        nb_vehicles : int, the number of vehicles\n",
    "        nb_tasks : int, the number of tasks\n",
    "        ut_range : Tuple(int) the range of values that utility can take\n",
    "        \n",
    "    Returns :\n",
    "        Matrix(Int)\n",
    "        The utility matrix produced\n",
    "        \n",
    "    \"\"\"\n",
    "    min_ut, max_ut = ut_range\n",
    "    \n",
    "    shapes = getShape(nb_vehicles,nb_tasks+1)\n",
    "    \n",
    "    utilities = np.random.randint(min_ut,max_ut,shapes)\n",
    "    \n",
    "    alloc_dim = np.zeros([nb_tasks+1]*(nb_vehicles))\n",
    "    allAlloc = [x for x,_ in np.ndenumerate(alloc_dim)] \n",
    "    \n",
    "    for a in allAlloc:\n",
    "        for i in range(utilities[a].size):\n",
    "            if a[i] == 0:\n",
    "                utilities[a][i] = 0\n",
    "\n",
    "    return utilities\n",
    "   "
   ]
  },
  {
   "cell_type": "code",
   "execution_count": null,
   "metadata": {},
   "outputs": [],
   "source": []
  },
  {
   "cell_type": "code",
   "execution_count": 79,
   "metadata": {},
   "outputs": [],
   "source": [
    "def getEqualySharedUt(nb_vehicles, nb_tasks, ut_range):\n",
    "    \"\"\" Compute the utility matrix with random value in utility range given and an null task\n",
    "    according to an equaly shared utility for agents sharing the same target\n",
    "    \n",
    "    Parameters :\n",
    "        nb_vehicles : int, the number of vehicles\n",
    "        nb_tasks : int, the number of tasks\n",
    "        ut_range : Tuple(int) the range of values that utility can take\n",
    "        \n",
    "    Returns :\n",
    "        Matrix(Int)\n",
    "        The utility matrix produced\n",
    "        \n",
    "    \"\"\"\n",
    "    \n",
    "    min_ut, max_ut = ut_range\n",
    "    \n",
    "    shapes = getShape(nb_vehicles,nb_tasks+1)\n",
    "    \n",
    "    utilities = np.random.randint(min_ut,max_ut,shapes)\n",
    "    \n",
    "    alloc_dim = np.zeros([nb_tasks+1]*(nb_vehicles))\n",
    "    allAlloc = [x for x,_ in np.ndenumerate(alloc_dim)] \n",
    "    \n",
    "    for a in allAlloc:\n",
    "        sharedUt = {}\n",
    "        \n",
    "        for vi in range(utilities[a].size):\n",
    "            if a[vi] not in sharedUt:\n",
    "                sharedUt[a[vi]] = [utilities[a][vi], 1]\n",
    "            else:\n",
    "                sharedUt[a[vi]][0] += utilities[a][vi]\n",
    "                sharedUt[a[vi]][1] += 1\n",
    "                \n",
    "        for i in range(utilities[a].size):\n",
    "            if a[i] == 0:\n",
    "                utilities[a][i] = 0\n",
    "            else:\n",
    "                utilities[a][i] = sharedUt[a[vi]][0]/sharedUt[a[vi]][1]\n",
    "            \n",
    "        \n",
    "    return utilities\n",
    "    \n",
    "    "
   ]
  },
  {
   "cell_type": "code",
   "execution_count": 87,
   "metadata": {},
   "outputs": [
    {
     "name": "stdout",
     "output_type": "stream",
     "text": [
      "[[[[[False False False False]\n",
      "    [False False False False]\n",
      "    [False False False False]\n",
      "    [False False False False]]\n",
      "\n",
      "   [[False False False False]\n",
      "    [False False False False]\n",
      "    [False False False False]\n",
      "    [False False False False]]\n",
      "\n",
      "   [[False False False False]\n",
      "    [False False False False]\n",
      "    [False False False False]\n",
      "    [False False False False]]\n",
      "\n",
      "   [[False False False False]\n",
      "    [False False False False]\n",
      "    [False False False False]\n",
      "    [False False False False]]]\n",
      "\n",
      "\n",
      "  [[[False False False False]\n",
      "    [False False False False]\n",
      "    [False False False False]\n",
      "    [False False False False]]\n",
      "\n",
      "   [[False False False False]\n",
      "    [False False False False]\n",
      "    [False False False False]\n",
      "    [False False False False]]\n",
      "\n",
      "   [[False False False False]\n",
      "    [False False False False]\n",
      "    [False False False False]\n",
      "    [False False False False]]\n",
      "\n",
      "   [[False False False False]\n",
      "    [False False False False]\n",
      "    [False False False False]\n",
      "    [False False False False]]]\n",
      "\n",
      "\n",
      "  [[[False False False False]\n",
      "    [False False False False]\n",
      "    [False False False False]\n",
      "    [False False False False]]\n",
      "\n",
      "   [[False False False False]\n",
      "    [False False False False]\n",
      "    [False False False False]\n",
      "    [False False False False]]\n",
      "\n",
      "   [[False False False False]\n",
      "    [False False False False]\n",
      "    [False False False False]\n",
      "    [False False False False]]\n",
      "\n",
      "   [[False False False False]\n",
      "    [False False False False]\n",
      "    [False False False False]\n",
      "    [False False False False]]]\n",
      "\n",
      "\n",
      "  [[[False False False False]\n",
      "    [False False False False]\n",
      "    [False False False False]\n",
      "    [False False False False]]\n",
      "\n",
      "   [[False False False False]\n",
      "    [False False False False]\n",
      "    [False False False False]\n",
      "    [False False False False]]\n",
      "\n",
      "   [[False False False False]\n",
      "    [False False False False]\n",
      "    [False False False False]\n",
      "    [False False False False]]\n",
      "\n",
      "   [[False False False False]\n",
      "    [False False False False]\n",
      "    [False False False False]\n",
      "    [False False False False]]]]\n",
      "\n",
      "\n",
      "\n",
      " [[[[False False False False]\n",
      "    [False False False False]\n",
      "    [False False False False]\n",
      "    [False False False False]]\n",
      "\n",
      "   [[False False False False]\n",
      "    [False False False False]\n",
      "    [False False False False]\n",
      "    [False False False False]]\n",
      "\n",
      "   [[False False False False]\n",
      "    [False False False False]\n",
      "    [False False False False]\n",
      "    [False False False False]]\n",
      "\n",
      "   [[False False False False]\n",
      "    [False False False False]\n",
      "    [False False False False]\n",
      "    [False False False False]]]\n",
      "\n",
      "\n",
      "  [[[False False False False]\n",
      "    [False False False False]\n",
      "    [False False False False]\n",
      "    [False False False False]]\n",
      "\n",
      "   [[False False False False]\n",
      "    [False False False False]\n",
      "    [False False False False]\n",
      "    [False False False False]]\n",
      "\n",
      "   [[False False False False]\n",
      "    [False False False False]\n",
      "    [False False False False]\n",
      "    [False False False False]]\n",
      "\n",
      "   [[False False False False]\n",
      "    [False False False False]\n",
      "    [False False False False]\n",
      "    [False False False False]]]\n",
      "\n",
      "\n",
      "  [[[False False False False]\n",
      "    [False False False False]\n",
      "    [False False False False]\n",
      "    [False False False False]]\n",
      "\n",
      "   [[False False False False]\n",
      "    [False False False False]\n",
      "    [False False False False]\n",
      "    [False False False False]]\n",
      "\n",
      "   [[False False False False]\n",
      "    [False False False False]\n",
      "    [False False False False]\n",
      "    [False False False False]]\n",
      "\n",
      "   [[False False False False]\n",
      "    [False False False False]\n",
      "    [False False False False]\n",
      "    [False False False False]]]\n",
      "\n",
      "\n",
      "  [[[False False False False]\n",
      "    [False False False False]\n",
      "    [False False False False]\n",
      "    [False False False False]]\n",
      "\n",
      "   [[False False False False]\n",
      "    [False False False False]\n",
      "    [False False False False]\n",
      "    [False False False False]]\n",
      "\n",
      "   [[False False False False]\n",
      "    [False False False False]\n",
      "    [False False False False]\n",
      "    [False False False False]]\n",
      "\n",
      "   [[False False False False]\n",
      "    [False False False False]\n",
      "    [False False False False]\n",
      "    [False False False False]]]]\n",
      "\n",
      "\n",
      "\n",
      " [[[[False False False False]\n",
      "    [False False False False]\n",
      "    [False False False False]\n",
      "    [False False False False]]\n",
      "\n",
      "   [[False False False False]\n",
      "    [False False False False]\n",
      "    [False False False False]\n",
      "    [False False False False]]\n",
      "\n",
      "   [[False False False False]\n",
      "    [False False False False]\n",
      "    [False False False False]\n",
      "    [False False False False]]\n",
      "\n",
      "   [[False False False False]\n",
      "    [False False False False]\n",
      "    [False False False False]\n",
      "    [False False False False]]]\n",
      "\n",
      "\n",
      "  [[[False False False False]\n",
      "    [False False False False]\n",
      "    [False False False False]\n",
      "    [False False False False]]\n",
      "\n",
      "   [[False False False False]\n",
      "    [False False False False]\n",
      "    [False False False False]\n",
      "    [False False False False]]\n",
      "\n",
      "   [[False False False False]\n",
      "    [False False False False]\n",
      "    [False False False False]\n",
      "    [False False False False]]\n",
      "\n",
      "   [[False False False False]\n",
      "    [False False False False]\n",
      "    [False False False False]\n",
      "    [False False False False]]]\n",
      "\n",
      "\n",
      "  [[[False False False False]\n",
      "    [False False False False]\n",
      "    [False False False False]\n",
      "    [False False False False]]\n",
      "\n",
      "   [[False False False False]\n",
      "    [False False False False]\n",
      "    [False False False False]\n",
      "    [False False False False]]\n",
      "\n",
      "   [[False False False False]\n",
      "    [False False False False]\n",
      "    [False False False False]\n",
      "    [False False False False]]\n",
      "\n",
      "   [[False False False False]\n",
      "    [False False False False]\n",
      "    [False False False False]\n",
      "    [False False False False]]]\n",
      "\n",
      "\n",
      "  [[[False False False False]\n",
      "    [False False False False]\n",
      "    [False False False False]\n",
      "    [False False False False]]\n",
      "\n",
      "   [[False False False False]\n",
      "    [False False False False]\n",
      "    [False False False False]\n",
      "    [False False False False]]\n",
      "\n",
      "   [[False False False False]\n",
      "    [False False False False]\n",
      "    [False False False False]\n",
      "    [False False False False]]\n",
      "\n",
      "   [[False False False False]\n",
      "    [False False False False]\n",
      "    [False False False False]\n",
      "    [False False False False]]]]\n",
      "\n",
      "\n",
      "\n",
      " [[[[False False False False]\n",
      "    [False False False False]\n",
      "    [False False False False]\n",
      "    [False False False False]]\n",
      "\n",
      "   [[False False False False]\n",
      "    [False False False False]\n",
      "    [False False False False]\n",
      "    [False False False False]]\n",
      "\n",
      "   [[False False False False]\n",
      "    [False False False False]\n",
      "    [False False False False]\n",
      "    [False False False False]]\n",
      "\n",
      "   [[False False False False]\n",
      "    [False False False False]\n",
      "    [False False False False]\n",
      "    [False False False False]]]\n",
      "\n",
      "\n",
      "  [[[False False False False]\n",
      "    [False False False False]\n",
      "    [False False False False]\n",
      "    [False False False False]]\n",
      "\n",
      "   [[False False False False]\n",
      "    [False False False False]\n",
      "    [False False False False]\n",
      "    [False False False False]]\n",
      "\n",
      "   [[False False False False]\n",
      "    [False False False False]\n",
      "    [False False False False]\n",
      "    [False False False False]]\n",
      "\n",
      "   [[False False False False]\n",
      "    [False False False False]\n",
      "    [False False False False]\n",
      "    [False False False False]]]\n",
      "\n",
      "\n",
      "  [[[False False False False]\n",
      "    [False False False False]\n",
      "    [False False False False]\n",
      "    [False False False False]]\n",
      "\n",
      "   [[False False False False]\n",
      "    [False False False False]\n",
      "    [False False False False]\n",
      "    [False False False False]]\n",
      "\n",
      "   [[False False False False]\n",
      "    [False False False False]\n",
      "    [False False False False]\n",
      "    [False False False False]]\n",
      "\n",
      "   [[False False False False]\n",
      "    [False False False False]\n",
      "    [False False False False]\n",
      "    [False False False False]]]\n",
      "\n",
      "\n",
      "  [[[False False False False]\n",
      "    [False False False False]\n",
      "    [False False False False]\n",
      "    [False False False False]]\n",
      "\n",
      "   [[False False False False]\n",
      "    [False False False False]\n",
      "    [False False False False]\n",
      "    [False False False False]]\n",
      "\n",
      "   [[False False False False]\n",
      "    [False False False False]\n",
      "    [False False False False]\n",
      "    [False False False False]]\n",
      "\n",
      "   [[False False False False]\n",
      "    [False False False False]\n",
      "    [False False False False]\n",
      "    [False False False False]]]]]\n"
     ]
    }
   ],
   "source": [
    "test = np.isnan(getEqualySharedUt(4, 3, (0,10)))\n",
    "print(test == True)"
   ]
  },
  {
   "cell_type": "code",
   "execution_count": 85,
   "metadata": {},
   "outputs": [
    {
     "ename": "AttributeError",
     "evalue": "'float' object has no attribute 'all'",
     "output_type": "error",
     "traceback": [
      "\u001b[0;31m---------------------------------------------------------------------------\u001b[0m",
      "\u001b[0;31mAttributeError\u001b[0m                            Traceback (most recent call last)",
      "\u001b[0;32m<ipython-input-85-7de06edcbce2>\u001b[0m in \u001b[0;36m<module>\u001b[0;34m\u001b[0m\n\u001b[0;32m----> 1\u001b[0;31m \u001b[0mnp\u001b[0m\u001b[0;34m.\u001b[0m\u001b[0mnan\u001b[0m\u001b[0;34m.\u001b[0m\u001b[0mall\u001b[0m\u001b[0;34m(\u001b[0m\u001b[0;34m)\u001b[0m\u001b[0;34m\u001b[0m\u001b[0;34m\u001b[0m\u001b[0m\n\u001b[0m",
      "\u001b[0;31mAttributeError\u001b[0m: 'float' object has no attribute 'all'"
     ]
    }
   ],
   "source": [
    "np.nan.all()"
   ]
  },
  {
   "cell_type": "code",
   "execution_count": 110,
   "metadata": {},
   "outputs": [
    {
     "data": {
      "text/plain": [
       "True"
      ]
     },
     "execution_count": 110,
     "metadata": {},
     "output_type": "execute_result"
    }
   ],
   "source": [
    "np.zeros(1).all() == 0"
   ]
  },
  {
   "cell_type": "code",
   "execution_count": 109,
   "metadata": {},
   "outputs": [
    {
     "name": "stdout",
     "output_type": "stream",
     "text": [
      "True\n"
     ]
    }
   ],
   "source": [
    "a = np.empty((3,3)).fill(np.nan)\n",
    "print(a == None)"
   ]
  },
  {
   "cell_type": "code",
   "execution_count": 95,
   "metadata": {},
   "outputs": [
    {
     "ename": "TypeError",
     "evalue": "ufunc 'isnan' not supported for the input types, and the inputs could not be safely coerced to any supported types according to the casting rule ''safe''",
     "output_type": "error",
     "traceback": [
      "\u001b[0;31m---------------------------------------------------------------------------\u001b[0m",
      "\u001b[0;31mTypeError\u001b[0m                                 Traceback (most recent call last)",
      "\u001b[0;32m<ipython-input-95-da86cb21b8a4>\u001b[0m in \u001b[0;36m<module>\u001b[0;34m\u001b[0m\n\u001b[0;32m----> 1\u001b[0;31m \u001b[0mnp\u001b[0m\u001b[0;34m.\u001b[0m\u001b[0misnan\u001b[0m\u001b[0;34m(\u001b[0m\u001b[0ma\u001b[0m\u001b[0;34m)\u001b[0m\u001b[0;34m\u001b[0m\u001b[0;34m\u001b[0m\u001b[0m\n\u001b[0m",
      "\u001b[0;31mTypeError\u001b[0m: ufunc 'isnan' not supported for the input types, and the inputs could not be safely coerced to any supported types according to the casting rule ''safe''"
     ]
    }
   ],
   "source": [
    "np.isnan(a)"
   ]
  },
  {
   "cell_type": "code",
   "execution_count": 100,
   "metadata": {},
   "outputs": [
    {
     "name": "stdout",
     "output_type": "stream",
     "text": [
      "[[[[[False False False False]\n",
      "    [False False False False]\n",
      "    [False False False False]\n",
      "    [False False False False]]\n",
      "\n",
      "   [[False False False False]\n",
      "    [False False False False]\n",
      "    [False False False False]\n",
      "    [False False False False]]\n",
      "\n",
      "   [[False False False False]\n",
      "    [False False False False]\n",
      "    [False False False False]\n",
      "    [False False False False]]\n",
      "\n",
      "   [[False False False False]\n",
      "    [False False False False]\n",
      "    [False False False False]\n",
      "    [False False False False]]]\n",
      "\n",
      "\n",
      "  [[[False False False False]\n",
      "    [False False False False]\n",
      "    [False False False False]\n",
      "    [False False False False]]\n",
      "\n",
      "   [[False False False False]\n",
      "    [False False False False]\n",
      "    [False False False False]\n",
      "    [False False False False]]\n",
      "\n",
      "   [[False False False False]\n",
      "    [False False False False]\n",
      "    [False False False False]\n",
      "    [False False False False]]\n",
      "\n",
      "   [[False False False False]\n",
      "    [False False False False]\n",
      "    [False False False False]\n",
      "    [False False False False]]]\n",
      "\n",
      "\n",
      "  [[[False False False False]\n",
      "    [False False False False]\n",
      "    [False False False False]\n",
      "    [False False False False]]\n",
      "\n",
      "   [[False False False False]\n",
      "    [False False False False]\n",
      "    [False False False False]\n",
      "    [False False False False]]\n",
      "\n",
      "   [[False False False False]\n",
      "    [False False False False]\n",
      "    [False False False False]\n",
      "    [False False False False]]\n",
      "\n",
      "   [[False False False False]\n",
      "    [False False False False]\n",
      "    [False False False False]\n",
      "    [False False False False]]]\n",
      "\n",
      "\n",
      "  [[[False False False False]\n",
      "    [False False False False]\n",
      "    [False False False False]\n",
      "    [False False False False]]\n",
      "\n",
      "   [[False False False False]\n",
      "    [False False False False]\n",
      "    [False False False False]\n",
      "    [False False False False]]\n",
      "\n",
      "   [[False False False False]\n",
      "    [False False False False]\n",
      "    [False False False False]\n",
      "    [False False False False]]\n",
      "\n",
      "   [[False False False False]\n",
      "    [False False False False]\n",
      "    [False False False False]\n",
      "    [False False False False]]]]\n",
      "\n",
      "\n",
      "\n",
      " [[[[False False False False]\n",
      "    [False False False False]\n",
      "    [False False False False]\n",
      "    [False False False False]]\n",
      "\n",
      "   [[False False False False]\n",
      "    [False False False False]\n",
      "    [False False False False]\n",
      "    [False False False False]]\n",
      "\n",
      "   [[False False False False]\n",
      "    [False False False False]\n",
      "    [False False False False]\n",
      "    [False False False False]]\n",
      "\n",
      "   [[False False False False]\n",
      "    [False False False False]\n",
      "    [False False False False]\n",
      "    [False False False False]]]\n",
      "\n",
      "\n",
      "  [[[False False False False]\n",
      "    [False False False False]\n",
      "    [False False False False]\n",
      "    [False False False False]]\n",
      "\n",
      "   [[False False False False]\n",
      "    [False False False False]\n",
      "    [False False False False]\n",
      "    [False False False False]]\n",
      "\n",
      "   [[False False False False]\n",
      "    [False False False False]\n",
      "    [False False False False]\n",
      "    [False False False False]]\n",
      "\n",
      "   [[False False False False]\n",
      "    [False False False False]\n",
      "    [False False False False]\n",
      "    [False False False False]]]\n",
      "\n",
      "\n",
      "  [[[False False False False]\n",
      "    [False False False False]\n",
      "    [False False False False]\n",
      "    [False False False False]]\n",
      "\n",
      "   [[False False False False]\n",
      "    [False False False False]\n",
      "    [False False False False]\n",
      "    [False False False False]]\n",
      "\n",
      "   [[False False False False]\n",
      "    [False False False False]\n",
      "    [False False False False]\n",
      "    [False False False False]]\n",
      "\n",
      "   [[False False False False]\n",
      "    [False False False False]\n",
      "    [False False False False]\n",
      "    [False False False False]]]\n",
      "\n",
      "\n",
      "  [[[False False False False]\n",
      "    [False False False False]\n",
      "    [False False False False]\n",
      "    [False False False False]]\n",
      "\n",
      "   [[False False False False]\n",
      "    [False False False False]\n",
      "    [False False False False]\n",
      "    [False False False False]]\n",
      "\n",
      "   [[False False False False]\n",
      "    [False False False False]\n",
      "    [False False False False]\n",
      "    [False False False False]]\n",
      "\n",
      "   [[False False False False]\n",
      "    [False False False False]\n",
      "    [False False False False]\n",
      "    [False False False False]]]]\n",
      "\n",
      "\n",
      "\n",
      " [[[[False False False False]\n",
      "    [False False False False]\n",
      "    [False False False False]\n",
      "    [False False False False]]\n",
      "\n",
      "   [[False False False False]\n",
      "    [False False False False]\n",
      "    [False False False False]\n",
      "    [False False False False]]\n",
      "\n",
      "   [[False False False False]\n",
      "    [False False False False]\n",
      "    [False False False False]\n",
      "    [False False False False]]\n",
      "\n",
      "   [[False False False False]\n",
      "    [False False False False]\n",
      "    [False False False False]\n",
      "    [False False False False]]]\n",
      "\n",
      "\n",
      "  [[[False False False False]\n",
      "    [False False False False]\n",
      "    [False False False False]\n",
      "    [False False False False]]\n",
      "\n",
      "   [[False False False False]\n",
      "    [False False False False]\n",
      "    [False False False False]\n",
      "    [False False False False]]\n",
      "\n",
      "   [[False False False False]\n",
      "    [False False False False]\n",
      "    [False False False False]\n",
      "    [False False False False]]\n",
      "\n",
      "   [[False False False False]\n",
      "    [False False False False]\n",
      "    [False False False False]\n",
      "    [False False False False]]]\n",
      "\n",
      "\n",
      "  [[[False False False False]\n",
      "    [False False False False]\n",
      "    [False False False False]\n",
      "    [False False False False]]\n",
      "\n",
      "   [[False False False False]\n",
      "    [False False False False]\n",
      "    [False False False False]\n",
      "    [False False False False]]\n",
      "\n",
      "   [[False False False False]\n",
      "    [False False False False]\n",
      "    [False False False False]\n",
      "    [False False False False]]\n",
      "\n",
      "   [[False False False False]\n",
      "    [False False False False]\n",
      "    [False False False False]\n",
      "    [False False False False]]]\n",
      "\n",
      "\n",
      "  [[[False False False False]\n",
      "    [False False False False]\n",
      "    [False False False False]\n",
      "    [False False False False]]\n",
      "\n",
      "   [[False False False False]\n",
      "    [False False False False]\n",
      "    [False False False False]\n",
      "    [False False False False]]\n",
      "\n",
      "   [[False False False False]\n",
      "    [False False False False]\n",
      "    [False False False False]\n",
      "    [False False False False]]\n",
      "\n",
      "   [[False False False False]\n",
      "    [False False False False]\n",
      "    [False False False False]\n",
      "    [False False False False]]]]\n",
      "\n",
      "\n",
      "\n",
      " [[[[False False False False]\n",
      "    [False False False False]\n",
      "    [False False False False]\n",
      "    [False False False False]]\n",
      "\n",
      "   [[False False False False]\n",
      "    [False False False False]\n",
      "    [False False False False]\n",
      "    [False False False False]]\n",
      "\n",
      "   [[False False False False]\n",
      "    [False False False False]\n",
      "    [False False False False]\n",
      "    [False False False False]]\n",
      "\n",
      "   [[False False False False]\n",
      "    [False False False False]\n",
      "    [False False False False]\n",
      "    [False False False False]]]\n",
      "\n",
      "\n",
      "  [[[False False False False]\n",
      "    [False False False False]\n",
      "    [False False False False]\n",
      "    [False False False False]]\n",
      "\n",
      "   [[False False False False]\n",
      "    [False False False False]\n",
      "    [False False False False]\n",
      "    [False False False False]]\n",
      "\n",
      "   [[False False False False]\n",
      "    [False False False False]\n",
      "    [False False False False]\n",
      "    [False False False False]]\n",
      "\n",
      "   [[False False False False]\n",
      "    [False False False False]\n",
      "    [False False False False]\n",
      "    [False False False False]]]\n",
      "\n",
      "\n",
      "  [[[False False False False]\n",
      "    [False False False False]\n",
      "    [False False False False]\n",
      "    [False False False False]]\n",
      "\n",
      "   [[False False False False]\n",
      "    [False False False False]\n",
      "    [False False False False]\n",
      "    [False False False False]]\n",
      "\n",
      "   [[False False False False]\n",
      "    [False False False False]\n",
      "    [False False False False]\n",
      "    [False False False False]]\n",
      "\n",
      "   [[False False False False]\n",
      "    [False False False False]\n",
      "    [False False False False]\n",
      "    [False False False False]]]\n",
      "\n",
      "\n",
      "  [[[False False False False]\n",
      "    [False False False False]\n",
      "    [False False False False]\n",
      "    [False False False False]]\n",
      "\n",
      "   [[False False False False]\n",
      "    [False False False False]\n",
      "    [False False False False]\n",
      "    [False False False False]]\n",
      "\n",
      "   [[False False False False]\n",
      "    [False False False False]\n",
      "    [False False False False]\n",
      "    [False False False False]]\n",
      "\n",
      "   [[False False False False]\n",
      "    [False False False False]\n",
      "    [False False False False]\n",
      "    [False False False False]]]]]\n"
     ]
    }
   ],
   "source": [
    "print(getEqualySharedUt(4, 3, (0,10)) == np.nan)"
   ]
  },
  {
   "cell_type": "code",
   "execution_count": 103,
   "metadata": {},
   "outputs": [
    {
     "data": {
      "text/plain": [
       "False"
      ]
     },
     "execution_count": 103,
     "metadata": {},
     "output_type": "execute_result"
    }
   ],
   "source": [
    "np.nan == np.nan"
   ]
  },
  {
   "cell_type": "code",
   "execution_count": null,
   "metadata": {},
   "outputs": [],
   "source": [
    "np()"
   ]
  }
 ],
 "metadata": {
  "kernelspec": {
   "display_name": "Python 3",
   "language": "python",
   "name": "python3"
  },
  "language_info": {
   "codemirror_mode": {
    "name": "ipython",
    "version": 3
   },
   "file_extension": ".py",
   "mimetype": "text/x-python",
   "name": "python",
   "nbconvert_exporter": "python",
   "pygments_lexer": "ipython3",
   "version": "3.8.5"
  }
 },
 "nbformat": 4,
 "nbformat_minor": 4
}
