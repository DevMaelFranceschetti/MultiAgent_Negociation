{
 "cells": [
  {
   "cell_type": "code",
   "execution_count": 1,
   "metadata": {},
   "outputs": [],
   "source": [
    "import numpy as np\n",
    "import time"
   ]
  },
  {
   "cell_type": "markdown",
   "metadata": {},
   "source": [
    "### Define vehicles and tasks sets"
   ]
  },
  {
   "cell_type": "code",
   "execution_count": 2,
   "metadata": {},
   "outputs": [],
   "source": [
    "vehicles = [0,1,2,3]\n",
    "tasks = [0,1,2]"
   ]
  },
  {
   "cell_type": "markdown",
   "metadata": {},
   "source": [
    "### Create random utility matrix"
   ]
  },
  {
   "cell_type": "markdown",
   "metadata": {},
   "source": [
    "We use a matrix to store the utilities of the vehicles for the different possible allocations.\n",
    "The advantage of using a matrix compared to storing all the possible combinations in a dictionary, a hashmap or similar, is that we save a lot of space because we don't have to store the keys, and the acces time is the same. The other advantage is that we can loop easily on the matrix and use optimized numpy functions over this matrix. Using a matrix could also be interesting to move the computations on GPU to speed it up for high dimentionnal instances."
   ]
  },
  {
   "cell_type": "raw",
   "metadata": {},
   "source": [
    "# Old version for tortured spirits : \n",
    "\n",
    "mat = np.zeros([len(tasks)]*len(vehicles)) # initialize a matrix of dimension tasks^vehicles\n",
    "concat = mat.shape + (len(vehicles), 0) \n",
    "# concat to add a dimension of size nb_vehicles on the last dimension, we add 0 to create a tuple\n",
    "shapes = concat[:-1] # remove the 0 added to create a tuple\n",
    "shapes # we get the shape of our final matrix, ex : 3,3,3,3,4 for 4 vehicles and 3 tasks \n",
    "# (dimension is tasks^vehicles * tasks)"
   ]
  },
  {
   "cell_type": "code",
   "execution_count": 3,
   "metadata": {},
   "outputs": [
    {
     "data": {
      "text/plain": [
       "(3, 3, 3, 3, 4)"
      ]
     },
     "execution_count": 3,
     "metadata": {},
     "output_type": "execute_result"
    }
   ],
   "source": [
    "# Clean version :\n",
    "\n",
    "def getShape(nb_vehicles, nb_tasks):\n",
    "    \"\"\" Compute the shape for this settings\n",
    "    \n",
    "    Parameters :\n",
    "        nb_vehicles : int, the number of vehicles\n",
    "        nb_tasks : int, the number of tasks\n",
    "        \n",
    "    Returns :\n",
    "        a tuple containing the shape (tasks^vehicles * vehicles),\n",
    "        that is the shape for the utility matrix.\n",
    "        \n",
    "    \"\"\"\n",
    "    list_dim = [nb_tasks]*nb_vehicles +[nb_vehicles]# matrix of shape tasks^vehicles * vehicles\n",
    "    return tuple(list_dim)\n",
    "\n",
    "shapes = getShape(len(vehicles),len(tasks))\n",
    "shapes"
   ]
  },
  {
   "cell_type": "code",
   "execution_count": 4,
   "metadata": {},
   "outputs": [],
   "source": [
    "ut = np.random.randint(0,10,shapes) # create utility matrix with random utilities"
   ]
  },
  {
   "cell_type": "code",
   "execution_count": 5,
   "metadata": {},
   "outputs": [
    {
     "data": {
      "text/plain": [
       "array([5, 4, 3, 2])"
      ]
     },
     "execution_count": 5,
     "metadata": {},
     "output_type": "execute_result"
    }
   ],
   "source": [
    "ut[0][0][0][0] # get utility of all agents when all do task 0"
   ]
  },
  {
   "cell_type": "code",
   "execution_count": 6,
   "metadata": {},
   "outputs": [
    {
     "data": {
      "text/plain": [
       "array([5, 4, 3, 2])"
      ]
     },
     "execution_count": 6,
     "metadata": {},
     "output_type": "execute_result"
    }
   ],
   "source": [
    "ind = tuple([0,0,0,0]) # accessing the matrix from array as index\n",
    "ut[ind]"
   ]
  },
  {
   "cell_type": "code",
   "execution_count": 157,
   "metadata": {},
   "outputs": [
    {
     "data": {
      "text/plain": [
       "array([9, 9, 5, 8])"
      ]
     },
     "execution_count": 157,
     "metadata": {},
     "output_type": "execute_result"
    }
   ],
   "source": [
    "ut[0][1][2][2] # get utility of all agents when allocation for vehicles to task is = 0,1,2,2 \n",
    "# (means vehicule 0 do task 0, vehicule 1 do task 1, vehicule 2 do task 2, vehicule 3 do task 2)"
   ]
  },
  {
   "cell_type": "markdown",
   "metadata": {},
   "source": [
    "### Defining usefull functions"
   ]
  },
  {
   "cell_type": "code",
   "execution_count": 7,
   "metadata": {},
   "outputs": [],
   "source": [
    "def replaceAlloc(allocation, v, t):\n",
    "    \"\"\" Compute the new allocation with task t asigned to vehicle v\n",
    "    \n",
    "    Parameters :\n",
    "        allocation : List(int) the list of tasks allocades to each vehicle (in order)\n",
    "        v : int, the vehicle id\n",
    "        t : int, the task id\n",
    "    \n",
    "    Returns :\n",
    "        List(int), the new allocation\n",
    "    \n",
    "    \"\"\"\n",
    "    return list(allocation[:v])+[t]+list(allocation[v+1:])"
   ]
  },
  {
   "cell_type": "code",
   "execution_count": 8,
   "metadata": {},
   "outputs": [],
   "source": [
    "def is_EN(utilities, allocation, vehicles, tasks):\n",
    "    \"\"\" Check if the current allocation is a Nash Equilibrium or not\n",
    "    \n",
    "    Parameters :\n",
    "        utilities : Matrix(int) the utility matrix of dimension nb_tasks^nb_vehicles * nb_vehicles\n",
    "        allocation : List(int) the list of tasks allocades to each vehicle (in order)\n",
    "        vehicle : List(int) the list of vehicle ids\n",
    "        tasks : List(int) the list of task ids\n",
    "    \n",
    "    Returns :\n",
    "        Tuple(boolean, int)\n",
    "        A tuple containing a boolean (True if this allocation is a Nash Equilibrium, else False)\n",
    "        and an integer that is the id of a vehicle that can increase its utility\n",
    "        by changing unilateraly its allocation (if not EN, -1)\n",
    "    \n",
    "    \"\"\"\n",
    "    for v in range(len(vehicles)) : # for each vehicle\n",
    "        current_task = allocation[v]\n",
    "        current_utility = utilities[tuple(allocation)][v]\n",
    "        for t in range(len(tasks)) :\n",
    "            if t != current_task : # check all other tasks\n",
    "                temp_ind = replaceAlloc(allocation, v, t) # allocating task t to vehicle v\n",
    "                utility = utilities[tuple(temp_ind)][v]\n",
    "                if utility > current_utility : # changing to another task gives more utility -> Not NE\n",
    "                    return (False, v)\n",
    "    return (True, -1)"
   ]
  },
  {
   "cell_type": "markdown",
   "metadata": {},
   "source": [
    "We also return the id of one vehicle that can increase its utility by changing its allocation, if the solution is not a Nash Equilibrium. \n",
    "It didn't increase the computation cost and avoids looping another time later on the utility table to find one in the Best Response Dynamics, it's all benefits."
   ]
  },
  {
   "cell_type": "markdown",
   "metadata": {},
   "source": [
    "##### Nash Equilibrium test example on small dimension"
   ]
  },
  {
   "cell_type": "code",
   "execution_count": 9,
   "metadata": {},
   "outputs": [
    {
     "data": {
      "text/plain": [
       "array([[[8, 0],\n",
       "        [8, 2],\n",
       "        [2, 2]],\n",
       "\n",
       "       [[8, 0],\n",
       "        [0, 4],\n",
       "        [8, 2]],\n",
       "\n",
       "       [[5, 7],\n",
       "        [0, 3],\n",
       "        [7, 3]]])"
      ]
     },
     "execution_count": 9,
     "metadata": {},
     "output_type": "execute_result"
    }
   ],
   "source": [
    "# Create setup : 2 vehicles, 3 tasks\n",
    "v = [0,1] # don't change, it's 2D example\n",
    "t = [0,1,2]\n",
    "ut_test = np.random.randint(0,10,(len(t),len(t),2))\n",
    "ut_test"
   ]
  },
  {
   "cell_type": "code",
   "execution_count": 10,
   "metadata": {},
   "outputs": [
    {
     "data": {
      "text/plain": [
       "(False, 1)"
      ]
     },
     "execution_count": 10,
     "metadata": {},
     "output_type": "execute_result"
    }
   ],
   "source": [
    "# Check EN for allocation (0,0)\n",
    "alloc = [0,0] # set allocation to check (0,1) -> first vehicle do task 0 and second do task 1\n",
    "is_EN(ut_test, alloc, v, t) # random example"
   ]
  },
  {
   "cell_type": "code",
   "execution_count": 11,
   "metadata": {},
   "outputs": [
    {
     "data": {
      "text/plain": [
       "(False, 0)"
      ]
     },
     "execution_count": 11,
     "metadata": {},
     "output_type": "execute_result"
    }
   ],
   "source": [
    "alloc = [0,1]\n",
    "ut_test[tuple(alloc)] = [0,0] # set allocation (0,1) to the lowest value for each vehicle\n",
    "ut_test[2,1] = [1,0] # set another allocation to a better score for one vehicle (in case matrix is full zero)\n",
    "is_EN(ut_test,alloc , v, t) # -> Is necessarly not an EN (result must be False)"
   ]
  },
  {
   "cell_type": "code",
   "execution_count": 12,
   "metadata": {},
   "outputs": [
    {
     "data": {
      "text/plain": [
       "(True, -1)"
      ]
     },
     "execution_count": 12,
     "metadata": {},
     "output_type": "execute_result"
    }
   ],
   "source": [
    "alloc = [0,1]\n",
    "ut_test[tuple(alloc)] = [10,10] # set allocation (0,1) to the highest value for each vehicle\n",
    "is_EN(ut_test, alloc, v, t) # -> Is necessarly  an EN (result must be True)"
   ]
  },
  {
   "cell_type": "code",
   "execution_count": 13,
   "metadata": {},
   "outputs": [
    {
     "data": {
      "text/plain": [
       "array([[[0., 0.],\n",
       "        [0., 0.],\n",
       "        [0., 0.]],\n",
       "\n",
       "       [[0., 0.],\n",
       "        [0., 0.],\n",
       "        [0., 0.]],\n",
       "\n",
       "       [[0., 0.],\n",
       "        [0., 0.],\n",
       "        [0., 0.]]])"
      ]
     },
     "execution_count": 13,
     "metadata": {},
     "output_type": "execute_result"
    }
   ],
   "source": [
    "ut_test_z = np.zeros((len(t),len(t),2)) # set all matrix to 0 (same value everywhere)\n",
    "ut_test_z"
   ]
  },
  {
   "cell_type": "code",
   "execution_count": 14,
   "metadata": {},
   "outputs": [
    {
     "data": {
      "text/plain": [
       "(True, -1)"
      ]
     },
     "execution_count": 14,
     "metadata": {},
     "output_type": "execute_result"
    }
   ],
   "source": [
    "alloc = [2,1] # when Zero everywhere, no solution is strictly better than the current\n",
    "is_EN(ut_test_z, alloc, v, t) # -> Is necessarly an EN (result must be True)"
   ]
  },
  {
   "cell_type": "markdown",
   "metadata": {},
   "source": [
    "### Best Response Dynamics"
   ]
  },
  {
   "cell_type": "code",
   "execution_count": 15,
   "metadata": {},
   "outputs": [],
   "source": [
    "def getBestTask(utilities, allocation, v, tasks):\n",
    "    \"\"\" Compute the best task for vehicle v\n",
    "    \n",
    "    Parameters :\n",
    "        utilities : Matrix(int) the utility matrix of dimension nb_tasks^nb_vehicles * nb_vehicles\n",
    "        allocation : List(int) the list of tasks allocades to each vehicle (in order)\n",
    "        v : int, the vehicle id\n",
    "        tasks : List(int) the list of task ids\n",
    "        \n",
    "    Returns : \n",
    "        int, the best task for vehicle v\n",
    "    \"\"\"\n",
    "    best = np.argmax([utilities[tuple(replaceAlloc(allocation, v, t))][v] for t in range(len(tasks))])\n",
    "    return best"
   ]
  },
  {
   "cell_type": "code",
   "execution_count": 16,
   "metadata": {},
   "outputs": [],
   "source": [
    "def bestResponseDynamic(utilities, vehicles, tasks, maxsteps):\n",
    "    \"\"\" Try to compute a Nash Equilibrium allofaction using Best Response Dynamics\n",
    "    \n",
    "    Parameters :\n",
    "        utilities : Matrix(int) the utility matrix of dimension nb_tasks^nb_vehicles * nb_vehicles\n",
    "        vehicles : List(int), the list of vehicle ids\n",
    "        tasks : List(int) the list of task ids\n",
    "        maxteps : int, the steps limit of the algorithm\n",
    "        \n",
    "    Returns : \n",
    "        List(int), a Nash Equilibrium allocation if one was found (no guarantee)\n",
    "        \n",
    "    \"\"\"\n",
    "    allocation = np.random.randint(0,len(tasks),len(vehicles)) # initial random allocation\n",
    "    end, id_change = is_EN(utilities, allocation, vehicles, tasks)\n",
    "    steps = 0\n",
    "    while not(end) and steps < maxsteps:\n",
    "        # vehicle id_change has interest to change to a better allocation\n",
    "        best = getBestTask(utilities, allocation, id_change, tasks) # get its best unilateral allocation\n",
    "        allocation = replaceAlloc(allocation, id_change, best) # set next allocation for id_change\n",
    "        end, id_change = is_EN(utilities, allocation, vehicles, tasks)\n",
    "        steps += 1\n",
    "    if not(end) and steps >= maxsteps: # cut the exection if maxsteps reached\n",
    "        print(\"Execution stopped : maximum step overflowed, no EN found.\")\n",
    "    return list(allocation)"
   ]
  },
  {
   "cell_type": "markdown",
   "metadata": {},
   "source": [
    "##### Best Response Dynamics test example on the initial matrix"
   ]
  },
  {
   "cell_type": "code",
   "execution_count": 17,
   "metadata": {},
   "outputs": [],
   "source": [
    "ut[2,2,1,1] = [10,10,10,10] # we create a global optimal affectation -> At least one EN in utilities table"
   ]
  },
  {
   "cell_type": "code",
   "execution_count": 18,
   "metadata": {},
   "outputs": [
    {
     "data": {
      "text/plain": [
       "[2, 2, 1, 1]"
      ]
     },
     "execution_count": 18,
     "metadata": {},
     "output_type": "execute_result"
    }
   ],
   "source": [
    "bestResponseDynamic(ut, vehicles, tasks, 1000) # the global optimum is reached (NE)"
   ]
  },
  {
   "cell_type": "code",
   "execution_count": 19,
   "metadata": {},
   "outputs": [
    {
     "name": "stdout",
     "output_type": "stream",
     "text": [
      "Execution stopped : maximum step overflowed, no EN found.\n"
     ]
    },
    {
     "data": {
      "text/plain": [
       "[2, 1, 0, 0]"
      ]
     },
     "execution_count": 19,
     "metadata": {},
     "output_type": "execute_result"
    }
   ],
   "source": [
    "bestResponseDynamic(ut, vehicles, tasks, 1000) # another Nash Equilibrium is sometimes reached"
   ]
  },
  {
   "cell_type": "markdown",
   "metadata": {},
   "source": [
    "### Fictitious Play"
   ]
  },
  {
   "cell_type": "code",
   "execution_count": 20,
   "metadata": {},
   "outputs": [
    {
     "name": "stdout",
     "output_type": "stream",
     "text": [
      "(3, 3, 3, 3, 4)\n"
     ]
    }
   ],
   "source": [
    "shapes = getShape(len(vehicles),len(tasks))\n",
    "print(shapes)\n",
    "ut = np.random.randint(0,10,shapes) # create utility matrix with random utilities"
   ]
  },
  {
   "cell_type": "code",
   "execution_count": 21,
   "metadata": {},
   "outputs": [],
   "source": [
    "def computeFrequency(proposals, tasks):\n",
    "    \"\"\" Compute the empirical frequency of each proposal\n",
    "    \n",
    "    Parameters :\n",
    "        proposals : List(int), the allocation proposed\n",
    "        tasks : List(int) the list of task ids\n",
    "        \n",
    "    Returns : \n",
    "        List(float), the empirical frequency of each proposal\n",
    "    \n",
    "    \"\"\"\n",
    "    return [np.count_nonzero(np.array(proposals) == t)/len(proposals) for t in range(len(tasks))]"
   ]
  },
  {
   "cell_type": "code",
   "execution_count": 22,
   "metadata": {},
   "outputs": [],
   "source": [
    "# testing frequencies computation\n",
    "proposals = [0,1,2,1,1,2,0,0,1,2,2,1,2,0,1,1,2,1,2,0,1] # proposals sequence made by an agent\n",
    "taks = [0,1,2] # define tasks"
   ]
  },
  {
   "cell_type": "code",
   "execution_count": 23,
   "metadata": {},
   "outputs": [
    {
     "data": {
      "text/plain": [
       "[0.23809523809523808, 0.42857142857142855, 0.3333333333333333]"
      ]
     },
     "execution_count": 23,
     "metadata": {},
     "output_type": "execute_result"
    }
   ],
   "source": [
    "computeFrequency(proposals,tasks) # compute frequency of each task in proposals"
   ]
  },
  {
   "cell_type": "code",
   "execution_count": 24,
   "metadata": {},
   "outputs": [],
   "source": [
    "def computeFullFrequencyMatrix(frequencies, vehicles, tasks): # not used\n",
    "    \"\"\"\n",
    "        Compute the joined frequency matrix of proposed allocation for each vehicle\n",
    "    \"\"\"\n",
    "    shapes = getShape(len(vehicles),len(tasks))\n",
    "    fMat = np.zeros(shapes)\n",
    "    allAlloc = [x for x,_ in np.ndenumerate(ut)]\n",
    "    for alloc in allAlloc :\n",
    "        fMat[alloc] = np.prod([frequencies[v][alloc[v]] for v in range(len(vehicles))])\n",
    "    return fMat"
   ]
  },
  {
   "cell_type": "code",
   "execution_count": 25,
   "metadata": {},
   "outputs": [],
   "source": [
    "# testing frequency matrix computation\n",
    "frequencies = np.random.random((4,10)) # random frequencies"
   ]
  },
  {
   "cell_type": "code",
   "execution_count": 26,
   "metadata": {},
   "outputs": [
    {
     "data": {
      "text/plain": [
       "array([[0.77218333, 0.56594313, 0.40350632, 0.90114795, 0.70722221,\n",
       "        0.06672194, 0.93242844, 0.80821439, 0.9235687 , 0.53211887],\n",
       "       [0.45635387, 0.60894687, 0.05908517, 0.49949698, 0.13064605,\n",
       "        0.95352202, 0.93259118, 0.94362164, 0.61045116, 0.97096061],\n",
       "       [0.08030695, 0.01369158, 0.71459327, 0.82379057, 0.18958987,\n",
       "        0.00731452, 0.96149911, 0.18237181, 0.14040539, 0.32068531],\n",
       "       [0.97604976, 0.58967468, 0.64995107, 0.48134723, 0.4866512 ,\n",
       "        0.18965693, 0.83336898, 0.39972483, 0.13940649, 0.8186635 ]])"
      ]
     },
     "execution_count": 26,
     "metadata": {},
     "output_type": "execute_result"
    }
   ],
   "source": [
    "frequencies"
   ]
  },
  {
   "cell_type": "code",
   "execution_count": 27,
   "metadata": {},
   "outputs": [
    {
     "data": {
      "text/plain": [
       "array([[[[[2.76214986e-02, 2.76214986e-02, 2.76214986e-02,\n",
       "           2.76214986e-02],\n",
       "          [1.66873649e-02, 1.66873649e-02, 1.66873649e-02,\n",
       "           1.66873649e-02],\n",
       "          [1.83931428e-02, 1.83931428e-02, 1.83931428e-02,\n",
       "           1.83931428e-02]],\n",
       "\n",
       "         [[4.70920442e-03, 4.70920442e-03, 4.70920442e-03,\n",
       "           4.70920442e-03],\n",
       "          [2.84503797e-03, 2.84503797e-03, 2.84503797e-03,\n",
       "           2.84503797e-03],\n",
       "          [3.13585698e-03, 3.13585698e-03, 3.13585698e-03,\n",
       "           3.13585698e-03]],\n",
       "\n",
       "         [[2.45783680e-01, 2.45783680e-01, 2.45783680e-01,\n",
       "           2.45783680e-01],\n",
       "          [1.48488755e-01, 1.48488755e-01, 1.48488755e-01,\n",
       "           1.48488755e-01],\n",
       "          [1.63667235e-01, 1.63667235e-01, 1.63667235e-01,\n",
       "           1.63667235e-01]]],\n",
       "\n",
       "\n",
       "        [[[3.68574175e-02, 3.68574175e-02, 3.68574175e-02,\n",
       "           3.68574175e-02],\n",
       "          [2.22671906e-02, 2.22671906e-02, 2.22671906e-02,\n",
       "           2.22671906e-02],\n",
       "          [2.45433367e-02, 2.45433367e-02, 2.45433367e-02,\n",
       "           2.45433367e-02]],\n",
       "\n",
       "         [[6.28384128e-03, 6.28384128e-03, 6.28384128e-03,\n",
       "           6.28384128e-03],\n",
       "          [3.79634551e-03, 3.79634551e-03, 3.79634551e-03,\n",
       "           3.79634551e-03],\n",
       "          [4.18440691e-03, 4.18440691e-03, 4.18440691e-03,\n",
       "           4.18440691e-03]],\n",
       "\n",
       "         [[3.27967422e-01, 3.27967422e-01, 3.27967422e-01,\n",
       "           3.27967422e-01],\n",
       "          [1.98139576e-01, 1.98139576e-01, 1.98139576e-01,\n",
       "           1.98139576e-01],\n",
       "          [2.18393350e-01, 2.18393350e-01, 2.18393350e-01,\n",
       "           2.18393350e-01]]],\n",
       "\n",
       "\n",
       "        [[[3.57621810e-03, 3.57621810e-03, 3.57621810e-03,\n",
       "           3.57621810e-03],\n",
       "          [2.16055099e-03, 2.16055099e-03, 2.16055099e-03,\n",
       "           2.16055099e-03],\n",
       "          [2.38140193e-03, 2.38140193e-03, 2.38140193e-03,\n",
       "           2.38140193e-03]],\n",
       "\n",
       "         [[6.09711381e-04, 6.09711381e-04, 6.09711381e-04,\n",
       "           6.09711381e-04],\n",
       "          [3.68353521e-04, 3.68353521e-04, 3.68353521e-04,\n",
       "           3.68353521e-04],\n",
       "          [4.06006518e-04, 4.06006518e-04, 4.06006518e-04,\n",
       "           4.06006518e-04]],\n",
       "\n",
       "         [[3.18221707e-02, 3.18221707e-02, 3.18221707e-02,\n",
       "           3.18221707e-02],\n",
       "          [1.92251760e-02, 1.92251760e-02, 1.92251760e-02,\n",
       "           1.92251760e-02],\n",
       "          [2.11903683e-02, 2.11903683e-02, 2.11903683e-02,\n",
       "           2.11903683e-02]]]],\n",
       "\n",
       "\n",
       "\n",
       "       [[[[2.02441528e-02, 2.02441528e-02, 2.02441528e-02,\n",
       "           2.02441528e-02],\n",
       "          [1.22303851e-02, 1.22303851e-02, 1.22303851e-02,\n",
       "           1.22303851e-02],\n",
       "          [1.34805717e-02, 1.34805717e-02, 1.34805717e-02,\n",
       "           1.34805717e-02]],\n",
       "\n",
       "         [[3.45143669e-03, 3.45143669e-03, 3.45143669e-03,\n",
       "           3.45143669e-03],\n",
       "          [2.08516504e-03, 2.08516504e-03, 2.08516504e-03,\n",
       "           2.08516504e-03],\n",
       "          [2.29831005e-03, 2.29831005e-03, 2.29831005e-03,\n",
       "           2.29831005e-03]],\n",
       "\n",
       "         [[1.80138031e-01, 1.80138031e-01, 1.80138031e-01,\n",
       "           1.80138031e-01],\n",
       "          [1.08829325e-01, 1.08829325e-01, 1.08829325e-01,\n",
       "           1.08829325e-01],\n",
       "          [1.19953829e-01, 1.19953829e-01, 1.19953829e-01,\n",
       "           1.19953829e-01]]],\n",
       "\n",
       "\n",
       "        [[[2.70132769e-02, 2.70132769e-02, 2.70132769e-02,\n",
       "           2.70132769e-02],\n",
       "          [1.63199113e-02, 1.63199113e-02, 1.63199113e-02,\n",
       "           1.63199113e-02],\n",
       "          [1.79881282e-02, 1.79881282e-02, 1.79881282e-02,\n",
       "           1.79881282e-02]],\n",
       "\n",
       "         [[4.60550837e-03, 4.60550837e-03, 4.60550837e-03,\n",
       "           4.60550837e-03],\n",
       "          [2.78239061e-03, 2.78239061e-03, 2.78239061e-03,\n",
       "           2.78239061e-03],\n",
       "          [3.06680583e-03, 3.06680583e-03, 3.06680583e-03,\n",
       "           3.06680583e-03]],\n",
       "\n",
       "         [[2.40371556e-01, 2.40371556e-01, 2.40371556e-01,\n",
       "           2.40371556e-01],\n",
       "          [1.45219052e-01, 1.45219052e-01, 1.45219052e-01,\n",
       "           1.45219052e-01],\n",
       "          [1.60063304e-01, 1.60063304e-01, 1.60063304e-01,\n",
       "           1.60063304e-01]]],\n",
       "\n",
       "\n",
       "        [[[2.62105639e-03, 2.62105639e-03, 2.62105639e-03,\n",
       "           2.62105639e-03],\n",
       "          [1.58349570e-03, 1.58349570e-03, 1.58349570e-03,\n",
       "           1.58349570e-03],\n",
       "          [1.74536020e-03, 1.74536020e-03, 1.74536020e-03,\n",
       "           1.74536020e-03]],\n",
       "\n",
       "         [[4.46865339e-04, 4.46865339e-04, 4.46865339e-04,\n",
       "           4.46865339e-04],\n",
       "          [2.69971049e-04, 2.69971049e-04, 2.69971049e-04,\n",
       "           2.69971049e-04],\n",
       "          [2.97567416e-04, 2.97567416e-04, 2.97567416e-04,\n",
       "           2.97567416e-04]],\n",
       "\n",
       "         [[2.33228795e-02, 2.33228795e-02, 2.33228795e-02,\n",
       "           2.33228795e-02],\n",
       "          [1.40903796e-02, 1.40903796e-02, 1.40903796e-02,\n",
       "           1.40903796e-02],\n",
       "          [1.55306944e-02, 1.55306944e-02, 1.55306944e-02,\n",
       "           1.55306944e-02]]]],\n",
       "\n",
       "\n",
       "\n",
       "       [[[[1.44336829e-02, 1.44336829e-02, 1.44336829e-02,\n",
       "           1.44336829e-02],\n",
       "          [8.72002409e-03, 8.72002409e-03, 8.72002409e-03,\n",
       "           8.72002409e-03],\n",
       "          [9.61138259e-03, 9.61138259e-03, 9.61138259e-03,\n",
       "           9.61138259e-03]],\n",
       "\n",
       "         [[2.46080650e-03, 2.46080650e-03, 2.46080650e-03,\n",
       "           2.46080650e-03],\n",
       "          [1.48668168e-03, 1.48668168e-03, 1.48668168e-03,\n",
       "           1.48668168e-03],\n",
       "          [1.63864988e-03, 1.63864988e-03, 1.63864988e-03,\n",
       "           1.63864988e-03]],\n",
       "\n",
       "         [[1.28434874e-01, 1.28434874e-01, 1.28434874e-01,\n",
       "           1.28434874e-01],\n",
       "          [7.75931689e-02, 7.75931689e-02, 7.75931689e-02,\n",
       "           7.75931689e-02],\n",
       "          [8.55247215e-02, 8.55247215e-02, 8.55247215e-02,\n",
       "           8.55247215e-02]]],\n",
       "\n",
       "\n",
       "        [[[1.92599354e-02, 1.92599354e-02, 1.92599354e-02,\n",
       "           1.92599354e-02],\n",
       "          [1.16357759e-02, 1.16357759e-02, 1.16357759e-02,\n",
       "           1.16357759e-02],\n",
       "          [1.28251818e-02, 1.28251818e-02, 1.28251818e-02,\n",
       "           1.28251818e-02]],\n",
       "\n",
       "         [[3.28363692e-03, 3.28363692e-03, 3.28363692e-03,\n",
       "           3.28363692e-03],\n",
       "          [1.98378980e-03, 1.98378980e-03, 1.98378980e-03,\n",
       "           1.98378980e-03],\n",
       "          [2.18657226e-03, 2.18657226e-03, 2.18657226e-03,\n",
       "           2.18657226e-03]],\n",
       "\n",
       "         [[1.71380194e-01, 1.71380194e-01, 1.71380194e-01,\n",
       "           1.71380194e-01],\n",
       "          [1.03538329e-01, 1.03538329e-01, 1.03538329e-01,\n",
       "           1.03538329e-01],\n",
       "          [1.14121989e-01, 1.14121989e-01, 1.14121989e-01,\n",
       "           1.14121989e-01]]],\n",
       "\n",
       "\n",
       "        [[[1.86876168e-03, 1.86876168e-03, 1.86876168e-03,\n",
       "           1.86876168e-03],\n",
       "          [1.12900130e-03, 1.12900130e-03, 1.12900130e-03,\n",
       "           1.12900130e-03],\n",
       "          [1.24440751e-03, 1.24440751e-03, 1.24440751e-03,\n",
       "           1.24440751e-03]],\n",
       "\n",
       "         [[3.18606201e-04, 3.18606201e-04, 3.18606201e-04,\n",
       "           3.18606201e-04],\n",
       "          [1.92484050e-04, 1.92484050e-04, 1.92484050e-04,\n",
       "           1.92484050e-04],\n",
       "          [2.12159718e-04, 2.12159718e-04, 2.12159718e-04,\n",
       "           2.12159718e-04]],\n",
       "\n",
       "         [[1.66287546e-02, 1.66287546e-02, 1.66287546e-02,\n",
       "           1.66287546e-02],\n",
       "          [1.00461636e-02, 1.00461636e-02, 1.00461636e-02,\n",
       "           1.00461636e-02],\n",
       "          [1.10730797e-02, 1.10730797e-02, 1.10730797e-02,\n",
       "           1.10730797e-02]]]]])"
      ]
     },
     "execution_count": 27,
     "metadata": {},
     "output_type": "execute_result"
    }
   ],
   "source": [
    "computeFullFrequencyMatrix(frequencies, vehicles, tasks)"
   ]
  },
  {
   "cell_type": "code",
   "execution_count": 28,
   "metadata": {},
   "outputs": [],
   "source": [
    "def computePartialFrequencyMatrix(utilities, frequencies, vehicles, tasks, v):\n",
    "    \"\"\"\n",
    "        Compute the expected utility for vehicle v foreach task, considering for each \n",
    "        other vehicle a random allocation choice with probability equal to empirical frequency observed \n",
    "        \n",
    "    \"\"\"\n",
    "    temp_vehicles = vehicles[:v] + vehicles[v+1:] # create a list of index without vehicle v\n",
    "    temp_alloc = np.zeros([len(tasks)]*(len(vehicles)-1)) # create a 0 array of shape (vehicles-1)^task\n",
    "    allAlloc = [x for x,_ in np.ndenumerate(temp_alloc)] # enumerate all possible allocations for these vehicles\n",
    "    expectations = []\n",
    "    for t in range(len(tasks)):\n",
    "        expected = 0\n",
    "        for alloc in allAlloc : # for each possible allocation for vehicles without v\n",
    "            # compute proba for these vehicles to do this allocation : \n",
    "            proba = np.prod([frequencies[temp_vehicles[v]][alloc[v]] for v in range(len(temp_vehicles))])\n",
    "            # recreating full allocation with v :\n",
    "            index = [0]*len(vehicles)\n",
    "            for i in range(len(temp_vehicles)) :\n",
    "                index[temp_vehicles[i]] = alloc[i]\n",
    "            index[v] = t\n",
    "            # get the utility for v if it do task t with this allocation for the other vehicles\n",
    "            utility = utilities[tuple(index)][v]\n",
    "            expected+= utility * proba # add proba time the utility of v to the expectation\n",
    "        expectations.append(expected)\n",
    "    return expectations"
   ]
  },
  {
   "cell_type": "code",
   "execution_count": 29,
   "metadata": {},
   "outputs": [
    {
     "data": {
      "text/plain": [
       "array([[0.4142567 , 0.50331641, 0.79156941, 0.33243127, 0.19619193,\n",
       "        0.87384948, 0.44064743, 0.77407008, 0.30313702, 0.59035715],\n",
       "       [0.4939105 , 0.29034932, 0.64376743, 0.13747091, 0.13375759,\n",
       "        0.50306303, 0.06126503, 0.83430303, 0.25725455, 0.58932974],\n",
       "       [0.0181441 , 0.62627871, 0.49613792, 0.82825344, 0.5310992 ,\n",
       "        0.22601194, 0.87393285, 0.38175756, 0.12310519, 0.71181585],\n",
       "       [0.58922353, 0.75358145, 0.84801749, 0.24807983, 0.94206083,\n",
       "        0.55569962, 0.47079939, 0.66734483, 0.50304327, 0.94048099]])"
      ]
     },
     "execution_count": 29,
     "metadata": {},
     "output_type": "execute_result"
    }
   ],
   "source": [
    "# testing expectation computation\n",
    "frequencies = np.random.random((4,10)) # random frequencies (note that sum != 1, it's just for example)\n",
    "frequencies"
   ]
  },
  {
   "cell_type": "code",
   "execution_count": 30,
   "metadata": {},
   "outputs": [
    {
     "name": "stdout",
     "output_type": "stream",
     "text": [
      "[17.374747842579325, 16.55283501957941, 13.655112722786956] --> task 0\n",
      "[19.794703891116352, 20.715119884412186, 19.330134663280347] --> task 1\n",
      "[21.1377895178693, 22.05775842277379, 22.12597270220654] --> task 2\n",
      "[11.297063250130083, 12.785203365158171, 18.442974504311557] --> task 2\n"
     ]
    }
   ],
   "source": [
    "for v in vehicles : # get the task with the highest utility expectation for each vehicle\n",
    "    expect = computePartialFrequencyMatrix(ut, frequencies, vehicles, tasks, v)\n",
    "    print(str(expect)+\" --> task \"+str(np.argmax(expect)))"
   ]
  },
  {
   "cell_type": "code",
   "execution_count": 31,
   "metadata": {},
   "outputs": [],
   "source": [
    "def fictitiousPlay(utilities, vehicles, tasks, maxsteps):\n",
    "    \"\"\" Play Fictitious Play until maxsteps\n",
    "    \n",
    "    Parameters :\n",
    "        utilities : Matrix(int) the utility matrix of dimension nb_tasks^nb_vehicles * nb_vehicles\n",
    "        vehicles : List(int), the list of vehicle ids\n",
    "        tasks : List(int) the list of task ids\n",
    "        maxteps : int, the steps limit of the algorithm\n",
    "        \n",
    "    Returns : \n",
    "        List(int), the found allocation after maxsteps steps (no optimality guarantee)\n",
    "        \n",
    "    \"\"\"\n",
    "    passedPropositions = [[t for t in tasks] for v in vehicles]\n",
    "    steps = 0\n",
    "    while steps < maxsteps:\n",
    "        for v in vehicles :\n",
    "            f = [computeFrequency(passedPropositions[v],tasks) for v in vehicles]\n",
    "            expect = computePartialFrequencyMatrix(utilities, f, vehicles, tasks, v)\n",
    "            bestTask = np.argmax(expect)\n",
    "            passedPropositions[v].append(bestTask)\n",
    "        #print([passedPropositions[v][-1] for v in vehicles])\n",
    "        steps += 1\n",
    "    return list([passedPropositions[v][-1] for v in vehicles])"
   ]
  },
  {
   "cell_type": "code",
   "execution_count": 32,
   "metadata": {},
   "outputs": [],
   "source": [
    "# testing FP compared to BRD on some examples :"
   ]
  },
  {
   "cell_type": "code",
   "execution_count": 33,
   "metadata": {},
   "outputs": [
    {
     "name": "stdout",
     "output_type": "stream",
     "text": [
      "Execution stopped : maximum step overflowed, no EN found.\n"
     ]
    },
    {
     "data": {
      "text/plain": [
       "[1, 0, 1, 1]"
      ]
     },
     "execution_count": 33,
     "metadata": {},
     "output_type": "execute_result"
    }
   ],
   "source": [
    "bestResponseDynamic(ut, vehicles, tasks, 1000)"
   ]
  },
  {
   "cell_type": "code",
   "execution_count": 34,
   "metadata": {},
   "outputs": [
    {
     "name": "stdout",
     "output_type": "stream",
     "text": [
      "Execution stopped : maximum step overflowed, no EN found.\n"
     ]
    },
    {
     "data": {
      "text/plain": [
       "[1, 1, 0, 1]"
      ]
     },
     "execution_count": 34,
     "metadata": {},
     "output_type": "execute_result"
    }
   ],
   "source": [
    "bestResponseDynamic(ut, vehicles, tasks, 1000)"
   ]
  },
  {
   "cell_type": "code",
   "execution_count": 35,
   "metadata": {},
   "outputs": [
    {
     "name": "stdout",
     "output_type": "stream",
     "text": [
      "Execution stopped : maximum step overflowed, no EN found.\n"
     ]
    },
    {
     "data": {
      "text/plain": [
       "[1, 1, 1, 1]"
      ]
     },
     "execution_count": 35,
     "metadata": {},
     "output_type": "execute_result"
    }
   ],
   "source": [
    "bestResponseDynamic(ut, vehicles, tasks, 1000)"
   ]
  },
  {
   "cell_type": "code",
   "execution_count": 36,
   "metadata": {},
   "outputs": [
    {
     "data": {
      "text/plain": [
       "[0, 2, 1, 2]"
      ]
     },
     "execution_count": 36,
     "metadata": {},
     "output_type": "execute_result"
    }
   ],
   "source": [
    "fictitiousPlay(ut, vehicles, tasks, 1000)"
   ]
  },
  {
   "cell_type": "code",
   "execution_count": 37,
   "metadata": {},
   "outputs": [
    {
     "data": {
      "text/plain": [
       "[0, 2, 1, 2]"
      ]
     },
     "execution_count": 37,
     "metadata": {},
     "output_type": "execute_result"
    }
   ],
   "source": [
    "fictitiousPlay(ut, vehicles, tasks, 1000) # this is a better solution than BRD's NE in term of social utility"
   ]
  },
  {
   "cell_type": "code",
   "execution_count": 38,
   "metadata": {},
   "outputs": [
    {
     "name": "stdout",
     "output_type": "stream",
     "text": [
      "FP : [4 7 2 7] -> mean 5.0\n",
      "FP : [9 6 7 3] -> mean 6.25\n",
      "BRD : [3 1 4 2] -> mean 2.5\n",
      "BRD : [4 4 8 8] -> mean 6.0\n",
      "BRD : [6 0 0 2] -> mean 2.0\n"
     ]
    }
   ],
   "source": [
    "# (if cells before have been re-run, it's no more the same ut matrix so no more the same results)\n",
    "# obtained with fictitious play :  \n",
    "# [2,1,1,0]  (maxsteps 500)\n",
    "# [2,1,2,0]  (maxsteps 1500)\n",
    "print(\"FP : \"+str(ut[2,1,1,0])+\" -> mean \"+str(np.mean(ut[2,1,1,0])))\n",
    "print(\"FP : \"+str(ut[2,1,2,0])+\" -> mean \"+str(np.mean(ut[2,1,2,0])))\n",
    "\n",
    "# obtained with best response dynamic : \n",
    "# [1,2,0,0]  (maxsteps 1000)\n",
    "# [2,0,1,2]  (maxsteps 1000)\n",
    "# [0,0,2,1]  (maxsteps 1000)\n",
    "\n",
    "print(\"BRD : \"+str(ut[1,2,0,0])+\" -> mean \"+str(np.mean(ut[1,2,0,0])))\n",
    "print(\"BRD : \"+str(ut[2,0,1,2])+\" -> mean \"+str(np.mean(ut[2,0,1,2])))\n",
    "print(\"BRD : \"+str(ut[0,0,2,1])+\" -> mean \"+str(np.mean(ut[0,0,2,1])))"
   ]
  },
  {
   "cell_type": "markdown",
   "metadata": {},
   "source": [
    "### Regret Matching"
   ]
  },
  {
   "cell_type": "code",
   "execution_count": 39,
   "metadata": {},
   "outputs": [],
   "source": [
    "def computeR(R, u, k, tasks, alloc, v): # not used\n",
    "    \"\"\" Update the average regret table of vehicle v for not proposing each task\n",
    "    \n",
    "    Parameters:\n",
    "        R : np.array(float) the regret table for each action at each step k (size: steps*tasks)\n",
    "        u : the utility matrix\n",
    "        k : int, the current time step\n",
    "        tasks : List(int), the list of tasks id\n",
    "        alloc : List(int), the current allocation\n",
    "        v : int, the vehicle\n",
    "    \n",
    "    \"\"\"\n",
    "    if k == 0:\n",
    "        return\n",
    "    for t in tasks :\n",
    "        loss = u[tuple(replaceAlloc(alloc, v, t))][v] - u[alloc][v]\n",
    "        R[k+1,t] = ((k-1)/k)*R[k,t] + (1/k) * loss\n",
    "\n",
    "def getNextR(lastR, u, k, tasks, alloc, v):\n",
    "    \"\"\" Compute the average regret vector of vehicle v for not proposing each task, based on last regret vector\n",
    "    \n",
    "    Parameters:\n",
    "        lastR : np.array(float) the regret vactor for each task at last step k-1\n",
    "        u : the utility matrix\n",
    "        k : int, the current time step\n",
    "        tasks : List(int), the list of tasks id\n",
    "        alloc : List(int), the current allocation\n",
    "        v : int, the vehicle\n",
    "    Return:\n",
    "        np.array(float) the regret vactor for each action at current step k\n",
    "    \"\"\"\n",
    "    if k == 0:\n",
    "        return np.zeros(len(tasks))\n",
    "    else :\n",
    "        return np.array([((k-1)/k)*lastR[t] + (1/k) * (u[tuple(replaceAlloc(alloc, v, t))][v] - u[alloc][v]) for t in tasks])\n",
    "        "
   ]
  },
  {
   "cell_type": "code",
   "execution_count": 40,
   "metadata": {},
   "outputs": [],
   "source": [
    "# computing regret during random play using a regret table\n",
    "v=0\n",
    "total_steps = 10\n",
    "R = np.zeros((total_steps, len(tasks)))\n",
    "for i in range(9) : # computing regret during random play\n",
    "    computeR(R, ut, i, tasks, tuple(np.random.randint(0,len(tasks),len(vehicles))),v)"
   ]
  },
  {
   "cell_type": "code",
   "execution_count": 41,
   "metadata": {},
   "outputs": [
    {
     "data": {
      "text/plain": [
       "array([[ 0.        ,  0.        ,  0.        ],\n",
       "       [ 0.        ,  0.        ,  0.        ],\n",
       "       [ 0.        ,  0.        , -5.        ],\n",
       "       [ 0.        ,  1.5       , -4.        ],\n",
       "       [ 0.        ,  1.        , -4.33333333],\n",
       "       [ 0.        ,  2.25      , -2.5       ],\n",
       "       [-0.4       ,  1.8       , -3.4       ],\n",
       "       [ 0.5       ,  1.83333333, -2.83333333],\n",
       "       [ 1.        ,  1.28571429, -2.42857143],\n",
       "       [ 0.875     ,  1.875     , -2.125     ]])"
      ]
     },
     "execution_count": 41,
     "metadata": {},
     "output_type": "execute_result"
    }
   ],
   "source": [
    "R # regret at each step k"
   ]
  },
  {
   "cell_type": "code",
   "execution_count": 42,
   "metadata": {},
   "outputs": [
    {
     "name": "stdout",
     "output_type": "stream",
     "text": [
      "[0. 0. 0.]\n",
      "[-9. -2.  0.]\n",
      "[-4.5 -1.  -0.5]\n",
      "[-3.         -2.66666667 -2.33333333]\n",
      "[-3.75 -2.   -2.75]\n",
      "[-3.  -1.6 -2.2]\n",
      "[-3.         -0.83333333 -1.83333333]\n",
      "[-2.57142857 -1.85714286 -2.28571429]\n",
      "[-2.25  -0.875 -1.875]\n"
     ]
    }
   ],
   "source": [
    "# computing it during random play with last regret only (no regret table)\n",
    "v=0\n",
    "lastR = np.zeros(len(tasks)) \n",
    "for k in range(9) : # computing regret during random play\n",
    "    lastR = getNextR(lastR, ut, k, tasks, tuple(np.random.randint(0,len(tasks),len(vehicles))),v)\n",
    "    print(lastR)"
   ]
  },
  {
   "cell_type": "code",
   "execution_count": 43,
   "metadata": {},
   "outputs": [],
   "source": [
    "def probaFromRegret(R):\n",
    "    \"\"\" Compute the probability to propose each task depending on the regret vector\n",
    "    \n",
    "    Parameters:\n",
    "        R : np.array(float) the regret vector for each action at current step k     \n",
    "    Return:\n",
    "        np.array(float) the probability vector for each action at current step k\n",
    "    \n",
    "    \"\"\"\n",
    "    Rn = np.array(R)\n",
    "    positive_reg = np.where(Rn > 0, Rn, 0)\n",
    "    if np.sum(positive_reg) == 0:\n",
    "        proba = np.ones(len(R))/len(R)\n",
    "    else :\n",
    "        proba = positive_reg/np.sum(positive_reg)\n",
    "    return proba"
   ]
  },
  {
   "cell_type": "code",
   "execution_count": 44,
   "metadata": {},
   "outputs": [
    {
     "name": "stdout",
     "output_type": "stream",
     "text": [
      "regret vector for v : [-2.25  -0.875 -1.875]\n",
      "proba : \n",
      "[0.33333333 0.33333333 0.33333333]\n",
      "proba when all regrets <=0 : \n",
      "[0.33333333 0.33333333 0.33333333]\n"
     ]
    }
   ],
   "source": [
    "print(\"regret vector for v : \"+str(lastR))\n",
    "print(\"proba : \")\n",
    "print(probaFromRegret(lastR)) # getting proba based on lastR regret vector\n",
    "print(\"proba when all regrets <=0 : \")\n",
    "print(probaFromRegret([0,0,0])) # if all <=0 : same proba for all"
   ]
  },
  {
   "cell_type": "code",
   "execution_count": 45,
   "metadata": {},
   "outputs": [],
   "source": [
    "def RegretMatching(utilities, vehicles, tasks, maxsteps):\n",
    "    \"\"\" Play Regret Matching until maxsteps\n",
    "    \n",
    "    Parameters :\n",
    "        utilities : Matrix(int) the utility matrix of dimension nb_tasks^nb_vehicles * nb_vehicles\n",
    "        vehicles : List(int), the list of vehicle ids\n",
    "        tasks : List(int) the list of task ids\n",
    "        maxteps : int, the steps limit of the algorithm\n",
    "        \n",
    "    Returns : \n",
    "        List(int), the found allocation after maxsteps steps (no optimality guarantee)\n",
    "        \n",
    "    \"\"\"\n",
    "    k = 0\n",
    "    lastR = np.zeros((len(vehicles), len(tasks)))\n",
    "    cur_alloc = np.random.randint(0,len(tasks), len(vehicles))\n",
    "    next_alloc = np.random.randint(0,len(tasks), len(vehicles))\n",
    "    while k < maxsteps:\n",
    "        for v in vehicles:\n",
    "            lastRv = lastR[v]\n",
    "            nextRv = getNextR(lastRv, ut, k, tasks, tuple(cur_alloc), v)\n",
    "            proba = probaFromRegret(nextRv)\n",
    "            task = np.random.choice(tasks, p=proba)\n",
    "            next_alloc[v] = task\n",
    "            lastR[v] = nextRv # update the regret of v\n",
    "        #print(next_alloc)\n",
    "        cur_alloc = next_alloc # update the allocation\n",
    "        k += 1\n",
    "    return list(cur_alloc)"
   ]
  },
  {
   "cell_type": "code",
   "execution_count": 46,
   "metadata": {},
   "outputs": [],
   "source": [
    "# some runs of the 3 methods on the same ut matrix :"
   ]
  },
  {
   "cell_type": "code",
   "execution_count": 47,
   "metadata": {},
   "outputs": [
    {
     "data": {
      "text/plain": [
       "[0, 2, 1, 2]"
      ]
     },
     "execution_count": 47,
     "metadata": {},
     "output_type": "execute_result"
    }
   ],
   "source": [
    "RegretMatching(ut, vehicles, tasks, 1000) "
   ]
  },
  {
   "cell_type": "code",
   "execution_count": 48,
   "metadata": {},
   "outputs": [
    {
     "data": {
      "text/plain": [
       "[0, 2, 1, 2]"
      ]
     },
     "execution_count": 48,
     "metadata": {},
     "output_type": "execute_result"
    }
   ],
   "source": [
    "RegretMatching(ut, vehicles, tasks, 1000)"
   ]
  },
  {
   "cell_type": "code",
   "execution_count": 21,
   "metadata": {},
   "outputs": [
    {
     "data": {
      "text/plain": [
       "[0, 1, 2, 1]"
      ]
     },
     "execution_count": 21,
     "metadata": {},
     "output_type": "execute_result"
    }
   ],
   "source": [
    "RegretMatching(ut, vehicles, tasks, 1000)"
   ]
  },
  {
   "cell_type": "code",
   "execution_count": 23,
   "metadata": {},
   "outputs": [
    {
     "data": {
      "text/plain": [
       "[1, 1, 2, 0]"
      ]
     },
     "execution_count": 23,
     "metadata": {},
     "output_type": "execute_result"
    }
   ],
   "source": [
    "fictitiousPlay(ut, vehicles, tasks, 1000)"
   ]
  },
  {
   "cell_type": "code",
   "execution_count": 24,
   "metadata": {},
   "outputs": [
    {
     "data": {
      "text/plain": [
       "[1, 1, 2, 0]"
      ]
     },
     "execution_count": 24,
     "metadata": {},
     "output_type": "execute_result"
    }
   ],
   "source": [
    "fictitiousPlay(ut, vehicles, tasks, 1000)"
   ]
  },
  {
   "cell_type": "code",
   "execution_count": 25,
   "metadata": {},
   "outputs": [
    {
     "data": {
      "text/plain": [
       "[1, 1, 2, 0]"
      ]
     },
     "execution_count": 25,
     "metadata": {},
     "output_type": "execute_result"
    }
   ],
   "source": [
    "fictitiousPlay(ut, vehicles, tasks, 1000)"
   ]
  },
  {
   "cell_type": "code",
   "execution_count": 26,
   "metadata": {},
   "outputs": [
    {
     "name": "stdout",
     "output_type": "stream",
     "text": [
      "Execution stopped : maximum step overflowed, no EN found.\n"
     ]
    },
    {
     "data": {
      "text/plain": [
       "[0, 1, 1, 2]"
      ]
     },
     "execution_count": 26,
     "metadata": {},
     "output_type": "execute_result"
    }
   ],
   "source": [
    "bestResponseDynamic(ut, vehicles, tasks, 1000)"
   ]
  },
  {
   "cell_type": "code",
   "execution_count": 35,
   "metadata": {},
   "outputs": [
    {
     "name": "stdout",
     "output_type": "stream",
     "text": [
      "Execution stopped : maximum step overflowed, no EN found.\n"
     ]
    },
    {
     "data": {
      "text/plain": [
       "[1, 2, 1, 2]"
      ]
     },
     "execution_count": 35,
     "metadata": {},
     "output_type": "execute_result"
    }
   ],
   "source": [
    "bestResponseDynamic(ut, vehicles, tasks, 1000)"
   ]
  },
  {
   "cell_type": "code",
   "execution_count": 28,
   "metadata": {
    "scrolled": true
   },
   "outputs": [
    {
     "name": "stdout",
     "output_type": "stream",
     "text": [
      "Execution stopped : maximum step overflowed, no EN found.\n"
     ]
    },
    {
     "data": {
      "text/plain": [
       "[0, 1, 1, 2]"
      ]
     },
     "execution_count": 28,
     "metadata": {},
     "output_type": "execute_result"
    }
   ],
   "source": [
    "bestResponseDynamic(ut, vehicles, tasks, 1000)"
   ]
  },
  {
   "cell_type": "markdown",
   "metadata": {},
   "source": [
    "### Spatial Adaptative Play"
   ]
  },
  {
   "cell_type": "code",
   "execution_count": 30,
   "metadata": {},
   "outputs": [],
   "source": [
    "allocation = [0, 1, 1, 2]"
   ]
  },
  {
   "cell_type": "code",
   "execution_count": 31,
   "metadata": {},
   "outputs": [
    {
     "data": {
      "text/plain": [
       "[0, 2, 1, 2]"
      ]
     },
     "execution_count": 31,
     "metadata": {},
     "output_type": "execute_result"
    }
   ],
   "source": [
    "replaceAlloc(allocation, 1, 2)"
   ]
  },
  {
   "cell_type": "code",
   "execution_count": 37,
   "metadata": {},
   "outputs": [],
   "source": [
    "def softmax(x):\n",
    "    return np.exp(x) / np.sum(np.exp(x), axis=0)"
   ]
  },
  {
   "cell_type": "code",
   "execution_count": 142,
   "metadata": {},
   "outputs": [],
   "source": [
    "def computeSAPproba(utilities, alloc, vehicle, tasks, ro = 0.1):\n",
    "    Uv = np.array([utilities[tuple(replaceAlloc(alloc, vehicle, t))][vehicle] for t in tasks])\n",
    "    #print(\"utilities for each task : \"+str(Uv))\n",
    "    proba = softmax(Uv/ro) # use softmax or logit function\n",
    "    return proba"
   ]
  },
  {
   "cell_type": "code",
   "execution_count": 68,
   "metadata": {},
   "outputs": [
    {
     "name": "stdout",
     "output_type": "stream",
     "text": [
      "utilities for each task : [2 5 4]\n"
     ]
    },
    {
     "data": {
      "text/plain": [
       "array([9.35719815e-14, 9.99954602e-01, 4.53978687e-05])"
      ]
     },
     "execution_count": 68,
     "metadata": {},
     "output_type": "execute_result"
    }
   ],
   "source": [
    "computeSAPproba(ut, allocation, 1, tasks, ro = 0.1) # very small ro value : probas are very unbalanced (no random)"
   ]
  },
  {
   "cell_type": "code",
   "execution_count": 69,
   "metadata": {},
   "outputs": [
    {
     "name": "stdout",
     "output_type": "stream",
     "text": [
      "utilities for each task : [2 5 4]\n"
     ]
    },
    {
     "data": {
      "text/plain": [
       "array([0.03511903, 0.70538451, 0.25949646])"
      ]
     },
     "execution_count": 69,
     "metadata": {},
     "output_type": "execute_result"
    }
   ],
   "source": [
    "computeSAPproba(ut, allocation, 1, tasks, ro = 1) # small ro value : probas are unbalanced (very small random)"
   ]
  },
  {
   "cell_type": "code",
   "execution_count": 70,
   "metadata": {},
   "outputs": [
    {
     "name": "stdout",
     "output_type": "stream",
     "text": [
      "utilities for each task : [2 5 4]\n"
     ]
    },
    {
     "data": {
      "text/plain": [
       "array([0.33277798, 0.33377781, 0.3334442 ])"
      ]
     },
     "execution_count": 70,
     "metadata": {},
     "output_type": "execute_result"
    }
   ],
   "source": [
    "computeSAPproba(ut, allocation, 1, tasks, ro = 1000) # very high ro value : probas are ~ uniform (a lot of random)"
   ]
  },
  {
   "cell_type": "code",
   "execution_count": 143,
   "metadata": {},
   "outputs": [],
   "source": [
    "def SpatialAdaptativePlay(utilities, vehicles, tasks, maxsteps, ro):\n",
    "    k = 0\n",
    "    cur_alloc = np.random.randint(0,len(tasks), len(vehicles))\n",
    "    while k < maxsteps:\n",
    "        v = np.random.choice(vehicles) # select uniformly the vehicle which is given the chance to update its task\n",
    "        proba = computeSAPproba(ut, cur_alloc, v, tasks, ro = 1) # compute proba to propose each task\n",
    "        t = np.random.choice(tasks, p=proba) # choose the task to propose\n",
    "        cur_alloc = replaceAlloc(cur_alloc, v, t) # update the allocation\n",
    "        k += 1\n",
    "    return list(cur_alloc)"
   ]
  },
  {
   "cell_type": "code",
   "execution_count": 146,
   "metadata": {},
   "outputs": [
    {
     "data": {
      "text/plain": [
       "[2, 1, 1, 0]"
      ]
     },
     "execution_count": 146,
     "metadata": {},
     "output_type": "execute_result"
    }
   ],
   "source": [
    "# spatial adaptative play\n",
    "SpatialAdaptativePlay(ut, vehicles, tasks, 1000, ro=1)"
   ]
  },
  {
   "cell_type": "markdown",
   "metadata": {},
   "source": [
    "### Comparing the different negociation methods :"
   ]
  },
  {
   "cell_type": "code",
   "execution_count": null,
   "metadata": {
    "scrolled": true
   },
   "outputs": [
    {
     "name": "stdout",
     "output_type": "stream",
     "text": [
      "Execution stopped : maximum step overflowed, no EN found.\n",
      "DMR : (2, 0, 0, 1)\n"
     ]
    }
   ],
   "source": [
    "# compare utility sum and execution time of the 3 methods\n",
    "score_DMR = []\n",
    "time_DMR = []\n",
    "score_FP = []\n",
    "time_FP = []\n",
    "score_RM = []\n",
    "time_RM = []\n",
    "score_SAP = []\n",
    "time_SAP = []\n",
    "for step in range(10):# 10 different utility matrix\n",
    "    ut = np.random.randint(0,10,shapes) # create utility matrix with random utilities\n",
    "    for repeat in range(10): # 10 repeats on each utility matrix\n",
    "        # best response dynamic\n",
    "        start = time.time()\n",
    "        alloc = tuple(bestResponseDynamic(ut, vehicles, tasks, 1000))\n",
    "        duration = time.time() - start\n",
    "        print(\"DMR : \"+str(alloc))\n",
    "        #print(ut[alloc])\n",
    "        score_DMR.append(np.sum(ut[alloc]))\n",
    "        time_DMR.append(duration)\n",
    "\n",
    "        # fictitious play\n",
    "        start = time.time()\n",
    "        alloc = tuple(fictitiousPlay(ut, vehicles, tasks, 1000))\n",
    "        duration = time.time() - start\n",
    "        print(\"FP : \"+str(alloc))\n",
    "        #print(ut[alloc])\n",
    "        score_FP.append(np.sum(ut[alloc]))\n",
    "        time_FP.append(duration)\n",
    "\n",
    "        # regret matching\n",
    "        start = time.time()\n",
    "        alloc = tuple(RegretMatching(ut, vehicles, tasks, 1000))\n",
    "        duration = time.time() - start\n",
    "        print(\"RM : \"+str(alloc))\n",
    "        #print(ut[alloc])\n",
    "        score_RM.append(np.sum(ut[alloc]))\n",
    "        time_RM.append(duration)\n",
    "\n",
    "        # spatial adaptative play\n",
    "        start = time.time()\n",
    "        alloc = tuple(SpatialAdaptativePlay(ut, vehicles, tasks, 1000, ro=1))\n",
    "        duration = time.time() - start\n",
    "        print(\"SAP : \"+str(alloc))\n",
    "        #print(ut[alloc])\n",
    "        score_SAP.append(np.sum(ut[alloc]))\n",
    "        time_SAP.append(duration)"
   ]
  },
  {
   "cell_type": "code",
   "execution_count": 141,
   "metadata": {},
   "outputs": [
    {
     "name": "stdout",
     "output_type": "stream",
     "text": [
      "mean DMR : 22.16 average time : 0.02802384853363037\n",
      "mean FP : 23.3 average time : 11.998116133213044\n",
      "mean RM : 23.94 average time : 0.6288598060607911\n",
      "mean SAP : 18.68 average time : 0.1347698974609375\n"
     ]
    }
   ],
   "source": [
    "# on a first utility matrix :\n",
    "print(\"mean DMR : \"+str(np.mean(score_DMR))+\" average time : \"+str(np.mean(time_DMR)))\n",
    "print(\"mean FP : \"+str(np.mean(score_FP))+\" average time : \"+str(np.mean(time_FP)))\n",
    "print(\"mean RM : \"+str(np.mean(score_RM))+\" average time : \"+str(np.mean(time_RM)))\n",
    "print(\"mean SAP : \"+str(np.mean(score_SAP))+\" average time : \"+str(np.mean(time_SAP)))"
   ]
  },
  {
   "cell_type": "code",
   "execution_count": null,
   "metadata": {},
   "outputs": [],
   "source": []
  }
 ],
 "metadata": {
  "kernelspec": {
   "display_name": "PyCharm (RLLab2)",
   "language": "python",
   "name": "pycharm-fe7a6dad"
  },
  "language_info": {
   "codemirror_mode": {
    "name": "ipython",
    "version": 3
   },
   "file_extension": ".py",
   "mimetype": "text/x-python",
   "name": "python",
   "nbconvert_exporter": "python",
   "pygments_lexer": "ipython3",
   "version": "3.7.4"
  }
 },
 "nbformat": 4,
 "nbformat_minor": 4
}
