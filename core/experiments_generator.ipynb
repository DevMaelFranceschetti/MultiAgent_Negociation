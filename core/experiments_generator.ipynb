{
 "cells": [
  {
   "cell_type": "code",
   "execution_count": 1,
   "metadata": {},
   "outputs": [],
   "source": [
    "import yaml\n",
    "import numpy as np"
   ]
  },
  {
   "cell_type": "markdown",
   "metadata": {},
   "source": [
    "### Loading an experiment file"
   ]
  },
  {
   "cell_type": "code",
   "execution_count": 17,
   "metadata": {},
   "outputs": [],
   "source": [
    "def read_experiments(filename, verbose=True):\n",
    "    with open(r''+filename) as file:\n",
    "        experiments = yaml.full_load(file)\n",
    "        if verbose :\n",
    "            for exp, content in experiments.items():\n",
    "                print(key, \":\", content)\n",
    "        return experiments"
   ]
  },
  {
   "cell_type": "code",
   "execution_count": 8,
   "metadata": {},
   "outputs": [],
   "source": [
    "exp = read_experiments('exp.yaml', False)"
   ]
  },
  {
   "cell_type": "code",
   "execution_count": 9,
   "metadata": {},
   "outputs": [
    {
     "data": {
      "text/plain": [
       "{'Experience1': {'nb_steps': 1000,\n",
       "  'nb_sync': 100,\n",
       "  'tasks': 3,\n",
       "  'Type1': {'number': 3,\n",
       "   'type': 'RegretMatching',\n",
       "   'spec': {'intertia': 0.1, 'fadding': 0.2}},\n",
       "  'Type2': {'number': 2, 'type': 'FictiousPlay'},\n",
       "  'Type3': {'number': 3, 'type': 'Random'}},\n",
       " 'Experience2': {'tasks': 3,\n",
       "  'Type1': {'number': 3,\n",
       "   'type': 'RegretMatching',\n",
       "   'spec': {'intertia': 0.1, 'fadding': 0.2}},\n",
       "  'Type2': {'number': 2, 'type': 'FictiousPlay'},\n",
       "  'Type3': {'number': 1, 'type': 'Random'}}}"
      ]
     },
     "execution_count": 9,
     "metadata": {},
     "output_type": "execute_result"
    }
   ],
   "source": [
    "exp"
   ]
  },
  {
   "cell_type": "markdown",
   "metadata": {},
   "source": [
    "### Generating experiments (all combinations)"
   ]
  },
  {
   "cell_type": "code",
   "execution_count": 3,
   "metadata": {},
   "outputs": [],
   "source": [
    "# Available Agent Types :\n",
    "types = {0 : \"RegretMatching\", 1 : \"FictitiousPlay\", 2 : \"Random\", 3 : \"BestResponse\", \n",
    "         4 : \"SpacialAdaptative\"}"
   ]
  },
  {
   "cell_type": "code",
   "execution_count": 4,
   "metadata": {},
   "outputs": [],
   "source": [
    "nb_vehicles = 3 # for 3 vehicles and 4 tasks, 125 possible combinations\n",
    "nb_tasks = 4"
   ]
  },
  {
   "cell_type": "code",
   "execution_count": 5,
   "metadata": {},
   "outputs": [],
   "source": [
    "alloc_dim = np.zeros([len(types)]*nb_vehicles)"
   ]
  },
  {
   "cell_type": "code",
   "execution_count": 6,
   "metadata": {},
   "outputs": [
    {
     "data": {
      "text/plain": [
       "(5, 5, 5)"
      ]
     },
     "execution_count": 6,
     "metadata": {},
     "output_type": "execute_result"
    }
   ],
   "source": [
    "alloc_dim.shape"
   ]
  },
  {
   "cell_type": "code",
   "execution_count": 7,
   "metadata": {},
   "outputs": [],
   "source": [
    "allAlloc = [x for x,_ in np.ndenumerate(alloc_dim)]"
   ]
  },
  {
   "cell_type": "code",
   "execution_count": 8,
   "metadata": {},
   "outputs": [
    {
     "data": {
      "text/plain": [
       "125"
      ]
     },
     "execution_count": 8,
     "metadata": {},
     "output_type": "execute_result"
    }
   ],
   "source": [
    "len(allAlloc)"
   ]
  },
  {
   "cell_type": "code",
   "execution_count": 41,
   "metadata": {},
   "outputs": [],
   "source": [
    "def create_experiments(nb_steps, nb_agents, nb_tasks, nb_sync=100):\n",
    "    # Available Types :\n",
    "    types = {0 : \"RegretMatching\", 1 : \"FictitiousPlay\", 2 : \"Random\", 3 : \"BestResponse\", \n",
    "         4 : \"SpatialAdaptative\"}\n",
    "    alloc_dim = np.zeros([len(types)]*nb_vehicles)\n",
    "    allAlloc = [x for x,_ in np.ndenumerate(alloc_dim)]\n",
    "    repartitions = []\n",
    "    exp = {}\n",
    "    expId = 1\n",
    "    for a in allAlloc:\n",
    "        seen = []\n",
    "        exp_dict = {}\n",
    "        exp_dict['nb_sync'] = int(nb_sync)\n",
    "        exp_dict['tasks'] = int(nb_tasks)\n",
    "        typeId = 1\n",
    "        repartition = np.zeros(len(types))\n",
    "        for t in a :\n",
    "            type_dict={}\n",
    "            str_type = types[t]\n",
    "            #print(seen)\n",
    "            if str_type not in seen :\n",
    "                seen.append(str_type)\n",
    "                type_dict[\"type\"] = str_type\n",
    "                cnt = int((np.array(a)==t).sum())\n",
    "                type_dict[\"number\"] = cnt\n",
    "                repartition[t] = cnt\n",
    "                if str_type == \"RegretMatching\":\n",
    "                    # default values\n",
    "                    dict_spec = {\"inertia\": 0.1, \"fadding\" : 0.2}\n",
    "                    type_dict[\"spec\"] = dict_spec\n",
    "                # save the agent params\n",
    "                exp_dict[\"Type\"+str(typeId)] = type_dict\n",
    "                typeId += 1\n",
    "        already_done = np.sum([1 if np.all(repartition == r) else 0 for r in repartitions])\n",
    "        if already_done < 1 :\n",
    "            # save the experiment setup\n",
    "            exp[\"Experience\"+str(expId)] = exp_dict\n",
    "            expId += 1\n",
    "            # remember done repartitions\n",
    "            repartitions.append(repartition)\n",
    "            #print(repartitions)\n",
    "    return exp"
   ]
  },
  {
   "cell_type": "code",
   "execution_count": 42,
   "metadata": {},
   "outputs": [],
   "source": [
    "exp_outp = create_experiments(100, 3, 4, nb_sync=100)"
   ]
  },
  {
   "cell_type": "code",
   "execution_count": 43,
   "metadata": {},
   "outputs": [
    {
     "data": {
      "text/plain": [
       "{'Experience1': {'nb_sync': 100,\n",
       "  'tasks': 4,\n",
       "  'Type1': {'type': 'RegretMatching',\n",
       "   'number': 3,\n",
       "   'spec': {'inertia': 0.1, 'fadding': 0.2}}},\n",
       " 'Experience2': {'nb_sync': 100,\n",
       "  'tasks': 4,\n",
       "  'Type1': {'type': 'RegretMatching',\n",
       "   'number': 2,\n",
       "   'spec': {'inertia': 0.1, 'fadding': 0.2}},\n",
       "  'Type2': {'type': 'FictitiousPlay', 'number': 1}},\n",
       " 'Experience3': {'nb_sync': 100,\n",
       "  'tasks': 4,\n",
       "  'Type1': {'type': 'RegretMatching',\n",
       "   'number': 2,\n",
       "   'spec': {'inertia': 0.1, 'fadding': 0.2}},\n",
       "  'Type2': {'type': 'Random', 'number': 1}},\n",
       " 'Experience4': {'nb_sync': 100,\n",
       "  'tasks': 4,\n",
       "  'Type1': {'type': 'RegretMatching',\n",
       "   'number': 2,\n",
       "   'spec': {'inertia': 0.1, 'fadding': 0.2}},\n",
       "  'Type2': {'type': 'BestResponse', 'number': 1}},\n",
       " 'Experience5': {'nb_sync': 100,\n",
       "  'tasks': 4,\n",
       "  'Type1': {'type': 'RegretMatching',\n",
       "   'number': 2,\n",
       "   'spec': {'inertia': 0.1, 'fadding': 0.2}},\n",
       "  'Type2': {'type': 'SpatialAdaptative', 'number': 1}},\n",
       " 'Experience6': {'nb_sync': 100,\n",
       "  'tasks': 4,\n",
       "  'Type1': {'type': 'RegretMatching',\n",
       "   'number': 1,\n",
       "   'spec': {'inertia': 0.1, 'fadding': 0.2}},\n",
       "  'Type2': {'type': 'FictitiousPlay', 'number': 2}},\n",
       " 'Experience7': {'nb_sync': 100,\n",
       "  'tasks': 4,\n",
       "  'Type1': {'type': 'RegretMatching',\n",
       "   'number': 1,\n",
       "   'spec': {'inertia': 0.1, 'fadding': 0.2}},\n",
       "  'Type2': {'type': 'FictitiousPlay', 'number': 1},\n",
       "  'Type3': {'type': 'Random', 'number': 1}},\n",
       " 'Experience8': {'nb_sync': 100,\n",
       "  'tasks': 4,\n",
       "  'Type1': {'type': 'RegretMatching',\n",
       "   'number': 1,\n",
       "   'spec': {'inertia': 0.1, 'fadding': 0.2}},\n",
       "  'Type2': {'type': 'FictitiousPlay', 'number': 1},\n",
       "  'Type3': {'type': 'BestResponse', 'number': 1}},\n",
       " 'Experience9': {'nb_sync': 100,\n",
       "  'tasks': 4,\n",
       "  'Type1': {'type': 'RegretMatching',\n",
       "   'number': 1,\n",
       "   'spec': {'inertia': 0.1, 'fadding': 0.2}},\n",
       "  'Type2': {'type': 'FictitiousPlay', 'number': 1},\n",
       "  'Type3': {'type': 'SpatialAdaptative', 'number': 1}},\n",
       " 'Experience10': {'nb_sync': 100,\n",
       "  'tasks': 4,\n",
       "  'Type1': {'type': 'RegretMatching',\n",
       "   'number': 1,\n",
       "   'spec': {'inertia': 0.1, 'fadding': 0.2}},\n",
       "  'Type2': {'type': 'Random', 'number': 2}},\n",
       " 'Experience11': {'nb_sync': 100,\n",
       "  'tasks': 4,\n",
       "  'Type1': {'type': 'RegretMatching',\n",
       "   'number': 1,\n",
       "   'spec': {'inertia': 0.1, 'fadding': 0.2}},\n",
       "  'Type2': {'type': 'Random', 'number': 1},\n",
       "  'Type3': {'type': 'BestResponse', 'number': 1}},\n",
       " 'Experience12': {'nb_sync': 100,\n",
       "  'tasks': 4,\n",
       "  'Type1': {'type': 'RegretMatching',\n",
       "   'number': 1,\n",
       "   'spec': {'inertia': 0.1, 'fadding': 0.2}},\n",
       "  'Type2': {'type': 'Random', 'number': 1},\n",
       "  'Type3': {'type': 'SpatialAdaptative', 'number': 1}},\n",
       " 'Experience13': {'nb_sync': 100,\n",
       "  'tasks': 4,\n",
       "  'Type1': {'type': 'RegretMatching',\n",
       "   'number': 1,\n",
       "   'spec': {'inertia': 0.1, 'fadding': 0.2}},\n",
       "  'Type2': {'type': 'BestResponse', 'number': 2}},\n",
       " 'Experience14': {'nb_sync': 100,\n",
       "  'tasks': 4,\n",
       "  'Type1': {'type': 'RegretMatching',\n",
       "   'number': 1,\n",
       "   'spec': {'inertia': 0.1, 'fadding': 0.2}},\n",
       "  'Type2': {'type': 'BestResponse', 'number': 1},\n",
       "  'Type3': {'type': 'SpatialAdaptative', 'number': 1}},\n",
       " 'Experience15': {'nb_sync': 100,\n",
       "  'tasks': 4,\n",
       "  'Type1': {'type': 'RegretMatching',\n",
       "   'number': 1,\n",
       "   'spec': {'inertia': 0.1, 'fadding': 0.2}},\n",
       "  'Type2': {'type': 'SpatialAdaptative', 'number': 2}},\n",
       " 'Experience16': {'nb_sync': 100,\n",
       "  'tasks': 4,\n",
       "  'Type1': {'type': 'FictitiousPlay', 'number': 3}},\n",
       " 'Experience17': {'nb_sync': 100,\n",
       "  'tasks': 4,\n",
       "  'Type1': {'type': 'FictitiousPlay', 'number': 2},\n",
       "  'Type2': {'type': 'Random', 'number': 1}},\n",
       " 'Experience18': {'nb_sync': 100,\n",
       "  'tasks': 4,\n",
       "  'Type1': {'type': 'FictitiousPlay', 'number': 2},\n",
       "  'Type2': {'type': 'BestResponse', 'number': 1}},\n",
       " 'Experience19': {'nb_sync': 100,\n",
       "  'tasks': 4,\n",
       "  'Type1': {'type': 'FictitiousPlay', 'number': 2},\n",
       "  'Type2': {'type': 'SpatialAdaptative', 'number': 1}},\n",
       " 'Experience20': {'nb_sync': 100,\n",
       "  'tasks': 4,\n",
       "  'Type1': {'type': 'FictitiousPlay', 'number': 1},\n",
       "  'Type2': {'type': 'Random', 'number': 2}},\n",
       " 'Experience21': {'nb_sync': 100,\n",
       "  'tasks': 4,\n",
       "  'Type1': {'type': 'FictitiousPlay', 'number': 1},\n",
       "  'Type2': {'type': 'Random', 'number': 1},\n",
       "  'Type3': {'type': 'BestResponse', 'number': 1}},\n",
       " 'Experience22': {'nb_sync': 100,\n",
       "  'tasks': 4,\n",
       "  'Type1': {'type': 'FictitiousPlay', 'number': 1},\n",
       "  'Type2': {'type': 'Random', 'number': 1},\n",
       "  'Type3': {'type': 'SpatialAdaptative', 'number': 1}},\n",
       " 'Experience23': {'nb_sync': 100,\n",
       "  'tasks': 4,\n",
       "  'Type1': {'type': 'FictitiousPlay', 'number': 1},\n",
       "  'Type2': {'type': 'BestResponse', 'number': 2}},\n",
       " 'Experience24': {'nb_sync': 100,\n",
       "  'tasks': 4,\n",
       "  'Type1': {'type': 'FictitiousPlay', 'number': 1},\n",
       "  'Type2': {'type': 'BestResponse', 'number': 1},\n",
       "  'Type3': {'type': 'SpatialAdaptative', 'number': 1}},\n",
       " 'Experience25': {'nb_sync': 100,\n",
       "  'tasks': 4,\n",
       "  'Type1': {'type': 'FictitiousPlay', 'number': 1},\n",
       "  'Type2': {'type': 'SpatialAdaptative', 'number': 2}},\n",
       " 'Experience26': {'nb_sync': 100,\n",
       "  'tasks': 4,\n",
       "  'Type1': {'type': 'Random', 'number': 3}},\n",
       " 'Experience27': {'nb_sync': 100,\n",
       "  'tasks': 4,\n",
       "  'Type1': {'type': 'Random', 'number': 2},\n",
       "  'Type2': {'type': 'BestResponse', 'number': 1}},\n",
       " 'Experience28': {'nb_sync': 100,\n",
       "  'tasks': 4,\n",
       "  'Type1': {'type': 'Random', 'number': 2},\n",
       "  'Type2': {'type': 'SpatialAdaptative', 'number': 1}},\n",
       " 'Experience29': {'nb_sync': 100,\n",
       "  'tasks': 4,\n",
       "  'Type1': {'type': 'Random', 'number': 1},\n",
       "  'Type2': {'type': 'BestResponse', 'number': 2}},\n",
       " 'Experience30': {'nb_sync': 100,\n",
       "  'tasks': 4,\n",
       "  'Type1': {'type': 'Random', 'number': 1},\n",
       "  'Type2': {'type': 'BestResponse', 'number': 1},\n",
       "  'Type3': {'type': 'SpatialAdaptative', 'number': 1}},\n",
       " 'Experience31': {'nb_sync': 100,\n",
       "  'tasks': 4,\n",
       "  'Type1': {'type': 'Random', 'number': 1},\n",
       "  'Type2': {'type': 'SpatialAdaptative', 'number': 2}},\n",
       " 'Experience32': {'nb_sync': 100,\n",
       "  'tasks': 4,\n",
       "  'Type1': {'type': 'BestResponse', 'number': 3}},\n",
       " 'Experience33': {'nb_sync': 100,\n",
       "  'tasks': 4,\n",
       "  'Type1': {'type': 'BestResponse', 'number': 2},\n",
       "  'Type2': {'type': 'SpatialAdaptative', 'number': 1}},\n",
       " 'Experience34': {'nb_sync': 100,\n",
       "  'tasks': 4,\n",
       "  'Type1': {'type': 'BestResponse', 'number': 1},\n",
       "  'Type2': {'type': 'SpatialAdaptative', 'number': 2}},\n",
       " 'Experience35': {'nb_sync': 100,\n",
       "  'tasks': 4,\n",
       "  'Type1': {'type': 'SpatialAdaptative', 'number': 3}}}"
      ]
     },
     "execution_count": 43,
     "metadata": {},
     "output_type": "execute_result"
    }
   ],
   "source": [
    "exp_outp"
   ]
  },
  {
   "cell_type": "markdown",
   "metadata": {},
   "source": [
    "### Saving an experiment file"
   ]
  },
  {
   "cell_type": "code",
   "execution_count": 44,
   "metadata": {},
   "outputs": [],
   "source": [
    "def write_exp_file(filename, exp):\n",
    "    with open(r''+str(filename), 'w') as file:\n",
    "        yaml.dump(exp, file)"
   ]
  },
  {
   "cell_type": "code",
   "execution_count": 45,
   "metadata": {},
   "outputs": [],
   "source": [
    "write_exp_file(\"exp_3vehicles_4tasks.yaml\", exp_outp)"
   ]
  }
 ],
 "metadata": {
  "kernelspec": {
   "display_name": "pyton3.6",
   "language": "python",
   "name": "pyton3.6"
  },
  "language_info": {
   "codemirror_mode": {
    "name": "ipython",
    "version": 3
   },
   "file_extension": ".py",
   "mimetype": "text/x-python",
   "name": "python",
   "nbconvert_exporter": "python",
   "pygments_lexer": "ipython3",
   "version": "3.6.12"
  }
 },
 "nbformat": 4,
 "nbformat_minor": 4
}
