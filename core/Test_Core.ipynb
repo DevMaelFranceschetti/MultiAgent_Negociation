{
 "metadata": {
  "language_info": {
   "codemirror_mode": {
    "name": "ipython",
    "version": 3
   },
   "file_extension": ".py",
   "mimetype": "text/x-python",
   "name": "python",
   "nbconvert_exporter": "python",
   "pygments_lexer": "ipython3",
   "version": "3.7.4"
  },
  "orig_nbformat": 2,
  "kernelspec": {
   "name": "pycharm-fe7a6dad",
   "display_name": "PyCharm (RLLab2)",
   "language": "python"
  }
 },
 "nbformat": 4,
 "nbformat_minor": 2,
 "cells": [
  {
   "cell_type": "code",
   "execution_count": 1,
   "metadata": {},
   "outputs": [],
   "source": [
    "from Environnement import *\n",
    "from Player import *\n",
    "from utils import *\n",
    "import numpy as np"
   ]
  },
  {
   "cell_type": "code",
   "execution_count": 2,
   "metadata": {},
   "outputs": [],
   "source": [
    "env = Environnement(n_tasks = 2,n_players = 2)"
   ]
  },
  {
   "cell_type": "code",
   "execution_count": 3,
   "metadata": {},
   "outputs": [
    {
     "output_type": "execute_result",
     "data": {
      "text/plain": [
       "array([[[ 7,  8],\n",
       "        [ 6,  8]],\n",
       "\n",
       "       [[ 0,  5],\n",
       "        [15, 15]]])"
      ]
     },
     "metadata": {},
     "execution_count": 3
    }
   ],
   "source": [
    "env.getUtilityShape()\n",
    "env.utility[1][1][0] = 15\n",
    "env.utility[1][1][1] = 15\n",
    "env.utility"
   ]
  },
  {
   "cell_type": "code",
   "execution_count": 4,
   "metadata": {},
   "outputs": [],
   "source": [
    "env.allocation[1] = 1\n",
    "env.allocation[1] = 1"
   ]
  },
  {
   "cell_type": "code",
   "execution_count": 5,
   "metadata": {},
   "outputs": [
    {
     "output_type": "execute_result",
     "data": {
      "text/plain": [
       "[0, slice(None, None, None)]"
      ]
     },
     "metadata": {},
     "execution_count": 5
    }
   ],
   "source": [
    "vehicle = 1\n",
    "new_all = list(env.allocation)\n",
    "new_all[vehicle] = slice(None)\n",
    "new_all"
   ]
  },
  {
   "cell_type": "code",
   "execution_count": 6,
   "metadata": {},
   "outputs": [
    {
     "output_type": "execute_result",
     "data": {
      "text/plain": [
       "(array([15,  8]), array([1, 0]))"
      ]
     },
     "metadata": {},
     "execution_count": 6
    }
   ],
   "source": [
    "env.getBestActionPerPlayer()"
   ]
  },
  {
   "cell_type": "code",
   "execution_count": 7,
   "metadata": {},
   "outputs": [
    {
     "output_type": "execute_result",
     "data": {
      "text/plain": [
       "True"
      ]
     },
     "metadata": {},
     "execution_count": 7
    }
   ],
   "source": [
    "env.is_EN_v()"
   ]
  },
  {
   "cell_type": "code",
   "execution_count": 8,
   "metadata": {},
   "outputs": [
    {
     "output_type": "execute_result",
     "data": {
      "text/plain": [
       "(False, 0)"
      ]
     },
     "metadata": {},
     "execution_count": 8
    }
   ],
   "source": [
    "env.is_EN()"
   ]
  },
  {
   "cell_type": "code",
   "execution_count": 9,
   "metadata": {},
   "outputs": [
    {
     "output_type": "execute_result",
     "data": {
      "text/plain": [
       "<Player.RandomPlayer at 0x7f8778125a50>"
      ]
     },
     "metadata": {},
     "execution_count": 9
    }
   ],
   "source": [
    "P = RandomPlayer(env, 0)\n",
    "P"
   ]
  },
  {
   "cell_type": "code",
   "execution_count": 10,
   "metadata": {},
   "outputs": [],
   "source": [
    "import threading\n",
    "import time\n",
    "class myThread (threading.Thread):\n",
    "\n",
    "   def __init__(self, threadID, name, counter):\n",
    "      threading.Thread.__init__(self)\n",
    "      self.threadID = threadID\n",
    "      self.name = name\n",
    "      self.counter = counter\n",
    "\n",
    "\n",
    "   def run(self):\n",
    "      print (\"Starting \" + self.name)\n",
    "      for i in range(0,100):\n",
    "          print(\"Running on : \", self.name)\n",
    "          time.sleep(1)\n",
    "      print (\"Exiting \" + self.name)"
   ]
  },
  {
   "cell_type": "code",
   "execution_count": 11,
   "metadata": {},
   "outputs": [
    {
     "output_type": "stream",
     "name": "stdout",
     "text": [
      "[1 1]\n[0 0]\n[0 1]\n[0 0]\n[0 1]\n[1 0]\n[0 1]\n[0 0]\n[0 1]\n[0 0]\n"
     ]
    }
   ],
   "source": [
    "env = Environnement(n_tasks = 2,n_players = 2)\n",
    "P1 = RandomPlayer(env, 0)\n",
    "P2 = RandomPlayer(env, 1)\n",
    "for i in range(10):\n",
    "    env.play(P1.id, P1.select_action())\n",
    "    env.play(P2.id, P2.select_action())\n",
    "    print(env.allocation)"
   ]
  },
  {
   "cell_type": "code",
   "execution_count": 12,
   "metadata": {},
   "outputs": [
    {
     "output_type": "stream",
     "name": "stdout",
     "text": [
      "Starting AStarting B\n",
      "Running on :  B\n",
      "\n",
      "Running on :  A\n"
     ]
    }
   ],
   "source": [
    "t1 = myThread(1,\"A\",0)\n",
    "t2 = myThread(1,\"B\",0)\n",
    "t1.start()\n",
    "t2.start()"
   ]
  },
  {
   "cell_type": "code",
   "execution_count": 13,
   "metadata": {},
   "outputs": [
    {
     "output_type": "execute_result",
     "data": {
      "text/plain": [
       "0"
      ]
     },
     "metadata": {},
     "execution_count": 13
    }
   ],
   "source": [
    "env = Environnement(n_tasks = 2,n_players = 2)\n",
    "P1 = RandomPlayer(env, 0)\n",
    "P2 = BRPlayer(env, 1)\n",
    "P1.select_action()"
   ]
  },
  {
   "cell_type": "code",
   "execution_count": 14,
   "metadata": {},
   "outputs": [
    {
     "output_type": "stream",
     "name": "stdout",
     "text": [
      "[1 0]\n",
      "[0 1]\n",
      "[0 1]\n",
      "[0 1]\n",
      "[0 1]\n",
      "[0 1]\n",
      "[1 0]\n",
      "[1 0]\n",
      "[0 1]\n",
      "[0 1]\n",
      "Running on :  B\n",
      "Running on :  A\n"
     ]
    }
   ],
   "source": [
    "for i in range(10):\n",
    "    env.play(P1.id, P1.select_action())\n",
    "    env.play(P2.id, P2.select_action())\n",
    "    print(env.allocation)"
   ]
  },
  {
   "cell_type": "code",
   "execution_count": 15,
   "metadata": {},
   "outputs": [
    {
     "output_type": "execute_result",
     "data": {
      "text/plain": [
       "array([[1, 3, 6],\n",
       "       [8, 4, 7],\n",
       "       [7, 8, 2]])"
      ]
     },
     "metadata": {},
     "execution_count": 15
    }
   ],
   "source": [
    "env = Environnement(n_tasks = 3,n_players = 3)\n",
    "env.utility[:][0][:][1]"
   ]
  },
  {
   "cell_type": "code",
   "execution_count": 26,
   "metadata": {
    "tags": [
     "outputPrepend"
    ]
   },
   "outputs": [
    {
     "output_type": "stream",
     "name": "stderr",
     "text": [
      "tion [2 0 1]\n",
      "[DEBUG] (Player 0  ) Playing 2\n",
      "[DEBUG] (Player 0  ) Current allocation [2 0 1]\n",
      "[DEBUG] (Player 2  ) Playing 1\n",
      "[DEBUG] (Player 2  ) Current allocation [2 0 1]\n",
      "[DEBUG] (Player 1  ) Playing 2\n",
      "[DEBUG] (Player 1  ) Current allocation [2 2 1]\n",
      "[DEBUG] (Player 0  ) Playing 0\n",
      "[DEBUG] (Player 0  ) Current allocation [0 2 1]\n",
      "[DEBUG] (Player 2  ) Playing 0\n",
      "[DEBUG] (Player 2  ) Current allocation [0 2 0]\n",
      "[DEBUG] (Player 1  ) Playing 0\n",
      "[DEBUG] (Player 1  ) Current allocation [0 0 0]\n",
      "[DEBUG] (Player 0  ) Playing 0\n",
      "[DEBUG] (Player 0  ) Current allocation [0 0 0]\n",
      "[DEBUG] (Player 2  ) Playing 2\n",
      "[DEBUG] (Player 2  ) Current allocation [0 0 2]\n",
      "[DEBUG] (Player 1  ) Playing 0\n",
      "[DEBUG] (Player 1  ) Current allocation [0 0 2]\n",
      "[DEBUG] (Player 0  ) Playing 0\n",
      "[DEBUG] (Player 0  ) Current allocation [0 0 2]\n",
      "[DEBUG] (Player 2  ) Playing 0\n",
      "[DEBUG] (Player 2  ) Current allocation [0 0 0]\n",
      "[DEBUG] (Player 1  ) Playing 1\n",
      "[DEBUG] (Player 1  ) Current allocation [0 1 0]\n",
      "[DEBUG] (Player 0  ) Playing 0\n",
      "[DEBUG] (Player 0  ) Current allocation [0 1 0]\n",
      "[DEBUG] (Player 2  ) Playing 0\n",
      "[DEBUG] (Player 2  ) Current allocation [0 1 0]\n",
      "[DEBUG] (Player 1  ) Playing 1\n",
      "[DEBUG] (Player 1  ) Current allocation [0 1 0]\n",
      "[DEBUG] (Player 0  ) Playing 0\n",
      "[DEBUG] (Player 0  ) Current allocation [0 1 0]\n",
      "[DEBUG] (Player 2  ) Playing 1\n",
      "[DEBUG] (Player 2  ) Current allocation [0 1 1]\n",
      "[DEBUG] (Player 1  ) Playing 0\n",
      "[DEBUG] (Player 1  ) Current allocation [0 0 1]\n",
      "[DEBUG] (Player 0  ) Playing 2\n",
      "[DEBUG] (Player 0  ) Current allocation [2 0 1]\n",
      "[DEBUG] (Player 2  ) Playing 0\n",
      "[DEBUG] (Player 2  ) Current allocation [2 0 0]\n",
      "[DEBUG] (Player 1  ) Playing 0\n",
      "[DEBUG] (Player 1  ) Current allocation [2 0 0]\n",
      "[DEBUG] (Player 0  ) Playing 0\n",
      "[DEBUG] (Player 0  ) Current allocation [0 0 0]\n",
      "[DEBUG] (Player 2  ) Playing 2\n",
      "[DEBUG] (Player 2  ) Current allocation [0 0 2]\n",
      "[DEBUG] (Player 1  ) Playing 0\n",
      "[DEBUG] (Player 1  ) Current allocation [0 0 2]\n",
      "[DEBUG] (Player 0  ) Playing 1\n",
      "[DEBUG] (Player 0  ) Current allocation [1 0 2]\n",
      "[DEBUG] (Player 2  ) Playing 1\n",
      "[DEBUG] (Player 2  ) Current allocation [1 0 1]\n",
      "[DEBUG] (Player 1  ) Playing 2\n",
      "[DEBUG] (Player 1  ) Current allocation [1 2 1]\n",
      "[DEBUG] (Player 1  ) Playing 0\n",
      "[DEBUG] (Player 1  ) Current allocation [1 0 1]\n",
      "[DEBUG] (Player 2  ) Playing 2\n",
      "[DEBUG] (Player 2  ) Current allocation [1 0 2]\n",
      "[DEBUG] (Player 0  ) Playing 0\n",
      "[DEBUG] (Player 0  ) Current allocation [0 0 2]\n",
      "[DEBUG] (Player 1  ) Playing 1\n",
      "[DEBUG] (Player 1  ) Current allocation [0 1 2]\n",
      "[DEBUG] (Player 2  ) Playing 1\n",
      "[DEBUG] (Player 2  ) Current allocation [0 1 1]\n",
      "[DEBUG] (Player 2  ) Playing 2\n",
      "[DEBUG] (Player 2  ) Current allocation [0 1 2]\n",
      "[DEBUG] (Player 1  ) Playing 2\n",
      "[DEBUG] (Player 1  ) Current allocation [0 2 2]\n",
      "[DEBUG] (Player 0  ) Playing 0\n",
      "[DEBUG] (Player 0  ) Current allocation [0 2 2]\n",
      "[DEBUG] (Player 2  ) Playing 0\n",
      "[DEBUG] (Player 2  ) Current allocation [0 2 0]\n",
      "[DEBUG] (Player 1  ) Playing 2\n",
      "[DEBUG] (Player 1  ) Current allocation [0 2 0]\n",
      "[DEBUG] (Player 1  ) Playing 1\n",
      "[DEBUG] (Player 1  ) Current allocation [0 1 0]\n",
      "[DEBUG] (Player 2  ) Playing 0\n",
      "[DEBUG] (Player 2  ) Current allocation [0 1 0]\n",
      "[DEBUG] (Player 0  ) Playing 2\n",
      "[DEBUG] (Player 0  ) Current allocation [2 1 0]\n",
      "[DEBUG] (Player 1  ) Playing 2\n",
      "[DEBUG] (Player 1  ) Current allocation [2 2 0]\n",
      "[DEBUG] (Player 2  ) Playing 2\n",
      "[DEBUG] (Player 2  ) Current allocation [2 2 2]\n",
      "[DEBUG] (Player 0  ) Playing 1\n",
      "[DEBUG] (Player 0  ) Current allocation [1 2 2]\n",
      "[DEBUG] (Player 1  ) Playing 1\n",
      "[DEBUG] (Player 1  ) Current allocation [1 1 2]\n",
      "[DEBUG] (Player 2  ) Playing 0\n",
      "[DEBUG] (Player 2  ) Current allocation [1 1 0]\n",
      "[DEBUG] (Player 0  ) Playing 1\n",
      "[DEBUG] (Player 0  ) Current allocation [1 1 0]\n",
      "[DEBUG] (Player 1  ) Playing 1\n",
      "[DEBUG] (Player 1  ) Current allocation [1 1 0]\n",
      "[DEBUG] (Player 2  ) Playing 1\n",
      "[DEBUG] (Player 2  ) Current allocation [1 1 1]\n",
      "[DEBUG] (Player 0  ) Playing 2\n",
      "[DEBUG] (Player 0  ) Current allocation [2 1 1]\n",
      "[DEBUG] (Player 1  ) Playing 0\n",
      "[DEBUG] (Player 1  ) Current allocation [2 0 1]\n",
      "[DEBUG] (Player 2  ) Playing 0\n",
      "[DEBUG] (Player 2  ) Current allocation [2 0 0]\n",
      "[DEBUG] (Player 0  ) Playing 2\n",
      "[DEBUG] (Player 0  ) Current allocation [2 0 0]\n",
      "[DEBUG] (Player 1  ) Playing 1\n",
      "[DEBUG] (Player 1  ) Current allocation [2 1 0]\n",
      "[DEBUG] (Player 2  ) Playing 2\n",
      "[DEBUG] (Player 2  ) Current allocation [2 1 2]\n",
      "[DEBUG] (Player 0  ) Playing 0\n",
      "[DEBUG] (Player 0  ) Current allocation [0 1 2]\n",
      "[DEBUG] (Player 0  ) Playing 0\n",
      "[DEBUG] (Player 0  ) Current allocation [0 1 2]\n",
      "[DEBUG] (Player 2  ) Playing 1\n",
      "[DEBUG] (Player 2  ) Current allocation [0 1 1]\n",
      "[DEBUG] (Player 1  ) Playing 1\n",
      "[DEBUG] (Player 1  ) Current allocation [0 1 1]\n",
      "[DEBUG] (Player 0  ) Playing 0\n",
      "[DEBUG] (Player 0  ) Current allocation [0 1 1]\n",
      "[DEBUG] (Player 2  ) Playing 0\n",
      "[DEBUG] (Player 2  ) Current allocation [0 1 0]\n",
      "[DEBUG] (Player 1  ) Playing 1\n",
      "[DEBUG] (Player 1  ) Current allocation [0 1 0]\n",
      "[DEBUG] (Player 1  ) Playing 2\n",
      "[DEBUG] (Player 1  ) Current allocation [0 2 0]\n",
      "[DEBUG] (Player 1  ) Playing 0\n",
      "[DEBUG] (Player 1  ) Current allocation [0 0 0]\n",
      "[DEBUG] (Player 1  ) Playing 0\n",
      "[DEBUG] (Player 1  ) Current allocation [0 0 0]\n",
      "[DEBUG] (Player 2  ) Playing 0\n",
      "[DEBUG] (Player 2  ) Current allocation [0 0 0]\n",
      "[DEBUG] (Player 2  ) Playing 2\n",
      "[DEBUG] (Player 2  ) Current allocation [0 0 2]\n",
      "[DEBUG] (Player 1  ) Playing 0\n",
      "[DEBUG] (Player 1  ) Current allocation [0 0 2]\n",
      "[DEBUG] (Player 1  ) Playing 0\n",
      "[DEBUG] (Player 1  ) Current allocation [0 0 2]\n",
      "[DEBUG] (Player 2  ) Playing 1\n",
      "[DEBUG] (Player 2  ) Current allocation [0 0 1]\n",
      "[DEBUG] (Player 0  ) Playing 2\n",
      "[DEBUG] (Player 0  ) Current allocation [2 0 1]\n",
      "[DEBUG] (Player 1  ) Playing 2\n",
      "[DEBUG] (Player 1  ) Current allocation [2 2 1]\n",
      "[DEBUG] (Player 2  ) Playing 0\n",
      "[DEBUG] (Player 2  ) Current allocation [2 2 0]\n",
      "[DEBUG] (Player 0  ) Playing 0\n",
      "[DEBUG] (Player 0  ) Current allocation [0 2 0]\n",
      "[DEBUG] (Player 1  ) Playing 0\n",
      "[DEBUG] (Player 1  ) Current allocation [0 0 0]\n",
      "[DEBUG] (Player 2  ) Playing 0\n",
      "[DEBUG] (Player 2  ) Current allocation [0 0 0]\n",
      "[DEBUG] (Player 2  ) Playing 1\n",
      "[DEBUG] (Player 2  ) Current allocation [0 0 1]\n",
      "[DEBUG] (Player 1  ) Playing 2\n",
      "[DEBUG] (Player 1  ) Current allocation [0 2 1]\n",
      "[DEBUG] (Player 0  ) Playing 0\n",
      "[DEBUG] (Player 0  ) Current allocation [0 2 1]\n",
      "[DEBUG] (Player 2  ) Playing 1\n",
      "[DEBUG] (Player 2  ) Current allocation [0 2 1]\n",
      "[DEBUG] (Player 1  ) Playing 1\n",
      "[DEBUG] (Player 1  ) Current allocation [0 1 1]\n",
      "[DEBUG] (Player 0  ) Playing 1\n",
      "[DEBUG] (Player 0  ) Current allocation [1 1 1]\n",
      "[DEBUG] (Player 2  ) Playing 0\n",
      "[DEBUG] (Player 2  ) Current allocation [1 1 0]\n",
      "[DEBUG] (Player 1  ) Playing 2\n",
      "[DEBUG] (Player 1  ) Current allocation [1 2 0]\n",
      "[DEBUG] (Player 0  ) Playing 1\n",
      "[DEBUG] (Player 0  ) Current allocation [1 2 0]\n",
      "[DEBUG] (Player 2  ) Playing 1\n",
      "[DEBUG] (Player 2  ) Current allocation [1 2 1]\n",
      "[DEBUG] (Player 1  ) Playing 0\n",
      "[DEBUG] (Player 1  ) Current allocation [1 0 1]\n",
      "[DEBUG] (Player 0  ) Playing 1\n",
      "[DEBUG] (Player 0  ) Current allocation [1 0 1]\n",
      "[DEBUG] (Player 2  ) Playing 1\n",
      "[DEBUG] (Player 2  ) Current allocation [1 0 1]\n",
      "[DEBUG] (Player 1  ) Playing 2\n",
      "[DEBUG] (Player 1  ) Current allocation [1 2 1]\n",
      "[DEBUG] (Player 0  ) Playing 1\n",
      "[DEBUG] (Player 0  ) Current allocation [1 2 1]\n",
      "[DEBUG] (Player 2  ) Playing 1\n",
      "[DEBUG] (Player 2  ) Current allocation [1 2 1]\n",
      "[DEBUG] (Player 1  ) Playing 0\n",
      "[DEBUG] (Player 1  ) Current allocation [1 0 1]\n",
      "[DEBUG] (Player 0  ) Playing 0\n",
      "[DEBUG] (Player 0  ) Current allocation [0 0 1]\n",
      "[DEBUG] (Player 2  ) Playing 0\n",
      "[DEBUG] (Player 2  ) Current allocation [0 0 0]\n",
      "[DEBUG] (Player 1  ) Playing 1\n",
      "[DEBUG] (Player 1  ) Current allocation [0 1 0]\n",
      "[DEBUG] (Player 0  ) Playing 1\n",
      "[DEBUG] (Player 0  ) Current allocation [1 1 0]\n",
      "[DEBUG] (Player 2  ) Playing 2\n",
      "[DEBUG] (Player 2  ) Current allocation [1 1 2]\n",
      "[DEBUG] (Player 1  ) Playing 0\n",
      "[DEBUG] (Player 1  ) Current allocation [1 0 2]\n",
      "[DEBUG] (Player 0  ) Playing 0\n",
      "[DEBUG] (Player 0  ) Current allocation [0 0 2]\n",
      "[DEBUG] (Player 2  ) Playing 2\n",
      "[DEBUG] (Player 2  ) Current allocation [0 0 2]\n",
      "[DEBUG] (Player 1  ) Playing 2\n",
      "[DEBUG] (Player 1  ) Current allocation [0 2 2]\n",
      "[DEBUG] (Player 0  ) Playing 2\n",
      "[DEBUG] (Player 0  ) Current allocation [2 2 2]\n",
      "[DEBUG] (Player 2  ) Playing 2\n",
      "[DEBUG] (Player 2  ) Current allocation [2 2 2]\n",
      "[DEBUG] (Player 1  ) Playing 0\n",
      "[DEBUG] (Player 1  ) Current allocation [2 0 2]\n",
      "[DEBUG] (Player 0  ) Playing 1\n",
      "[DEBUG] (Player 0  ) Current allocation [1 0 2]\n",
      "[DEBUG] (Player 2  ) Playing 0\n",
      "[DEBUG] (Player 2  ) Current allocation [1 0 0]\n",
      "[DEBUG] (Player 1  ) Playing 1\n",
      "[DEBUG] (Player 1  ) Current allocation [1 1 0]\n",
      "[DEBUG] (Player 0  ) Playing 1\n",
      "[DEBUG] (Player 0  ) Current allocation [1 1 0]\n",
      "[DEBUG] (Player 2  ) Playing 0\n",
      "[DEBUG] (Player 2  ) Current allocation [1 1 0]\n",
      "[DEBUG] (Player 1  ) Playing 1\n",
      "[DEBUG] (Player 1  ) Current allocation [1 1 0]\n",
      "[DEBUG] (Player 0  ) Playing 0\n",
      "[DEBUG] (Player 0  ) Current allocation [0 1 0]\n",
      "[DEBUG] (Player 2  ) Playing 2\n",
      "[DEBUG] (Player 2  ) Current allocation [0 1 2]\n",
      "[DEBUG] (Player 1  ) Playing 2\n",
      "[DEBUG] (Player 1  ) Current allocation [0 2 2]\n",
      "[DEBUG] (Player 0  ) Playing 2\n",
      "[DEBUG] (Player 0  ) Current allocation [2 2 2]\n",
      "[DEBUG] (Player 2  ) Playing 2\n",
      "[DEBUG] (Player 2  ) Current allocation [2 2 2]\n",
      "[DEBUG] (Player 1  ) Playing 2\n",
      "[DEBUG] (Player 1  ) Current allocation [2 2 2]\n",
      "[DEBUG] (Player 0  ) Playing 0\n",
      "[DEBUG] (Player 0  ) Current allocation [0 2 2]\n",
      "[DEBUG] (Player 0  ) Playing 1\n",
      "[DEBUG] (Player 0  ) Current allocation [1 2 2]\n",
      "[DEBUG] (Player 0  ) Playing 2\n",
      "[DEBUG] (Player 0  ) Current allocation [2 2 2]\n",
      "[DEBUG] (Player 2  ) Playing 1\n",
      "[DEBUG] (Player 2  ) Current allocation [2 2 1]\n",
      "[DEBUG] (Player 1  ) Playing 0\n",
      "[DEBUG] (Player 1  ) Current allocation [2 0 1]\n",
      "[DEBUG] (Player 0  ) Playing 1\n",
      "[DEBUG] (Player 0  ) Current allocation [1 0 1]\n",
      "[DEBUG] (Player 2  ) Playing 2\n",
      "[DEBUG] (Player 2  ) Current allocation [1 0 2]\n",
      "[DEBUG] (Player 1  ) Playing 2\n",
      "[DEBUG] (Player 1  ) Current allocation [1 2 2]\n",
      "[DEBUG] (Player 0  ) Playing 0\n",
      "[DEBUG] (Player 0  ) Current allocation [0 2 2]\n",
      "[DEBUG] (Player 2  ) Playing 0\n",
      "[DEBUG] (Player 2  ) Current allocation [0 2 0]\n",
      "[DEBUG] (Player 1  ) Playing 0\n",
      "[DEBUG] (Player 1  ) Current allocation [0 0 0]\n",
      "[DEBUG] (Player 0  ) Playing 1\n",
      "[DEBUG] (Player 0  ) Current allocation [1 0 0]\n",
      "[DEBUG] (Player 2  ) Playing 1\n",
      "[DEBUG] (Player 2  ) Current allocation [1 0 1]\n",
      "[DEBUG] (Player 1  ) Playing 2\n",
      "[DEBUG] (Player 1  ) Current allocation [1 2 1]\n",
      "[DEBUG] (Player 1  ) Playing 0\n",
      "[DEBUG] (Player 1  ) Current allocation [1 0 1]\n",
      "[DEBUG] (Player 2  ) Playing 1\n",
      "[DEBUG] (Player 2  ) Current allocation [1 0 1]\n",
      "[DEBUG] (Player 0  ) Playing 0\n",
      "[DEBUG] (Player 0  ) Current allocation [0 0 1]\n",
      "[DEBUG] (Player 1  ) Playing 0\n",
      "[DEBUG] (Player 1  ) Current allocation [0 0 1]\n",
      "[DEBUG] (Player 2  ) Playing 0\n",
      "[DEBUG] (Player 2  ) Current allocation [0 0 0]\n",
      "[DEBUG] (Player 0  ) Playing 2\n",
      "[DEBUG] (Player 0  ) Current allocation [2 0 0]\n",
      "[DEBUG] (Player 1  ) Playing 1\n",
      "[DEBUG] (Player 1  ) Current allocation [2 1 0]\n",
      "[DEBUG] (Player 2  ) Playing 0\n",
      "[DEBUG] (Player 2  ) Current allocation [2 1 0]\n",
      "[DEBUG] (Player 0  ) Playing 0\n",
      "[DEBUG] (Player 0  ) Current allocation [0 1 0]\n",
      "[DEBUG] (Player 1  ) Playing 1\n",
      "[DEBUG] (Player 1  ) Current allocation [0 1 0]\n",
      "[DEBUG] (Player 2  ) Playing 2\n",
      "[DEBUG] (Player 2  ) Current allocation [0 1 2]\n",
      "[DEBUG] (Player 2  ) Playing 0\n",
      "[DEBUG] (Player 2  ) Current allocation [0 1 0]\n",
      "[DEBUG] (Player 1  ) Playing 1\n",
      "[DEBUG] (Player 1  ) Current allocation [0 1 0]\n",
      "[DEBUG] (Player 0  ) Playing 0\n",
      "[DEBUG] (Player 0  ) Current allocation [0 1 0]\n",
      "[DEBUG] (Player 2  ) Playing 1\n",
      "[DEBUG] (Player 2  ) Current allocation [0 1 1]\n",
      "[DEBUG] (Player 1  ) Playing 2\n",
      "[DEBUG] (Player 1  ) Current allocation [0 2 1]\n",
      "[DEBUG] (Player 0  ) Playing 2\n",
      "[DEBUG] (Player 0  ) Current allocation [2 2 1]\n",
      "[DEBUG] (Player 0  ) Playing 0\n",
      "[DEBUG] (Player 0  ) Current allocation [0 2 1]\n",
      "[DEBUG] (Player 1  ) Playing 0\n",
      "[DEBUG] (Player 1  ) Current allocation [0 0 1]\n",
      "[DEBUG] (Player 2  ) Playing 0\n",
      "[DEBUG] (Player 2  ) Current allocation [0 0 0]\n",
      "[DEBUG] (Player 0  ) Playing 0\n",
      "[DEBUG] (Player 0  ) Current allocation [0 0 0]\n",
      "[DEBUG] (Player 1  ) Playing 0\n",
      "[DEBUG] (Player 1  ) Current allocation [0 0 0]\n",
      "[DEBUG] (Player 2  ) Playing 1\n",
      "[DEBUG] (Player 2  ) Current allocation [0 0 1]\n",
      "[DEBUG] (Player 0  ) Playing 1\n",
      "[DEBUG] (Player 0  ) Current allocation [1 0 1]\n",
      "[DEBUG] (Player 1  ) Playing 2\n",
      "[DEBUG] (Player 1  ) Current allocation [1 2 1]\n",
      "[DEBUG] (Player 2  ) Playing 0\n",
      "[DEBUG] (Player 2  ) Current allocation [1 2 0]\n",
      "[DEBUG] (Player 0  ) Playing 2\n",
      "[DEBUG] (Player 0  ) Current allocation [2 2 0]\n",
      "[DEBUG] (Player 1  ) Playing 0\n",
      "[DEBUG] (Player 1  ) Current allocation [2 0 0]\n",
      "[DEBUG] (Player 2  ) Playing 2\n",
      "[DEBUG] (Player 2  ) Current allocation [2 0 2]\n",
      "[DEBUG] (Player 0  ) Playing 2\n",
      "[DEBUG] (Player 0  ) Current allocation [2 0 2]\n",
      "[DEBUG] (Player 1  ) Playing 1\n",
      "[DEBUG] (Player 1  ) Current allocation [2 1 2]\n",
      "[DEBUG] (Player 2  ) Playing 0\n",
      "[DEBUG] (Player 2  ) Current allocation [2 1 0]\n",
      "[DEBUG] (Player 0  ) Playing 2\n",
      "[DEBUG] (Player 0  ) Current allocation [2 1 0]\n",
      "[DEBUG] (Player 0  ) Playing 0\n",
      "[DEBUG] (Player 0  ) Current allocation [0 1 0]\n",
      "[DEBUG] (Player 2  ) Playing 2\n",
      "[DEBUG] (Player 2  ) Current allocation [0 1 2]\n",
      "[DEBUG] (Player 1  ) Playing 1\n",
      "[DEBUG] (Player 1  ) Current allocation [0 1 2]\n",
      "[DEBUG] (Player 0  ) Playing 1\n",
      "[DEBUG] (Player 0  ) Current allocation [1 1 2]\n",
      "[DEBUG] (Player 2  ) Playing 1\n",
      "[DEBUG] (Player 2  ) Current allocation [1 1 1]\n",
      "[DEBUG] (Player 1  ) Playing 1\n",
      "[DEBUG] (Player 1  ) Current allocation [1 1 1]\n",
      "[DEBUG] (Player 0  ) Playing 0\n",
      "[DEBUG] (Player 0  ) Current allocation [0 1 1]\n",
      "[DEBUG] (Player 2  ) Playing 2\n",
      "[DEBUG] (Player 2  ) Current allocation [0 1 2]\n",
      "[DEBUG] (Player 1  ) Playing 1\n",
      "[DEBUG] (Player 1  ) Current allocation [0 1 2]\n",
      "[DEBUG] (Player 0  ) Playing 2\n",
      "[DEBUG] (Player 0  ) Current allocation [2 1 2]\n",
      "[DEBUG] (Player 2  ) Playing 2\n",
      "[DEBUG] (Player 2  ) Current allocation [2 1 2]\n",
      "[DEBUG] (Player 1  ) Playing 1\n",
      "[DEBUG] (Player 1  ) Current allocation [2 1 2]\n",
      "[DEBUG] (Player 0  ) Playing 1\n",
      "[DEBUG] (Player 0  ) Current allocation [1 1 2]\n",
      "[DEBUG] (Player 2  ) Playing 2\n",
      "[DEBUG] (Player 2  ) Current allocation [1 1 2]\n",
      "[DEBUG] (Player 1  ) Playing 2\n",
      "[DEBUG] (Player 1  ) Current allocation [1 2 2]\n",
      "[DEBUG] (Player 1  ) Playing 0\n",
      "[DEBUG] (Player 1  ) Current allocation [1 0 2]\n",
      "[DEBUG] (Player 2  ) Playing 0\n",
      "[DEBUG] (Player 2  ) Current allocation [1 0 0]\n",
      "[DEBUG] (Player 0  ) Playing 2\n",
      "[DEBUG] (Player 0  ) Current allocation [2 0 0]\n",
      "[DEBUG] (Player 1  ) Playing 0\n",
      "[DEBUG] (Player 1  ) Current allocation [2 0 0]\n",
      "[DEBUG] (Player 2  ) Playing 2\n",
      "[DEBUG] (Player 2  ) Current allocation [2 0 2]\n",
      "[DEBUG] (Player 0  ) Playing 1\n",
      "[DEBUG] (Player 0  ) Current allocation [1 0 2]\n",
      "[DEBUG] (Player 0  ) Playing 1\n",
      "[DEBUG] (Player 0  ) Current allocation [1 0 2]\n",
      "[DEBUG] (Player 2  ) Playing 2\n",
      "[DEBUG] (Player 2  ) Current allocation [1 0 2]\n",
      "[DEBUG] (Player 1  ) Playing 1\n",
      "[DEBUG] (Player 1  ) Current allocation [1 1 2]\n",
      "[DEBUG] (Player 1  ) Playing 0\n",
      "[DEBUG] (Player 1  ) Current allocation [1 0 2]\n",
      "[DEBUG] (Player 2  ) Playing 2\n",
      "[DEBUG] (Player 2  ) Current allocation [1 0 2]\n",
      "[DEBUG] (Player 0  ) Playing 1\n",
      "[DEBUG] (Player 0  ) Current allocation [1 0 2]\n",
      "[DEBUG] (Player 1  ) Playing 2\n",
      "[DEBUG] (Player 1  ) Current allocation [1 2 2]\n",
      "[DEBUG] (Player 2  ) Playing 2\n",
      "[DEBUG] (Player 2  ) Current allocation [1 2 2]\n",
      "[DEBUG] (Player 0  ) Playing 0\n",
      "[DEBUG] (Player 0  ) Current allocation [0 2 2]\n",
      "[DEBUG] (Player 1  ) Playing 0\n",
      "[DEBUG] (Player 1  ) Current allocation [0 0 2]\n",
      "[DEBUG] (Player 2  ) Playing 1\n",
      "[DEBUG] (Player 2  ) Current allocation [0 0 1]\n",
      "[DEBUG] (Player 0  ) Playing 2\n",
      "[DEBUG] (Player 0  ) Current allocation [2 0 1]\n",
      "[DEBUG] (Player 0  ) Playing 1\n",
      "[DEBUG] (Player 0  ) Current allocation [1 0 1]\n",
      "[DEBUG] (Player 2  ) Playing 1\n",
      "[DEBUG] (Player 2  ) Current allocation [1 0 1]\n",
      "[DEBUG] (Player 1  ) Playing 2\n",
      "[DEBUG] (Player 1  ) Current allocation [1 2 1]\n",
      "[DEBUG] (Player 0  ) Playing 1\n",
      "[DEBUG] (Player 0  ) Current allocation [1 2 1]\n",
      "[DEBUG] (Player 2  ) Playing 2\n",
      "[DEBUG] (Player 2  ) Current allocation [1 2 2]\n",
      "[DEBUG] (Player 1  ) Playing 0\n",
      "[DEBUG] (Player 1  ) Current allocation [1 0 2]\n",
      "[DEBUG] (Player 0  ) Playing 2\n",
      "[DEBUG] (Player 0  ) Current allocation [2 0 2]\n",
      "[DEBUG] (Player 0  ) Playing 1\n",
      "[DEBUG] (Player 0  ) Current allocation [1 0 2]\n",
      "[DEBUG] (Player 0  ) Playing 2\n",
      "[DEBUG] (Player 0  ) Current allocation [2 0 2]\n",
      "[DEBUG] (Player 2  ) Playing 0\n",
      "[DEBUG] (Player 2  ) Current allocation [2 0 0]\n",
      "[DEBUG] (Player 1  ) Playing 0\n",
      "[DEBUG] (Player 1  ) Current allocation [2 0 0]\n",
      "[DEBUG] (Player 0  ) Playing 2\n",
      "[DEBUG] (Player 0  ) Current allocation [2 0 0]\n",
      "[DEBUG] (Player 2  ) Playing 2\n",
      "[DEBUG] (Player 2  ) Current allocation [2 0 2]\n",
      "[DEBUG] (Player 1  ) Playing 1\n",
      "[DEBUG] (Player 1  ) Current allocation [2 1 2]\n",
      "[DEBUG] (Player 1  ) Playing 2\n",
      "[DEBUG] (Player 1  ) Current allocation [2 2 2]\n",
      "[DEBUG] (Player 2  ) Playing 1\n",
      "[DEBUG] (Player 2  ) Current allocation [2 2 1]\n",
      "[DEBUG] (Player 0  ) Playing 1\n",
      "[DEBUG] (Player 0  ) Current allocation [1 2 1]\n",
      "[DEBUG] (Player 1  ) Playing 0\n",
      "[DEBUG] (Player 1  ) Current allocation [1 0 1]\n",
      "[DEBUG] (Player 1  ) Playing 2\n",
      "[DEBUG] (Player 1  ) Current allocation [1 2 1]\n",
      "[DEBUG] (Player 0  ) Playing 0\n",
      "[DEBUG] (Player 0  ) Current allocation [0 2 1]\n",
      "[DEBUG] (Player 2  ) Playing 2\n",
      "[DEBUG] (Player 2  ) Current allocation [0 2 2]\n",
      "[DEBUG] (Player 1  ) Playing 2\n",
      "[DEBUG] (Player 1  ) Current allocation [0 2 2]\n",
      "[DEBUG] (Player 0  ) Playing 1\n",
      "[DEBUG] (Player 0  ) Current allocation [1 2 2]\n",
      "[DEBUG] (Player 2  ) Playing 1\n",
      "[DEBUG] (Player 2  ) Current allocation [1 2 1]\n",
      "[DEBUG] (Player 1  ) Playing 0\n",
      "[DEBUG] (Player 1  ) Current allocation [1 0 1]\n",
      "[DEBUG] (Player 0  ) Playing 1\n",
      "[DEBUG] (Player 0  ) Current allocation [1 0 1]\n",
      "[DEBUG] (Player 2  ) Playing 1\n",
      "[DEBUG] (Player 2  ) Current allocation [1 0 1]\n",
      "[DEBUG] (Player 1  ) Playing 1\n",
      "[DEBUG] (Player 1  ) Current allocation [1 1 1]\n",
      "[DEBUG] (Player 0  ) Playing 2\n",
      "[DEBUG] (Player 0  ) Current allocation [2 1 1]\n",
      "[DEBUG] (Player 0  ) Playing 0\n",
      "[DEBUG] (Player 0  ) Current allocation [0 1 1]\n",
      "[DEBUG] (Player 1  ) Playing 1\n",
      "[DEBUG] (Player 1  ) Current allocation [0 1 1]\n",
      "[DEBUG] (Player 2  ) Playing 2\n",
      "[DEBUG] (Player 2  ) Current allocation [0 1 2]\n",
      "[DEBUG] (Player 0  ) Playing 0\n",
      "[DEBUG] (Player 0  ) Current allocation [0 1 2]\n",
      "[DEBUG] (Player 1  ) Playing 0\n",
      "[DEBUG] (Player 1  ) Current allocation [0 0 2]\n",
      "[DEBUG] (Player 2  ) Playing 1\n",
      "[DEBUG] (Player 2  ) Current allocation [0 0 1]\n",
      "[DEBUG] (Player 0  ) Playing 2\n",
      "[DEBUG] (Player 0  ) Current allocation [2 0 1]\n",
      "[DEBUG] (Player 1  ) Playing 1\n",
      "[DEBUG] (Player 1  ) Current allocation [2 1 1]\n",
      "[DEBUG] (Player 2  ) Playing 2\n",
      "[DEBUG] (Player 2  ) Current allocation [2 1 2]\n",
      "[DEBUG] (Player 0  ) Playing 0\n",
      "[DEBUG] (Player 0  ) Current allocation [0 1 2]\n",
      "[DEBUG] (Player 2  ) Playing 1\n",
      "[DEBUG] (Player 2  ) Current allocation [0 1 1]\n",
      "[DEBUG] (Player 0  ) Playing 2\n",
      "[DEBUG] (Player 0  ) Current allocation [2 1 1]\n",
      "[DEBUG] (Player 2  ) Playing 2\n",
      "[DEBUG] (Player 2  ) Current allocation [2 1 2]\n",
      "[DEBUG] (Player 0  ) Playing 0\n",
      "[DEBUG] (Player 0  ) Current allocation [0 1 2]\n",
      "[DEBUG] (Player 2  ) Playing 1\n",
      "[DEBUG] (Player 2  ) Current allocation [0 1 1]\n",
      "[DEBUG] (Player 0  ) Playing 2\n",
      "[DEBUG] (Player 0  ) Current allocation [2 1 1]\n",
      "[DEBUG] (Player 2  ) Playing 2\n",
      "[DEBUG] (Player 2  ) Current allocation [2 1 2]\n",
      "[DEBUG] (Player 0  ) Playing 1\n",
      "[DEBUG] (Player 0  ) Current allocation [1 1 2]\n",
      "[DEBUG] (Player 2  ) Playing 2\n",
      "[DEBUG] (Player 2  ) Current allocation [1 1 2]\n",
      "[DEBUG] (Player 0  ) Playing 0\n",
      "[DEBUG] (Player 0  ) Current allocation [0 1 2]\n",
      "[DEBUG] (Player 2  ) Playing 2\n",
      "[DEBUG] (Player 2  ) Current allocation [0 1 2]\n",
      "[DEBUG] (Player 0  ) Playing 1\n",
      "[DEBUG] (Player 0  ) Current allocation [1 1 2]\n",
      "[DEBUG] (Player 2  ) Playing 0\n",
      "[DEBUG] (Player 2  ) Current allocation [1 1 0]\n",
      "[DEBUG] (Player 0  ) Playing 2\n",
      "[DEBUG] (Player 0  ) Current allocation [2 1 0]\n",
      "[DEBUG] (Player 2  ) Playing 1\n",
      "[DEBUG] (Player 2  ) Current allocation [2 1 1]\n",
      "[DEBUG] (Player 2  ) Playing 2\n",
      "[DEBUG] (Player 2  ) Current allocation [2 1 2]\n",
      "[DEBUG] (Player 2  ) Playing 1\n",
      "[DEBUG] (Player 2  ) Current allocation [2 1 1]\n",
      "[DEBUG] (Player 2  ) Playing 1\n",
      "[DEBUG] (Player 2  ) Current allocation [2 1 1]\n"
     ]
    }
   ],
   "source": [
    "P1 = RandomPlayer(env, 0)\n",
    "P2 = RandomPlayer(env, 1)\n",
    "P3 = RandomPlayer(env, 2)\n",
    "t = threading.Thread(name=\"Player \"+str(P1.id), target=P1.getWorkerFunction(100,verbose=True))\n",
    "w = threading.Thread(name=\"Player \"+str(P2.id), target=P2.getWorkerFunction(100,verbose=True))\n",
    "s = threading.Thread(name=\"Player \"+str(P3.id), target=P3.getWorkerFunction(100,verbose=True))\n",
    "w.start()\n",
    "t.start()\n",
    "s.start()\n",
    "w.join()\n",
    "t.join()\n",
    "s.join()"
   ]
  },
  {
   "cell_type": "code",
   "execution_count": 27,
   "metadata": {},
   "outputs": [
    {
     "output_type": "stream",
     "name": "stdout",
     "text": [
      "[[0.57425743 0.21782178 0.20792079]\n [0.56105611 0.21122112 0.22772277]\n [0.5379538  0.22112211 0.24092409]]\n"
     ]
    }
   ],
   "source": [
    "L = []\n",
    "for agent in env.players:\n",
    "    arr = env.hist[agent]\n",
    "    tasks = env.tasks\n",
    "    freq = np.zeros(env.players.shape)\n",
    "    for t in tasks:\n",
    "        k = len(np.where(arr == t)[0])\n",
    "        freq[t] = k\n",
    "    L.append(freq / freq.sum())\n",
    "L = np.array(L)\n",
    "print(L)"
   ]
  },
  {
   "cell_type": "code",
   "execution_count": 17,
   "metadata": {},
   "outputs": [
    {
     "output_type": "execute_result",
     "data": {
      "text/plain": [
       "array([[5, 0, 1],\n",
       "       [8, 1, 5],\n",
       "       [0, 5, 9]])"
      ]
     },
     "metadata": {},
     "execution_count": 17
    }
   ],
   "source": [
    "env.utility[0][:][:][0]"
   ]
  },
  {
   "cell_type": "code",
   "execution_count": 29,
   "metadata": {},
   "outputs": [
    {
     "output_type": "stream",
     "name": "stdout",
     "text": [
      "(0, 0, 0) (0, 0, 1) (0, 0, 2) (0, 1, 0) (0, 1, 1) (0, 1, 2) (0, 2, 0) (0, 2, 1) (0, 2, 2) (1, 0, 0) (1, 0, 1) (1, 0, 2) (1, 1, 0) (1, 1, 1) (1, 1, 2) (1, 2, 0) (1, 2, 1) (1, 2, 2) (2, 0, 0) (2, 0, 1) (2, 0, 2) (2, 1, 0) (2, 1, 1) (2, 1, 2) (2, 2, 0) (2, 2, 1) (2, 2, 2) "
     ]
    }
   ],
   "source": [
    "t = len(env.players)*[slice(None, None, None)]+[0]\n",
    "it = np.nditer(env.utility[:,:,:,0], flags=['multi_index'])\n",
    "for x in it:\n",
    "    print(it.multi_index, end=\" \")"
   ]
  },
  {
   "cell_type": "code",
   "execution_count": null,
   "metadata": {},
   "outputs": [],
   "source": []
  }
 ]
}