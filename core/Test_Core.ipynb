{
 "metadata": {
  "language_info": {
   "codemirror_mode": {
    "name": "ipython",
    "version": 3
   },
   "file_extension": ".py",
   "mimetype": "text/x-python",
   "name": "python",
   "nbconvert_exporter": "python",
   "pygments_lexer": "ipython3",
   "version": "3.7.4-final"
  },
  "orig_nbformat": 2,
  "kernelspec": {
   "name": "pycharm-fe7a6dad",
   "display_name": "PyCharm (RLLab2)",
   "language": "python"
  }
 },
 "nbformat": 4,
 "nbformat_minor": 2,
 "cells": [
  {
   "cell_type": "code",
   "execution_count": 1,
   "metadata": {},
   "outputs": [],
   "source": [
    "from Environnement import *\n",
    "from Player import *\n",
    "from utils import *\n",
    "import numpy as np"
   ]
  },
  {
   "cell_type": "code",
   "execution_count": 2,
   "metadata": {},
   "outputs": [],
   "source": [
    "env = Environnement(n_tasks = 2,n_players = 2)"
   ]
  },
  {
   "cell_type": "code",
   "execution_count": 3,
   "metadata": {},
   "outputs": [
    {
     "output_type": "execute_result",
     "data": {
      "text/plain": [
       "array([[[ 5,  6],\n",
       "        [ 8,  1]],\n",
       "\n",
       "       [[ 5,  2],\n",
       "        [15, 15]]])"
      ]
     },
     "metadata": {},
     "execution_count": 3
    }
   ],
   "source": [
    "env.getUtilityShape()\n",
    "env.utility[1][1][0] = 15\n",
    "env.utility[1][1][1] = 15\n",
    "env.utility"
   ]
  },
  {
   "cell_type": "code",
   "execution_count": 16,
   "metadata": {},
   "outputs": [],
   "source": [
    "env.allocation[1] = 1\n",
    "env.allocation[1] = 1"
   ]
  },
  {
   "cell_type": "code",
   "execution_count": 17,
   "metadata": {},
   "outputs": [
    {
     "output_type": "execute_result",
     "data": {
      "text/plain": [
       "[0, slice(None, None, None)]"
      ]
     },
     "metadata": {},
     "execution_count": 17
    }
   ],
   "source": [
    "vehicle = 1\n",
    "new_all = list(env.allocation)\n",
    "new_all[vehicle] = slice(None)\n",
    "new_all"
   ]
  },
  {
   "cell_type": "code",
   "execution_count": 18,
   "metadata": {},
   "outputs": [
    {
     "output_type": "stream",
     "name": "stdout",
     "text": [
      "Running on :  A\nRunning on :  B\n"
     ]
    },
    {
     "output_type": "execute_result",
     "data": {
      "text/plain": [
       "(array([8, 6]), array([0, 1]))"
      ]
     },
     "metadata": {},
     "execution_count": 18
    }
   ],
   "source": [
    "env.getBestActionPerPlayer()"
   ]
  },
  {
   "cell_type": "code",
   "execution_count": 19,
   "metadata": {},
   "outputs": [
    {
     "output_type": "execute_result",
     "data": {
      "text/plain": [
       "True"
      ]
     },
     "metadata": {},
     "execution_count": 19
    }
   ],
   "source": [
    "env.is_EN_v()"
   ]
  },
  {
   "cell_type": "code",
   "execution_count": 20,
   "metadata": {},
   "outputs": [
    {
     "output_type": "execute_result",
     "data": {
      "text/plain": [
       "(True, -1)"
      ]
     },
     "metadata": {},
     "execution_count": 20
    }
   ],
   "source": [
    "env.is_EN()"
   ]
  },
  {
   "cell_type": "code",
   "execution_count": 21,
   "metadata": {},
   "outputs": [
    {
     "output_type": "execute_result",
     "data": {
      "text/plain": [
       "<Player.RandomPlayer at 0x7fe75149a5d0>"
      ]
     },
     "metadata": {},
     "execution_count": 21
    }
   ],
   "source": [
    "P = RandomPlayer(env, 0)\n",
    "P"
   ]
  },
  {
   "cell_type": "code",
   "execution_count": 22,
   "metadata": {},
   "outputs": [],
   "source": [
    "import threading\n",
    "import time\n",
    "class myThread (threading.Thread):\n",
    "\n",
    "   def __init__(self, threadID, name, counter):\n",
    "      threading.Thread.__init__(self)\n",
    "      self.threadID = threadID\n",
    "      self.name = name\n",
    "      self.counter = counter\n",
    "\n",
    "\n",
    "   def run(self):\n",
    "      print (\"Starting \" + self.name)\n",
    "      for i in range(0,100):\n",
    "          print(\"Running on : \", self.name)\n",
    "          time.sleep(1)\n",
    "      print (\"Exiting \" + self.name)"
   ]
  },
  {
   "cell_type": "code",
   "execution_count": 23,
   "metadata": {},
   "outputs": [
    {
     "output_type": "stream",
     "name": "stdout",
     "text": [
      "Running on :  A\nRunning on :  B\n[1 0]\n[0 1]\n[0 0]\n[1 1]\n[1 1]\n[1 1]\n[1 0]\n[1 1]\n[1 0]\n[0 0]\n"
     ]
    }
   ],
   "source": [
    "env = Environnement(n_tasks = 2,n_players = 2)\n",
    "P1 = RandomPlayer(env, 0)\n",
    "P2 = RandomPlayer(env, 1)\n",
    "for i in range(10):\n",
    "    env.play(P1.id, P1.select_action())\n",
    "    env.play(P2.id, P2.select_action())\n",
    "    print(env.allocation)"
   ]
  },
  {
   "cell_type": "code",
   "execution_count": 24,
   "metadata": {},
   "outputs": [
    {
     "output_type": "stream",
     "name": "stdout",
     "text": [
      "Starting A\n",
      "Running on :  A\n",
      "Starting B\n",
      "Running on :  B\n",
      "Running on :  A\n",
      "Running on :  B\n"
     ]
    }
   ],
   "source": [
    "t1 = myThread(1,\"A\",0)\n",
    "t2 = myThread(1,\"B\",0)\n",
    "t1.start()\n",
    "t2.start()"
   ]
  },
  {
   "cell_type": "code",
   "execution_count": 27,
   "metadata": {},
   "outputs": [
    {
     "output_type": "execute_result",
     "data": {
      "text/plain": [
       "0"
      ]
     },
     "metadata": {},
     "execution_count": 27
    }
   ],
   "source": [
    "env = Environnement(n_tasks = 2,n_players = 2)\n",
    "P1 = RandomPlayer(env, 0)\n",
    "P2 = BRPlayer(env, 1)\n",
    "P1.select_action()"
   ]
  },
  {
   "cell_type": "code",
   "execution_count": 28,
   "metadata": {},
   "outputs": [
    {
     "output_type": "stream",
     "name": "stdout",
     "text": [
      "Running on :  A\n",
      "Running on :  B\n",
      "[1 0]\n",
      "[1 0]\n",
      "[1 0]\n",
      "[1 0]\n",
      "[0 0]\n",
      "[0 0]\n",
      "[0 0]\n",
      "[1 0]\n",
      "[0 0]\n",
      "[1 0]\n",
      "Running on :  B\n",
      "Running on :  A\n",
      "Running on :  A\n",
      "Running on :  B\n",
      "Running on : Running on :  A\n",
      " B\n",
      "Running on :  A\n",
      "Running on :  B\n",
      "Running on :  A\n",
      "Running on :  B\n",
      "Running on :  A\n",
      "Running on :  B\n",
      "Running on : Running on :  A\n",
      " B\n",
      "Running on :  A\n",
      "Running on :  B\n",
      "Running on :  A\n",
      "Running on :  B\n",
      "Running on :  A\n",
      "Running on :  B\n",
      "Running on :  A\n",
      "Running on :  B\n",
      "Running on :  A\n",
      "Running on :  B\n",
      "Running on :  A\n",
      "Running on :  B\n",
      "Running on :  A\n",
      "Running on :  B\n",
      "Running on :  A\n",
      "Running on :  B\n",
      "Running on :  A\n",
      "Running on :  B\n",
      "Running on :  A\n",
      "Running on :  B\n",
      "Running on :  A\n",
      "Running on :  B\n",
      "Running on :  A\n",
      "Running on :  B\n",
      "Running on :  A\n",
      "Running on :  B\n",
      "Running on :  A\n",
      "Running on :  B\n",
      "Running on :  A\n",
      "Running on :  B\n",
      "Running on :  A\n",
      "Running on :  B\n",
      "Running on :  A\n",
      "Running on :  B\n",
      "Running on :  A\n",
      "Running on :  B\n",
      "Running on :  Running on :  B\n",
      "A\n",
      "Running on :  A\n",
      "Running on :  B\n",
      "Running on : Running on :  B A\n",
      "\n",
      "Running on :  A\n",
      "Running on :  B\n",
      "Running on :  Running on : B\n",
      " A\n",
      "Running on :  A\n",
      "Running on :  B\n",
      "Running on : Running on :  B A\n",
      "\n",
      "Running on :  A\n",
      "Running on :  B\n",
      "Running on :  B\n",
      "Running on :  A\n",
      "Running on :  A\n",
      "Running on :  B\n",
      "Running on :  B\n",
      "Running on :  A\n",
      "Running on :  A\n",
      "Running on :  B\n",
      "Running on :  B\n",
      "Running on :  A\n",
      "Running on :  A\n",
      "Running on :  B\n",
      "Running on :  B\n",
      "Running on :  A\n",
      "Running on :  A\n",
      "Running on :  B\n",
      "Running on :  B\n",
      "Running on :  A\n",
      "Running on :  A\n",
      "Running on :  B\n",
      "Running on :  B\n",
      "Running on :  A\n",
      "Running on :  A\n",
      "Running on :  B\n",
      "Running on :  B\n",
      "Running on :  A\n",
      "Running on :  A\n",
      "Running on :  B\n",
      "Running on :  B\n",
      "Running on :  A\n",
      "Running on :  A\n",
      "Running on :  B\n",
      "Running on :  B\n",
      "Running on :  A\n",
      "Running on :  A\n",
      "Running on :  B\n",
      "Running on :  B\n",
      "Running on :  A\n",
      "Running on :  A\n",
      "Running on :  B\n",
      "Running on :  B\n",
      "Running on :  A\n",
      "Running on :  A\n",
      "Running on :  B\n",
      "Running on :  B\n",
      "Running on :  A\n",
      "Running on :  A\n",
      "Running on :  B\n",
      "Running on :  B\n",
      "Running on :  A\n",
      "Running on :  A\n",
      "Running on :  B\n",
      "Running on :  B\n",
      "Running on :  A\n",
      "Running on :  A\n",
      "Running on :  B\n",
      "Running on :  B\n",
      "Running on :  A\n",
      "Running on :  A\n",
      "Running on :  B\n",
      "Running on :  B\n",
      "Running on :  A\n",
      "Running on :  A\n",
      "Running on :  B\n",
      "Running on :  B\n",
      "Running on :  A\n",
      "Running on :  A\n",
      "Running on :  B\n",
      "Running on :  B\n",
      "Running on :  A\n",
      "Running on :  A\n",
      "Running on :  B\n",
      "Running on :  B\n",
      "Running on :  A\n",
      "Running on :  A\n",
      "Running on :  B\n",
      "Running on :  B\n",
      "Running on :  A\n",
      "Running on :  A\n",
      "Running on :  B\n",
      "Running on :  B\n",
      "Running on :  A\n",
      "Running on :  A\n",
      "Running on :  B\n",
      "Running on :  B\n",
      "Running on :  A\n",
      "Running on :  A\n",
      "Running on :  B\n",
      "Running on :  B\n",
      "Running on :  A\n",
      "Running on :  A\n",
      "Running on :  B\n",
      "Running on :  B\n",
      "Running on :  A\n",
      "Running on :  A\n",
      "Running on :  B\n",
      "Running on :  B\n",
      "Running on :  A\n",
      "Running on :  A\n",
      "Running on :  B\n",
      "Running on :  B\n",
      "Running on :  A\n",
      "Running on :  A\n",
      "Running on :  B\n",
      "Running on :  B\n",
      "Running on :  A\n",
      "Exiting A\n",
      "Exiting B\n",
      "Running on :  B\n",
      "Running on :  A\n",
      "Running on :  B\n",
      "Running on :  A\n",
      "Running on :  B\n",
      "Running on :  A\n",
      "Running on :  B\n",
      "Running on :  A\n",
      "Running on :  B\n",
      "Running on :  A\n",
      "Running on :  B\n",
      "Running on :  A\n",
      "Running on :  B\n",
      "Running on :  A\n",
      "Running on :  B\n",
      "Running on :  A\n",
      "Running on :  B\n",
      "Running on :  A\n",
      "Running on :  B\n",
      "Running on :  A\n",
      "Running on :  B\n",
      "Running on :  A\n",
      "Running on :  B\n",
      "Running on :  A\n",
      "Running on :  B\n",
      "Running on :  A\n",
      "Running on :  B\n",
      "Running on :  A\n",
      "Running on :  B\n",
      "Running on :  A\n",
      "Running on :  B\n",
      "Running on :  A\n",
      "Running on :  B\n",
      "Running on :  A\n",
      "Running on :  B\n",
      "Running on :  A\n",
      "Running on :  B\n",
      "Running on :  A\n",
      "Running on :  B\n",
      "Running on :  A\n",
      "Running on :  B\n",
      "Running on :  A\n",
      "Running on :  B\n",
      "Running on :  A\n",
      "Running on :  B\n",
      "Running on :  A\n",
      "Running on :  B\n",
      "Running on :  A\n",
      "Running on :  B\n",
      "Running on :  A\n",
      "Running on :  B\n",
      "Running on :  A\n",
      "Running on :  B\n",
      "Running on :  A\n",
      "Running on :  B\n",
      "Running on :  A\n",
      "Running on :  B\n",
      "Running on :  A\n",
      "Running on :  B\n",
      "Running on :  A\n",
      "Running on :  B\n",
      "Running on :  A\n",
      "Running on :  B\n",
      "Running on :  A\n",
      "Running on :  B\n",
      "Running on :  A\n",
      "Running on :  B\n",
      "Running on :  A\n",
      "Running on :  B\n",
      "Running on :  A\n",
      "Running on :  B\n",
      "Running on :  A\n",
      "Running on :  B\n",
      "Running on :  A\n",
      "Running on :  B\n",
      "Running on :  A\n",
      "Running on :  B\n",
      "Running on :  A\n",
      "Running on :  B\n",
      "Running on :  A\n",
      "Exiting B\n",
      "Exiting A\n"
     ]
    }
   ],
   "source": [
    "for i in range(10):\n",
    "    env.play(P1.id, P1.select_action())\n",
    "    env.play(P2.id, P2.select_action())\n",
    "    print(env.allocation)"
   ]
  },
  {
   "cell_type": "code",
   "execution_count": 52,
   "metadata": {},
   "outputs": [
    {
     "output_type": "execute_result",
     "data": {
      "text/plain": [
       "array([[9, 2, 4],\n",
       "       [3, 1, 4],\n",
       "       [1, 5, 3]])"
      ]
     },
     "metadata": {},
     "execution_count": 52
    }
   ],
   "source": [
    "env = Environnement(n_tasks = 3,n_players = 3)\n",
    "env.utility[:][0][:][1]"
   ]
  },
  {
   "cell_type": "code",
   "execution_count": null,
   "metadata": {},
   "outputs": [],
   "source": []
  },
  {
   "cell_type": "code",
   "execution_count": 47,
   "metadata": {},
   "outputs": [
    {
     "output_type": "execute_result",
     "data": {
      "text/plain": [
       "array([1.8, 4.8])"
      ]
     },
     "metadata": {},
     "execution_count": 47
    }
   ],
   "source": [
    "env.utility[:][0][1]*[0.2, 0.8]"
   ]
  },
  {
   "cell_type": "code",
   "execution_count": 36,
   "metadata": {},
   "outputs": [
    {
     "output_type": "execute_result",
     "data": {
      "text/plain": [
       "array([[7, 1, 4],\n",
       "       [3, 1, 6],\n",
       "       [7, 6, 3],\n",
       "       [5, 0, 8]])"
      ]
     },
     "metadata": {},
     "execution_count": 36
    }
   ],
   "source": [
    "env.utility[0][:][:][0]"
   ]
  },
  {
   "cell_type": "code",
   "execution_count": null,
   "metadata": {},
   "outputs": [],
   "source": []
  }
 ]
}